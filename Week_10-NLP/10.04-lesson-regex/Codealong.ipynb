{
 "cells": [
  {
   "cell_type": "code",
   "execution_count": 2,
   "metadata": {},
   "outputs": [],
   "source": [
    "import re\n",
    "import pandas as pd"
   ]
  },
  {
   "cell_type": "code",
   "execution_count": 3,
   "metadata": {},
   "outputs": [],
   "source": [
    "string = \"\"\"\n",
    "Celtics:\n",
    "Record: 55-27, 2nd in NBA Eastern Conference\n",
    "Last Game: W 96-83 vs. CLE\n",
    "Next Game: Friday, May. 25 at CLE\n",
    "Coach: Brad Stevens (55-27)\n",
    "Executive: Danny Ainge\n",
    "PTS/G: 104.0 (20th of 30) Opp PTS/G: 100.4 (3rd of 30)\n",
    "SRS: 3.23 (7th of 30) Pace: 96.0 (22nd of 30)\n",
    "Off Rtg: 107.6 (18th of 30) Def Rtg: 103.9 (1st of 30)\n",
    "\n",
    "Hawks:\n",
    "Record: 24-58, 15th in NBA Eastern Conference\n",
    "Last Game: L 113-121 vs. PHI\n",
    "Coach: Mike Budenholzer (24-58)\n",
    "Executive: Travis Schlenk\n",
    "PTS/G: 103.4 (25th of 30) Opp PTS/G: 108.8 (23rd of 30)\n",
    "SRS: -5.30 (26th of 30) Pace: 98.3 (10th of 30)\n",
    "Off Rtg: 105.0 (26th of 30) Def Rtg: 110.6 (21st of 30)\n",
    "Expected W-L: 27-55 (26th of 30)\n",
    "\n",
    "Spurs:\n",
    "Record: 47-35, 7th in NBA Western Conference\n",
    "Last Game: L 91-99 at GSW\n",
    "Coach: Gregg Popovich (47-35)\n",
    "Executive: R.C. Buford\n",
    "PTS/G: 102.7 (27th of 30) Opp PTS/G: 99.8 (1st of 30)\n",
    "SRS: 2.89 (8th of 30) Pace: 95.0 (28th of 30)\n",
    "Off Rtg: 107.9 (17th of 30) Def Rtg: 104.8 (3rd of 30)\n",
    "Expected W-L: 49-33 (8th of 30)\n",
    "\n",
    "Knicks:\n",
    "Record: 29-53, 11th in NBA Eastern Conference\n",
    "Last Game: W 110-98 at CLE\n",
    "Coach: Jeff Hornacek (29-53)\n",
    "Executive: Steve Mills\n",
    "PTS/G: 104.5 (18th of 30) Opp PTS/G: 108.0 (20th of 30)\n",
    "SRS: -3.53 (23rd of 30) Pace: 96.8 (15th of 30)\n",
    "Off Rtg: 107.1 (20th of 30) Def Rtg: 110.7 (23rd of 30)\n",
    "Expected W-L: 32-50 (23rd of 30)\n",
    "\n",
    "Bulls:\n",
    "Record: 27-55, 13th in NBA Eastern Conference\n",
    "Last Game: L 87-119 vs. DET\n",
    "Coach: Fred Hoiberg (27-55)\n",
    "Executive: Gar Forman\n",
    "PTS/G: 102.9 (26th of 30) Opp PTS/G: 110.0 (27th of 30)\n",
    "SRS: -6.84 (29th of 30) Pace: 98.3 (9th of 30)\n",
    "Off Rtg: 103.7 (28th of 30) Def Rtg: 110.8 (24th of 30)\n",
    "Expected W-L: 23-59 (28th of 30)\n",
    "\n",
    "Seattle (Oklahoma):\n",
    "Record: 48-34, 4th in NBA Western Conference\n",
    "Last Game: L 91-96 at UTA\n",
    "Coach: Billy Donovan (48-34)\n",
    "Executive: Sam Presti\n",
    "PTS/G: 107.9 (12th of 30) Opp PTS/G: 104.4 (10th of 30)\n",
    "SRS: 3.42 (6th of 30) Pace: 96.7 (17th of 30)\n",
    "Off Rtg: 110.7 (7th of 30) Def Rtg: 107.2 (9th of 30)\n",
    "Expected W-L: 50-32 (7th of 30)\n",
    "\n",
    "Denver:\n",
    "Record: 46-36, 9th in NBA Western Conference\n",
    "Last Game: L 106-112 at MIN\n",
    "Coach: Mike Malone (46-36)\n",
    "Executive: Tim Connelly\n",
    "PTS/G: 110.0 (6th of 30) Opp PTS/G: 108.5 (22nd of 30)\n",
    "SRS: 1.57 (11th of 30) Pace: 96.8 (16th of 30)\n",
    "Off Rtg: 112.5 (6th of 30) Def Rtg: 110.9 (25th of 30)\n",
    "Expected W-L: 45-37 (11th of 30)\n",
    "\n",
    "Golden State:\n",
    "Record: 58-24, 2nd in NBA Western Conference\n",
    "Last Game: L 92-95 vs. HOU\n",
    "Next Game: Thursday, May. 24 at HOU\n",
    "Coach: Steve Kerr (58-24)\n",
    "Executive: Bob Myers\n",
    "PTS/G: 113.5 (1st of 30) Opp PTS/G: 107.5 (18th of 30)\n",
    "SRS: 5.79 (3rd of 30) Pace: 99.6 (5th of 30)\n",
    "Off Rtg: 113.6 (3rd of 30) Def Rtg: 107.7 (11th of 30)\n",
    "\n",
    "L.A.:\n",
    "Record: 35-47, 11th in NBA Western Conference\n",
    "Last Game: W 115-100 at LAC\n",
    "Coach: Luke Walton (35-47)\n",
    "Executive: Magic Johnson\n",
    "PTS/G: 108.1 (11th of 30) Opp PTS/G: 109.6 (25th of 30)\n",
    "SRS: -1.44 (21st of 30) Pace: 100.3 (2nd of 30)\n",
    "Off Rtg: 106.5 (23rd of 30) Def Rtg: 108.0 (12th of 30)\n",
    "Expected W-L: 37-45 (21st of 30)\"\"\""
   ]
  },
  {
   "cell_type": "markdown",
   "metadata": {},
   "source": [
    "# `re.findall()`"
   ]
  },
  {
   "cell_type": "code",
   "execution_count": null,
   "metadata": {},
   "outputs": [],
   "source": []
  },
  {
   "cell_type": "markdown",
   "metadata": {},
   "source": [
    "# `re.search()`"
   ]
  },
  {
   "cell_type": "code",
   "execution_count": null,
   "metadata": {},
   "outputs": [],
   "source": []
  },
  {
   "cell_type": "markdown",
   "metadata": {},
   "source": [
    "### If no result is found..."
   ]
  },
  {
   "cell_type": "code",
   "execution_count": null,
   "metadata": {},
   "outputs": [],
   "source": []
  },
  {
   "cell_type": "markdown",
   "metadata": {},
   "source": [
    "# `df.str.contains()`"
   ]
  },
  {
   "cell_type": "code",
   "execution_count": 10,
   "metadata": {},
   "outputs": [
    {
     "data": {
      "text/plain": [
       "0     onefish\n",
       "1     twofish\n",
       "2     redfish\n",
       "3    bluefish\n",
       "dtype: object"
      ]
     },
     "execution_count": 10,
     "metadata": {},
     "output_type": "execute_result"
    }
   ],
   "source": [
    "fish = pd.Series(['onefish', 'twofish','redfish', 'bluefish'])\n",
    "fish"
   ]
  },
  {
   "cell_type": "code",
   "execution_count": null,
   "metadata": {},
   "outputs": [],
   "source": []
  },
  {
   "cell_type": "markdown",
   "metadata": {},
   "source": [
    "# `df.str.extract()`"
   ]
  },
  {
   "cell_type": "code",
   "execution_count": 16,
   "metadata": {},
   "outputs": [],
   "source": [
    "df = pd.read_csv('train.csv')"
   ]
  },
  {
   "cell_type": "code",
   "execution_count": null,
   "metadata": {},
   "outputs": [],
   "source": []
  }
 ],
 "metadata": {
  "kernelspec": {
   "display_name": "Python 3",
   "language": "python",
   "name": "python3"
  },
  "language_info": {
   "codemirror_mode": {
    "name": "ipython",
    "version": 3
   },
   "file_extension": ".py",
   "mimetype": "text/x-python",
   "name": "python",
   "nbconvert_exporter": "python",
   "pygments_lexer": "ipython3",
   "version": "3.6.8"
  }
 },
 "nbformat": 4,
 "nbformat_minor": 2
}
