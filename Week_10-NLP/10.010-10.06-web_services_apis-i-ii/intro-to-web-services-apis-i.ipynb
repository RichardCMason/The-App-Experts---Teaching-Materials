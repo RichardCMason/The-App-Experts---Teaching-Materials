{
 "cells": [
  {
   "cell_type": "markdown",
   "metadata": {
    "slideshow": {
     "slide_type": "notes"
    }
   },
   "source": [
    "> **Jupyter slideshow:** This notebook can be displayed as slides. To view it as a slideshow in your browser, type the following in the console:\n",
    "\n",
    "\n",
    "> `> ipython nbconvert [this_notebook.ipynb] --to slides --post serve`\n",
    "\n",
    "\n",
    "> To toggle off the slideshow cell formatting, click the `CellToolbar` button, then `View --> Cell Toolbar --> None`."
   ]
  },
  {
   "cell_type": "markdown",
   "metadata": {
    "slideshow": {
     "slide_type": "slide"
    }
   },
   "source": [
    "# Api"
   ]
  },
  {
   "cell_type": "markdown",
   "metadata": {
    "slideshow": {
     "slide_type": "slide"
    }
   },
   "source": [
    "### Learning Objectives\n",
    "*By the end of this lesson, you will be able to:*\n",
    "- Identify all of the HTTP verbs and their uses.\n",
    "- Describe application programming interfaces (APIs) and how to make calls and consume API data.\n",
    "- Access public APIs and get information back.\n",
    "- Read and write data in JSON format.\n",
    "- Use the `requests` library."
   ]
  },
  {
   "cell_type": "markdown",
   "metadata": {
    "slideshow": {
     "slide_type": "slide"
    }
   },
   "source": [
    "### Lesson Guide\n",
    "\n",
    "#### Part I\n",
    "- [Introduction to APIs](#intro)\n",
    "- [What is an API?](#what-is-api)\n",
    "- [Famous APIs](#famous)\n",
    "    - [Facebook](#facebook)\n",
    "    - [Yelp](#yelp)\n",
    "    - [Echonest](#echonest)\n",
    "- [Web APIs](#web-apis)\n",
    "- [Separation of Concerns](#mvc)\n",
    "- [HTTP](#http)\n",
    "- [Web Applications](#web-app)\n",
    "- [Demo: HTTP](#demo-http)\n",
    "- [Independent Practice: HTTP](#ind-http)\n",
    "- [HTTP Request](#http-request)\n",
    "    - [HTTP Request Methods](#request-methods)\n",
    "    - [HTTP Request Structure](#request-structure)\n",
    "- [HTTP Response](#http-response)\n",
    "    - [Response Types Overview](#response-types)\n",
    "    \n",
    "#### Part II\n",
    "- [JSON](#json)\n",
    "- [Independent Practice: Validating JSON](#ind-practice)\n",
    "- [Guided Practice: Pulling Data From APIs](#guided-practice)\n",
    "    - [Example 1: Movies](#ex1-movies)\n",
    "    - [Submit Queries to the API](#submit)\n",
    "    - [Example 2: Google Geocode](#ex2-geocode)\n",
    "- [oAuth](#oauth)\n",
    "- [Independent Practice: Python APIs](#ind-practice2)\n",
    "- [Closing Questions](#closing-questions)"
   ]
  },
  {
   "cell_type": "markdown",
   "metadata": {
    "slideshow": {
     "slide_type": "slide"
    }
   },
   "source": [
    "## Has Anyone Used or is Currently Using an API?\n",
    "<br>\n",
    "_Warning Signs_:\n",
    "<img src=\"assets/warning.png\" style=\"float: left; width: 300px; margin: -5px 50px\">\n",
    "- _Random data found all over the computer_.\n",
    "- _Withdrawals from friends and family_.\n",
    "- _Constantly iterating over nested JSON_.\n",
    "- _Lack of sleep_.\n",
    "- _Talks about JSON as if it were a real person_.\n"
   ]
  },
  {
   "cell_type": "markdown",
   "metadata": {
    "slideshow": {
     "slide_type": "slide"
    }
   },
   "source": [
    "<a name=\"intro\"></a>\n",
    "## Introduction to Application Programming Interfaces (APIs)\n",
    "\n",
    "---\n",
    "\n",
    "In previous lessons, we learned about building processes that scrape content from websites. In this lesson, we'll be diving into the world of APIs and taking a tour of one of the most accessible sources of data on the internet.\n",
    "\n",
    "You'll learn:\n",
    "- What's meant by \"API.\"\n",
    "- Common use cases.\n",
    "- How to read API documentation.\n",
    "- General development workflow with APIs.\n"
   ]
  },
  {
   "cell_type": "markdown",
   "metadata": {
    "slideshow": {
     "slide_type": "slide"
    }
   },
   "source": [
    "<a id='what-is-api'></a>\n",
    "## What is an API?\n",
    "\n",
    "---\n",
    "\n",
    "An application programming interface (API) is a set of routines, protocols, and tools for building software applications. It specifies how software components should interact.\n",
    "\n",
    "APIs are a way developers abstract functionality to data, devices, and other resources they provide. \n",
    "\n",
    "Some examples include:\n",
    "\n",
    "- Connectivity to a variety of databases.\n",
    "- Python modules that can turn LED lights on and off.\n",
    "- Applications that runs on native Windows, OSX, or Linux.\n",
    "- Libraries that post content on Twitter, Facebook, Yelp, or LinkedIn.\n",
    "- Web services for accessing currency or stock prices.\n",
    "\n",
    "More abstract examples:\n",
    "- Adding your own functions to NumPy.\n",
    "- Extending Python with C code.\n",
    "- Testing frameworks.\n",
    "\n",
    "In the context of data science, APIs are a common method for interacting with data hosted by third parties and are most commonly provided by **web service APIs**."
   ]
  },
  {
   "cell_type": "markdown",
   "metadata": {
    "slideshow": {
     "slide_type": "slide"
    }
   },
   "source": [
    "<a id='famous'></a>\n",
    "<a id='facebook'></a>\n",
    "\n",
    "### Famous APIs: Facebook\n",
    "\n",
    "Facebook provides an API for interacting with its service. At a glance, you can:\n",
    "\n",
    "- View your posts.\n",
    "- View websites, people, posts, and pages that you've liked.\n",
    "- View activity on apps from you and your friends.\n",
    "  - Movies watched.\n",
    "  - Music listened to.\n",
    "  - Games played.\n",
    "- View places traveled/check ins.\n",
    "- Maintain or build relationships.\n",
    "\n",
    "#### Potential Project Ideas\n",
    "\n",
    "|   |   |   |   |\n",
    "|---|---|---|---|\n",
    "| Determining Latent Characteristics | Friends Activity | Political Classification | Text Mining |\n",
    "| Friend Classifier | Trending Topics | Recommenders | Feature Importances |\n",
    "| Taste Profiling | Hipster Detector | Sub-Group Identification | Check-In Prediction |\n",
    "| Relationship Forecasting | Relationship Classification | Sentiment Analysis | Popularity Projection |\n",
    "| Personal Analytics | Friend Similarity Prediction | N-Gram Analysis | Topic Modeling |"
   ]
  },
  {
   "cell_type": "markdown",
   "metadata": {
    "slideshow": {
     "slide_type": "slide"
    }
   },
   "source": [
    "<a id='yelp'></a>\n",
    "### Famous APIs: Yelp\n",
    "\n",
    "Yelp provides a way for developers to access:\n",
    "\n",
    "- Reviews.\n",
    " - Services.\n",
    " - Restaurants, bars, and cafes.\n",
    " - Businesses.\n",
    "- Business metadata.\n",
    "\n",
    "#### Potential Project Ideas\n",
    "\n",
    "|   |   |   |   |\n",
    "|---|---|---|---|\n",
    "| Topic Modeling | Text Mining | Sentiment Analysis | Funny/Cool/Interesting Classification | \n",
    "| Music Genre Classification | Parking Index Classification | Characteristics Profiling | Hipster Index |\n",
    "| Ideal Activities | Friend Recommender | Venue Recommender | Sports Bar Classification |\n",
    "| \"Where is the best [whatever] in [neighborhood]?\" | | |"
   ]
  },
  {
   "cell_type": "markdown",
   "metadata": {
    "slideshow": {
     "slide_type": "slide"
    }
   },
   "source": [
    "<a id='echonest'></a>\n",
    "### Famous APIs: Echonest\n",
    "\n",
    "Echonest consolidates access to many entertainment service APIs in one place. It has a huge list of features and connected services, including:\n",
    "\n",
    "- Spotify\n",
    "- Pandora\n",
    "- Rdio\n",
    "- Gracenote\n",
    "- SoundHound\n",
    "- Shazam\n",
    "\n",
    "Some Echonest features include:\n",
    "\n",
    "- Music waveform identification (like Shazam or SoundHound's music ID).\n",
    "- Playlist recommendations.\n",
    "- Detailed artist, album, and track lookup.\n",
    " - Artist biographies, origins, contemporaries, and noteworthy accomplishments.\n",
    " - Official Twitter, website, and social media links.\n",
    " - BPM, mood, popularity, and genre(s). \n",
    " - Images, videos, and media.\n",
    "- Detailed movie, actor, and product lookup.\n",
    "- Concert schedules and ticket metadata."
   ]
  },
  {
   "cell_type": "markdown",
   "metadata": {
    "slideshow": {
     "slide_type": "slide"
    }
   },
   "source": [
    "<a id='web-apis'></a>\n",
    "## Web APIs\n",
    "\n",
    "---\n",
    "\n",
    "![](assets/notify.png)\n",
    "\n",
    "The prevalence of web APIs has increased with the rise of JavaScript and the advent of web programming techniques that allow the transmission of small pieces of data without having to refresh the entire page.\n",
    "\n",
    "With the growth of highly interactive websites — provided by the AJAX programming techniques in JavaScript — many languages have started co-opting standards to communicate data to and from web servers for two big reasons:\n",
    "- Ease of integration.\n",
    "- Consistent standards.\n"
   ]
  },
  {
   "cell_type": "markdown",
   "metadata": {
    "slideshow": {
     "slide_type": "slide"
    }
   },
   "source": [
    "<a name=\"mvc\"></a>\n",
    "## Separation of Concerns\n",
    "\n",
    "---\n",
    "\n",
    "In order to talk about APIs, we need first to introduce the _separation of concerns_. In computer science, _separation of concerns_ (SOC) is a design principle for separating a computer program into distinct sections, such that each section addresses a separate concern. A concern is a set of information that affects the code of a computer program. \n",
    "\n",
    "In particular, when building a web application, it's best practice to separate the website logic from data models. This not only allows for cleaner code but is an easier way to manipulate our layouts and interactions. Separation of concerns becomes even more important when working with outside data.\n",
    "\n",
    "<img src=\"assets/MVC-Process.png\" style=\"width: 200px;\"> \n",
    "\n",
    "> _MVC: Model view controller is a famous SOC paradigm in programming._ \n",
    "\n",
    "API calls are really just a fancy term for making _HTTP requests_ (in the context of web APIs) to a server and sending/receiving structured data from that endpoint (URL). We are still communicating with URLs — however, instead of receiving markup like we do with HTML pages, we receive data.\n",
    "\n",
    "[Representational state transfer (REST)](https://en.wikipedia.org/wiki/Representational_state_transfer) is the most common architecture style for passing information to and from these API endpoints.\n",
    "\n",
    "Before we start consuming these services, it's important to understand the fundamentals of the underlying communication layer: **HTTP**.\n"
   ]
  },
  {
   "cell_type": "markdown",
   "metadata": {
    "slideshow": {
     "slide_type": "slide"
    }
   },
   "source": []
  },
  {
   "cell_type": "markdown",
   "metadata": {
    "slideshow": {
     "slide_type": "slide"
    }
   },
   "source": [
    "<a id='http'></a>\n",
    "## Hypertext Transfer Protocol (HTTP)\n",
    "\n",
    "---\n",
    "\n",
    "HTTP is a protocol — a system of rules — that determines how web pages (see: \"hypertext\") get sent (see: \"transfer\") from one place to another. Among other things, it defines the format of the messages passed between HTTP clients and HTTP servers.\n",
    "\n",
    "Because the web is a service, it works through a combination of clients that _make_ requests and servers that _receive_ requests.\n"
   ]
  },
  {
   "cell_type": "markdown",
   "metadata": {
    "slideshow": {
     "slide_type": "slide"
    }
   },
   "source": [
    "### The HTTP Client\n",
    "\n",
    "HTTP clients make or generate HTTP requests. Some types of clients include:\n",
    "\n",
    "* Browsers — Chrome, Firefox, and Safari.\n",
    "* Command line programs — [curl](http://curl.haxx.se/docs/) and [wget](http://www.gnu.org/software/wget/manual/wget.html).\n",
    "* Application code — Python requests, Scrapy, and Mechanize.\n",
    "\n",
    "HTTP clients respond to HTTP responses from a web server. They process the data being returned from a web server (a.k.a., HTTP server)."
   ]
  },
  {
   "cell_type": "markdown",
   "metadata": {
    "slideshow": {
     "slide_type": "slide"
    }
   },
   "source": [
    "### HTTP and Web Servers\n",
    "\n",
    "All _web servers_ receive _HTTP requests_ and generate _HTTP responses_. Often web servers are just the middleman, passing HTTP requests and responses between the client and web application. Two of the most popular _HTTP or web servers_ are [Apache](http://httpd.apache.org/) and [Nginx](http://nginx.com/), but there are lots of different [web servers](http://en.wikipedia.org/wiki/Comparison_of_web_server_software) out there.\n"
   ]
  },
  {
   "cell_type": "markdown",
   "metadata": {
    "slideshow": {
     "slide_type": "slide"
    }
   },
   "source": [
    "### Check: Where Do You Think a Web Application Lives? (thread + poll)\n",
    "\n",
    "Client, server, the cloud, mobile device, in your car, or on your Bluetooth-connected toaster with LCD display?\n",
    "\n",
    "> /poll \"Where does the web application live?\" \"I know\" \"Kinda have an idea\" \"Not sure really\" anonymous"
   ]
  },
  {
   "cell_type": "markdown",
   "metadata": {
    "slideshow": {
     "slide_type": "slide"
    }
   },
   "source": [
    "<a id='web-app'></a>\n",
    "## Web Applications\n",
    "\n",
    "---\n",
    "\n",
    "Web applications are programs that run on a web server, process the HTTP requests the server receives, and generate HTTP responses.\n",
    "\n",
    "![HTTP Request and Response](assets/request-response.png)\n",
    "\n",
    "Lost? Here's the play by play:\n",
    "\n",
    "1. A client sends an HTTP request to an HTTP server running on a remote machine.  \n",
    "  * The _hostname_ given in the URL indicates which server will receive the request.  \n",
    "2. The HTTP server processes the HTTP request. This may entail passing the request to a web application, which creates an HTTP response.\n",
    "3. The response gets sent back to the client.\n",
    "4. The client processes the response.\n",
    "\n",
    "How does the server know what the request is asking for? This is specified by the URL, a special kind of path that specifies where a resource can be found on the web.\n",
    "\n",
    "![URL](./assets/http1-url-structure.png)\n",
    "\n",
    "> **Check:** Can anyone define a client and a server?"
   ]
  },
  {
   "cell_type": "markdown",
   "metadata": {
    "slideshow": {
     "slide_type": "slide"
    }
   },
   "source": [
    "<a name=\"demo-http\"></a>\n",
    "## Demo: HTTP\n",
    "\n",
    "---\n",
    "\n",
    "Let's explore HTTP resources. We'll start by looking at HTTP requests and responses using the Chrome Inspector.\n",
    "\n",
    "![HTTP Request and Response](./assets/http_request_response.jpeg \"HTTP Request and Response\")\n",
    "\n",
    "* In Chrome, open up Chrome Inspector (*command + option + 'i', or ctrl + click and select \"Inspect Element\"*).\n",
    "* Select the Network tab. It should look something like this:\n",
    "\n",
    "![Chrome Inspector](./assets/chrome_inspector.png)\n",
    "\n",
    "go to some website\n",
    "\n",
    "You should be able to see a few HTTP requests and responses in the Network tab. For each request you'll see a **path**, **method**, **status**, **type**, and **size**, along with information about how long it took to get each of these resources.\n",
    "  * Most of this information comes from the HTTP request and response.*\n",
    "  * Some HTTP requests are for CSS, JavaScript, and images that are referenced by the HTML.\n",
    "  * Select in the path column on the far left.\n",
    "  * Select the Headers tab. **Headers** are metadata properties of an HTTP request or response, separate from the body of the message."
   ]
  },
  {
   "cell_type": "markdown",
   "metadata": {
    "slideshow": {
     "slide_type": "slide"
    }
   },
   "source": [
    "<a id='ind-http'></a>\n",
    "\n",
    "## Independent Practice: HTTP\n",
    "\n",
    "---\n",
    "\n",
    "\n",
    "**With a partner, go to your favorite (work-appropriate) website(s), inspect the protocol from the Chrome Inspector tool (cmd-opt-j), and identify:**\n",
    "\n",
    "- Requests sent by your client.\n",
    "- Requests send by the server.\n",
    "- The URL.\n",
    "\n",
    "#### Research and Explain\n",
    "- Cache-control.\n",
    "- Age.\n",
    "- Content-encoding.\n",
    "- Expires.\n",
    "- \"GET\" and \"POST\" requests.\n",
    "- Query string parameters.\n",
    "\n",
    "#### Bonus\n",
    "What are cookies?\n",
    "<img src=\"assets/cookies.png\" style=\"width: 100px\">"
   ]
  },
  {
   "cell_type": "markdown",
   "metadata": {
    "slideshow": {
     "slide_type": "slide"
    }
   },
   "source": [
    "<a id='http-request'></a>\n",
    "## HTTP Request\n",
    "\n",
    "---\n",
    "\n",
    "The first word in the request line, _GET_, is the **HTTP request's method**.\n",
    "\n",
    "![HTTP Request](./assets/http_request.jpeg \"HTTP Request\")\n",
    "\n",
    "<a id='request-methods'></a>\n",
    "### HTTP Request Methods:\n",
    "\n",
    "* **`GET`** => Retrieve a resource.  \n",
    "* **`POST`** => Create a resource.  \n",
    "* **`PATCH`** (_or **`PUT`**, but **`PATCH`** is recommended_) => Update an existing resource.  \n",
    "* **`DELETE`** => Delete a resource.  \n",
    "* **`HEAD`** => Retrieve the headers for a resource.\n",
    "\n",
    "Of these, **`GET`** and **`POST`** are the most widely used."
   ]
  },
  {
   "cell_type": "markdown",
   "metadata": {
    "slideshow": {
     "slide_type": "slide"
    }
   },
   "source": [
    "<a id='request-structure'></a>\n",
    "### HTTP Request Structure\n",
    "\n",
    "```\n",
    "[http request method] [URL] [http version]  \n",
    "[list of headers]\n",
    "\n",
    "[request body]\n",
    "```\n",
    "\n",
    "*Notice that the request header is separated from the request body by a new line.*"
   ]
  },
  {
   "cell_type": "markdown",
   "metadata": {
    "slideshow": {
     "slide_type": "slide"
    }
   },
   "source": [
    "#### HTTP Request Method Example (No Body)\n",
    "\n",
    "    GET http://vermonster.com HTTP/1.1  \n",
    "    Accept:text/html,application/xhtml+xml,application/xml;q=0.9,image/webp,*/*;q=0.8  \n",
    "    Accept-Encoding:gzip,deflate,sdch\n",
    "    Accept-Language:en-US,en;q=0.8  \n",
    "    Connection:keep-alive  \n",
    "    Host:vermonster.com  \n",
    "    User-Agent:Mozilla/5.0 (Macintosh; Intel Mac OS X 10_8_5)  \n",
    "    AppleWebKit/537.36 (KHTML, like Gecko) Chrome/32.0.1659.2 Safari/537.36  "
   ]
  },
  {
   "cell_type": "markdown",
   "metadata": {
    "slideshow": {
     "slide_type": "slide"
    }
   },
   "source": [
    "<a id='http-response'></a>\n",
    "## HTTP Response\n",
    "\n",
    "---\n",
    "\n",
    "![HTTP Response](./assets/http_response.jpeg \"HTTP Response\")\n",
    "\n",
    "When a client sends a request, the server sends back a response; the standard format for this response is:\n",
    "\n",
    "```\n",
    "[http version] [status] [reason]  \n",
    "[list of headers]\n",
    "\n",
    "[response body] # Typically HTML, JSON, ...  \n",
    "```"
   ]
  },
  {
   "cell_type": "markdown",
   "metadata": {
    "slideshow": {
     "slide_type": "slide"
    }
   },
   "source": [
    "<a id='response-types'></a>\n",
    "### Response Types Overview\n",
    "\n",
    "> Check these out when you have time — at least be aware that there's an expected pattern to these codes.\n",
    "\n",
    "**[Status codes](http://en.wikipedia.org/wiki/List_of_HTTP_status_codes)** have standard meanings. Here are a few:\n",
    "\n",
    "|Code|Reason|\n",
    "|:---|:-----|\n",
    "|200| OK\n",
    "|301| Moved Permanently\n",
    "|302| Moved Temporarily\n",
    "|307| Temporary Redirect\n",
    "|400| Bad Request\n",
    "|403| Forbidden\n",
    "|404| Not Found\n",
    "|500| Internal Server Error"
   ]
  },
  {
   "cell_type": "markdown",
   "metadata": {},
   "source": [
    "### Making Requests Using the `requests` Library\n",
    "\n",
    "In order to make the most of the requests library, we will make a simple request and inspect the common elements that are provided by the library.\n",
    "\n",
    "> There's also a great [quickstart guide](http://docs.python-requests.org/en/master/user/quickstart/)."
   ]
  },
  {
   "cell_type": "code",
   "execution_count": 6,
   "metadata": {},
   "outputs": [],
   "source": [
    "# Making requests\n",
    "import requests\n",
    "\n",
    "url = \"http://www.textfiles.com/100/\""
   ]
  },
  {
   "cell_type": "code",
   "execution_count": 23,
   "metadata": {},
   "outputs": [],
   "source": [
    "# Inspecting protocol headers (response)"
   ]
  },
  {
   "cell_type": "code",
   "execution_count": 24,
   "metadata": {},
   "outputs": [],
   "source": [
    "# Inspecting protocol headers (request)\n",
    "# result.request"
   ]
  },
  {
   "cell_type": "code",
   "execution_count": 26,
   "metadata": {},
   "outputs": [],
   "source": [
    "# HTTP response body"
   ]
  },
  {
   "cell_type": "markdown",
   "metadata": {
    "slideshow": {
     "slide_type": "fragment"
    }
   },
   "source": [
    "### What's the easiest thing to understand about HTTP?"
   ]
  },
  {
   "cell_type": "markdown",
   "metadata": {
    "slideshow": {
     "slide_type": "fragment"
    }
   },
   "source": [
    "### What's the most challenging thing to understand about HTTP?"
   ]
  },
  {
   "cell_type": "markdown",
   "metadata": {
    "slideshow": {
     "slide_type": "fragment"
    }
   },
   "source": [
    "### How would you explain APIs to someone who didn't know anything about them?"
   ]
  }
 ],
 "metadata": {
  "anaconda-cloud": {},
  "celltoolbar": "Slideshow",
  "kernelspec": {
   "display_name": "Python 3",
   "language": "python",
   "name": "python3"
  },
  "language_info": {
   "codemirror_mode": {
    "name": "ipython",
    "version": 3
   },
   "file_extension": ".py",
   "mimetype": "text/x-python",
   "name": "python",
   "nbconvert_exporter": "python",
   "pygments_lexer": "ipython3",
   "version": "3.6.8"
  }
 },
 "nbformat": 4,
 "nbformat_minor": 1
}
