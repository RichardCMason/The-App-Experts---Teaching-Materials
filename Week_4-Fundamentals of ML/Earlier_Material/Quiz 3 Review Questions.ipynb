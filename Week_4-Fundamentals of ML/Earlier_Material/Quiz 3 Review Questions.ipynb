{
 "cells": [
  {
   "cell_type": "markdown",
   "metadata": {},
   "source": [
    "1.) What is the activation function or transformation function that we use to get a logistic regression(that makes our output values be between 0 and 1)"
   ]
  },
  {
   "cell_type": "markdown",
   "metadata": {},
   "source": [
    "Sigmoid function: $$\\sigma(z) = \\frac{1}{1 + e^{-z}}$$"
   ]
  },
  {
   "cell_type": "markdown",
   "metadata": {},
   "source": [
    "For logistic regression, $z = w^TX$"
   ]
  },
  {
   "cell_type": "markdown",
   "metadata": {},
   "source": [
    "in a linear regression: $y = w^TX$"
   ]
  },
  {
   "cell_type": "markdown",
   "metadata": {},
   "source": [
    "Where y is a Nx1 matrix of our predictions, where N is the number of observations"
   ]
  },
  {
   "cell_type": "markdown",
   "metadata": {},
   "source": [
    "w^T is a 1xD matrix where D is the number of features in our model"
   ]
  },
  {
   "cell_type": "markdown",
   "metadata": {},
   "source": [
    "X will be NxD matrix"
   ]
  },
  {
   "cell_type": "markdown",
   "metadata": {},
   "source": [
    "$$\\sigma(z) = \\frac{1}{1 + e^{-w^{T}X}}$$"
   ]
  },
  {
   "cell_type": "markdown",
   "metadata": {},
   "source": [
    "2.) interpretation of logistic regression"
   ]
  },
  {
   "cell_type": "markdown",
   "metadata": {},
   "source": [
    "$Odds(P) = \\frac{P}{1-P}$"
   ]
  },
  {
   "cell_type": "markdown",
   "metadata": {},
   "source": [
    "$Odds(2) = \\frac{1/6}{1 - 1/6}$"
   ]
  },
  {
   "cell_type": "markdown",
   "metadata": {},
   "source": [
    "$Odds(2) = \\frac{1/6}{5/6}$"
   ]
  },
  {
   "cell_type": "markdown",
   "metadata": {},
   "source": [
    "$Odds(2) = \\frac{1}{5}$"
   ]
  },
  {
   "cell_type": "markdown",
   "metadata": {},
   "source": [
    "$logit(P) = ln(Odds)$"
   ]
  },
  {
   "cell_type": "markdown",
   "metadata": {},
   "source": [
    "$logit(P) = ln(\\frac{P}{1-P}) = w^{T}X$"
   ]
  },
  {
   "cell_type": "markdown",
   "metadata": {},
   "source": [
    "Inverse logit = sigmoid"
   ]
  },
  {
   "cell_type": "markdown",
   "metadata": {},
   "source": [
    "$$\\sigma(z) = \\frac{1}{1 + e^{-w^{T}X}} = P$$"
   ]
  },
  {
   "cell_type": "markdown",
   "metadata": {},
   "source": [
    "Binary - 0 or 1 - Logistic regression \n",
    "\n",
    "P will be a Bernoulli Distribution\n",
    "\n",
    "Where P is the probability of y being 0 or 1"
   ]
  },
  {
   "cell_type": "markdown",
   "metadata": {},
   "source": [
    "Depending on what our threshold is- (The default is 0.5)- if the probability is >= 0.5, we will classify that observation as a '1' and if it is < 0.5, we will classify that observation as a '0'"
   ]
  },
  {
   "cell_type": "markdown",
   "metadata": {},
   "source": [
    "Model Evaluation\n",
    "1.) Accuracy = $\\frac{number\\space of\\space correct\\space observations}{total\\space number \\space of\\space observations}$"
   ]
  },
  {
   "cell_type": "markdown",
   "metadata": {},
   "source": [
    "number of correct observations = True Positives + True Negatives "
   ]
  },
  {
   "cell_type": "markdown",
   "metadata": {},
   "source": [
    "1.) True positives - TP\n",
    "\n",
    "2.) False Positives - FP\n",
    "\n",
    "3.) Flase Negatives - FN\n",
    "\n",
    "4.) True Negatives - TN"
   ]
  },
  {
   "cell_type": "markdown",
   "metadata": {},
   "source": [
    "\n",
    "Recall(Sensitivity) = TPR(True Positive Rate) = TP/ TP + FN = Recall, % of positive class our model found\n",
    "\n",
    "Precision = TP/TP + FP - or % of predicted positives that were actually positive\n",
    "\n",
    "Specificity = TNR(true negative rate) = TN/TN + FP\n",
    "\n",
    "F1 score = 2* (Recall * Precision)/ Recall + Precision\n",
    "\n"
   ]
  },
  {
   "cell_type": "markdown",
   "metadata": {},
   "source": [
    "AUC - ROC curve"
   ]
  }
 ],
 "metadata": {
  "kernelspec": {
   "display_name": "Python 3",
   "language": "python",
   "name": "python3"
  },
  "language_info": {
   "codemirror_mode": {
    "name": "ipython",
    "version": 3
   },
   "file_extension": ".py",
   "mimetype": "text/x-python",
   "name": "python",
   "nbconvert_exporter": "python",
   "pygments_lexer": "ipython3",
   "version": "3.6.5"
  }
 },
 "nbformat": 4,
 "nbformat_minor": 2
}
