{
 "cells": [
  {
   "cell_type": "markdown",
   "metadata": {},
   "source": [
    "## Data Science Assessment "
   ]
  },
  {
   "cell_type": "markdown",
   "metadata": {},
   "source": [
    "For the multiple choice questions, give a brief explanation next to each choice explaining why it is or is not correct\n"
   ]
  },
  {
   "cell_type": "markdown",
   "metadata": {},
   "source": [
    "1.) Say we have a model given by $Y = \\beta_0 + \\beta_1{X}$ The 90% confidence interval for coefficient $\\beta_1$ is (1745.76, 1987.45)  How do you interpret this? (**Select all that apply**)\n",
    "\n",
    "\n",
    "a.) There is a 90% chance that $\\beta_1$ is between 1745.76 and 1987.45\n",
    "   \n",
    "b.) If I gathered 100 samples and generated 90% confidence intervals based on each sample, I expect that 90 of them would contain the true value $\\beta_1$\n",
    "    \n",
    "c.) The true value of $\\beta_1$ is between 1745.76 and 1987.45 with probability 90%\n",
    "    \n",
    "d.) We are 90% confident that $\\beta_1$ is between 1745.76 and 1987.45\n",
    "        \n",
    "e.) None of the above is the proper interpretation of the 90% confidence interval"
   ]
  },
  {
   "cell_type": "code",
   "execution_count": null,
   "metadata": {},
   "outputs": [],
   "source": []
  },
  {
   "cell_type": "markdown",
   "metadata": {},
   "source": [
    "2.) Suppose I fit a linear regression and obtain an RMSE of 43,000 on my training data and an RMSE of 85,514 on my test set.  Based on these results, which of the following are true? (**Select all that apply**)\n",
    "\n",
    "\n",
    "    \n",
    "a.) My model suffers from high bias\n",
    "  \n",
    "b.) My model suffers from high variance\n",
    "  \n",
    "c.) My model is overfit to the training data\n",
    "  \n",
    "d.) My model is underfit to the training data\n",
    "  \n",
    "e.) I expect that my model will have low accuracy\n",
    "  \n",
    "f.) I expect that my model will have low precision\n",
    "  \n",
    "g.) I expect that my model will have high accuracy\n",
    "  \n",
    "h.) I expect that my model will have high precision"
   ]
  },
  {
   "cell_type": "code",
   "execution_count": null,
   "metadata": {},
   "outputs": [],
   "source": []
  },
  {
   "cell_type": "markdown",
   "metadata": {},
   "source": [
    "3.) You are attempting to better understand the relationship between your credit score and how likely you are to be approved for a loan.  A colleague asks you if it is more appropriate to use a logistic regression model or k-nearest neighbors.  How do you respond?\n",
    "\n",
    "a.) Logistic regression, because a logistic regression model can return the probability of falling into each class, not just predicted 1s and 0s\n",
    "\n",
    "b.) k-nearest neighbors, because k-NN is a nonparametric model\n",
    "\n",
    "c.) Logistic regression, because we can better understand how our features affect the outcome\n",
    "\n",
    "d.) k-nearest neighbors, because it is more flexible than logistic regression\n",
    "\n",
    "e.) Neither is more appropriate in this case"
   ]
  },
  {
   "cell_type": "code",
   "execution_count": null,
   "metadata": {},
   "outputs": [],
   "source": []
  },
  {
   "cell_type": "markdown",
   "metadata": {},
   "source": [
    "4.) Which of the following about random forests is true?\n",
    "\n",
    "a.) The number of trees used is randomly selected\n",
    "\n",
    "b.) When deciding on which variable to split, we identify a random value for each variable to use as the split\n",
    "\n",
    "c.) We take a random sample of columns (without replacement)\n",
    "\n",
    "d.) We take a random sample of observations (with replacement)"
   ]
  },
  {
   "cell_type": "code",
   "execution_count": null,
   "metadata": {},
   "outputs": [],
   "source": []
  },
  {
   "cell_type": "markdown",
   "metadata": {},
   "source": [
    "5.) When applying $L^1$ or $L^2$ regularization to a model, what type of estimator of model parameters does this produce?  Provide a proof of your claim."
   ]
  },
  {
   "cell_type": "code",
   "execution_count": null,
   "metadata": {},
   "outputs": [],
   "source": []
  },
  {
   "cell_type": "markdown",
   "metadata": {},
   "source": [
    "6.) In the context of a Logistic Regression model, what does the term $e^{w^{Tx_i}}$ tell us?"
   ]
  },
  {
   "cell_type": "code",
   "execution_count": null,
   "metadata": {},
   "outputs": [],
   "source": []
  },
  {
   "cell_type": "markdown",
   "metadata": {},
   "source": [
    "7.) What is the difference between the odds of an event occurring and the probability of an event occurring?"
   ]
  },
  {
   "cell_type": "code",
   "execution_count": null,
   "metadata": {},
   "outputs": [],
   "source": []
  },
  {
   "cell_type": "markdown",
   "metadata": {},
   "source": [
    "8.) What is the difference between the odds of an event occurring and the probability of an event occurring?"
   ]
  },
  {
   "cell_type": "code",
   "execution_count": null,
   "metadata": {},
   "outputs": [],
   "source": []
  },
  {
   "cell_type": "markdown",
   "metadata": {},
   "source": [
    "9.) Say an Artificial Neural Network with $L$ layers is constructed using the linear activation $a(x)=x$ at each hidden layer.  What is the minimum value of $L$ required to train the model to a trend $y=f(x)$ if $f$ is a third degree polynomial?  Give a proof, or at least a structured argument for your answer."
   ]
  },
  {
   "cell_type": "code",
   "execution_count": null,
   "metadata": {},
   "outputs": [],
   "source": []
  },
  {
   "cell_type": "markdown",
   "metadata": {},
   "source": [
    "10.) Load the Ames housing dataset from https://www.kaggle.com/c/house-prices-advanced-regression-techniques/data and build a linear regression model to predict price.  You may use any libraries or packages you wish.  Showing your train of reasoning and thought process will be more important than the actual results you obtain.\n",
    "\n",
    "Be sure to definitely answer the following questions about your analysis(preferably in comments next to the relevant portions of your code):\n",
    "\n",
    " - Comment showing how you dealt with the missing values in this dataset\n",
    " - which features does your model think are most important in predicting house price?  How do you know?\n",
    " - Does using all the features improve the model?  Does your model overfit the data?  \n",
    " - Explain what a dummy variable is and demonstrate their use in this example"
   ]
  },
  {
   "cell_type": "code",
   "execution_count": null,
   "metadata": {},
   "outputs": [],
   "source": []
  },
  {
   "cell_type": "markdown",
   "metadata": {},
   "source": [
    "11.) Using the titanic dataset located here: https://www.kaggle.com/c/titanic/data perform an analysis using logistic regression in R.  Be sure to evaluate the following metrics for your predictions and show how they were calculated:\n",
    "\n",
    "accuracy\n",
    "\n",
    "recall\n",
    "\n",
    "precision\n",
    "\n",
    "specificity\n",
    "\n",
    "Plot the AUC-ROC curve of your predictions as well.\n",
    "\n",
    "Additionally, answer the following questions concerning the data :\n",
    "\n",
    "1. What was the survival rate overall?\n",
    "2. Which gender fared the worst? What was their survival rate?\n",
    "3. What was the survival rate for each `Pclass`?\n",
    "4. Did any reverends survive? How many?\n",
    "6. What is the survival rate for people whose `Age` is empty?\n",
    "7. What is the survival rate for each port of embarkation?\n",
    "8. What is the survival rate for children (under 12) in each `Pclass`?\n",
    "9. Did the captain of the ship survive? Is he on the list?\n",
    "10. Of all the people that died, who had the most expensive ticket? How much did it cost?\n",
    "11. Does having family on the boat help or hurt your chances of survival?"
   ]
  },
  {
   "cell_type": "code",
   "execution_count": null,
   "metadata": {},
   "outputs": [],
   "source": []
  },
  {
   "cell_type": "markdown",
   "metadata": {},
   "source": [
    "12.) Explain the difference between Loovc(Leave one out cross validation), K-fold cv and the 'holdout' method. Show that you can implement a form of cross validation in code using one of the models you built above."
   ]
  },
  {
   "cell_type": "code",
   "execution_count": null,
   "metadata": {},
   "outputs": [],
   "source": []
  },
  {
   "cell_type": "markdown",
   "metadata": {},
   "source": [
    "13.) Implement in code either Ridge or Lasso regularization in one of the above models.  the Plot the training and test scores vs. alpha(the regularization parameter).  "
   ]
  },
  {
   "cell_type": "code",
   "execution_count": null,
   "metadata": {},
   "outputs": [],
   "source": []
  },
  {
   "cell_type": "markdown",
   "metadata": {},
   "source": [
    "14.) Write a function in python that will return both the R2 score and root-mean-squared-error of a linear regression"
   ]
  },
  {
   "cell_type": "code",
   "execution_count": null,
   "metadata": {},
   "outputs": [],
   "source": []
  },
  {
   "cell_type": "markdown",
   "metadata": {},
   "source": [
    "15.) Show why minimizing squared error is equivalent to the maximum likelihood estimation of the coefficients in a linear regression(mathematical proof)"
   ]
  },
  {
   "cell_type": "code",
   "execution_count": null,
   "metadata": {},
   "outputs": [],
   "source": []
  }
 ],
 "metadata": {
  "kernelspec": {
   "display_name": "Python 3",
   "language": "python",
   "name": "python3"
  },
  "language_info": {
   "codemirror_mode": {
    "name": "ipython",
    "version": 3
   },
   "file_extension": ".py",
   "mimetype": "text/x-python",
   "name": "python",
   "nbconvert_exporter": "python",
   "pygments_lexer": "ipython3",
   "version": "3.7.0"
  }
 },
 "nbformat": 4,
 "nbformat_minor": 2
}
