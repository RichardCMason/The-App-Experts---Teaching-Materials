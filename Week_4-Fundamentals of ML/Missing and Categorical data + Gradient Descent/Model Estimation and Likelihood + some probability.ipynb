{
 "cells": [
  {
   "cell_type": "code",
   "execution_count": null,
   "metadata": {},
   "outputs": [],
   "source": [
    "import numpy as np\n",
    "import matplotlib.pyplot as plt\n",
    "%matplotlib inline"
   ]
  },
  {
   "cell_type": "markdown",
   "metadata": {},
   "source": [
    "Conditional probability: $P(A|B)$"
   ]
  },
  {
   "cell_type": "markdown",
   "metadata": {},
   "source": [
    "In the context of models and data: Probability = $P(data|model)$"
   ]
  },
  {
   "cell_type": "markdown",
   "metadata": {},
   "source": [
    "and Likelihood = $L(model|data)$"
   ]
  },
  {
   "cell_type": "markdown",
   "metadata": {},
   "source": [
    "If we have two competing models, we want to choose the model that has the highest likelihood to output the given data"
   ]
  },
  {
   "cell_type": "markdown",
   "metadata": {},
   "source": [
    "<img src = 'gaussian.png' width = 500>"
   ]
  },
  {
   "cell_type": "markdown",
   "metadata": {},
   "source": [
    "If x comes from a normal distribution, then $$P(x|\\mu, \\sigma) = \\frac{1}{\\sqrt{2\\pi\\sigma}}e^-{\\frac{(x-\\mu)^2}{2\\sigma^2}}$$ now the **likelihood** is just the conditional probability of the distribution parameters, $\\mu$ and $\\sigma$, given the observations we have, $x$.  The likelihood is just the probabilities multiplied together: $$\\mathcal{L}(\\mu, \\sigma)|(x_1,...,x_n) = \\prod\\limits_{i=1}^{N} P(x_i)\\ldots P(x_N)$$ "
   ]
  },
  {
   "cell_type": "markdown",
   "metadata": {},
   "source": [
    "We can take the **log-likelihood** which allows us to sum these probabilities instead of multiplying them.  Maximizing the log-likelihood is the same as maximizing the likelihood because logarithmic functions are monotonically increasing.  We can do it like this: $$ln(\\mathcal{L}(\\mu, \\sigma)|(x_1,...,x_n)) = ln(\\prod\\limits_{i=1}^{N} P(x_i)$$ $$ln(\\mathcal{L}) = \\sum\\limits_{i=1}^{N} lnP(x_i)$$  \n",
    "\n",
    "or $$ln(\\mathcal{L}) = \\sum\\limits_{i=1}^{N}ln\\frac{1}{\\sqrt{2\\pi\\sigma}} - {\\frac{(x-u)^2}{2\\sigma^2}}$$"
   ]
  },
  {
   "cell_type": "markdown",
   "metadata": {},
   "source": [
    "Notice in the right side of this equation the expression: $(x-u)^2$ which is the cost function for linear regression.  We see that minimizing this will maximize the liklihood, therefore **$$\\mathcal{L} = -J$$"
   ]
  },
  {
   "cell_type": "markdown",
   "metadata": {},
   "source": [
    "One of the most important algorithms in machine learning is **Gradient descent** which we use to minimize the cost function.  We use it in place of something like the normal equation because it does not require taking the inverse of a matrix, so it is much more efficient when we have many columns, or features."
   ]
  },
  {
   "cell_type": "markdown",
   "metadata": {},
   "source": [
    "$$w_i = w_i - \\alpha\\frac{\\partial{J}}{\\partial{w_i}}$$"
   ]
  },
  {
   "cell_type": "code",
   "execution_count": 3,
   "metadata": {},
   "outputs": [],
   "source": [
    "x = np.linspace(0, 100, 100)\n",
    "y = 3*x + 3 + np.random.normal(5, 10, 100)\n",
    "\n",
    "def gradient_descent(alpha, x, y, ep=0.0001, max_iter=10000):\n",
    "    converged = False\n",
    " \n",
    "\n",
    "    iter = 0\n",
    "    m = x.shape[0] # number of samples\n",
    "\n",
    "    # initial theta\n",
    "    intercept = 0\n",
    "    slope = 0\n",
    "    # total error, J(theta)\n",
    "    J = sum([(intercept + slope*x[i] - y[i])**2 for i in range(m)])\n",
    "\n",
    "    # Iterate Loop\n",
    "    while not converged:\n",
    "        # for each training sample, compute the gradient (d/d_theta j(theta))\n",
    "        grad0 = 1.0/m * sum([(intercept + slope*x[i] - y[i]) for i in range(m)]) \n",
    "        grad1 = 1.0/m * sum([(intercept + slope*x[i] - y[i])*x[i] for i in range(m)])\n",
    "\n",
    "        # update the theta_temp\n",
    "        temp_intercept = intercept - alpha * grad0\n",
    "        temp_slope = slope - alpha * grad1\n",
    "    \n",
    "        # update theta\n",
    "        intercept = temp_intercept\n",
    "        slope = temp_slope\n",
    "\n",
    "        # mean squared error\n",
    "        e = sum( [ (intercept + slope*x[i] - y[i])**2 for i in range(m)] ) \n",
    "\n",
    "        if abs(J-e) <= ep:\n",
    "            print ('Converged, iterations: ', iter, '!!!')\n",
    "            converged = True\n",
    "    \n",
    "        J = e   # update error \n",
    "        iter += 1  # update iter\n",
    "    \n",
    "        if iter == max_iter:\n",
    "            print ('Max interactions exceeded!')\n",
    "            converged = True\n",
    "\n",
    "    return intercept,slope"
   ]
  },
  {
   "cell_type": "code",
   "execution_count": null,
   "metadata": {},
   "outputs": [],
   "source": []
  }
 ],
 "metadata": {
  "kernelspec": {
   "display_name": "Python 3",
   "language": "python",
   "name": "python3"
  },
  "language_info": {
   "codemirror_mode": {
    "name": "ipython",
    "version": 3
   },
   "file_extension": ".py",
   "mimetype": "text/x-python",
   "name": "python",
   "nbconvert_exporter": "python",
   "pygments_lexer": "ipython3",
   "version": "3.6.5"
  }
 },
 "nbformat": 4,
 "nbformat_minor": 2
}
