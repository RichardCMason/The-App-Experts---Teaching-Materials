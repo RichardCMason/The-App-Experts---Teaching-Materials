{
 "cells": [
  {
   "cell_type": "markdown",
   "metadata": {},
   "source": [
    "<img src=\"http://imgur.com/1ZcRyrc.png\" style=\"float: left; margin: 20px; height: 55px\">\n",
    "\n",
    "# Intro to RNNs: LSTM\n",
    "\n",
    "_Authors: David Yerrington (SF)_\n",
    "\n",
    "<img src=\"https://i.imgur.com/kpZBDfV.gif\" style=\"width: 500px;\">\n",
    "\n",
    "---\n",
    "\n",
    "### Learning Objectives\n",
    "\n",
    "- Explain the basic topology of an RNN\n",
    "- Understand how sequential data can be used to make predictions\n",
    "- Implement an LSTM in Keras"
   ]
  },
  {
   "cell_type": "markdown",
   "metadata": {},
   "source": [
    "### What can you do with RNN's?\n",
    "\n",
    "- Generate text from waveforms\n",
    "- Predict the ending of a passage of music given input\n",
    "- Predict timeseries of sequential events\n",
    "- Generate human-like response to text input\n",
    "- Translate langauges from sequential input, to translated sequential output\n"
   ]
  },
  {
   "cell_type": "markdown",
   "metadata": {},
   "source": [
    "### We will visit slides from here.\n",
    "Food for thought:  \n",
    "_\"Do you think ML will be the advent of a hostile AI takeover of society?\"_"
   ]
  },
  {
   "cell_type": "markdown",
   "metadata": {},
   "source": [
    "### Python Imports"
   ]
  },
  {
   "cell_type": "code",
   "execution_count": 144,
   "metadata": {},
   "outputs": [],
   "source": [
    "import numpy as np, pandas as pd, re\n",
    "import matplotlib.pyplot as plt\n",
    "\n",
    "from sklearn.feature_extraction.text import CountVectorizer\n",
    "from sklearn.model_selection import train_test_split\n",
    "\n",
    "from keras.preprocessing.text import Tokenizer\n",
    "from keras.preprocessing.text import Tokenizer\n",
    "from keras.preprocessing.sequence import pad_sequences\n",
    "from keras.models import Sequential\n",
    "from keras.layers import Dense, Embedding, LSTM\n",
    "from keras.utils.np_utils import to_categorical"
   ]
  },
  {
   "cell_type": "markdown",
   "metadata": {},
   "source": [
    "### Codealong - Alphabet n:1\n",
    "For the first example we will be predicting one of earths greatest problems, which letters fall in sequence in the alphabet with a range of $n$ characters in sequence.\n",
    "\n",
    "#### Create the alphabet data\n",
    "The alphabet starts at index 97 of the ASCII character map.  \n",
    "\n",
    "```python\n",
    "a = chr(97)\n",
    "b = chr(98)\n",
    "...\n",
    "```"
   ]
  },
  {
   "cell_type": "code",
   "execution_count": null,
   "metadata": {},
   "outputs": [],
   "source": []
  },
  {
   "cell_type": "markdown",
   "metadata": {},
   "source": [
    "#### Write a function to encode our training data.\n",
    "\n",
    "We need to create training data for our design matrix that roughly looks like this:\n",
    "\n",
    "```python\n",
    "X = [\n",
    "    ('a','b','c'),\n",
    "    ('b','c','d'),\n",
    "    ('c','d','e'),\n",
    "    ... etc\n",
    "]\n",
    "\n",
    "y = ['d', 'e', 'f', ... etc]\n",
    "```"
   ]
  },
  {
   "cell_type": "code",
   "execution_count": 196,
   "metadata": {},
   "outputs": [],
   "source": [
    "# A:\n",
    "def encode_training(text, sequence_length = 3):\n",
    "    \n",
    "    X, y = [], []\n",
    "\n",
    "    return X, y\n",
    "\n",
    "sequence_length = 3\n",
    "X, y = encode_training(alphabet, sequence_length)"
   ]
  },
  {
   "cell_type": "markdown",
   "metadata": {},
   "source": [
    "#### Inspect data.  Transform characters to numeric index references.\n",
    "Our data needs to be in a format where the characters are just numeric offset refernces from the original alphabet array.  We could have had our `encode_training` method handle this for us but we had it assemble the original characters mainly for demonstration.\n",
    "\n",
    "IE:\n",
    "```R\n",
    "a -> 0, b -> 1, c -> 2, d -> 3, e -> 4\n",
    "```\n",
    "\n",
    ">  Keras has it's own tokenizer for dealing with text as dataframes or in raw format such as text files.  This is a simple case, so we are writing our own."
   ]
  },
  {
   "cell_type": "code",
   "execution_count": null,
   "metadata": {},
   "outputs": [],
   "source": []
  },
  {
   "cell_type": "markdown",
   "metadata": {},
   "source": [
    "#### We should do the same for our $y$ data"
   ]
  },
  {
   "cell_type": "code",
   "execution_count": null,
   "metadata": {},
   "outputs": [],
   "source": []
  },
  {
   "cell_type": "markdown",
   "metadata": {},
   "source": [
    "#### Transform training X to expected shape for LSTM\n",
    "> Shape is:  _samples x steps x features_\n",
    ">\n",
    "> As a numpy array."
   ]
  },
  {
   "cell_type": "code",
   "execution_count": null,
   "metadata": {},
   "outputs": [],
   "source": []
  },
  {
   "cell_type": "markdown",
   "metadata": {},
   "source": [
    "#### Now we 1-hot encode our sequence data.\n",
    "0 (which is the letter \"a\") can be represented in binary-like format:\n",
    "\n",
    "**0 (a)** =\n",
    "`[1, 0, 0, 0, 0, 0, ..., 0, 0]`\n",
    "\n",
    "**1 (b)** =\n",
    "`[0, 1, 0, 0, 0, 0, ..., 0, 0]`\n",
    "\n",
    "**3 (c)** =\n",
    "`[0, 0, 1, 0, 0, 0, ..., 0, 0]`\n"
   ]
  },
  {
   "cell_type": "code",
   "execution_count": 117,
   "metadata": {},
   "outputs": [
    {
     "data": {
      "text/plain": [
       "array([[ 0.,  0.,  0.,  1.,  0.,  0.,  0.,  0.,  0.,  0.,  0.,  0.,  0.,\n",
       "         0.,  0.,  0.,  0.,  0.,  0.,  0.,  0.,  0.,  0.,  0.,  0.,  0.],\n",
       "       [ 0.,  0.,  0.,  0.,  1.,  0.,  0.,  0.,  0.,  0.,  0.,  0.,  0.,\n",
       "         0.,  0.,  0.,  0.,  0.,  0.,  0.,  0.,  0.,  0.,  0.,  0.,  0.]])"
      ]
     },
     "execution_count": 117,
     "metadata": {},
     "output_type": "execute_result"
    }
   ],
   "source": []
  },
  {
   "cell_type": "markdown",
   "metadata": {},
   "source": [
    "#### Init model, train model"
   ]
  },
  {
   "cell_type": "code",
   "execution_count": null,
   "metadata": {},
   "outputs": [],
   "source": []
  },
  {
   "cell_type": "markdown",
   "metadata": {},
   "source": [
    "#### Plot the loss and accuracy metric over epochs"
   ]
  },
  {
   "cell_type": "code",
   "execution_count": 157,
   "metadata": {},
   "outputs": [
    {
     "data": {
      "text/plain": [
       "Text(0.5,0,'epochs')"
      ]
     },
     "execution_count": 157,
     "metadata": {},
     "output_type": "execute_result"
    },
    {
     "data": {
      "image/png": "[encoded data removed]",
      "text/plain": [
       "<Figure size 1080x288 with 2 Axes>"
      ]
     },
     "metadata": {},
     "output_type": "display_data"
    }
   ],
   "source": [
    "fig, ax = plt.subplots(ncols=2, nrows=1, figsize=(15,4))\n",
    "\n",
    "ax[0].plot(history.history['loss'])\n",
    "ax[0].set_title(\"Loss\")\n",
    "ax[0].set_xlabel(\"epochs\")\n",
    "\n",
    "ax[1].plot(history.history['acc'])\n",
    "ax[1].set_title(\"Accuracy\")\n",
    "ax[1].set_xlabel(\"epochs\")"
   ]
  },
  {
   "cell_type": "markdown",
   "metadata": {},
   "source": [
    "#### Make Predictions"
   ]
  },
  {
   "cell_type": "code",
   "execution_count": 195,
   "metadata": {},
   "outputs": [],
   "source": [
    "# demonstrate some model predictions"
   ]
  },
  {
   "cell_type": "markdown",
   "metadata": {},
   "source": [
    "#### Additional Resources\n",
    "\n",
    "- [Unreasonable Effectiveness of RNN's](http://karpathy.github.io/2015/05/21/rnn-effectiveness/) _has great depth, but is concise_."
   ]
  }
 ],
 "metadata": {
  "kernelspec": {
   "display_name": "Python [conda env:dsi]",
   "language": "python",
   "name": "conda-env-dsi-py"
  },
  "language_info": {
   "codemirror_mode": {
    "name": "ipython",
    "version": 3
   },
   "file_extension": ".py",
   "mimetype": "text/x-python",
   "name": "python",
   "nbconvert_exporter": "python",
   "pygments_lexer": "ipython3",
   "version": "3.6.5"
  }
 },
 "nbformat": 4,
 "nbformat_minor": 2
}
