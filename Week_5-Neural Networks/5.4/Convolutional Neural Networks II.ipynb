{
 "cells": [
  {
   "cell_type": "markdown",
   "metadata": {},
   "source": [
    "# Convolutional Neural Networks II"
   ]
  },
  {
   "cell_type": "markdown",
   "metadata": {},
   "source": [
    "## Model: Forecasting the Stock Market using the Stock Market"
   ]
  },
  {
   "cell_type": "code",
   "execution_count": 1,
   "metadata": {},
   "outputs": [
    {
     "name": "stderr",
     "output_type": "stream",
     "text": [
      "/Users/mattbrems/anaconda3/lib/python3.5/site-packages/h5py/__init__.py:34: FutureWarning: Conversion of the second argument of issubdtype from `float` to `np.floating` is deprecated. In future, it will be treated as `np.float64 == np.dtype(float).type`.\n",
      "  from ._conv import register_converters as _register_converters\n",
      "Using TensorFlow backend.\n",
      "/Users/mattbrems/anaconda3/lib/python3.5/importlib/_bootstrap.py:222: RuntimeWarning: compiletime version 3.6 of module 'tensorflow.python.framework.fast_tensor_util' does not match runtime version 3.5\n",
      "  return f(*args, **kwds)\n"
     ]
    },
    {
     "name": "stdout",
     "output_type": "stream",
     "text": [
      "Couldn't import dot_parser, loading of dot files will not be possible.\n"
     ]
    }
   ],
   "source": [
    "from utils import *\n",
    "\n",
    "import numpy as np\n",
    "import pandas as pd\n",
    "import matplotlib.pylab as plt\n",
    "\n",
    "from keras.models import Sequential\n",
    "from keras.layers.core import Dense, Dropout, Activation, Flatten\n",
    "from keras.layers import Convolution1D, MaxPooling1D\n",
    "from keras import regularizers\n",
    "from keras.layers.normalization import BatchNormalization\n",
    "from keras.layers.advanced_activations import *\n",
    "from keras.optimizers import Adam\n",
    "from keras.initializers import *\n",
    "\n",
    "from sklearn.model_selection import train_test_split\n",
    "\n",
    "import seaborn as sns"
   ]
  },
  {
   "cell_type": "code",
   "execution_count": 2,
   "metadata": {
    "collapsed": true
   },
   "outputs": [],
   "source": [
    "data_original = pd.read_csv('../AAPL1216.csv')[::-1]"
   ]
  },
  {
   "cell_type": "code",
   "execution_count": 3,
   "metadata": {},
   "outputs": [
    {
     "data": {
      "text/html": [
       "<div>\n",
       "<style scoped>\n",
       "    .dataframe tbody tr th:only-of-type {\n",
       "        vertical-align: middle;\n",
       "    }\n",
       "\n",
       "    .dataframe tbody tr th {\n",
       "        vertical-align: top;\n",
       "    }\n",
       "\n",
       "    .dataframe thead th {\n",
       "        text-align: right;\n",
       "    }\n",
       "</style>\n",
       "<table border=\"1\" class=\"dataframe\">\n",
       "  <thead>\n",
       "    <tr style=\"text-align: right;\">\n",
       "      <th></th>\n",
       "      <th>Date</th>\n",
       "      <th>Open</th>\n",
       "      <th>High</th>\n",
       "      <th>Low</th>\n",
       "      <th>Close</th>\n",
       "      <th>Volume</th>\n",
       "      <th>Adj Close</th>\n",
       "    </tr>\n",
       "  </thead>\n",
       "  <tbody>\n",
       "    <tr>\n",
       "      <th>1005</th>\n",
       "      <td>2012-01-03</td>\n",
       "      <td>409.399998</td>\n",
       "      <td>412.499989</td>\n",
       "      <td>408.999989</td>\n",
       "      <td>411.230000</td>\n",
       "      <td>75555200</td>\n",
       "      <td>53.278774</td>\n",
       "    </tr>\n",
       "    <tr>\n",
       "      <th>1004</th>\n",
       "      <td>2012-01-04</td>\n",
       "      <td>410.000011</td>\n",
       "      <td>414.680012</td>\n",
       "      <td>409.279995</td>\n",
       "      <td>413.440010</td>\n",
       "      <td>65005500</td>\n",
       "      <td>53.565102</td>\n",
       "    </tr>\n",
       "    <tr>\n",
       "      <th>1003</th>\n",
       "      <td>2012-01-05</td>\n",
       "      <td>414.950005</td>\n",
       "      <td>418.550007</td>\n",
       "      <td>412.670006</td>\n",
       "      <td>418.029995</td>\n",
       "      <td>67817400</td>\n",
       "      <td>54.159778</td>\n",
       "    </tr>\n",
       "    <tr>\n",
       "      <th>1002</th>\n",
       "      <td>2012-01-06</td>\n",
       "      <td>419.770008</td>\n",
       "      <td>422.749996</td>\n",
       "      <td>419.220009</td>\n",
       "      <td>422.400002</td>\n",
       "      <td>79573200</td>\n",
       "      <td>54.725955</td>\n",
       "    </tr>\n",
       "    <tr>\n",
       "      <th>1001</th>\n",
       "      <td>2012-01-09</td>\n",
       "      <td>425.499992</td>\n",
       "      <td>427.750004</td>\n",
       "      <td>421.349991</td>\n",
       "      <td>421.730000</td>\n",
       "      <td>98506100</td>\n",
       "      <td>54.639149</td>\n",
       "    </tr>\n",
       "  </tbody>\n",
       "</table>\n",
       "</div>"
      ],
      "text/plain": [
       "            Date        Open        High         Low       Close    Volume  \\\n",
       "1005  2012-01-03  409.399998  412.499989  408.999989  411.230000  75555200   \n",
       "1004  2012-01-04  410.000011  414.680012  409.279995  413.440010  65005500   \n",
       "1003  2012-01-05  414.950005  418.550007  412.670006  418.029995  67817400   \n",
       "1002  2012-01-06  419.770008  422.749996  419.220009  422.400002  79573200   \n",
       "1001  2012-01-09  425.499992  427.750004  421.349991  421.730000  98506100   \n",
       "\n",
       "      Adj Close  \n",
       "1005  53.278774  \n",
       "1004  53.565102  \n",
       "1003  54.159778  \n",
       "1002  54.725955  \n",
       "1001  54.639149  "
      ]
     },
     "execution_count": 3,
     "metadata": {},
     "output_type": "execute_result"
    }
   ],
   "source": [
    "# Check out the head of our data.\n",
    "\n",
    "data_original.head()"
   ]
  },
  {
   "cell_type": "code",
   "execution_count": 4,
   "metadata": {
    "collapsed": true
   },
   "outputs": [],
   "source": [
    "## Convert Pandas Series into lists\n",
    "\n",
    "openp = data_original.loc[:, 'Open'].tolist()\n",
    "highp = data_original.loc[:, 'High'].tolist()\n",
    "lowp = data_original.loc[:, 'Low'].tolist()\n",
    "closep = data_original.loc[:, 'Adj Close'].tolist()\n",
    "volumep = data_original.loc[:, 'Volume'].tolist()\n",
    "data_chng = data_original.loc[:, 'Adj Close'].pct_change().dropna().tolist()"
   ]
  },
  {
   "cell_type": "code",
   "execution_count": 5,
   "metadata": {
    "collapsed": true
   },
   "outputs": [],
   "source": [
    "\n",
    "\n",
    "WINDOW = 30\n",
    "EMB_SIZE = 6  # \"Embedding size\" a.k.a. input size\n",
    "STEP = 1\n",
    "FORECAST = 1\n",
    "\n",
    "X, Y = [], []"
   ]
  },
  {
   "cell_type": "code",
   "execution_count": 6,
   "metadata": {
    "collapsed": true
   },
   "outputs": [],
   "source": [
    "for i in range(0, len(data_original), STEP): \n",
    "    try:\n",
    "        # What is this code doing?\n",
    "        o = openp[i:i+WINDOW]\n",
    "        h = highp[i:i+WINDOW]\n",
    "        l = lowp[i:i+WINDOW]\n",
    "        c = closep[i:i+WINDOW]\n",
    "        v = volumep[i:i+WINDOW]\n",
    "        d = data_chng[i:i+WINDOW]\n",
    "\n",
    "        # What is this code doing?\n",
    "        o = (np.array(o) - np.mean(o)) / np.std(o)\n",
    "        h = (np.array(h) - np.mean(h)) / np.std(h)\n",
    "        l = (np.array(l) - np.mean(l)) / np.std(l)\n",
    "        c = (np.array(c) - np.mean(c)) / np.std(c)\n",
    "        v = (np.array(v) - np.mean(v)) / np.std(v)\n",
    "        d = (np.array(d) - np.mean(d)) / np.std(d)\n",
    "\n",
    "        # What is this code doing?\n",
    "        x_i = closep[i:i+WINDOW]\n",
    "        y_i = closep[i+WINDOW+FORECAST]  \n",
    "\n",
    "        last_close = x_i[-1]\n",
    "        next_close = y_i\n",
    "\n",
    "        # What is this code doing?\n",
    "        if last_close < next_close:\n",
    "            y_i = [1, 0]\n",
    "        else:\n",
    "            y_i = [0, 1] \n",
    "\n",
    "        x_i = np.column_stack((o, h, l, c, v, d))\n",
    "\n",
    "    except Exception as e:\n",
    "        break\n",
    "\n",
    "    X.append(x_i)\n",
    "    Y.append(y_i)"
   ]
  },
  {
   "cell_type": "code",
   "execution_count": 7,
   "metadata": {
    "collapsed": true
   },
   "outputs": [],
   "source": [
    "# Split data into training and testing sets.\n",
    "\n",
    "X, Y = np.array(X), np.array(Y)\n",
    "X_train, X_test, Y_train, Y_test = train_test_split(X, \n",
    "                                                    Y, \n",
    "                                                    test_size = 0.25, \n",
    "                                                    random_state = 42)\n",
    "\n",
    "# Reshape our data.\n",
    "X_train = np.reshape(X_train, (X_train.shape[0], X_train.shape[1], EMB_SIZE))\n",
    "X_test = np.reshape(X_test, (X_test.shape[0], X_test.shape[1], EMB_SIZE))"
   ]
  },
  {
   "cell_type": "code",
   "execution_count": 8,
   "metadata": {
    "collapsed": true
   },
   "outputs": [],
   "source": [
    "# Instantiate sequential model.\n",
    "\n",
    "model = Sequential()\n",
    "\n",
    "# Add convolutional layer with 16 filters and a filter size of 4, with the \"same\" padding.\n",
    "\n",
    "model.add(Convolution1D(input_shape = (WINDOW, EMB_SIZE),\n",
    "                        filters = 16,\n",
    "                        kernel_size = 4,\n",
    "                        padding = 'same'))\n",
    "\n",
    "# Normalize outputs from previous layer.\n",
    "model.add(BatchNormalization())\n",
    "                               \n",
    "# Leaky ReLU activation function.\n",
    "model.add(LeakyReLU())\n",
    "\n",
    "# Dropout of 50%.\n",
    "model.add(Dropout(0.5))"
   ]
  },
  {
   "cell_type": "code",
   "execution_count": 9,
   "metadata": {
    "collapsed": true
   },
   "outputs": [],
   "source": [
    "# Add another convolutional layer, this time with 8 filters and a filter size of 4, with the \"same\" padding.\n",
    "\n",
    "model.add(Convolution1D(filters = 8,\n",
    "                        kernel_size = 4,\n",
    "                        padding = 'same'))\n",
    "\n",
    "# Normalize outputs from previous layer.\n",
    "model.add(BatchNormalization())\n",
    "\n",
    "# Leaky ReLU activation function.\n",
    "model.add(LeakyReLU())\n",
    "\n",
    "# Dropout of 50%.\n",
    "model.add(Dropout(0.5))"
   ]
  },
  {
   "cell_type": "code",
   "execution_count": 10,
   "metadata": {
    "collapsed": true
   },
   "outputs": [],
   "source": [
    "# What do we need to do in order to pass our data into a fully connected layer?\n",
    "model.add(Flatten())\n",
    "\n",
    "# Now let's fully connect to 64 nodes.\n",
    "model.add(Dense(64))\n",
    "\n",
    "# Normalize outputs from previous layer.\n",
    "model.add(BatchNormalization())\n",
    "\n",
    "# Leaky ReLU activation function.\n",
    "model.add(LeakyReLU())"
   ]
  },
  {
   "cell_type": "code",
   "execution_count": 11,
   "metadata": {
    "collapsed": true
   },
   "outputs": [],
   "source": [
    "# How many outputs should we have?\n",
    "model.add(Dense(2))\n",
    "\n",
    "# What should our activation function be here?\n",
    "model.add(Activation('softmax'))"
   ]
  },
  {
   "cell_type": "code",
   "execution_count": 12,
   "metadata": {},
   "outputs": [
    {
     "name": "stdout",
     "output_type": "stream",
     "text": [
      "Train on 731 samples, validate on 244 samples\n",
      "Epoch 1/100\n",
      "731/731 [==============================] - 1s 2ms/step - loss: 0.9556 - acc: 0.4843 - val_loss: 0.7372 - val_acc: 0.5246\n",
      "Epoch 2/100\n",
      "731/731 [==============================] - 0s 123us/step - loss: 0.8711 - acc: 0.4843 - val_loss: 0.7182 - val_acc: 0.5410\n",
      "Epoch 3/100\n",
      "731/731 [==============================] - 0s 125us/step - loss: 0.7782 - acc: 0.5376 - val_loss: 0.7050 - val_acc: 0.5328\n",
      "Epoch 4/100\n",
      "731/731 [==============================] - 0s 111us/step - loss: 0.7359 - acc: 0.5513 - val_loss: 0.6955 - val_acc: 0.5205\n",
      "Epoch 5/100\n",
      "731/731 [==============================] - 0s 94us/step - loss: 0.7009 - acc: 0.5568 - val_loss: 0.6904 - val_acc: 0.5164\n",
      "Epoch 6/100\n",
      "731/731 [==============================] - 0s 131us/step - loss: 0.6837 - acc: 0.5800 - val_loss: 0.6886 - val_acc: 0.5246\n",
      "Epoch 7/100\n",
      "731/731 [==============================] - 0s 124us/step - loss: 0.6682 - acc: 0.6115 - val_loss: 0.6874 - val_acc: 0.5287\n",
      "Epoch 8/100\n",
      "731/731 [==============================] - 0s 139us/step - loss: 0.6792 - acc: 0.6088 - val_loss: 0.6813 - val_acc: 0.5164\n",
      "Epoch 9/100\n",
      "731/731 [==============================] - 0s 116us/step - loss: 0.6825 - acc: 0.5923 - val_loss: 0.6758 - val_acc: 0.5164\n",
      "Epoch 10/100\n",
      "731/731 [==============================] - 0s 111us/step - loss: 0.6478 - acc: 0.6238 - val_loss: 0.6701 - val_acc: 0.5205\n",
      "Epoch 11/100\n",
      "731/731 [==============================] - 0s 117us/step - loss: 0.6611 - acc: 0.6033 - val_loss: 0.6662 - val_acc: 0.5369\n",
      "Epoch 12/100\n",
      "731/731 [==============================] - 0s 130us/step - loss: 0.6383 - acc: 0.6347 - val_loss: 0.6580 - val_acc: 0.5492\n",
      "Epoch 13/100\n",
      "731/731 [==============================] - 0s 124us/step - loss: 0.6481 - acc: 0.5992 - val_loss: 0.6507 - val_acc: 0.5615\n",
      "Epoch 14/100\n",
      "731/731 [==============================] - 0s 88us/step - loss: 0.6408 - acc: 0.6443 - val_loss: 0.6424 - val_acc: 0.5861\n",
      "Epoch 15/100\n",
      "731/731 [==============================] - 0s 99us/step - loss: 0.6199 - acc: 0.6553 - val_loss: 0.6365 - val_acc: 0.6066\n",
      "Epoch 16/100\n",
      "731/731 [==============================] - 0s 120us/step - loss: 0.6234 - acc: 0.6621 - val_loss: 0.6293 - val_acc: 0.6270\n",
      "Epoch 17/100\n",
      "731/731 [==============================] - 0s 97us/step - loss: 0.6115 - acc: 0.6402 - val_loss: 0.6218 - val_acc: 0.6475\n",
      "Epoch 18/100\n",
      "731/731 [==============================] - 0s 116us/step - loss: 0.5987 - acc: 0.6785 - val_loss: 0.6152 - val_acc: 0.6557\n",
      "Epoch 19/100\n",
      "731/731 [==============================] - 0s 124us/step - loss: 0.6013 - acc: 0.6895 - val_loss: 0.6102 - val_acc: 0.6598\n",
      "Epoch 20/100\n",
      "731/731 [==============================] - 0s 120us/step - loss: 0.5836 - acc: 0.6826 - val_loss: 0.6063 - val_acc: 0.6680\n",
      "Epoch 21/100\n",
      "731/731 [==============================] - 0s 128us/step - loss: 0.5959 - acc: 0.6826 - val_loss: 0.6049 - val_acc: 0.6721\n",
      "Epoch 22/100\n",
      "731/731 [==============================] - 0s 142us/step - loss: 0.6063 - acc: 0.6758 - val_loss: 0.6000 - val_acc: 0.6844\n",
      "Epoch 23/100\n",
      "731/731 [==============================] - 0s 150us/step - loss: 0.5756 - acc: 0.6785 - val_loss: 0.5935 - val_acc: 0.6803\n",
      "Epoch 24/100\n",
      "731/731 [==============================] - 0s 131us/step - loss: 0.6103 - acc: 0.6676 - val_loss: 0.5860 - val_acc: 0.6967\n",
      "Epoch 25/100\n",
      "731/731 [==============================] - 0s 101us/step - loss: 0.5678 - acc: 0.6949 - val_loss: 0.5785 - val_acc: 0.7049\n",
      "Epoch 26/100\n",
      "731/731 [==============================] - 0s 116us/step - loss: 0.5527 - acc: 0.7182 - val_loss: 0.5700 - val_acc: 0.7008\n",
      "Epoch 27/100\n",
      "731/731 [==============================] - 0s 125us/step - loss: 0.5507 - acc: 0.7456 - val_loss: 0.5638 - val_acc: 0.7172\n",
      "Epoch 28/100\n",
      "731/731 [==============================] - 0s 115us/step - loss: 0.5521 - acc: 0.7086 - val_loss: 0.5584 - val_acc: 0.7131\n",
      "Epoch 29/100\n",
      "731/731 [==============================] - 0s 121us/step - loss: 0.5805 - acc: 0.6949 - val_loss: 0.5554 - val_acc: 0.6967\n",
      "Epoch 30/100\n",
      "731/731 [==============================] - 0s 104us/step - loss: 0.5530 - acc: 0.7319 - val_loss: 0.5553 - val_acc: 0.6926\n",
      "Epoch 31/100\n",
      "731/731 [==============================] - 0s 142us/step - loss: 0.5619 - acc: 0.7305 - val_loss: 0.5553 - val_acc: 0.7008\n",
      "Epoch 32/100\n",
      "731/731 [==============================] - 0s 136us/step - loss: 0.5656 - acc: 0.7059 - val_loss: 0.5524 - val_acc: 0.6967\n",
      "Epoch 33/100\n",
      "731/731 [==============================] - 0s 135us/step - loss: 0.5732 - acc: 0.6867 - val_loss: 0.5475 - val_acc: 0.7008\n",
      "Epoch 34/100\n",
      "731/731 [==============================] - 0s 113us/step - loss: 0.5514 - acc: 0.7223 - val_loss: 0.5439 - val_acc: 0.7049\n",
      "Epoch 35/100\n",
      "731/731 [==============================] - 0s 125us/step - loss: 0.5355 - acc: 0.7319 - val_loss: 0.5423 - val_acc: 0.6967\n",
      "Epoch 36/100\n",
      "731/731 [==============================] - 0s 90us/step - loss: 0.5707 - acc: 0.7004 - val_loss: 0.5432 - val_acc: 0.7049\n",
      "Epoch 37/100\n",
      "731/731 [==============================] - 0s 110us/step - loss: 0.5565 - acc: 0.7059 - val_loss: 0.5456 - val_acc: 0.7131\n",
      "Epoch 38/100\n",
      "731/731 [==============================] - 0s 122us/step - loss: 0.5297 - acc: 0.7332 - val_loss: 0.5492 - val_acc: 0.7008\n",
      "Epoch 39/100\n",
      "731/731 [==============================] - 0s 88us/step - loss: 0.5550 - acc: 0.7387 - val_loss: 0.5489 - val_acc: 0.6803\n",
      "Epoch 40/100\n",
      "731/731 [==============================] - 0s 87us/step - loss: 0.5283 - acc: 0.7278 - val_loss: 0.5440 - val_acc: 0.6926\n",
      "Epoch 41/100\n",
      "731/731 [==============================] - 0s 96us/step - loss: 0.5478 - acc: 0.6963 - val_loss: 0.5353 - val_acc: 0.6926\n",
      "Epoch 42/100\n",
      "731/731 [==============================] - 0s 97us/step - loss: 0.5158 - acc: 0.7442 - val_loss: 0.5296 - val_acc: 0.7008\n",
      "Epoch 43/100\n",
      "731/731 [==============================] - 0s 81us/step - loss: 0.5172 - acc: 0.7729 - val_loss: 0.5253 - val_acc: 0.7131\n",
      "Epoch 44/100\n",
      "731/731 [==============================] - 0s 143us/step - loss: 0.5191 - acc: 0.7387 - val_loss: 0.5245 - val_acc: 0.7131\n",
      "Epoch 45/100\n",
      "731/731 [==============================] - 0s 114us/step - loss: 0.5112 - acc: 0.7428 - val_loss: 0.5257 - val_acc: 0.7090\n",
      "Epoch 46/100\n",
      "731/731 [==============================] - 0s 103us/step - loss: 0.5265 - acc: 0.7373 - val_loss: 0.5248 - val_acc: 0.7049\n",
      "Epoch 47/100\n",
      "731/731 [==============================] - 0s 97us/step - loss: 0.5067 - acc: 0.7415 - val_loss: 0.5268 - val_acc: 0.7008\n",
      "Epoch 48/100\n",
      "731/731 [==============================] - 0s 98us/step - loss: 0.5236 - acc: 0.7524 - val_loss: 0.5309 - val_acc: 0.6762\n",
      "Epoch 49/100\n",
      "731/731 [==============================] - 0s 98us/step - loss: 0.5036 - acc: 0.7647 - val_loss: 0.5283 - val_acc: 0.6885\n",
      "Epoch 50/100\n",
      "731/731 [==============================] - 0s 88us/step - loss: 0.5242 - acc: 0.7360 - val_loss: 0.5235 - val_acc: 0.6967\n",
      "Epoch 51/100\n",
      "731/731 [==============================] - 0s 91us/step - loss: 0.5079 - acc: 0.7469 - val_loss: 0.5176 - val_acc: 0.7008\n",
      "Epoch 52/100\n",
      "731/731 [==============================] - 0s 101us/step - loss: 0.5063 - acc: 0.7456 - val_loss: 0.5185 - val_acc: 0.7090\n",
      "Epoch 53/100\n",
      "731/731 [==============================] - 0s 99us/step - loss: 0.4995 - acc: 0.7633 - val_loss: 0.5186 - val_acc: 0.7049\n",
      "Epoch 54/100\n",
      "731/731 [==============================] - 0s 124us/step - loss: 0.5070 - acc: 0.7620 - val_loss: 0.5150 - val_acc: 0.7049\n",
      "Epoch 55/100\n",
      "731/731 [==============================] - 0s 118us/step - loss: 0.5055 - acc: 0.7497 - val_loss: 0.5153 - val_acc: 0.7131\n",
      "Epoch 56/100\n",
      "731/731 [==============================] - 0s 125us/step - loss: 0.4819 - acc: 0.7661 - val_loss: 0.5146 - val_acc: 0.7213\n",
      "Epoch 57/100\n",
      "731/731 [==============================] - 0s 193us/step - loss: 0.5106 - acc: 0.7469 - val_loss: 0.5155 - val_acc: 0.7254\n",
      "Epoch 58/100\n",
      "731/731 [==============================] - 0s 121us/step - loss: 0.5038 - acc: 0.7319 - val_loss: 0.5154 - val_acc: 0.7090\n",
      "Epoch 59/100\n",
      "731/731 [==============================] - 0s 102us/step - loss: 0.5017 - acc: 0.7579 - val_loss: 0.5127 - val_acc: 0.7172\n",
      "Epoch 60/100\n",
      "731/731 [==============================] - 0s 96us/step - loss: 0.5027 - acc: 0.7702 - val_loss: 0.5124 - val_acc: 0.7295\n",
      "Epoch 61/100\n",
      "731/731 [==============================] - 0s 103us/step - loss: 0.5180 - acc: 0.7401 - val_loss: 0.5123 - val_acc: 0.7295\n",
      "Epoch 62/100\n",
      "731/731 [==============================] - 0s 100us/step - loss: 0.5170 - acc: 0.7647 - val_loss: 0.5103 - val_acc: 0.7377\n",
      "Epoch 63/100\n",
      "731/731 [==============================] - 0s 89us/step - loss: 0.4909 - acc: 0.7579 - val_loss: 0.5105 - val_acc: 0.7336\n",
      "Epoch 64/100\n",
      "731/731 [==============================] - 0s 148us/step - loss: 0.4884 - acc: 0.7852 - val_loss: 0.5123 - val_acc: 0.7377\n",
      "Epoch 65/100\n",
      "731/731 [==============================] - 0s 154us/step - loss: 0.5048 - acc: 0.7661 - val_loss: 0.5165 - val_acc: 0.7172\n",
      "Epoch 66/100\n",
      "731/731 [==============================] - 0s 117us/step - loss: 0.5010 - acc: 0.7497 - val_loss: 0.5194 - val_acc: 0.7172\n",
      "Epoch 67/100\n",
      "731/731 [==============================] - 0s 119us/step - loss: 0.4882 - acc: 0.7592 - val_loss: 0.5195 - val_acc: 0.7295\n",
      "Epoch 68/100\n",
      "731/731 [==============================] - 0s 109us/step - loss: 0.4856 - acc: 0.7592 - val_loss: 0.5186 - val_acc: 0.7131\n",
      "Epoch 69/100\n",
      "731/731 [==============================] - 0s 109us/step - loss: 0.4982 - acc: 0.7428 - val_loss: 0.5160 - val_acc: 0.7254\n",
      "Epoch 70/100\n",
      "731/731 [==============================] - 0s 88us/step - loss: 0.4844 - acc: 0.7647 - val_loss: 0.5147 - val_acc: 0.7295\n",
      "Epoch 71/100\n",
      "731/731 [==============================] - 0s 87us/step - loss: 0.4916 - acc: 0.7538 - val_loss: 0.5140 - val_acc: 0.7459\n",
      "Epoch 72/100\n",
      "731/731 [==============================] - 0s 85us/step - loss: 0.5189 - acc: 0.7756 - val_loss: 0.5122 - val_acc: 0.7295\n",
      "Epoch 73/100\n",
      "731/731 [==============================] - 0s 92us/step - loss: 0.4991 - acc: 0.7743 - val_loss: 0.5117 - val_acc: 0.7254\n",
      "Epoch 74/100\n",
      "731/731 [==============================] - 0s 90us/step - loss: 0.5039 - acc: 0.7661 - val_loss: 0.5121 - val_acc: 0.7254\n",
      "Epoch 75/100\n",
      "731/731 [==============================] - 0s 86us/step - loss: 0.5053 - acc: 0.7702 - val_loss: 0.5124 - val_acc: 0.7254\n",
      "Epoch 76/100\n",
      "731/731 [==============================] - 0s 94us/step - loss: 0.5091 - acc: 0.7633 - val_loss: 0.5103 - val_acc: 0.7254\n",
      "Epoch 77/100\n",
      "731/731 [==============================] - 0s 106us/step - loss: 0.5020 - acc: 0.7620 - val_loss: 0.5104 - val_acc: 0.7336\n",
      "Epoch 78/100\n",
      "731/731 [==============================] - 0s 107us/step - loss: 0.4877 - acc: 0.7661 - val_loss: 0.5119 - val_acc: 0.7377\n",
      "Epoch 79/100\n",
      "731/731 [==============================] - 0s 126us/step - loss: 0.4842 - acc: 0.7674 - val_loss: 0.5138 - val_acc: 0.7213\n",
      "Epoch 80/100\n",
      "731/731 [==============================] - 0s 112us/step - loss: 0.4957 - acc: 0.7715 - val_loss: 0.5141 - val_acc: 0.7336\n",
      "Epoch 81/100\n",
      "731/731 [==============================] - 0s 103us/step - loss: 0.4838 - acc: 0.7756 - val_loss: 0.5109 - val_acc: 0.7418\n",
      "Epoch 82/100\n",
      "731/731 [==============================] - 0s 115us/step - loss: 0.4936 - acc: 0.7647 - val_loss: 0.5088 - val_acc: 0.7377\n",
      "Epoch 83/100\n",
      "731/731 [==============================] - 0s 105us/step - loss: 0.4816 - acc: 0.7715 - val_loss: 0.5090 - val_acc: 0.7213\n",
      "Epoch 84/100\n",
      "731/731 [==============================] - 0s 108us/step - loss: 0.4738 - acc: 0.7647 - val_loss: 0.5103 - val_acc: 0.7172\n",
      "Epoch 85/100\n",
      "731/731 [==============================] - 0s 95us/step - loss: 0.4695 - acc: 0.7921 - val_loss: 0.5119 - val_acc: 0.7213\n",
      "Epoch 86/100\n",
      "731/731 [==============================] - 0s 101us/step - loss: 0.5008 - acc: 0.7661 - val_loss: 0.5137 - val_acc: 0.7213\n",
      "Epoch 87/100\n",
      "731/731 [==============================] - 0s 102us/step - loss: 0.4850 - acc: 0.7715 - val_loss: 0.5153 - val_acc: 0.7213\n",
      "Epoch 88/100\n",
      "731/731 [==============================] - 0s 112us/step - loss: 0.4824 - acc: 0.7633 - val_loss: 0.5153 - val_acc: 0.7172\n",
      "Epoch 89/100\n",
      "731/731 [==============================] - 0s 114us/step - loss: 0.4766 - acc: 0.7743 - val_loss: 0.5151 - val_acc: 0.7131\n",
      "Epoch 90/100\n",
      "731/731 [==============================] - 0s 110us/step - loss: 0.4626 - acc: 0.7729 - val_loss: 0.5172 - val_acc: 0.7049\n",
      "Epoch 91/100\n",
      "731/731 [==============================] - 0s 125us/step - loss: 0.4708 - acc: 0.7784 - val_loss: 0.5196 - val_acc: 0.7131\n",
      "Epoch 92/100\n",
      "731/731 [==============================] - 0s 117us/step - loss: 0.4837 - acc: 0.7784 - val_loss: 0.5215 - val_acc: 0.7172\n",
      "Epoch 93/100\n",
      "731/731 [==============================] - 0s 126us/step - loss: 0.4704 - acc: 0.7811 - val_loss: 0.5217 - val_acc: 0.7008\n",
      "Epoch 94/100\n",
      "731/731 [==============================] - 0s 112us/step - loss: 0.4757 - acc: 0.7702 - val_loss: 0.5219 - val_acc: 0.7049\n",
      "Epoch 95/100\n",
      "731/731 [==============================] - 0s 116us/step - loss: 0.4668 - acc: 0.7921 - val_loss: 0.5222 - val_acc: 0.7090\n",
      "Epoch 96/100\n",
      "731/731 [==============================] - 0s 112us/step - loss: 0.4840 - acc: 0.7715 - val_loss: 0.5239 - val_acc: 0.7090\n",
      "Epoch 97/100\n",
      "731/731 [==============================] - 0s 116us/step - loss: 0.4657 - acc: 0.7839 - val_loss: 0.5206 - val_acc: 0.7090\n",
      "Epoch 98/100\n",
      "731/731 [==============================] - 0s 112us/step - loss: 0.4970 - acc: 0.7770 - val_loss: 0.5186 - val_acc: 0.7172\n",
      "Epoch 99/100\n",
      "731/731 [==============================] - 0s 119us/step - loss: 0.4653 - acc: 0.7784 - val_loss: 0.5153 - val_acc: 0.7295\n",
      "Epoch 100/100\n",
      "731/731 [==============================] - 0s 105us/step - loss: 0.4788 - acc: 0.7784 - val_loss: 0.5125 - val_acc: 0.7377\n"
     ]
    }
   ],
   "source": [
    "# Compile our model!\n",
    "model.compile(optimizer = 'adam', \n",
    "              loss='categorical_crossentropy',\n",
    "              metrics=['accuracy'])\n",
    "\n",
    "# Save the fit as history.\n",
    "history = model.fit(X_train, Y_train, \n",
    "          epochs = 100, \n",
    "          batch_size = 128, \n",
    "          verbose=1, \n",
    "          validation_data=(X_test, Y_test),\n",
    "          shuffle=True)"
   ]
  },
  {
   "cell_type": "code",
   "execution_count": 13,
   "metadata": {
    "collapsed": true
   },
   "outputs": [],
   "source": [
    "# Make predictions.\n",
    "pred = model.predict(np.array(X_test))"
   ]
  },
  {
   "cell_type": "code",
   "execution_count": 14,
   "metadata": {},
   "outputs": [
    {
     "name": "stdout",
     "output_type": "stream",
     "text": [
      "['TN', 'FP']\n",
      "['FN', 'TP']\n",
      "\n",
      "[[0.35655738 0.15163934]\n",
      " [0.11065574 0.38114754]]\n"
     ]
    }
   ],
   "source": [
    "# Evaluate our model.\n",
    "from sklearn.metrics import confusion_matrix\n",
    "C = confusion_matrix([np.argmax(y) for y in Y_test], [np.argmax(y) for y in pred])\n",
    "\n",
    "print([\"TN\", \"FP\"])\n",
    "print([\"FN\", \"TP\"])\n",
    "print()\n",
    "print(C / C.astype(np.float).sum())"
   ]
  },
  {
   "cell_type": "code",
   "execution_count": 15,
   "metadata": {},
   "outputs": [
    {
     "data": {
      "text/plain": [
       "<Figure size 432x288 with 0 Axes>"
      ]
     },
     "metadata": {},
     "output_type": "display_data"
    },
    {
     "data": {
      "image/png": "[encoded data removed]",
      "text/plain": [
       "<Figure size 432x288 with 1 Axes>"
      ]
     },
     "metadata": {},
     "output_type": "display_data"
    }
   ],
   "source": [
    "# Plot loss over time.\n",
    "plt.figure()\n",
    "plt.plot(history.history['loss'])\n",
    "plt.plot(history.history['val_loss'])\n",
    "plt.title('model loss')\n",
    "plt.ylabel('loss')\n",
    "plt.xlabel('epoch')\n",
    "plt.legend(['train', 'test'], loc='best')\n",
    "plt.show();"
   ]
  },
  {
   "cell_type": "code",
   "execution_count": 16,
   "metadata": {},
   "outputs": [
    {
     "data": {
      "image/png": "[encoded data removed]",
      "text/plain": [
       "<Figure size 432x288 with 1 Axes>"
      ]
     },
     "metadata": {},
     "output_type": "display_data"
    }
   ],
   "source": [
    "# Plot accuracy over time.\n",
    "plt.figure()\n",
    "plt.plot(history.history['acc'])\n",
    "plt.plot(history.history['val_acc'])\n",
    "plt.title('model accuracy')\n",
    "plt.ylabel('accuracy')\n",
    "plt.xlabel('epoch')\n",
    "plt.legend(['train', 'test'], loc='best')\n",
    "plt.show()"
   ]
  },
  {
   "cell_type": "markdown",
   "metadata": {},
   "source": [
    "<details> <summary> How might we improve the performance of this model?\n",
    "</summary>\n",
    "```\n",
    "- Our test error looks as though it's leveled off, but it's possible we're in a local minimum. If so, our model would be suffering from some error due to bias. We can account for that by:\n",
    "    - increasing the number of epochs.\n",
    "    - building a deeper network.\n",
    "    - regularizing less than we are now (perhaps dropout is inflating our bias, for example).\n",
    "    - adding more features!\n",
    "    - If we try these things and our model continually performs worse, then we have evidence that our model is at risk of overfitting, so we wouldn't want to make our model more complex.\n",
    "- We might also return to \"standard\" classification techniques:\n",
    "    - consider changing our threshold for predicting \"yes.\"\n",
    "    - we might want to optimize for specificity or sensitivity.\n",
    "    - luckily our classes look balanced, so no adjustment is needed there.\n",
    "```\n",
    "</details>"
   ]
  },
  {
   "cell_type": "markdown",
   "metadata": {},
   "source": [
    "<details> <summary> What changes would I make to turn this into a regression problem?\n",
    "</summary>\n",
    "```\n",
    "- Instead of predicting Y in {higher, lower}, we want to predict the change in the price, which can *theoretically* be anywhere between negative infinity and positive infinity.\n",
    "    - Change the output layer to only have one node.\n",
    "    - Change the final activation function to be linear.\n",
    "- Note: It'll be easier for us to predict higher versus lower than to predict the exact amount of change in a stock price.\n",
    "```\n",
    "</details>"
   ]
  }
 ],
 "metadata": {
  "kernelspec": {
   "display_name": "Python 3",
   "language": "python",
   "name": "python3"
  },
  "language_info": {
   "codemirror_mode": {
    "name": "ipython",
    "version": 3
   },
   "file_extension": ".py",
   "mimetype": "text/x-python",
   "name": "python",
   "nbconvert_exporter": "python",
   "pygments_lexer": "ipython3",
   "version": "3.6.5"
  }
 },
 "nbformat": 4,
 "nbformat_minor": 2
}
