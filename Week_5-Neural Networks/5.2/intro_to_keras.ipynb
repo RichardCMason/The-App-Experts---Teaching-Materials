{
 "cells": [
  {
   "cell_type": "markdown",
   "metadata": {},
   "source": [
    "\n",
    "- Describe the basic `keras` workflow.\n",
    "- Train regression and classification neural networks using `keras`"
   ]
  },
  {
   "cell_type": "markdown",
   "metadata": {},
   "source": [
    "**Overview**\n",
    "\n",
    "`keras` is a convenience layer over `tensorflow`.  Let's review the workflow we had yesterday in `tensorflow`:\n",
    "\n",
    "1. Load the data.\n",
    "2. Data cleaning/munging, feature engineering (will not do today)\n",
    "3. Make test/train splits. (Should we use cross validation?)\n",
    "4. Standardize the data.\n",
    "5. Build the computational graph for the neural network.\n",
    "6. Train the network using gradient descent a.k.a. back propogation.\n",
    "7. Evaluate performance and iterate.\n",
    "\n",
    "The \"big\" steps were 5 and 6.\n",
    "\n",
    "- 5 Build the network by creating linked `dense` layers.\n",
    "- 6 Iterate over epochs (and possibly batches), explicitly calling on the session to execute a \"training op\"\n",
    "\n",
    "In `keras` these to steps are simplified.\n",
    "\n",
    "- 5 Add layers to a \"model\".\n",
    "- 6 Compile and fit the model. (as little as 2 lines of code!)\n",
    "\n",
    "---\n",
    "\n",
    "**Regardless of the tool that you are using**, keep in mind the following concepts:\n",
    "\n",
    "- What will your network topology (number of hidden layers and units per layer) be?\n",
    "- What activation function will you use for the hidden layers?\n",
    "- Based on your model, how many units will be in your input and output layers?\n",
    "- Based on your model, what will the activation function on your output layer be?\n",
    "- What will your loss function be?\n",
    "- What optimizer will you use for the gradient descent/backpropogation?"
   ]
  },
  {
   "cell_type": "markdown",
   "metadata": {},
   "source": [
    "## Regression Model"
   ]
  },
  {
   "cell_type": "code",
   "execution_count": 93,
   "metadata": {
    "collapsed": true
   },
   "outputs": [],
   "source": [
    "from sklearn.datasets import load_diabetes\n",
    "import matplotlib.pyplot as plt\n",
    "\n",
    "%matplotlib inline"
   ]
  },
  {
   "cell_type": "code",
   "execution_count": 94,
   "metadata": {},
   "outputs": [
    {
     "name": "stdout",
     "output_type": "stream",
     "text": [
      "Diabetes dataset\n",
      "================\n",
      "\n",
      "Notes\n",
      "-----\n",
      "\n",
      "Ten baseline variables, age, sex, body mass index, average blood\n",
      "pressure, and six blood serum measurements were obtained for each of n =\n",
      "442 diabetes patients, as well as the response of interest, a\n",
      "quantitative measure of disease progression one year after baseline.\n",
      "\n",
      "Data Set Characteristics:\n",
      "\n",
      "  :Number of Instances: 442\n",
      "\n",
      "  :Number of Attributes: First 10 columns are numeric predictive values\n",
      "\n",
      "  :Target: Column 11 is a quantitative measure of disease progression one year after baseline\n",
      "\n",
      "  :Attributes:\n",
      "    :Age:\n",
      "    :Sex:\n",
      "    :Body mass index:\n",
      "    :Average blood pressure:\n",
      "    :S1:\n",
      "    :S2:\n",
      "    :S3:\n",
      "    :S4:\n",
      "    :S5:\n",
      "    :S6:\n",
      "\n",
      "Note: Each of these 10 feature variables have been mean centered and scaled by the standard deviation times `n_samples` (i.e. the sum of squares of each column totals 1).\n",
      "\n",
      "Source URL:\n",
      "http://www4.stat.ncsu.edu/~boos/var.select/diabetes.html\n",
      "\n",
      "For more information see:\n",
      "Bradley Efron, Trevor Hastie, Iain Johnstone and Robert Tibshirani (2004) \"Least Angle Regression,\" Annals of Statistics (with discussion), 407-499.\n",
      "(http://web.stanford.edu/~hastie/Papers/LARS/LeastAngle_2002.pdf)\n",
      "\n"
     ]
    }
   ],
   "source": [
    "data = load_diabetes()\n",
    "print(data.DESCR)"
   ]
  },
  {
   "cell_type": "code",
   "execution_count": 95,
   "metadata": {},
   "outputs": [
    {
     "data": {
      "text/plain": [
       "(array([38., 80., 68., 62., 50., 41., 38., 42., 17.,  6.]),\n",
       " array([ 25. ,  57.1,  89.2, 121.3, 153.4, 185.5, 217.6, 249.7, 281.8,\n",
       "        313.9, 346. ]),\n",
       " <a list of 10 Patch objects>)"
      ]
     },
     "execution_count": 95,
     "metadata": {},
     "output_type": "execute_result"
    },
    {
     "data": {
      "image/png": "[encoded data removed]",
      "text/plain": [
       "<matplotlib.figure.Figure at 0x1a2fb1e9b0>"
      ]
     },
     "metadata": {},
     "output_type": "display_data"
    }
   ],
   "source": [
    "plt.hist(data.target)"
   ]
  },
  {
   "cell_type": "markdown",
   "metadata": {},
   "source": [
    "Note that the data matrix (i.e., input features) are stored in `data.data`; the target values are stored in `data.target`.\n",
    "\n",
    "To prepare your data...\n",
    "\n",
    "1. Split your data into train and test sets.\n",
    "2. Standardize your data.\n",
    "\n",
    "> Note that the description indicate that these data have already been scaled.  Let's go through the motions and scale explicitly here, since you typically will _not_ have someone else scaling your data for you.  Hey, **your're** the data scientist!"
   ]
  },
  {
   "cell_type": "code",
   "execution_count": 96,
   "metadata": {},
   "outputs": [
    {
     "data": {
      "text/plain": [
       "(331, 10)"
      ]
     },
     "execution_count": 96,
     "metadata": {},
     "output_type": "execute_result"
    }
   ],
   "source": [
    "from sklearn.model_selection import train_test_split\n",
    "from sklearn.preprocessing import StandardScaler\n",
    "\n",
    "X_train, X_test, y_train, y_test = train_test_split(data.data, data.target)\n",
    "\n",
    "ss = StandardScaler()\n",
    "X_train = ss.fit_transform(X_train)\n",
    "X_test = ss.transform(X_test)\n",
    "\n",
    "X_train.shape"
   ]
  },
  {
   "cell_type": "code",
   "execution_count": 97,
   "metadata": {
    "collapsed": true
   },
   "outputs": [],
   "source": [
    "from keras.models import Sequential\n",
    "from keras.layers import Dense"
   ]
  },
  {
   "cell_type": "code",
   "execution_count": 29,
   "metadata": {
    "collapsed": true
   },
   "outputs": [],
   "source": [
    "model = Sequential()"
   ]
  },
  {
   "cell_type": "code",
   "execution_count": 30,
   "metadata": {
    "collapsed": true
   },
   "outputs": [],
   "source": [
    "input_units = X_train.shape[1]\n",
    "hidden_units = input_units\n",
    "\n",
    "model.add(Dense(hidden_units, input_dim=input_units, activation='relu'))\n",
    "model.add(Dense(1))"
   ]
  },
  {
   "cell_type": "code",
   "execution_count": 31,
   "metadata": {
    "collapsed": true
   },
   "outputs": [],
   "source": [
    "from keras.optimizers import Adam\n",
    "\n",
    "#model.compile(loss='mean_squared_error', optimizer='adam')\n",
    "\n",
    "adam = Adam(lr=0.01)\n",
    "model.compile(loss='mean_squared_error', optimizer=adam)"
   ]
  },
  {
   "cell_type": "code",
   "execution_count": 32,
   "metadata": {},
   "outputs": [
    {
     "name": "stdout",
     "output_type": "stream",
     "text": [
      "Train on 331 samples, validate on 111 samples\n",
      "Epoch 1/10\n",
      "331/331 [==============================] - 0s 1ms/step - loss: 29328.7836 - val_loss: 27094.6433\n",
      "Epoch 2/10\n",
      "331/331 [==============================] - 0s 62us/step - loss: 28840.9669 - val_loss: 26537.2202\n",
      "Epoch 3/10\n",
      "331/331 [==============================] - 0s 63us/step - loss: 28246.0317 - val_loss: 25801.9425\n",
      "Epoch 4/10\n",
      "331/331 [==============================] - 0s 67us/step - loss: 27437.8449 - val_loss: 24866.5042\n",
      "Epoch 5/10\n",
      "331/331 [==============================] - 0s 56us/step - loss: 26387.7581 - val_loss: 23708.3348\n",
      "Epoch 6/10\n",
      "331/331 [==============================] - 0s 57us/step - loss: 25185.3638 - val_loss: 22296.7201\n",
      "Epoch 7/10\n",
      "331/331 [==============================] - 0s 54us/step - loss: 23684.6979 - val_loss: 20719.2322\n",
      "Epoch 8/10\n",
      "331/331 [==============================] - 0s 62us/step - loss: 22043.4437 - val_loss: 18982.7087\n",
      "Epoch 9/10\n",
      "331/331 [==============================] - 0s 67us/step - loss: 20244.5107 - val_loss: 17166.2832\n",
      "Epoch 10/10\n",
      "331/331 [==============================] - 0s 61us/step - loss: 18399.9794 - val_loss: 15308.3913\n"
     ]
    },
    {
     "data": {
      "text/plain": [
       "<keras.callbacks.History at 0x1a2ae96f28>"
      ]
     },
     "execution_count": 32,
     "metadata": {},
     "output_type": "execute_result"
    }
   ],
   "source": [
    "model.fit(X_train, y_train, validation_data=(X_test, y_test), \n",
    "          epochs=10, batch_size=None)"
   ]
  },
  {
   "cell_type": "markdown",
   "metadata": {},
   "source": [
    "## Binary Classification"
   ]
  },
  {
   "cell_type": "code",
   "execution_count": 33,
   "metadata": {
    "collapsed": true
   },
   "outputs": [],
   "source": [
    "from sklearn.datasets import load_breast_cancer"
   ]
  },
  {
   "cell_type": "code",
   "execution_count": 48,
   "metadata": {},
   "outputs": [
    {
     "data": {
      "text/plain": [
       "(426, 30)"
      ]
     },
     "execution_count": 48,
     "metadata": {},
     "output_type": "execute_result"
    }
   ],
   "source": [
    "data = load_breast_cancer()\n",
    "\n",
    "X_train, X_test, y_train, y_test = train_test_split(data.data, data.target)\n",
    "\n",
    "y_train = y_train*-1 + 1\n",
    "y_test = y_test*-1 + 1\n",
    "\n",
    "ss = StandardScaler()\n",
    "X_train = ss.fit_transform(X_train)\n",
    "X_test = ss.transform(X_test)\n",
    "\n",
    "X_train.shape"
   ]
  },
  {
   "cell_type": "code",
   "execution_count": 64,
   "metadata": {
    "collapsed": true
   },
   "outputs": [],
   "source": [
    "model = Sequential()\n",
    "\n",
    "n_input = X_train.shape[1]\n",
    "n_hidden = n_input\n",
    "\n",
    "model.add(Dense(n_hidden, input_dim=n_input, activation='relu'))\n",
    "model.add(Dense(1, activation='sigmoid'))"
   ]
  },
  {
   "cell_type": "code",
   "execution_count": 65,
   "metadata": {
    "collapsed": true
   },
   "outputs": [],
   "source": [
    "model.compile(loss='binary_crossentropy', optimizer='adam')"
   ]
  },
  {
   "cell_type": "code",
   "execution_count": 66,
   "metadata": {
    "collapsed": true
   },
   "outputs": [],
   "source": [
    "history = model.fit(X_train, y_train, validation_data=(X_test, y_test), \n",
    "              epochs=100, batch_size=None, verbose=0)"
   ]
  },
  {
   "cell_type": "code",
   "execution_count": 67,
   "metadata": {},
   "outputs": [
    {
     "data": {
      "text/plain": [
       "[<matplotlib.lines.Line2D at 0x1a2d719cc0>]"
      ]
     },
     "execution_count": 67,
     "metadata": {},
     "output_type": "execute_result"
    },
    {
     "data": {
      "image/png": "[encoded data removed]",
      "text/plain": [
       "<matplotlib.figure.Figure at 0x1a2d719b70>"
      ]
     },
     "metadata": {},
     "output_type": "display_data"
    }
   ],
   "source": [
    "train_loss = history.history['loss']\n",
    "test_loss = history.history['val_loss']\n",
    "plt.plot(train_loss, label='Training loss')\n",
    "plt.plot(test_loss, label='Testing loss')"
   ]
  },
  {
   "cell_type": "code",
   "execution_count": 52,
   "metadata": {},
   "outputs": [
    {
     "data": {
      "text/plain": [
       "array([[0.92900413],\n",
       "       [0.9964259 ],\n",
       "       [0.02867264],\n",
       "       [0.98321646],\n",
       "       [0.16529997],\n",
       "       [0.15859506],\n",
       "       [0.99926597],\n",
       "       [0.0484082 ],\n",
       "       [0.999438  ],\n",
       "       [0.02060333],\n",
       "       [0.31216264],\n",
       "       [0.77459913],\n",
       "       [0.0169151 ],\n",
       "       [0.85980725],\n",
       "       [0.98298705],\n",
       "       [0.05519833],\n",
       "       [0.04788474],\n",
       "       [0.07193275],\n",
       "       [0.98623395],\n",
       "       [0.99936205],\n",
       "       [0.01519812],\n",
       "       [0.01591475],\n",
       "       [0.73180324],\n",
       "       [0.8626274 ],\n",
       "       [0.01101013],\n",
       "       [0.02336749],\n",
       "       [0.02640323],\n",
       "       [0.10453156],\n",
       "       [0.9968874 ],\n",
       "       [0.23975293],\n",
       "       [0.01097879],\n",
       "       [0.30213377],\n",
       "       [0.9631282 ],\n",
       "       [0.07899531],\n",
       "       [0.03255795],\n",
       "       [0.06211685],\n",
       "       [0.75959647],\n",
       "       [0.99258727],\n",
       "       [0.9915872 ],\n",
       "       [0.9820655 ],\n",
       "       [0.07709561],\n",
       "       [0.8887719 ],\n",
       "       [0.08101358],\n",
       "       [0.07074103],\n",
       "       [0.9470742 ],\n",
       "       [0.3246475 ],\n",
       "       [0.00793783],\n",
       "       [0.54502064],\n",
       "       [0.09091946],\n",
       "       [0.05817823],\n",
       "       [0.90467536],\n",
       "       [0.2772488 ],\n",
       "       [0.00130098],\n",
       "       [0.99426913],\n",
       "       [0.09435924],\n",
       "       [0.02468899],\n",
       "       [0.17431967],\n",
       "       [0.0108232 ],\n",
       "       [0.43548012],\n",
       "       [0.44597602],\n",
       "       [0.11275364],\n",
       "       [0.29813918],\n",
       "       [0.15943159],\n",
       "       [0.00385003],\n",
       "       [0.0147522 ],\n",
       "       [0.03743109],\n",
       "       [0.10156398],\n",
       "       [0.01187033],\n",
       "       [0.01520144],\n",
       "       [0.002636  ],\n",
       "       [0.00460798],\n",
       "       [0.33474156],\n",
       "       [0.99749845],\n",
       "       [0.9944899 ],\n",
       "       [0.04331171],\n",
       "       [0.04386188],\n",
       "       [0.05037384],\n",
       "       [0.21969049],\n",
       "       [0.88373876],\n",
       "       [0.0477644 ],\n",
       "       [0.061989  ],\n",
       "       [0.10374672],\n",
       "       [0.07963617],\n",
       "       [0.9824995 ],\n",
       "       [0.03201652],\n",
       "       [0.41841233],\n",
       "       [0.03875387],\n",
       "       [0.20750627],\n",
       "       [0.00318164],\n",
       "       [0.8311404 ],\n",
       "       [0.05499214],\n",
       "       [0.06427275],\n",
       "       [0.009853  ],\n",
       "       [0.07965585],\n",
       "       [0.00319101],\n",
       "       [0.00102228],\n",
       "       [0.9999964 ],\n",
       "       [0.03840647],\n",
       "       [0.00871125],\n",
       "       [0.9049705 ],\n",
       "       [0.9116876 ],\n",
       "       [0.00402159],\n",
       "       [0.98413646],\n",
       "       [0.9539153 ],\n",
       "       [0.01071133],\n",
       "       [0.01921732],\n",
       "       [0.04951261],\n",
       "       [0.03145139],\n",
       "       [0.20929885],\n",
       "       [0.05046378],\n",
       "       [0.05060013],\n",
       "       [0.9998301 ],\n",
       "       [0.00284944],\n",
       "       [0.03130247],\n",
       "       [0.84750766],\n",
       "       [0.00852719],\n",
       "       [0.02526661],\n",
       "       [0.13195355],\n",
       "       [0.4337462 ],\n",
       "       [0.00342406],\n",
       "       [0.9999757 ],\n",
       "       [0.08807635],\n",
       "       [0.07217871],\n",
       "       [0.99981993],\n",
       "       [0.5241907 ],\n",
       "       [0.01631871],\n",
       "       [0.01980489],\n",
       "       [0.77540195],\n",
       "       [0.01997126],\n",
       "       [0.9981932 ],\n",
       "       [0.95277864],\n",
       "       [0.5400326 ],\n",
       "       [0.00674812],\n",
       "       [0.22907117],\n",
       "       [0.39703646],\n",
       "       [0.0170397 ],\n",
       "       [0.99718106],\n",
       "       [0.9544901 ],\n",
       "       [0.00533565],\n",
       "       [0.09594402],\n",
       "       [0.09674881],\n",
       "       [0.02013397],\n",
       "       [0.27649927]], dtype=float32)"
      ]
     },
     "execution_count": 52,
     "metadata": {},
     "output_type": "execute_result"
    }
   ],
   "source": [
    "model.predict(X_test)"
   ]
  },
  {
   "cell_type": "markdown",
   "metadata": {},
   "source": [
    "## Multi-Class Classification"
   ]
  },
  {
   "cell_type": "code",
   "execution_count": 98,
   "metadata": {
    "collapsed": true
   },
   "outputs": [],
   "source": [
    "from sklearn.datasets import load_iris\n",
    "from keras.utils import to_categorical"
   ]
  },
  {
   "cell_type": "code",
   "execution_count": 99,
   "metadata": {},
   "outputs": [
    {
     "name": "stdout",
     "output_type": "stream",
     "text": [
      "(112, 4)\n",
      "(112, 3)\n"
     ]
    }
   ],
   "source": [
    "data = load_iris()\n",
    "\n",
    "X_train, X_test, y_train, y_test = train_test_split(data.data, data.target)\n",
    "\n",
    "ss = StandardScaler()\n",
    "X_train = ss.fit_transform(X_train)\n",
    "X_test = ss.transform(X_test)\n",
    "\n",
    "y_train = to_categorical(y_train)\n",
    "y_test = to_categorical(y_test)\n",
    "\n",
    "print(X_train.shape)\n",
    "print(y_train.shape)"
   ]
  },
  {
   "cell_type": "code",
   "execution_count": 100,
   "metadata": {},
   "outputs": [
    {
     "data": {
      "text/plain": [
       "array([0., 1.])"
      ]
     },
     "execution_count": 100,
     "metadata": {},
     "output_type": "execute_result"
    }
   ],
   "source": [
    "import numpy as np\n",
    "np.unique(y_train)"
   ]
  },
  {
   "cell_type": "code",
   "execution_count": 101,
   "metadata": {
    "collapsed": true
   },
   "outputs": [],
   "source": [
    "model = Sequential()\n",
    "\n",
    "n_input = X_train.shape[1]\n",
    "n_hidden = n_input\n",
    "n_output = 3\n",
    "\n",
    "model.add(Dense(n_hidden, input_dim=n_input, activation='relu'))\n",
    "model.add(Dense(n_output, activation='softmax'))"
   ]
  },
  {
   "cell_type": "code",
   "execution_count": 102,
   "metadata": {
    "collapsed": true
   },
   "outputs": [],
   "source": [
    "model.compile(loss='categorical_crossentropy', optimizer='adam', metrics=['accuracy'])"
   ]
  },
  {
   "cell_type": "code",
   "execution_count": 103,
   "metadata": {
    "collapsed": true
   },
   "outputs": [],
   "source": [
    "history = model.fit(X_train, y_train, validation_data=(X_test, y_test), \n",
    "                    epochs=400, batch_size=None, verbose=0)"
   ]
  },
  {
   "cell_type": "code",
   "execution_count": 105,
   "metadata": {},
   "outputs": [
    {
     "data": {
      "text/plain": [
       "[<matplotlib.lines.Line2D at 0x1a303b69b0>]"
      ]
     },
     "execution_count": 105,
     "metadata": {},
     "output_type": "execute_result"
    },
    {
     "data": {
      "image/png": "[encoded data removed]",
      "text/plain": [
       "<matplotlib.figure.Figure at 0x1a3017bc50>"
      ]
     },
     "metadata": {},
     "output_type": "display_data"
    }
   ],
   "source": [
    "plt.plot(history.history['acc'])"
   ]
  },
  {
   "cell_type": "code",
   "execution_count": 107,
   "metadata": {},
   "outputs": [
    {
     "data": {
      "text/plain": [
       "0.9642857142857143"
      ]
     },
     "execution_count": 107,
     "metadata": {},
     "output_type": "execute_result"
    }
   ],
   "source": [
    "history.history['acc'][-1]"
   ]
  },
  {
   "cell_type": "code",
   "execution_count": 86,
   "metadata": {},
   "outputs": [
    {
     "data": {
      "text/plain": [
       "<matplotlib.legend.Legend at 0x1a2f3169e8>"
      ]
     },
     "execution_count": 86,
     "metadata": {},
     "output_type": "execute_result"
    },
    {
     "data": {
      "image/png": "[encoded data removed]",
      "text/plain": [
       "<matplotlib.figure.Figure at 0x1a2f2e5400>"
      ]
     },
     "metadata": {},
     "output_type": "display_data"
    }
   ],
   "source": [
    "train_loss = history.history['loss']\n",
    "test_loss = history.history['val_loss']\n",
    "plt.plot(train_loss, label='Training loss')\n",
    "plt.plot(test_loss, label='Testing loss')\n",
    "plt.legend()"
   ]
  },
  {
   "cell_type": "code",
   "execution_count": null,
   "metadata": {
    "collapsed": true
   },
   "outputs": [],
   "source": []
  }
 ],
 "metadata": {
  "kernelspec": {
   "display_name": "Python 3",
   "language": "python",
   "name": "python3"
  },
  "language_info": {
   "codemirror_mode": {
    "name": "ipython",
    "version": 3
   },
   "file_extension": ".py",
   "mimetype": "text/x-python",
   "name": "python",
   "nbconvert_exporter": "python",
   "pygments_lexer": "ipython3",
   "version": "3.6.5"
  }
 },
 "nbformat": 4,
 "nbformat_minor": 2
}
