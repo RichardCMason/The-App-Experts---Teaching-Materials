{
 "cells": [
  {
   "cell_type": "markdown",
   "metadata": {},
   "source": [
    "<img src=\"Screen Shot 2019-01-23 at 2.17.23 PM.png\">"
   ]
  },
  {
   "cell_type": "markdown",
   "metadata": {},
   "source": [
    "1.) Which point on the figure is equal to $f(0)$?"
   ]
  },
  {
   "cell_type": "markdown",
   "metadata": {},
   "source": [
    "A: It is clear from the figure that $f(0) = p$, i.e. when $f(x)$ crosses the y-axis "
   ]
  },
  {
   "cell_type": "markdown",
   "metadata": {},
   "source": [
    "2.) Consider the following expression: $\\frac{f(x + h) - f(h)}{h}$.  What is this equivalent to, in terms of figure 1?"
   ]
  },
  {
   "cell_type": "markdown",
   "metadata": {},
   "source": [
    "A: In this figure, it correspond to the line $g(x)$"
   ]
  },
  {
   "cell_type": "markdown",
   "metadata": {},
   "source": [
    "3.) The function $g(x)$ is a line, so it is of the form $mx + b$.  What information about $f(x)$ can we take from this?"
   ]
  },
  {
   "cell_type": "markdown",
   "metadata": {},
   "source": [
    "A: We can know the slope, or average rate of change, of $f(x)$ between the points $x$ and $x+h$ in the figure"
   ]
  },
  {
   "cell_type": "markdown",
   "metadata": {},
   "source": [
    "4.) The functions $g(x)$ and $u(x)$ are both lines, so let $g(x) = mx + b$ and $u(x) = nx + c$, what is $f'(s)$"
   ]
  },
  {
   "cell_type": "markdown",
   "metadata": {},
   "source": [
    "A: $u(x)$ is the tangent line of $f(x)$ at $x = s$, so $f'(s)$ will be equal to the slope of the tangent line, which in this case, will just be n.  So $f'(s) = nx + c$"
   ]
  },
  {
   "cell_type": "markdown",
   "metadata": {},
   "source": [
    "5.) Which point marked on the figure represents a potential optimum?"
   ]
  },
  {
   "cell_type": "markdown",
   "metadata": {},
   "source": [
    "A: $p$"
   ]
  },
  {
   "cell_type": "markdown",
   "metadata": {},
   "source": [
    "6.) is $f''(s)$ equal to 0, greater than 0, or less than 0?"
   ]
  },
  {
   "cell_type": "markdown",
   "metadata": {},
   "source": [
    "A: less is 0"
   ]
  },
  {
   "cell_type": "markdown",
   "metadata": {},
   "source": [
    "For questions 7-24, consider the following matrices and vectors.\n",
    "\n",
    "$A = \\begin{bmatrix}  \n",
    "    6 & 8 & 6 & 7 \\\\       \n",
    "    5 & 3 & 0 & 9 \\\\\n",
    "    7 & 7 & 1 & 4 \\\\\n",
    "    2 & 5 & 5 & 1 \n",
    "    \\end{bmatrix}$ \n",
    "     \n",
    "$B = \\begin{bmatrix} \n",
    "    5 & 2 & 0 & 9 & 9 \\\\ \n",
    "    1 & 9 & 6 & 1 & 1 \\\\\n",
    "    5 & 2 & 0 & 2 & 5 \\\\\n",
    "    0 & 1 & 7 & 4 & 7\n",
    "    \\end{bmatrix}$\n",
    "    \n",
    "$u = \\begin{bmatrix}\n",
    "     3 \\\\\n",
    "     7 \\\\\n",
    "     -6 \\\\\n",
    "     9 \n",
    "     \\end{bmatrix}$\n",
    "     \n",
    "$v = \\begin{bmatrix}\n",
    "     1 \\\\\n",
    "     3 \\\\\n",
    "     1 \\\\\n",
    "     4 \n",
    "     \\end{bmatrix}$\n",
    "                     \n",
    "                            \n",
    "   \n",
    "    "
   ]
  },
  {
   "cell_type": "markdown",
   "metadata": {},
   "source": [
    "7.) Evaluate the following expression: $\\sum\\limits_{i=1}^{n} v_{i}$"
   ]
  },
  {
   "cell_type": "markdown",
   "metadata": {},
   "source": [
    "A: $1 + 3 + 1 + 4 = 9$"
   ]
  },
  {
   "cell_type": "markdown",
   "metadata": {},
   "source": [
    "8.) Evaluate the following expression: $\\sum\\limits_{i=1}^{n} v^2_{i}$"
   ]
  },
  {
   "cell_type": "markdown",
   "metadata": {},
   "source": [
    "A: 1 + 9 + 1 + 16 = 27"
   ]
  },
  {
   "cell_type": "markdown",
   "metadata": {},
   "source": [
    "9.) What are the dimensions of the matrix product $AB$"
   ]
  },
  {
   "cell_type": "markdown",
   "metadata": {},
   "source": [
    "A: Since A is 4x4 and B is 4x5, the product of $AB$ will be 4x5.  "
   ]
  },
  {
   "cell_type": "markdown",
   "metadata": {},
   "source": [
    "10.) What are the dimensions of the matrix product $BA$"
   ]
  },
  {
   "cell_type": "markdown",
   "metadata": {},
   "source": [
    "A: The product is undefined"
   ]
  },
  {
   "cell_type": "markdown",
   "metadata": {},
   "source": [
    "11.) What are the dimensions of the product $Av$"
   ]
  },
  {
   "cell_type": "markdown",
   "metadata": {},
   "source": [
    "A: Since A is 4x4 and v is 4x1, the product $Av$ will be 4x1"
   ]
  },
  {
   "cell_type": "markdown",
   "metadata": {},
   "source": [
    "12.) What are the dimensions of the product $u^Tv$"
   ]
  },
  {
   "cell_type": "markdown",
   "metadata": {},
   "source": [
    "A: since the dimensions of $u^T$ are 1x4, and the dimensions of $v$ are 4x1, the product $u^Tv$ will have dimensions 1x1, or a scalar"
   ]
  },
  {
   "cell_type": "markdown",
   "metadata": {},
   "source": [
    "13.) What are the dimensions of the product $uv^T$"
   ]
  },
  {
   "cell_type": "markdown",
   "metadata": {},
   "source": [
    "A: 4x4"
   ]
  },
  {
   "cell_type": "code",
   "execution_count": 1,
   "metadata": {},
   "outputs": [
    {
     "data": {
      "text/plain": [
       "16"
      ]
     },
     "execution_count": 1,
     "metadata": {},
     "output_type": "execute_result"
    }
   ],
   "source": [
    "#14.) A: \n",
    "5 + 2 + 0 + 9  "
   ]
  },
  {
   "cell_type": "code",
   "execution_count": 2,
   "metadata": {},
   "outputs": [
    {
     "data": {
      "text/plain": [
       "23"
      ]
     },
     "execution_count": 2,
     "metadata": {},
     "output_type": "execute_result"
    }
   ],
   "source": [
    "#15.) A: \n",
    "8 + 3 + 7 + 5"
   ]
  },
  {
   "cell_type": "code",
   "execution_count": 4,
   "metadata": {},
   "outputs": [],
   "source": [
    "#16.) \n",
    "import numpy as np"
   ]
  },
  {
   "cell_type": "code",
   "execution_count": 5,
   "metadata": {},
   "outputs": [],
   "source": [
    "A = np.array([[6,8,6,7], [5,3,0,9], [7,7,1,4], [2,5,5,1]])\n",
    "B = np.array([[5,2,0,9,9], [1,9,6,1,1], [5,2,0,2,5], [0,1,7,4,7]])"
   ]
  },
  {
   "cell_type": "code",
   "execution_count": 7,
   "metadata": {},
   "outputs": [
    {
     "data": {
      "text/plain": [
       "array([[ 68, 103,  97, 102, 141],\n",
       "       [ 28,  46,  81,  84, 111],\n",
       "       [ 47,  83,  70,  88, 103],\n",
       "       [ 40,  60,  37,  37,  55]])"
      ]
     },
     "execution_count": 7,
     "metadata": {},
     "output_type": "execute_result"
    }
   ],
   "source": [
    "np.matmul(A,B)"
   ]
  },
  {
   "cell_type": "markdown",
   "metadata": {},
   "source": [
    "So the value of $AB_{2,1}$ is 28"
   ]
  },
  {
   "cell_type": "markdown",
   "metadata": {},
   "source": [
    "17.) 5x4"
   ]
  },
  {
   "cell_type": "markdown",
   "metadata": {},
   "source": [
    "18.) 5"
   ]
  },
  {
   "cell_type": "markdown",
   "metadata": {},
   "source": [
    "19.) 25"
   ]
  },
  {
   "cell_type": "markdown",
   "metadata": {},
   "source": [
    "20.) linearly dependent, 5 vectors in the space of R^4 must be lienarly dependent"
   ]
  },
  {
   "cell_type": "markdown",
   "metadata": {},
   "source": [
    "21.) Yes, if the vectors are all linearly independent, then they will span R^4"
   ]
  },
  {
   "cell_type": "markdown",
   "metadata": {},
   "source": [
    "22.) Since A is a 4x4 matrix, it's identity, $I$, will be $I = \\begin{bmatrix}\n",
    "1 & 0 & 0 & 0 \\\\\n",
    "0 & 1 & 0 & 0 \\\\\n",
    "0 & 0 & 1 & 0 \\\\\n",
    "0 & 0 & 0 & 1 \n",
    "\\end{bmatrix}$\n",
    "    "
   ]
  },
  {
   "cell_type": "markdown",
   "metadata": {},
   "source": [
    "23.) Since B is a 4x5 matrix, it's identity, $I$, will be $I= \\begin{bmatrix}\n",
    "1 & 0 & 0 & 0 & 0 \\\\\n",
    "0 & 1 & 0 & 0 & 0 \\\\\n",
    "0 & 0 & 1 & 0 & 0 \\\\\n",
    "0 & 0 & 0 & 1 & 0 \\\\\n",
    "0 & 0 & 0 & 0 & 1 \n",
    "\\end{bmatrix}$\n"
   ]
  },
  {
   "cell_type": "markdown",
   "metadata": {},
   "source": [
    "24.) C will be the inverse of A if A is nonsingular, or if the determinant is nonzero"
   ]
  },
  {
   "cell_type": "markdown",
   "metadata": {},
   "source": [
    "25.) Yes"
   ]
  },
  {
   "cell_type": "markdown",
   "metadata": {},
   "source": [
    "26.) The linear system would be: $$4c + 6a = 18,000$$ and $$c + a = 3,700$$ where c is number of children and a is number of adults.  The coefficient matrix $A$ will be $$A = \\begin{bmatrix}\n",
    "4 & 6 \\\\\n",
    "1 & 1 \n",
    "\\end{bmatrix}$$\n",
    "and the constant matrix $$b = \\begin{bmatrix}\n",
    "                                18000 \\\\\n",
    "                                3700\n",
    "                                \\end{bmatrix}$$\n",
    "We can then easily solve the equation $Ax = b$"
   ]
  },
  {
   "cell_type": "markdown",
   "metadata": {},
   "source": [
    "27.) We will use bayes theorem: $$P(a|b) = \\frac{P(b|a) P(a)}{P(b)}$$ here, where a = P(p) (the probability of being prescribed pain pills) and b = P(n) (the probability of being addicted to narcotics.  Plugging in the numbers: $$P(a|b) = \\frac{0.08 *  0.1}{0.05}$$ so the probability of being addicted, given that you're prescribed pain pills, is ~ 16%"
   ]
  },
  {
   "cell_type": "code",
   "execution_count": 8,
   "metadata": {},
   "outputs": [
    {
     "name": "stdout",
     "output_type": "stream",
     "text": [
      "Fresno: 0.2688\n",
      "nashville: 0.3784\n",
      "memphis: 0.0675\n",
      "total probability a guitar is electric: 0.7147\n"
     ]
    }
   ],
   "source": [
    "#28.) a.) find the percent of electric guitars by location: Fresno: \n",
    "fresno = .32 * .84\n",
    "print(f'Fresno: {fresno}')\n",
    "nashville = .43 * .88\n",
    "print(f'nashville: {nashville}')\n",
    "memphis = .25 * .27\n",
    "print(f'memphis: {memphis}')\n",
    "total = fresno + nashville + memphis\n",
    "print(f'total probability a guitar is electric: {total}')"
   ]
  },
  {
   "cell_type": "code",
   "execution_count": 9,
   "metadata": {},
   "outputs": [
    {
     "name": "stdout",
     "output_type": "stream",
     "text": [
      "probability randomly chosen guitar is acoustic: 0.29\n",
      "Probability that a randomly chosen acoustic guitar was produced in memphis: 0.64\n"
     ]
    }
   ],
   "source": [
    "#28.) b.)probability acoustic guitar was manufactured in memphis?  \n",
    "# using baye's once more:\n",
    "acoustic = 1 - total\n",
    "print(f'probability randomly chosen guitar is acoustic: {acoustic:.2f}')\n",
    "\n",
    "# p(memphis|acoustic) = (p(acoustic|memphis) * p(memphis))/ p(acoustic)\n",
    "# so:\n",
    "# (p(acoustic|memphis) = .73\n",
    "# p(memphis) = .25\n",
    "\n",
    "# p(acoustic) = acoustic\n",
    "memphis_acoustic = .73 * .25/acoustic\n",
    "print(f'Probability that a randomly chosen acoustic guitar was produced in memphis: {memphis_acoustic:.2f}')"
   ]
  },
  {
   "cell_type": "markdown",
   "metadata": {},
   "source": [
    "29.) a.) The probability will be 0.81, because the $p(x\\cap y) = p(x)p(y)$\n",
    "b.) the Likelihood is given by $$\\mathcal{L}(\\mu, \\sigma^2)| x_1, \\ldots, x_n) = \n",
    "-\\frac{n}{\\sqrt{2\\pi\\sigma^2}}e^{-\\frac{1}{2\\sigma^2}\\sum\\limits_{j=1}^{n} (x_j - \\mu)^2}$$"
   ]
  },
  {
   "cell_type": "markdown",
   "metadata": {},
   "source": [
    "30.) the probability of $P(A\\cap B) = P(B)P(A|B)$\n",
    "\n",
    "and $P(A\\cap B) = P(A)P(B|A)$\n",
    "\n",
    "so $P(A)P(B|A) = P(B)P(A|B)$\n",
    "\n",
    "hence $P(A|B) = \\frac{P(B|A)P(A)}{P(B)}$"
   ]
  },
  {
   "cell_type": "markdown",
   "metadata": {},
   "source": [
    "31.) a.) $P(S) = \\frac{38}{12 + 38 + 22}$ ="
   ]
  },
  {
   "cell_type": "code",
   "execution_count": 15,
   "metadata": {},
   "outputs": [],
   "source": [
    "p_sheep = 38/(12 + 38 + 22)"
   ]
  },
  {
   "cell_type": "code",
   "execution_count": 16,
   "metadata": {},
   "outputs": [],
   "source": [
    "not_sheep = 1 - p_sheep\n",
    "p_pig = 22/(12 + 38 + 22)"
   ]
  },
  {
   "cell_type": "code",
   "execution_count": 17,
   "metadata": {},
   "outputs": [
    {
     "data": {
      "text/plain": [
       "0.3055555555555556"
      ]
     },
     "execution_count": 17,
     "metadata": {},
     "output_type": "execute_result"
    }
   ],
   "source": [
    "p_pig"
   ]
  },
  {
   "cell_type": "code",
   "execution_count": 18,
   "metadata": {},
   "outputs": [
    {
     "data": {
      "text/plain": [
       "0.4722222222222222"
      ]
     },
     "execution_count": 18,
     "metadata": {},
     "output_type": "execute_result"
    }
   ],
   "source": [
    "not_sheep"
   ]
  },
  {
   "cell_type": "code",
   "execution_count": 19,
   "metadata": {},
   "outputs": [
    {
     "name": "stdout",
     "output_type": "stream",
     "text": [
      "probability an animal is a pig, given it's not a sheep: 0.65\n"
     ]
    }
   ],
   "source": [
    "p_pig_notsheep = (1 * p_pig)/not_sheep\n",
    "print(f\"probability an animal is a pig, given it's not a sheep: {p_pig_notsheep:.2f}\")"
   ]
  },
  {
   "cell_type": "code",
   "execution_count": null,
   "metadata": {},
   "outputs": [],
   "source": []
  }
 ],
 "metadata": {
  "kernelspec": {
   "display_name": "Python 3",
   "language": "python",
   "name": "python3"
  },
  "language_info": {
   "codemirror_mode": {
    "name": "ipython",
    "version": 3
   },
   "file_extension": ".py",
   "mimetype": "text/x-python",
   "name": "python",
   "nbconvert_exporter": "python",
   "pygments_lexer": "ipython3",
   "version": "3.7.0"
  }
 },
 "nbformat": 4,
 "nbformat_minor": 2
}
