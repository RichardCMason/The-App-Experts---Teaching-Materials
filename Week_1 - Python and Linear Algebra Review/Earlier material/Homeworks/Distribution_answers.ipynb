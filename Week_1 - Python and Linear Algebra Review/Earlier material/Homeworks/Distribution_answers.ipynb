{
 "cells": [
  {
   "cell_type": "markdown",
   "metadata": {},
   "source": []
  },
  {
   "cell_type": "markdown",
   "metadata": {},
   "source": [
    "# 1.03 Distributions Lab\n",
    "\n",
    "**NOTE**: Double-click on the cells that say \"Type _Markdown_ and LaTeX: $\\alpha^2$\" to open a Markdown cell in which you can enter text without needing to put comments in code cells!"
   ]
  },
  {
   "cell_type": "markdown",
   "metadata": {},
   "source": [
    "#### 1. Define distribution."
   ]
  },
  {
   "cell_type": "markdown",
   "metadata": {},
   "source": [
    "a set of values a random variable could possibly have"
   ]
  },
  {
   "cell_type": "markdown",
   "metadata": {},
   "source": [
    "#### 2. When summarizing the distribution of a variable, what are the three aspects of distributions we want to make sure we summarize?"
   ]
  },
  {
   "cell_type": "markdown",
   "metadata": {},
   "source": [
    "center, spread, shape.  E.g. mean, standard deviation, skew"
   ]
  },
  {
   "cell_type": "markdown",
   "metadata": {},
   "source": [
    "#### 3. What is a Bernoulli random variable?"
   ]
  },
  {
   "cell_type": "markdown",
   "metadata": {},
   "source": [
    "A variable with two outcomes and a fixed probability of success, p"
   ]
  },
  {
   "cell_type": "markdown",
   "metadata": {},
   "source": [
    "#### 4. What is the relationship between the Bernoulli and Binomial distributions?"
   ]
  },
  {
   "cell_type": "markdown",
   "metadata": {},
   "source": [
    "the binomial distribution is the sum of successes of a bernoulli distributed random variable with a fixed number of trials n, and probability of success, p"
   ]
  },
  {
   "cell_type": "markdown",
   "metadata": {},
   "source": [
    "#### 5. What is the relationship between the Binomial and Poisson distributions?"
   ]
  },
  {
   "cell_type": "markdown",
   "metadata": {},
   "source": [
    "the Poisson distribution is the limit of a binomial distribution as the number of trails, n, approaches infinity and the probability of success, p, approaches 0.  It has lambda= the rate of an even occurring"
   ]
  },
  {
   "cell_type": "markdown",
   "metadata": {},
   "source": [
    "#### 6. What is the relationship between the Exponential and Geometric distributions?"
   ]
  },
  {
   "cell_type": "markdown",
   "metadata": {},
   "source": [
    "The geometric distribution measures the number of trails until one success.  The exponential distribution measures the amount of time until one success.  In this way, the geometric and exponential distributions can somewhat be thought of the inverses of the binomial and poisson distributions, respectively"
   ]
  },
  {
   "cell_type": "markdown",
   "metadata": {},
   "source": [
    "#### 7. Let's walk through the Central Limit Theorem.\n",
    "\n",
    "a) Let's create a population of 10,000 observations from a Normal distribution with mean 500 and standard deviation 100. Save this as `population`. Before this step, however, set your seed to 45 using using `random.seed(45)`."
   ]
  },
  {
   "cell_type": "code",
   "execution_count": 1,
   "metadata": {},
   "outputs": [],
   "source": [
    "import numpy as np\n",
    "import random as random\n",
    "import seaborn as sns\n",
    "import scipy.stats as stats\n",
    "import warnings\n",
    "import matplotlib.pyplot as plt\n",
    "warnings.filterwarnings('ignore')"
   ]
  },
  {
   "cell_type": "code",
   "execution_count": 2,
   "metadata": {},
   "outputs": [],
   "source": [
    "np.random.seed(45)\n",
    "\n"
   ]
  },
  {
   "cell_type": "code",
   "execution_count": 3,
   "metadata": {},
   "outputs": [],
   "source": [
    "population = np.random.normal(500, 100, 10000)\n"
   ]
  },
  {
   "cell_type": "code",
   "execution_count": null,
   "metadata": {},
   "outputs": [],
   "source": []
  },
  {
   "cell_type": "markdown",
   "metadata": {},
   "source": [
    "b) Generate 1,000 random samples of size 5 from `population`. Calculate the mean of each of these samples (so you should have 1,000 means) and put them in a list `norm_samples_5`."
   ]
  },
  {
   "cell_type": "code",
   "execution_count": 9,
   "metadata": {
    "scrolled": true
   },
   "outputs": [
    {
     "data": {
      "text/plain": [
       "[array([506.23728948, 437.32998102, 490.80984532, 404.30556811,\n",
       "        501.58479003, 436.8876303 , 451.50601702, 485.63424937,\n",
       "        465.10089702, 526.47807458, 514.12468822, 496.53602007,\n",
       "        459.91589641, 558.19021842, 530.5485395 , 532.26680242,\n",
       "        473.19541816, 530.56455581, 549.93132933, 506.23959199,\n",
       "        573.27874795, 508.87784711, 516.65257872, 531.1350355 ,\n",
       "        505.18797651, 434.80189601, 564.63305419, 480.17245401,\n",
       "        393.11028883, 478.01122639, 526.73076432, 534.5088551 ,\n",
       "        570.73314444, 502.41467468, 509.39890183, 491.14392453,\n",
       "        441.42704079, 460.67037131, 426.13677536, 505.92478665,\n",
       "        527.47818723, 444.85847859, 460.40975369, 526.64392434,\n",
       "        516.2036558 , 507.18673268, 568.22017103, 541.74256585,\n",
       "        518.40488289, 557.30778973, 547.17741074, 423.91617466,\n",
       "        444.01219029, 440.66123904, 525.57737   , 532.40790334,\n",
       "        439.33927238, 503.21367488, 574.25090592, 478.40047309,\n",
       "        543.90658957, 600.4438909 , 393.03132039, 508.72022196,\n",
       "        518.41036117, 565.21217039, 495.53862098, 456.00776861,\n",
       "        530.61217734, 491.20473508, 440.54243111, 520.66796441,\n",
       "        452.47412948, 460.57594537, 520.04025066, 481.34108208,\n",
       "        506.51164709, 472.5240475 , 543.98547057, 483.01238615,\n",
       "        489.00174116, 566.57477506, 519.71262323, 539.09575086,\n",
       "        499.37570276, 541.63457823, 550.15386683, 496.9012028 ,\n",
       "        430.04532984, 500.81251493, 499.3913267 , 502.10858009,\n",
       "        500.04700426, 496.99960253, 536.24121268, 501.17000872,\n",
       "        518.82481687, 478.53868253, 444.2893025 , 481.65462489,\n",
       "        556.9589686 , 501.09555973, 477.73307442, 555.59905792,\n",
       "        420.6874389 , 501.01293497, 499.52683304, 491.97957215,\n",
       "        496.2024228 , 434.92593364, 442.50092111, 489.29419407,\n",
       "        453.97818178, 469.00908406, 476.25399861, 503.32852775,\n",
       "        513.08374132, 495.74422012, 480.53247206, 404.18279207,\n",
       "        542.68199425, 534.76583116, 557.69852944, 518.06510414,\n",
       "        509.15350305, 450.79821646, 448.01057189, 441.45983173,\n",
       "        471.68337636, 493.41684467, 517.11109959, 518.97954174,\n",
       "        527.08527013, 483.68242981, 427.3501071 , 542.1963225 ,\n",
       "        576.39175772, 553.33185335, 475.06339463, 542.5715323 ,\n",
       "        457.56820851, 491.99928401, 425.24847302, 501.7172092 ,\n",
       "        465.84858545, 451.57003951, 561.10658041, 575.25722156,\n",
       "        551.26627246, 421.81429397, 501.40088905, 490.42705182,\n",
       "        418.35646764, 451.99428675, 514.08450707, 570.1815084 ,\n",
       "        543.024409  , 547.119014  , 514.42469274, 494.26752757,\n",
       "        528.97154547, 444.42024847, 471.43828457, 557.60420126,\n",
       "        503.87400681, 545.62463249, 531.92096559, 529.70426703,\n",
       "        493.11776816, 504.7870317 , 485.90610472, 460.38311561,\n",
       "        536.53598665, 437.97622413, 483.88638292, 503.34147824,\n",
       "        548.44740761, 513.75898134, 501.20597899, 489.05332257,\n",
       "        479.35938355, 503.29808993, 448.87603043, 577.08805457,\n",
       "        546.51275068, 576.92397972, 483.10684128, 497.41738175,\n",
       "        503.90287253, 532.70461053, 505.76566746, 501.01107518,\n",
       "        495.36856693, 517.87065437, 469.6158858 , 581.32663482,\n",
       "        564.69326054, 573.83486383, 558.66176581, 480.0226839 ,\n",
       "        518.87206599, 439.42217626, 536.46015341, 452.35069844,\n",
       "        478.72784964, 533.18367968, 498.15130981, 546.47174421,\n",
       "        452.41288178, 536.98843487, 564.55396329, 437.05638246,\n",
       "        518.91530342, 484.4286932 , 473.35520848, 554.69451755,\n",
       "        502.9941625 , 526.03602344, 456.06875717, 504.88034214,\n",
       "        545.10562394, 459.88516677, 501.96026437, 490.33750377,\n",
       "        502.12303948, 463.15022088, 514.20646226, 575.32139456,\n",
       "        540.89787367, 570.80807158, 472.83177121, 539.57783557,\n",
       "        426.49210356, 444.25331724, 519.0305358 , 497.91861786,\n",
       "        473.80925757, 534.02878463, 530.99129517, 543.89191004,\n",
       "        580.0357448 , 505.50190599, 514.85930917, 540.73843182,\n",
       "        534.81458095, 502.89690914, 515.43342312, 586.4216771 ,\n",
       "        483.31157384, 438.39785221, 495.73345921, 524.79984317,\n",
       "        462.80443476, 437.37724671, 496.31338883, 547.56771969,\n",
       "        498.4303056 , 519.77770438, 512.0705336 , 520.01712731,\n",
       "        487.12668789, 519.623592  , 494.18282253, 564.8902079 ,\n",
       "        466.43195864, 466.66990754, 456.39604737, 486.42365274,\n",
       "        455.15103287, 569.31041695, 474.97050633, 452.30213996,\n",
       "        482.34260926, 506.85824783, 485.77673097, 513.85960238,\n",
       "        454.55217936, 542.00099446, 468.37806849, 517.23761064,\n",
       "        497.56399142, 497.31934898, 536.26957253, 472.81014465,\n",
       "        536.12058   , 551.66563136, 419.92355602, 456.04471094,\n",
       "        418.24571765, 568.41318874, 493.00748159, 516.87269457,\n",
       "        557.36296583, 471.48216336, 539.79476131, 517.67638247,\n",
       "        475.45115043, 512.73824984, 478.17162991, 571.69387127,\n",
       "        591.51871407, 478.05669259, 427.02712676, 549.35678509,\n",
       "        494.78102449, 492.9286003 , 463.70020111, 514.33564197,\n",
       "        643.93886075, 520.32092659, 510.87646426, 555.3471032 ,\n",
       "        494.55210734, 562.82815531, 560.37807859, 592.16390001,\n",
       "        571.01691913, 414.59625747, 504.37412403, 513.46445091,\n",
       "        477.20777759, 458.23083246, 424.30946673, 484.88310207,\n",
       "        477.78362038, 579.55963568, 456.4464396 , 463.06582388,\n",
       "        516.2988626 , 565.60306848, 504.7612182 , 486.21466232,\n",
       "        528.58693175, 479.40199326, 506.52399404, 482.80838723,\n",
       "        550.5422952 , 439.49367515, 480.06082488, 542.73957159,\n",
       "        461.72355561, 448.21844692, 439.50399319, 468.48277528,\n",
       "        554.31037109, 479.36635942, 399.40901375, 459.4633054 ,\n",
       "        515.37163161, 498.18124867, 404.53222833, 460.9342961 ,\n",
       "        448.74112893, 512.89985148, 441.42624163, 465.79830119,\n",
       "        510.65058796, 524.92142892, 500.10269952, 438.27075896,\n",
       "        526.53457092, 491.77009201, 509.92414604, 494.05172903,\n",
       "        545.94582619, 533.55844828, 461.12658462, 530.65776535,\n",
       "        479.58504024, 580.18623017, 484.31815394, 497.82499667,\n",
       "        533.33586035, 473.88570601, 443.1408717 , 432.8514504 ,\n",
       "        487.31819142, 568.89308367, 531.63422858, 524.17585768,\n",
       "        517.77194757, 544.48948156, 528.45340364, 393.22466436,\n",
       "        483.65450756, 448.82055138, 528.7466699 , 569.75060492,\n",
       "        504.58594777, 477.99830231, 503.17144318, 528.21469643,\n",
       "        516.29440655, 488.27836358, 495.08202069, 497.18189954,\n",
       "        562.48815166, 515.0159645 , 447.59326222, 427.62771142,\n",
       "        457.10732922, 476.50101065, 450.48543401, 391.62291632,\n",
       "        550.76486688, 472.69251195, 490.41809585, 441.51416131,\n",
       "        513.73479642, 518.22275357, 454.78651118, 494.53454044,\n",
       "        447.27373685, 521.92116313, 431.56819403, 607.30205761,\n",
       "        493.97901795, 453.77963689, 467.07329758, 501.88835441,\n",
       "        493.80383673, 488.69600053, 548.26517719, 474.18272877,\n",
       "        484.42979669, 547.1280113 , 487.55222616, 496.02560873,\n",
       "        499.30498282, 445.14671571, 494.50303574, 442.06282153,\n",
       "        553.33149675, 469.49679129, 451.69565124, 503.94200026,\n",
       "        533.49458545, 421.74116009, 427.59864699, 464.0663413 ,\n",
       "        533.83455612, 453.40937282, 431.81038905, 446.56431331,\n",
       "        545.19163287, 471.01103049, 543.91769189, 524.17089642,\n",
       "        515.92506945, 542.04050864, 568.97033774, 506.93053805,\n",
       "        463.47381787, 423.86568352, 473.71671777, 513.7017257 ,\n",
       "        502.05227046, 566.28013225, 431.81308882, 482.67904183,\n",
       "        443.94964138, 529.50137174, 504.23679806, 490.15658301,\n",
       "        545.89140513, 521.57958516, 502.36474072, 472.41299088,\n",
       "        490.0318176 , 492.86111863, 575.74756712, 479.97395946,\n",
       "        524.49197245, 465.99951117, 572.79074109, 449.21843779,\n",
       "        453.04439797, 528.52901889, 451.63137276, 551.46410463,\n",
       "        528.58726267, 547.98115011, 488.99504398, 430.38828649,\n",
       "        434.16714144, 473.66649336, 473.34601322, 573.10281479,\n",
       "        468.21270125, 483.85294551, 535.18432032, 454.63461708,\n",
       "        580.23924556, 479.07532417, 529.06293018, 553.60693009,\n",
       "        511.80108391, 517.21397781, 606.92016371, 399.35351669,\n",
       "        416.41257748, 449.22611544, 536.22840292, 438.9053165 ,\n",
       "        516.08510793, 475.06180841, 555.47696995, 557.47060684,\n",
       "        552.02280761, 536.20540805, 476.77942291, 417.80748327,\n",
       "        477.59901374, 405.89497467, 489.84879799, 442.63048205,\n",
       "        401.38759559, 487.14573582, 452.05968937, 520.44045114,\n",
       "        514.7905039 , 420.82349266, 499.93366214, 441.98207737,\n",
       "        500.7320576 , 449.22994597, 457.82929137, 518.15161172,\n",
       "        528.08167307, 546.04273163, 462.3900199 , 485.08829629,\n",
       "        611.23949222, 470.92201758, 504.79243494, 518.7395188 ,\n",
       "        568.55751607, 522.30810079, 519.40576111, 503.83033573,\n",
       "        494.53558683, 542.29914242, 496.57632497, 479.89734331,\n",
       "        509.22733715, 467.90712455, 468.15844967, 525.67047794,\n",
       "        518.4595306 , 593.24399489, 567.63161299, 447.71363299,\n",
       "        515.39448798, 545.97989469, 552.14551806, 537.87739311,\n",
       "        526.70945556, 522.22002006, 397.88803474, 522.19850675,\n",
       "        492.22924881, 510.3581512 , 463.60343576, 477.55234064,\n",
       "        465.92469145, 546.0134502 , 519.03255463, 446.78127361,\n",
       "        494.98315094, 468.84725365, 511.77655614, 429.66311729,\n",
       "        499.02442651, 413.28981037, 552.92191689, 564.27201036,\n",
       "        437.28071043, 581.76051849, 526.43196117, 528.64312016,\n",
       "        491.49983529, 534.29785238, 520.82181247, 473.11352547,\n",
       "        472.91979727, 371.52274708, 487.81249172, 491.60293996,\n",
       "        547.32787699, 469.22149065, 559.30541562, 552.85381782,\n",
       "        500.82842494, 443.38264708, 474.83309389, 521.31105778,\n",
       "        478.57007021, 549.47431051, 500.66815402, 492.30412641,\n",
       "        386.83095505, 416.35260333, 443.99310108, 491.38889023,\n",
       "        571.59551979, 441.45643442, 495.29186352, 488.74400295,\n",
       "        539.39787905, 411.24898429, 431.8867579 , 542.03778876,\n",
       "        526.28732925, 556.6379094 , 422.59803956, 554.09080873,\n",
       "        536.74297163, 465.52991553, 556.89418941, 450.05157493,\n",
       "        604.27877478, 510.18385408, 511.27558454, 487.73319135,\n",
       "        479.11514832, 475.96732858, 568.74426289, 524.54512992,\n",
       "        461.52004598, 525.96725376, 482.75388906, 468.72293429,\n",
       "        558.20145088, 517.50744612, 556.58821908, 461.53752174,\n",
       "        494.54291032, 523.32073384, 492.55448188, 497.66294612,\n",
       "        548.11010225, 463.30013838, 456.98438618, 530.81464867,\n",
       "        473.91646078, 453.11140295, 536.33232966, 448.99237694,\n",
       "        370.93106824, 457.99406974, 532.70002692, 511.80273528,\n",
       "        529.19147528, 540.3217444 , 475.59906233, 540.08566238,\n",
       "        492.71444516, 463.26478551, 560.94777696, 478.5724277 ,\n",
       "        564.69557214, 493.2253855 , 481.84899731, 485.81028984,\n",
       "        557.27214611, 497.9869794 , 548.30624365, 499.31997816,\n",
       "        463.94124533, 483.07535449, 505.00473666, 454.11855582,\n",
       "        574.65351551, 485.66441797, 419.85628467, 586.44982767,\n",
       "        472.7293984 , 429.60000282, 436.89613407, 387.30602524,\n",
       "        469.48835742, 553.41837547, 529.09322455, 479.81142019,\n",
       "        411.22981987, 507.57682345, 525.65380564, 476.15432089,\n",
       "        552.75501467, 480.79120059, 515.33025392, 508.62341777,\n",
       "        525.85682936, 477.66817789, 496.76503356, 463.99641534,\n",
       "        517.10250826, 487.46228732, 406.45046001, 493.69998731,\n",
       "        495.56897852, 556.13398313, 495.28314147, 531.83925404,\n",
       "        496.92250104, 605.40974007, 481.58930515, 417.04982605,\n",
       "        551.52937849, 566.61824323, 518.5535953 , 474.6205118 ,\n",
       "        432.83761402, 539.49845626, 502.642428  , 530.91359434,\n",
       "        477.95885411, 485.67423576, 501.29976003, 556.55449111,\n",
       "        553.09745927, 518.50308861, 499.0203016 , 426.03524701,\n",
       "        485.34143337, 545.00613412, 494.92685308, 489.5433353 ,\n",
       "        435.87617042, 486.12809955, 465.07840491, 532.55651752,\n",
       "        552.51303524, 599.12982644, 602.22799182, 532.91055571,\n",
       "        493.791707  , 443.12185837, 452.66725785, 470.32198572,\n",
       "        539.25858955, 501.52640855, 515.60921332, 431.60026359,\n",
       "        527.03886039, 565.88617403, 512.77137711, 586.01642167,\n",
       "        522.34830788, 471.57212535, 529.95781255, 464.46946703,\n",
       "        467.69069719, 425.07547773, 460.27520171, 467.88317887,\n",
       "        466.53860502, 518.81767673, 476.09732224, 469.8869778 ,\n",
       "        543.74262915, 523.63410715, 508.10593341, 459.85516256,\n",
       "        475.85508758, 488.48087186, 500.73942268, 460.38641425,\n",
       "        522.78599616, 481.65187145, 394.73443581, 501.95883576,\n",
       "        475.36143613, 547.22867804, 518.29882342, 506.36171541,\n",
       "        480.57995864, 504.42419274, 435.79367813, 482.65467515,\n",
       "        510.92473792, 504.74541202, 515.5860068 , 495.81691795,\n",
       "        573.87116918, 482.18330783, 512.52377315, 475.08324411,\n",
       "        501.93516155, 585.70640684, 476.4707781 , 504.36176331,\n",
       "        465.21199407, 466.7419302 , 495.53012981, 437.17114835,\n",
       "        599.82319928, 554.08543722, 475.89732702, 476.62693563,\n",
       "        487.22921478, 505.34538057, 459.22563908, 491.5707127 ,\n",
       "        560.79633513, 486.72478468, 513.42392226, 585.60481936,\n",
       "        459.55679717, 520.65092151, 487.24695117, 448.53828971,\n",
       "        481.82333544, 474.22038429, 503.61235074, 445.69438772,\n",
       "        398.8334715 , 522.22382139, 591.6395487 , 432.38758054,\n",
       "        493.01182341, 408.71218213, 427.80401957, 568.81133115,\n",
       "        498.41249546, 502.01883227, 472.45211188, 423.64905955,\n",
       "        493.07030428, 528.42246138, 480.50540857, 482.60973028,\n",
       "        460.09505675, 541.39740418, 537.4197196 , 526.61340138,\n",
       "        501.11731459, 540.57086149, 545.35066883, 505.64877122,\n",
       "        467.4954017 , 504.84449577, 549.58630392, 480.18365025,\n",
       "        538.18549934, 527.8358384 , 522.17685169, 477.88867291,\n",
       "        463.25656171, 465.27996316, 496.07879015, 523.1641626 ,\n",
       "        535.90424144, 457.27092408, 534.042936  , 450.21218441,\n",
       "        482.9510233 , 535.14145954, 539.98645401, 509.76512525,\n",
       "        517.19319942, 494.13945326, 492.99093825, 508.8921959 ,\n",
       "        488.5344799 , 512.10048007, 439.11936259, 530.71370892,\n",
       "        545.15725959, 484.59044013, 498.74634951, 441.56031696,\n",
       "        579.59790548, 491.27877014, 455.20052511, 448.76175554,\n",
       "        498.93295279, 481.74903567, 542.72293721, 449.46913098,\n",
       "        506.31782151, 511.5828291 , 564.94471382, 512.62760708,\n",
       "        498.49570539, 551.99804507, 481.55703048, 493.41879746,\n",
       "        553.44548781, 473.92659564, 499.4245521 , 435.12292877,\n",
       "        482.17592019, 496.55283406, 453.05181062, 481.75295933,\n",
       "        514.9801088 , 581.09589624, 533.37565293, 475.07260447,\n",
       "        467.77410251, 537.7445148 , 482.57974885, 515.20743052,\n",
       "        450.11644251, 493.70711345, 511.82301965, 564.04736616,\n",
       "        550.9081195 , 497.51178556, 534.61929326, 458.71534571,\n",
       "        466.9489237 , 555.79724456, 501.80695342, 513.70162253,\n",
       "        491.34330214, 457.38546653, 509.28058242, 511.37589365,\n",
       "        487.52822894, 526.17781036, 448.76631918, 521.16123095,\n",
       "        511.6188742 , 383.65199164, 486.24114955, 458.58033486,\n",
       "        502.65764255, 452.03783331, 506.30628751, 528.38398555,\n",
       "        561.65082147, 411.44429104, 541.28970139, 509.61292191,\n",
       "        462.26523893, 513.94527761, 523.61237436, 526.11133255,\n",
       "        481.60625183, 466.08623654, 539.97075305, 550.22657603,\n",
       "        549.57325557, 529.72311779, 498.34239271, 498.86269347,\n",
       "        549.20042005, 562.37570025, 531.51250348, 457.4936483 ,\n",
       "        488.3293071 , 542.87152217, 545.46237177, 535.31182809,\n",
       "        471.76282887, 517.07760646, 427.3394395 , 481.69107488,\n",
       "        513.09149923, 505.63703644, 548.06511229, 530.92424438,\n",
       "        565.78412988, 462.14023715, 540.27902814, 493.29423682,\n",
       "        478.28560693, 413.94675088, 525.65571418, 513.3885859 ,\n",
       "        390.1225643 , 485.55518125, 518.98973002, 481.41495231,\n",
       "        535.76623163, 442.85318104, 535.16636982, 495.24352886,\n",
       "        470.51220255, 477.13393499, 540.03577784, 484.10692111,\n",
       "        537.16431128, 521.00115929, 572.84848068, 453.46991975,\n",
       "        454.01022129, 479.88567032, 588.37160006, 512.81314784,\n",
       "        521.01306375, 492.27455883, 543.27325324, 450.05459119,\n",
       "        505.04482944, 499.04885966, 503.95255829, 501.16706842])]"
      ]
     },
     "execution_count": 9,
     "metadata": {},
     "output_type": "execute_result"
    }
   ],
   "source": [
    "norm_samples_5 = []\n",
    "norm_samples_5.append((np.random.choice(population, (1000, 5))))\n",
    "\n",
    "norm_samples_5 = [np.mean(i, axis=1) for i in norm_samples_5]\n",
    "norm_samples_5"
   ]
  },
  {
   "cell_type": "code",
   "execution_count": 10,
   "metadata": {},
   "outputs": [],
   "source": [
    "# List comprehension\n",
    "norm_samples_5 = [np.mean(np.random.choice(population,5)) for x in range(1000)]"
   ]
  },
  {
   "cell_type": "markdown",
   "metadata": {},
   "source": [
    "We simulated the sampling distribution of $\\bar{X}$ when we took the mean of 1,000 samples from the population. This isn't exactly what the sampling distribution of $\\bar{X}$ is, but it's close enough for our purposes! \n",
    "\n",
    "(In general, we'd actually take every possible sample of size 5 from our population, but that can get really complicated.)"
   ]
  },
  {
   "cell_type": "markdown",
   "metadata": {},
   "source": [
    "c) Plot `norm_samples_5` **with** a kernel density estimate using `seaborn.distplot`."
   ]
  },
  {
   "cell_type": "code",
   "execution_count": 11,
   "metadata": {},
   "outputs": [
    {
     "data": {
      "text/plain": [
       "<matplotlib.axes._subplots.AxesSubplot at 0x1a1e43eb38>"
      ]
     },
     "execution_count": 11,
     "metadata": {},
     "output_type": "execute_result"
    },
    {
     "data": {
      "image/png": "[encoded data removed]",
      "text/plain": [
       "<Figure size 432x288 with 1 Axes>"
      ]
     },
     "metadata": {
      "needs_background": "light"
     },
     "output_type": "display_data"
    }
   ],
   "source": [
    "sns.distplot(norm_samples_5, kde =True)"
   ]
  },
  {
   "cell_type": "markdown",
   "metadata": {},
   "source": [
    "d) How would you describe the shape of the distribution from c)?"
   ]
  },
  {
   "cell_type": "markdown",
   "metadata": {},
   "source": [
    "normal distribution"
   ]
  },
  {
   "cell_type": "markdown",
   "metadata": {},
   "source": [
    "e) Generate 1,000 random samples of size 50 from `population`. Calculate the mean of each of these samples (so you should have 1,000 means) and put them in a list `norm_samples_50`."
   ]
  },
  {
   "cell_type": "code",
   "execution_count": 13,
   "metadata": {},
   "outputs": [
    {
     "data": {
      "text/plain": [
       "[array([498.1106346 , 527.63937464, 497.65641192, 511.27279054,\n",
       "        500.4672218 , 482.1606241 , 475.38863942, 490.6880732 ,\n",
       "        481.44726019, 483.16820137, 479.99367946, 509.64292803,\n",
       "        495.33051237, 497.37736645, 520.21373871, 492.31481928,\n",
       "        522.39772092, 508.72651687, 494.00310058, 495.4682447 ,\n",
       "        503.10592066, 518.39976905, 491.81156454, 492.35091648,\n",
       "        527.26609843, 481.40776372, 499.42206625, 498.27532852,\n",
       "        502.69937384, 492.54732463, 499.41730629, 500.10435471,\n",
       "        500.17766042, 490.02529665, 504.68662248, 488.78006339,\n",
       "        497.49426935, 501.42364969, 474.27513256, 505.60140094,\n",
       "        524.9469423 , 496.392266  , 488.98897758, 498.89674353,\n",
       "        499.4069439 , 479.12921266, 476.41052304, 506.06994494,\n",
       "        505.60833897, 489.35665395, 469.96147571, 512.78848582,\n",
       "        499.71894917, 517.99607873, 464.0565279 , 507.41833076,\n",
       "        498.8148958 , 498.54461568, 498.41698119, 485.72737269,\n",
       "        506.21382184, 490.71375343, 507.65202418, 520.70286163,\n",
       "        510.43958144, 514.60283218, 520.52581038, 489.532974  ,\n",
       "        509.34595177, 459.73768577, 516.55793385, 500.71623331,\n",
       "        496.11163794, 500.22406086, 518.92820472, 501.18310448,\n",
       "        504.70341547, 511.91539061, 506.76749909, 517.81334892,\n",
       "        505.72457624, 512.30364975, 512.39037241, 481.23233091,\n",
       "        505.43157638, 484.00835846, 488.65231799, 496.18689942,\n",
       "        488.06608423, 484.36760117, 483.42171098, 498.26949927,\n",
       "        497.5104963 , 462.92355805, 502.79984719, 482.58720993,\n",
       "        513.8525542 , 509.94933955, 487.15537213, 507.96310825,\n",
       "        503.83442736, 509.57325107, 503.46354851, 501.29018532,\n",
       "        503.78516136, 516.97123579, 476.99259146, 477.57678436,\n",
       "        524.56394897, 489.78442863, 483.03347234, 503.31483596,\n",
       "        494.06581908, 504.42160855, 494.3254392 , 497.45599165,\n",
       "        492.91476404, 466.96043964, 493.03372331, 507.89199298,\n",
       "        518.456833  , 513.39720191, 505.99040758, 472.52258047,\n",
       "        471.4668441 , 503.47017201, 500.99400572, 484.62448238,\n",
       "        497.36021049, 494.63654088, 496.18307767, 474.9162456 ,\n",
       "        494.63391219, 523.00042841, 496.87145984, 498.32253082,\n",
       "        512.16108613, 495.08753063, 519.89001954, 510.93869532,\n",
       "        502.50303373, 506.71711489, 491.32465198, 485.36357343,\n",
       "        486.07616056, 496.99721391, 512.7787374 , 498.29963635,\n",
       "        527.47965738, 502.52146272, 491.82242579, 486.99794116,\n",
       "        488.29762851, 502.35614849, 504.7937673 , 495.59489367,\n",
       "        501.55943311, 475.48285726, 533.81709797, 498.91552543,\n",
       "        509.50102158, 484.84435488, 487.59701788, 482.84132873,\n",
       "        475.40778472, 502.96816847, 485.68441997, 482.68218112,\n",
       "        492.55791078, 507.26896816, 514.13417201, 520.17684633,\n",
       "        508.453959  , 496.89235087, 534.43482026, 493.33074126,\n",
       "        492.92655672, 479.07218001, 477.84668772, 519.11016194,\n",
       "        502.33015782, 507.34065256, 514.26363653, 510.87463548,\n",
       "        498.29865037, 494.89051667, 472.71701613, 491.65201644,\n",
       "        500.43810476, 493.08441556, 498.0849229 , 519.91658094,\n",
       "        485.46905546, 475.12315311, 515.65248557, 480.34792747,\n",
       "        467.69869436, 492.39379861, 508.60832156, 512.52008806,\n",
       "        520.48813111, 486.26206904, 523.16706503, 513.31850082,\n",
       "        480.00498418, 486.6450781 , 516.01391216, 504.83194509,\n",
       "        512.69098579, 490.5245563 , 476.22604381, 496.54601702,\n",
       "        534.73412055, 505.8753041 , 486.14109624, 499.55266709,\n",
       "        513.06386004, 485.85842539, 491.3461823 , 509.91700323,\n",
       "        501.55165925, 516.54508367, 504.13018135, 484.83246623,\n",
       "        486.94950744, 489.34325627, 474.28629551, 514.99941216,\n",
       "        529.54223832, 518.98027145, 480.64476885, 498.09475175,\n",
       "        470.26906286, 497.77677673, 488.49820665, 540.4088902 ,\n",
       "        485.7916515 , 512.28500203, 508.94865312, 478.96408688,\n",
       "        512.71531112, 483.02001737, 498.42313474, 508.41721953,\n",
       "        520.24384029, 500.2945063 , 483.11653159, 486.7607965 ,\n",
       "        502.83896445, 497.16447011, 497.45224751, 485.50276946,\n",
       "        478.64951935, 514.04888207, 480.48790817, 492.55358785,\n",
       "        480.35223809, 497.04587316, 474.25932244, 482.00280212,\n",
       "        501.76160373, 493.96010928, 486.43551296, 502.34363302,\n",
       "        494.33844113, 488.56258816, 499.18146977, 493.59040802,\n",
       "        478.76318376, 518.21021143, 486.29687995, 499.71890002,\n",
       "        498.25318899, 497.64917311, 501.85624461, 512.80666536,\n",
       "        496.53768283, 509.81017892, 497.60484913, 497.45456828,\n",
       "        502.20077234, 470.02187631, 489.48588132, 494.89482333,\n",
       "        487.44145368, 484.00205749, 492.15278063, 510.44459343,\n",
       "        522.81502457, 521.55556651, 477.61574871, 490.70623367,\n",
       "        510.77002994, 534.77216371, 486.742548  , 514.32869035,\n",
       "        489.24112239, 477.79070352, 483.96876977, 492.79478307,\n",
       "        485.64475128, 512.85621908, 479.84061542, 505.22045291,\n",
       "        484.46133931, 514.66419759, 505.62564687, 509.27801509,\n",
       "        509.09505856, 490.31276174, 487.91092865, 505.97559733,\n",
       "        506.17510606, 493.32794184, 489.02346908, 511.41400284,\n",
       "        497.76275768, 503.92499436, 500.51029029, 511.93834559,\n",
       "        496.48833296, 505.85972881, 492.5682367 , 495.33652584,\n",
       "        494.96914538, 486.90263433, 524.7030423 , 515.29614333,\n",
       "        501.85281944, 503.92196474, 497.65696175, 505.25654853,\n",
       "        518.22091033, 507.29852925, 486.65558922, 516.58965648,\n",
       "        496.10589744, 452.92970416, 515.09877492, 511.19233484,\n",
       "        510.79777735, 511.64358618, 493.95067186, 513.4089704 ,\n",
       "        477.92108589, 509.61179994, 498.58030943, 481.48041104,\n",
       "        499.21234794, 523.73032195, 502.56942711, 502.99277009,\n",
       "        495.35979005, 475.45778321, 498.52559417, 506.65105157,\n",
       "        491.63733516, 499.70647824, 489.22613389, 512.82091744,\n",
       "        518.7464264 , 465.67430936, 496.16289777, 508.23179846,\n",
       "        506.89529591, 474.31602177, 493.75028494, 502.54274998,\n",
       "        514.65417355, 480.95269854, 474.01115388, 511.30390924,\n",
       "        496.04386032, 507.20744726, 509.9684575 , 488.64336253,\n",
       "        530.45263436, 504.1476781 , 519.97687418, 528.33715455,\n",
       "        497.46096332, 493.85154002, 494.37649226, 500.10799826,\n",
       "        496.84144019, 491.64612408, 484.99146922, 516.96877259,\n",
       "        499.71630452, 488.18613521, 537.48191003, 510.03463844,\n",
       "        489.7058421 , 513.99826265, 510.44720316, 508.31181565,\n",
       "        484.06271789, 512.19989042, 507.73198518, 508.54646158,\n",
       "        494.94836143, 488.91443114, 498.92762518, 528.90121441,\n",
       "        483.82521682, 492.7435333 , 495.40152666, 497.06652399,\n",
       "        486.55984035, 514.18500158, 500.09247874, 497.57106754,\n",
       "        497.00476814, 520.96618187, 493.88982467, 520.01488033,\n",
       "        471.86196196, 487.80158786, 495.00982563, 482.28182429,\n",
       "        480.98662722, 497.64874223, 530.15624592, 513.84832722,\n",
       "        493.25281677, 483.97383927, 503.11148426, 495.30468292,\n",
       "        473.08434492, 486.34870766, 487.75197702, 489.4176344 ,\n",
       "        509.96167749, 497.63429366, 506.88022651, 508.67923041,\n",
       "        508.76035306, 511.13670985, 509.0183957 , 506.39579666,\n",
       "        481.66694385, 517.77764364, 487.55812212, 514.08599978,\n",
       "        497.27109945, 473.41960917, 514.20745109, 502.71225381,\n",
       "        484.72095528, 500.83299469, 474.76407305, 485.56629939,\n",
       "        510.77085318, 497.28893747, 507.75343788, 505.33149111,\n",
       "        511.01887419, 513.20191403, 512.57046288, 499.64372479,\n",
       "        499.42279226, 512.24934228, 505.97418399, 483.80437327,\n",
       "        485.52820252, 495.68706663, 502.22781606, 480.46864836,\n",
       "        476.06439324, 496.30178827, 487.13668713, 510.32175711,\n",
       "        497.74196769, 502.58302213, 488.16206033, 522.52298103,\n",
       "        470.0135148 , 517.21274506, 495.46470507, 496.82930156,\n",
       "        517.15609977, 502.71336429, 480.73293698, 489.71215973,\n",
       "        511.8715763 , 499.63596575, 504.79807772, 496.77832963,\n",
       "        507.25752406, 470.98976834, 485.23880315, 501.56188974,\n",
       "        498.68175571, 515.62932043, 515.07470387, 487.24064126,\n",
       "        513.42345387, 520.53717734, 496.41710469, 521.23241939,\n",
       "        491.27466049, 493.05300221, 464.06074223, 515.49088522,\n",
       "        498.5590806 , 500.38374211, 516.59776854, 524.83155106,\n",
       "        501.95470378, 521.71466409, 510.89252642, 501.09851814,\n",
       "        485.97823769, 505.61382434, 466.29129861, 488.30014308,\n",
       "        508.86925506, 497.34396515, 499.02694023, 484.97041898,\n",
       "        508.97455535, 467.40547965, 501.51107366, 508.40593014,\n",
       "        479.32810518, 497.44953135, 491.91860973, 521.79859778,\n",
       "        505.7825261 , 489.71876013, 494.02313897, 482.18786552,\n",
       "        497.43283845, 493.8958891 , 506.48532535, 504.63546076,\n",
       "        490.32427486, 483.88947864, 504.24523419, 485.79347167,\n",
       "        501.60621005, 511.58797819, 501.18431986, 491.88123779,\n",
       "        506.81645863, 502.40253977, 483.71671883, 503.19738332,\n",
       "        492.16170838, 516.96635151, 485.7958164 , 500.64312531,\n",
       "        506.77618585, 484.94615527, 483.60944081, 518.93794194,\n",
       "        507.60112655, 492.10485906, 486.17431653, 512.19737859,\n",
       "        483.23964636, 499.64398277, 496.07988143, 487.59228936,\n",
       "        479.24687635, 518.02996553, 492.0162173 , 486.88472896,\n",
       "        510.52082041, 537.0010969 , 503.15462451, 526.57586616,\n",
       "        504.09250626, 517.30607213, 497.45708776, 501.14224238,\n",
       "        473.83353663, 503.78091178, 491.35279976, 484.89682292,\n",
       "        471.57947535, 486.14098161, 505.69727043, 490.85447591,\n",
       "        477.4807792 , 473.59608919, 495.96038534, 489.83011133,\n",
       "        500.78823339, 503.33677832, 478.22667839, 497.48003461,\n",
       "        488.10842811, 502.84640145, 501.26235979, 487.57126928,\n",
       "        499.5142882 , 497.59687546, 488.12692261, 479.0514788 ,\n",
       "        497.05419893, 486.21581087, 530.67640582, 489.83311544,\n",
       "        504.74425108, 490.86722779, 508.51655805, 513.7147263 ,\n",
       "        491.88467034, 496.30677197, 519.51110118, 509.55373881,\n",
       "        506.18018754, 495.14667726, 506.30275613, 502.55118813,\n",
       "        500.69372319, 482.42170021, 500.63198327, 529.84208579,\n",
       "        519.54836832, 504.68280451, 510.42415603, 524.36588838,\n",
       "        498.17871417, 501.34852444, 518.64191323, 482.30475042,\n",
       "        522.82758319, 495.88606044, 506.20651094, 504.96098047,\n",
       "        499.47999829, 497.53331205, 494.79005596, 470.19501119,\n",
       "        492.12899678, 481.78989771, 509.26189543, 491.01868511,\n",
       "        522.06114618, 509.93572248, 463.72654734, 498.37750809,\n",
       "        498.48622811, 490.78277775, 530.71293923, 498.44939559,\n",
       "        510.0781276 , 484.12747235, 517.74263088, 513.38705648,\n",
       "        505.0549485 , 512.04638385, 508.79254343, 479.39306725,\n",
       "        519.58551003, 509.81499986, 492.86092617, 503.26311246,\n",
       "        492.26557948, 519.14212678, 481.54807179, 486.90137622,\n",
       "        484.24968811, 494.57853153, 505.06539775, 491.25985625,\n",
       "        491.07843676, 510.46222909, 486.80561424, 474.69693997,\n",
       "        471.17276404, 468.35436957, 490.60247265, 504.69813266,\n",
       "        522.82946866, 502.4987343 , 488.12345718, 513.48329951,\n",
       "        516.32685806, 525.02032318, 513.43782735, 484.57657561,\n",
       "        511.16229715, 507.90575085, 499.22499707, 493.25391515,\n",
       "        500.88750986, 497.05628107, 511.1521383 , 500.86737394,\n",
       "        493.45872674, 493.01170912, 497.93323348, 502.56809028,\n",
       "        537.51287158, 503.96397447, 501.78581653, 512.44777668,\n",
       "        504.26931889, 483.15398052, 466.40275988, 497.78462629,\n",
       "        475.62605753, 512.23503016, 483.68829534, 501.78327319,\n",
       "        506.93722905, 507.25501865, 486.99065709, 491.64018376,\n",
       "        486.82532439, 514.19287705, 479.64115253, 503.02811269,\n",
       "        503.35188141, 497.90975359, 490.10698121, 507.58245973,\n",
       "        523.75835823, 504.29883967, 498.75899159, 519.9102224 ,\n",
       "        500.05921102, 496.78333864, 496.57872551, 502.20634454,\n",
       "        518.15425192, 505.2049403 , 466.01033446, 509.39796272,\n",
       "        486.15113419, 483.67633838, 491.9775318 , 499.24018296,\n",
       "        505.34211424, 464.7887928 , 502.52334602, 488.92836575,\n",
       "        489.79648465, 506.21169501, 496.26468097, 478.73124542,\n",
       "        500.05588041, 512.44711615, 505.12421339, 496.75284665,\n",
       "        492.4171491 , 494.68090884, 507.38640837, 486.70793122,\n",
       "        514.52655715, 480.34818416, 493.87816086, 515.15319379,\n",
       "        482.37984997, 509.45536528, 502.75699781, 494.90894856,\n",
       "        476.41538017, 509.98807009, 516.12788462, 515.07085615,\n",
       "        486.78752881, 510.79358635, 512.78207766, 497.93068064,\n",
       "        518.0605456 , 496.90782304, 508.06078828, 493.63050822,\n",
       "        480.36485672, 473.06669713, 496.2607932 , 492.76504511,\n",
       "        492.21404061, 505.56133877, 505.63381647, 501.12869887,\n",
       "        516.19697432, 492.93653466, 490.00213762, 492.9937007 ,\n",
       "        496.59252105, 520.09003786, 503.73172493, 518.51785347,\n",
       "        517.00620619, 497.15169117, 490.61150794, 514.6397499 ,\n",
       "        508.61253497, 490.96869898, 510.41147553, 493.33847663,\n",
       "        488.31795572, 510.57784916, 515.74833898, 493.83865774,\n",
       "        506.08148141, 499.44120426, 502.09811568, 514.91150461,\n",
       "        489.97035059, 468.96920757, 507.13547665, 495.20035522,\n",
       "        509.38903517, 494.97307184, 508.50361837, 514.24263395,\n",
       "        496.12767413, 481.11256479, 504.65535688, 508.75608201,\n",
       "        490.72288335, 508.01656226, 507.58251456, 487.26414287,\n",
       "        513.17008492, 494.17787998, 500.7343216 , 514.01756224,\n",
       "        483.4568031 , 490.53187965, 504.59538162, 490.48093231,\n",
       "        521.58409372, 482.5046242 , 502.80378712, 479.53949203,\n",
       "        496.99301791, 480.19016874, 509.02326275, 500.87922613,\n",
       "        508.98730766, 510.67908673, 519.44471749, 510.42624838,\n",
       "        468.12211436, 501.07791143, 497.41251546, 509.78009934,\n",
       "        510.71733974, 508.18149051, 496.3250793 , 508.07079479,\n",
       "        485.6754751 , 498.35062489, 485.20955891, 479.18409125,\n",
       "        502.217115  , 515.94598938, 481.77671507, 504.02550394,\n",
       "        503.61599904, 476.12697953, 500.28805539, 483.10045539,\n",
       "        501.86848991, 498.66939594, 511.10366533, 494.60483213,\n",
       "        491.24570496, 494.89179525, 527.16931905, 478.90167726,\n",
       "        513.32084568, 487.05356474, 501.25582201, 497.61934947,\n",
       "        509.41288163, 485.92965276, 484.34636244, 491.69745073,\n",
       "        506.71765793, 483.5141368 , 500.49190796, 478.19010631,\n",
       "        503.36630457, 497.75730657, 489.74884464, 482.78358611,\n",
       "        504.21759912, 471.08682279, 511.03833438, 526.83915919,\n",
       "        509.80493468, 511.84553615, 522.08447134, 468.42754556,\n",
       "        485.56179813, 488.70606208, 517.69107626, 497.76940735,\n",
       "        500.65153923, 518.66776992, 503.0330117 , 472.00054834,\n",
       "        479.92342645, 473.40447228, 508.35215915, 530.57590377,\n",
       "        520.15273439, 491.74342665, 485.44273245, 496.17266214,\n",
       "        493.95339094, 497.23373406, 493.13674821, 491.85021081,\n",
       "        507.205792  , 500.58911121, 519.06839466, 512.09437662,\n",
       "        503.48565594, 508.31590909, 508.65124401, 501.06163574,\n",
       "        486.34702214, 493.51350894, 517.3715879 , 500.15306539,\n",
       "        445.57212297, 496.282532  , 498.24225285, 501.71946624,\n",
       "        516.44258207, 473.48279402, 479.950093  , 521.67244795,\n",
       "        499.61642981, 484.95928704, 493.58740118, 492.64215914,\n",
       "        496.03528835, 483.53345765, 482.17760717, 514.9119586 ,\n",
       "        490.89440075, 505.16645209, 490.05340866, 499.86851755,\n",
       "        513.32562444, 520.04930519, 492.11646911, 501.7688432 ,\n",
       "        498.56441229, 488.79063473, 484.48134565, 489.5795629 ,\n",
       "        503.13819077, 493.88303957, 502.00545667, 515.55442188,\n",
       "        490.23293068, 478.97178489, 492.6581257 , 500.49046232,\n",
       "        523.87159472, 512.71072824, 521.45944053, 485.54377244,\n",
       "        471.6528462 , 484.31215224, 471.60953734, 487.95228165,\n",
       "        527.01369335, 488.88278341, 513.73610754, 472.31114895,\n",
       "        490.97065795, 508.22239582, 503.044866  , 499.94146497,\n",
       "        497.49908179, 504.76460444, 498.58904959, 499.32764602,\n",
       "        506.7551588 , 518.16284104, 513.43836227, 509.5604114 ,\n",
       "        538.41110053, 497.45026304, 483.44691519, 497.71547055,\n",
       "        491.4246868 , 517.95523873, 478.12828534, 499.77293195,\n",
       "        512.16187313, 499.32172118, 490.78612322, 518.58516573,\n",
       "        503.27037061, 486.14372642, 490.6346046 , 490.23138239])]"
      ]
     },
     "execution_count": 13,
     "metadata": {},
     "output_type": "execute_result"
    }
   ],
   "source": [
    "norm_samples_50 = []\n",
    "norm_samples_50.append(np.random.choice(population, (1000, 50)))\n",
    "norm_samples_50 = [np.mean(i, axis =1) for i in norm_samples_50]\n",
    "norm_samples_50"
   ]
  },
  {
   "cell_type": "markdown",
   "metadata": {},
   "source": [
    "f) Plot `norm_samples_50` **with** a kernel density estimate using `seaborn.distplot`."
   ]
  },
  {
   "cell_type": "code",
   "execution_count": 14,
   "metadata": {},
   "outputs": [
    {
     "data": {
      "text/plain": [
       "<matplotlib.axes._subplots.AxesSubplot at 0x1a1e74c860>"
      ]
     },
     "execution_count": 14,
     "metadata": {},
     "output_type": "execute_result"
    },
    {
     "data": {
      "image/png": "[encoded data removed]",
      "text/plain": [
       "<Figure size 432x288 with 1 Axes>"
      ]
     },
     "metadata": {
      "needs_background": "light"
     },
     "output_type": "display_data"
    }
   ],
   "source": [
    "sns.distplot(norm_samples_50, kde =True)"
   ]
  },
  {
   "cell_type": "markdown",
   "metadata": {},
   "source": [
    "g) How would you describe the shape of the distribution from f), relative to the distribution you generated for part c)?"
   ]
  },
  {
   "cell_type": "markdown",
   "metadata": {},
   "source": [
    "wider, better approximates the normal distribution"
   ]
  },
  {
   "cell_type": "code",
   "execution_count": 14,
   "metadata": {},
   "outputs": [],
   "source": [
    "#len([np.random.choice([np.random.poisson(2),np.random.poisson(10),np.random.exponential(5)]) for i in range(10000)])"
   ]
  },
  {
   "cell_type": "code",
   "execution_count": 15,
   "metadata": {},
   "outputs": [],
   "source": [
    "#np.random.poisson(10)"
   ]
  },
  {
   "cell_type": "code",
   "execution_count": 16,
   "metadata": {},
   "outputs": [],
   "source": [
    "#np.random.choice(np.random.poisson(2), np.random.poisson(10), np.random.exponential(5), )"
   ]
  },
  {
   "cell_type": "markdown",
   "metadata": {},
   "source": [
    "h) Run this command:\n",
    "\n",
    "```python\n",
    "random.seed(46)\n",
    "population_2 = [np.random.choice([np.random.poisson(2),np.random.poisson(10),np.random.exponential(5)]) for i in range(10000)]\n",
    "\n",
    "```"
   ]
  },
  {
   "cell_type": "code",
   "execution_count": 15,
   "metadata": {},
   "outputs": [],
   "source": [
    "np.random.seed(46)\n",
    "population_2 = [np.random.choice([np.random.poisson(2),np.random.poisson(10),np.random.exponential(5)]) for i in range(10000)]\n"
   ]
  },
  {
   "cell_type": "code",
   "execution_count": 16,
   "metadata": {},
   "outputs": [
    {
     "data": {
      "text/plain": [
       "<matplotlib.axes._subplots.AxesSubplot at 0x1a1e6f7198>"
      ]
     },
     "execution_count": 16,
     "metadata": {},
     "output_type": "execute_result"
    },
    {
     "data": {
      "image/png": "[encoded data removed]",
      "text/plain": [
       "<Figure size 432x288 with 1 Axes>"
      ]
     },
     "metadata": {
      "needs_background": "light"
     },
     "output_type": "display_data"
    }
   ],
   "source": [
    "sns.distplot(population_2, kde = True)"
   ]
  },
  {
   "cell_type": "markdown",
   "metadata": {},
   "source": [
    "i) What is the command in h) doing?"
   ]
  },
  {
   "cell_type": "markdown",
   "metadata": {},
   "source": [
    "1) sets a new random seed\n",
    "2) takes 10000 random sampes from each of three distributions -\n",
    "a) a poisson distribution with lamdba = 2, a poisson distribution with lambda = 10, and an exponential distribution with lambda = 5"
   ]
  },
  {
   "cell_type": "markdown",
   "metadata": {},
   "source": [
    "j) Is the population created in `population_2` Normally distributed? How do you know?"
   ]
  },
  {
   "cell_type": "markdown",
   "metadata": {},
   "source": [
    "The curve is far from the normal distribution\n",
    "Running the command ```stats.normaltest(population_2)``` will tell us if it is normally distributed if the p-vaue is extremely low we can be virtually certain\n",
    "\n",
    "\n"
   ]
  },
  {
   "cell_type": "code",
   "execution_count": 17,
   "metadata": {},
   "outputs": [
    {
     "data": {
      "text/plain": [
       "NormaltestResult(statistic=1286.9703866635987, pvalue=3.4508918556975546e-280)"
      ]
     },
     "execution_count": 17,
     "metadata": {},
     "output_type": "execute_result"
    }
   ],
   "source": [
    "stats.normaltest(population_2)"
   ]
  },
  {
   "cell_type": "markdown",
   "metadata": {},
   "source": [
    "k) Generate 1,000 random samples of size 5 from `population_2`. Calculate the mean of each of these samples (so you should have 1,000 means) and put them in a list `poiexp_samples_5`."
   ]
  },
  {
   "cell_type": "code",
   "execution_count": 49,
   "metadata": {},
   "outputs": [
    {
     "data": {
      "text/plain": [
       "[array([[ 1.        ,  3.        ,  2.        ,  3.14988189,  1.        ],\n",
       "        [ 3.        ,  9.        ,  0.86169484,  5.        ,  4.54736905],\n",
       "        [ 0.56271754, 14.76491567,  2.27297372, 11.        ,  5.01424425],\n",
       "        ...,\n",
       "        [ 5.7023164 ,  3.        ,  2.        ,  3.        ,  2.7681977 ],\n",
       "        [ 1.        ,  2.2939502 ,  3.        , 15.        ,  1.        ],\n",
       "        [11.        ,  9.81970741,  2.        ,  4.        ,  3.21779737]])]"
      ]
     },
     "execution_count": 49,
     "metadata": {},
     "output_type": "execute_result"
    }
   ],
   "source": [
    "poiexp_samples_5 = []\n",
    "poiexp_samples_5.append(np.random.choice(population_2, (1000, 5)))\n",
    "poiexp_samples_5\n"
   ]
  },
  {
   "cell_type": "code",
   "execution_count": 50,
   "metadata": {},
   "outputs": [
    {
     "data": {
      "text/plain": [
       "[array([ 2.02997638,  4.48181278,  6.72297023,  1.25831119,  3.73710237,\n",
       "         5.19917144,  6.6       ,  2.10346852,  4.01389508,  5.00891697,\n",
       "         6.2       ,  5.4297973 ,  4.60979744,  4.24731624,  9.03231087,\n",
       "         3.14182831,  4.73331129,  8.81630996,  6.17885245,  3.53427232,\n",
       "         4.11610807,  4.93913392,  3.48955531,  6.64710745,  9.0561779 ,\n",
       "         3.8       ,  3.0883449 , 10.32975966,  8.72804534,  1.8465721 ,\n",
       "         4.6       ,  8.16936733,  2.84171769,  2.57958693,  7.73358672,\n",
       "         3.06073293,  4.        ,  5.84446668,  5.68318841,  3.4       ,\n",
       "         7.56234068,  2.15706039,  6.86843779,  3.16089671,  4.55163333,\n",
       "         4.0906385 ,  6.61843464,  2.00095616,  5.13668297,  4.52734824,\n",
       "         9.51776478,  5.19024978,  3.90070861,  8.58069854,  6.62603648,\n",
       "         7.70952773,  6.2079946 , 10.00106301,  8.87153634,  1.4816801 ,\n",
       "         8.43118507,  5.47326763,  3.4594417 ,  9.5915695 ,  6.30187025,\n",
       "         3.2       ,  9.2       ,  9.19671295,  2.14236577, 10.00012614,\n",
       "         5.39275349,  5.4       ,  7.02659322,  4.45496642,  6.29158478,\n",
       "         4.50327705,  5.27416811,  6.8       ,  3.63559435,  9.25404801,\n",
       "         3.44782669,  4.12517314,  6.92958209,  5.06395676,  3.1829299 ,\n",
       "         9.20919647,  0.70351095,  6.11889287,  6.85266292,  5.42696072,\n",
       "         4.42348339,  6.37296268,  6.86276471,  4.59514076,  9.32431409,\n",
       "         7.07861159,  5.34828551,  1.8       ,  3.71445549,  4.21643124,\n",
       "         4.22554674,  4.29168837,  2.64539444,  3.2       ,  4.24941513,\n",
       "         3.50584833,  5.05078069,  8.51312204,  5.28024509,  7.6       ,\n",
       "         4.93961723,  1.67886297,  5.2603665 ,  6.28229516,  5.37792265,\n",
       "         3.89472871,  6.6620979 ,  6.08971252,  4.9254987 ,  8.82791182,\n",
       "        12.34626989,  4.7177511 ,  3.9686798 ,  4.15806742,  6.        ,\n",
       "         4.81518143,  5.94091395,  4.36085038,  6.26460959,  4.70428652,\n",
       "         6.30294268,  4.65650334,  6.8       ,  2.49568844,  6.85872437,\n",
       "         8.0239981 ,  8.08437685,  2.55225125, 10.32674331,  4.64180269,\n",
       "         8.11708055, 11.8       ,  6.01644978,  2.55186942,  7.2       ,\n",
       "         5.49282318,  4.91360118,  3.89452543,  4.44267055,  3.70998143,\n",
       "         6.13589917,  6.19624324,  5.        ,  8.6       ,  7.31930666,\n",
       "         8.96249013,  4.94666235,  9.01447268,  7.41012812,  5.75172973,\n",
       "         5.71241351,  6.40969122,  5.55730008,  9.4       ,  6.96804955,\n",
       "         5.05554515,  3.48043173,  7.        ,  4.204129  ,  5.        ,\n",
       "         5.43664291,  3.1948295 , 11.6       ,  6.80157775,  8.26422702,\n",
       "         5.2       ,  4.74812032,  2.62922696,  5.53381956,  2.31401007,\n",
       "         6.2       ,  7.13046413,  3.01322282, 10.07230083,  9.19373631,\n",
       "         7.6       ,  3.8       ,  5.97199973,  6.08312404,  6.19624582,\n",
       "         6.32242351,  6.97237321,  6.0848802 ,  1.61603928,  4.88182627,\n",
       "         9.2360427 ,  5.55635744,  1.11472516,  5.05915752,  5.        ,\n",
       "         6.77806423,  4.98874679,  6.4       ,  4.76693006,  9.54969709,\n",
       "         3.57478409,  6.21296873,  3.79093649,  4.94940422,  7.7812578 ,\n",
       "         8.        ,  4.49861152,  5.74204712,  7.8603256 ,  7.35898703,\n",
       "         2.82533861,  8.00363711,  9.43302462,  6.24739297,  5.30260076,\n",
       "         4.09015872,  7.38617469, 11.02508187,  8.54378244,  4.31692541,\n",
       "         8.48453322,  8.25940007,  6.57671721,  7.36286638,  5.41125036,\n",
       "         5.98856986,  4.76036547,  4.8       ,  8.63180738,  6.2       ,\n",
       "         3.92302696,  4.38477879,  4.66965955,  8.4552685 ,  4.58280612,\n",
       "         6.56023816,  5.72586213,  6.09430336,  2.8303924 ,  4.31994043,\n",
       "         4.64636091,  7.37591276,  6.74562357,  8.19614795,  3.05838434,\n",
       "         3.4960437 ,  4.85238684,  5.96860432,  7.2       ,  4.61015559,\n",
       "         5.68742588,  7.80577323,  5.51199101,  8.57028151,  7.74221705,\n",
       "         3.52881721,  4.88019698,  6.55455467, 10.6285262 , 15.30426113,\n",
       "         2.27450818,  5.78669815,  6.35221614,  6.45274388,  6.47906779,\n",
       "         7.73939116,  5.18634968,  4.4       ,  2.77895687,  5.73077349,\n",
       "         3.51461609,  3.03907144,  5.36180444,  8.38727331,  4.69443484,\n",
       "         7.73626442,  8.61130261,  4.97847057,  6.38670139,  4.85082314,\n",
       "         4.66036543,  0.48500273,  6.23413575,  5.70842311,  4.61083375,\n",
       "         2.88322511,  5.06964621,  6.74121458,  8.42115922,  2.6       ,\n",
       "         3.94092567,  1.87244615,  6.08322511,  8.35298313,  5.68049769,\n",
       "         6.45131226,  9.07198141,  5.71680011,  3.07787465,  4.41556062,\n",
       "         7.2197398 ,  7.2746488 ,  7.4609937 ,  3.23441555,  5.06931829,\n",
       "         6.4714492 ,  4.72715438,  2.35791436,  4.90029659,  7.84805035,\n",
       "         5.63771467,  5.35115118,  7.6       ,  2.95159837,  3.68452452,\n",
       "         3.        ,  7.70205566,  6.45640997,  6.582778  ,  2.51510548,\n",
       "         3.5044759 , 10.70110183,  0.8       ,  3.50179935,  4.63791033,\n",
       "         3.10699661,  6.56828208,  5.48492651,  8.26740655,  5.7995245 ,\n",
       "         9.03350744,  7.38441531,  5.14063181,  4.8       ,  6.        ,\n",
       "         5.50848091,  2.07609885,  6.36276317,  3.43105207,  4.4974806 ,\n",
       "         4.44065747, 10.3802194 ,  3.30040522,  1.62476197,  5.18939391,\n",
       "         4.28947582,  7.54002567,  5.50520079,  5.49564134,  7.18978858,\n",
       "         2.95849441,  4.53813805,  6.13012958,  7.03352344,  6.18988586,\n",
       "         2.48387678,  4.08171412,  4.02231282,  5.93427232,  4.37015328,\n",
       "         6.52726414,  3.2       ,  4.8       ,  4.79595732,  5.6       ,\n",
       "         3.69328886,  7.74742381,  2.77988539,  7.14219019,  5.53606495,\n",
       "         8.50547502,  6.6       , 11.4       , 10.56324148,  3.15675485,\n",
       "         4.67474594,  2.49262326,  9.42280876,  4.57148111,  4.87740753,\n",
       "         8.36547627,  5.1989258 ,  7.4124454 ,  6.15908729,  2.13434514,\n",
       "         4.65827197,  6.79558879,  2.6901218 ,  4.60956495,  8.67023084,\n",
       "         9.1082755 ,  6.9681606 ,  3.4       ,  3.8       ,  3.06740492,\n",
       "         5.83623848,  1.21732381,  4.00902252,  3.20669757,  1.94897052,\n",
       "         3.83117777,  5.98514945,  4.11150413,  6.97847316,  6.2       ,\n",
       "         6.84643888,  8.9275688 ,  5.7584249 ,  6.06272065,  3.21290919,\n",
       "         9.72587698,  8.065304  ,  5.55966578,  5.83676823,  6.75582894,\n",
       "         3.61568985,  3.12593315,  2.6105794 ,  5.5156203 ,  3.74120947,\n",
       "         6.50294268,  2.6       ,  7.21209004,  6.03352344,  7.48932774,\n",
       "         5.2       ,  6.        ,  2.47907144,  7.55265523,  6.44172214,\n",
       "         1.49457015,  5.60272912,  4.87695882,  6.8       ,  5.89937343,\n",
       "         1.91428017,  4.70033495,  9.6       ,  7.34845994,  2.02250161,\n",
       "         6.8260494 ,  5.9457992 ,  3.77277123,  2.36586234,  4.941432  ,\n",
       "         2.57955295,  4.8       , 10.01810104,  7.22485593,  6.41950634,\n",
       "         5.66877221,  5.8       ,  4.81170002,  7.2       ,  8.16148796,\n",
       "         3.09542207,  5.26315695,  3.89101519,  5.16242505,  6.42218087,\n",
       "         4.6       ,  3.88206223,  5.67809872,  5.15654403,  7.45304383,\n",
       "         7.23345653,  6.50337024,  6.86696027,  6.8       ,  6.82676716,\n",
       "         5.6614201 ,  5.89027396,  4.56640634,  5.41057539,  6.95328211,\n",
       "         6.77743239,  8.27767111,  7.72599674,  5.68287047,  6.15537218,\n",
       "         6.96769635,  3.50011927,  2.9502772 , 10.45056372,  6.31078728,\n",
       "         8.25246631,  7.24673174,  8.74845414,  6.48028312,  9.08821159,\n",
       "         7.63335784,  2.22955913,  5.82807067,  2.73593741,  6.57162713,\n",
       "        10.13984351,  5.6       ,  5.56830199,  4.18765097,  3.89727501,\n",
       "         4.64882301,  4.        ,  7.57929084,  7.57599094,  8.39959333,\n",
       "         9.56276317,  7.65604047,  2.6       ,  6.8       ,  4.37148111,\n",
       "         7.99528064,  4.2       ,  9.55979993,  7.062193  ,  2.46812784,\n",
       "         5.2       ,  5.45652271,  6.92949212,  6.15493941,  8.4       ,\n",
       "         4.31696904,  2.12144763,  3.75408541,  5.36732874,  4.619596  ,\n",
       "         5.36604945,  2.8       ,  6.94990283,  4.80544787,  1.8       ,\n",
       "         4.2511065 ,  2.67987538,  5.94043666,  5.47693267,  3.14244663,\n",
       "         2.70961364,  6.71429476,  7.22270127,  5.37033416,  7.15622126,\n",
       "         6.6       ,  5.74769624,  4.01022061,  6.97999309,  5.20042793,\n",
       "         1.96923486,  6.04463141,  3.36895068,  4.38499287,  2.73521535,\n",
       "         7.02803899,  4.81903814,  3.35282281,  3.8       ,  6.94434269,\n",
       "         9.        ,  2.02466991,  4.52549917,  7.30558659,  2.83999999,\n",
       "         1.78667443, 13.47008146,  4.        ,  6.42203295,  3.04143507,\n",
       "         8.32207478,  4.27189148,  4.29572711,  5.64281514,  7.73002694,\n",
       "         5.49744481,  6.4       ,  7.66340835,  2.0649629 ,  5.56261744,\n",
       "         5.58015073,  8.3880301 ,  6.75715778,  6.4       ,  5.60608278,\n",
       "        11.2       ,  5.48239948,  4.2       ,  6.0455983 ,  8.61976164,\n",
       "         5.91871532,  7.12686418,  5.8       ,  2.55207902,  2.7508661 ,\n",
       "         3.84352398,  6.8617181 ,  3.92777935,  7.63400492,  3.89037815,\n",
       "         8.6       ,  7.46846165,  4.15603524, 11.25655976,  4.58016706,\n",
       "         6.84352729,  7.8       ,  8.74121705,  4.46881903, 11.00535555,\n",
       "         7.63534743,  7.52564286,  3.37441537,  6.00779409,  6.05799154,\n",
       "         4.68171448,  3.4       ,  5.14481612,  8.49238648,  6.99295319,\n",
       "         4.63698479,  4.05288925,  5.58066057,  5.69696846,  2.61517483,\n",
       "         2.79630398,  6.96939453,  4.06652041,  9.80815882,  3.95702945,\n",
       "         5.22823056,  3.74019016,  7.19253601,  6.25470759,  6.55655789,\n",
       "         6.2       ,  2.5862528 ,  8.6       ,  2.84216477, 12.49768519,\n",
       "         5.3537364 ,  5.22593521,  5.36459091,  7.57592143,  4.37887976,\n",
       "        10.87997419,  7.27420068,  6.13773079,  7.08486796,  2.56769635,\n",
       "         3.75719906,  5.        ,  7.68738769,  0.83950887,  6.01497733,\n",
       "        10.64924275,  6.40056123,  4.        ,  6.26533747, 11.02939312,\n",
       "         6.90549347,  4.4       ,  7.64475407,  3.72777935,  9.4       ,\n",
       "         7.81047521,  8.14774635,  9.8       ,  5.929322  ,  6.93039189,\n",
       "         3.86422737,  5.03653536,  9.77915296,  7.70967082,  8.02440092,\n",
       "         4.49538024,  3.2228983 ,  4.20211764,  5.8       ,  8.60277324,\n",
       "         2.5640934 ,  2.92766184,  8.35107321,  6.9712172 ,  7.61810068,\n",
       "         6.88572504,  5.25559156,  6.37513698,  9.81434468,  2.9945687 ,\n",
       "         7.64374599,  7.8       ,  8.17627967,  7.91863934,  5.13428609,\n",
       "         8.4       ,  2.26470522, 10.45890593,  6.16011484,  5.75791414,\n",
       "         9.29443484,  5.92113081,  4.80165639,  3.19647994,  3.67782838,\n",
       "         3.71903054,  6.95363954,  2.87471351,  4.2       ,  3.42375808,\n",
       "         4.4       ,  5.02954413,  3.76706395,  4.13208484,  4.35083243,\n",
       "         6.4287203 ,  7.8       ,  3.99596411,  5.5187527 ,  4.59610779,\n",
       "        13.30820395,  6.91471852,  4.2       ,  6.07647031,  5.96826002,\n",
       "         6.70946172,  5.30576793,  4.66140615,  7.96386714,  3.92546993,\n",
       "         5.24233038,  6.4774627 ,  4.93958458,  3.31213532,  5.4       ,\n",
       "         4.45950835,  2.97134665,  2.9983567 ,  4.15220688,  3.89231646,\n",
       "         4.02196998,  6.63799622,  5.84766896,  5.23016776,  2.67329182,\n",
       "         7.88112997,  1.07746535,  1.18074537,  5.82103494,  7.5851007 ,\n",
       "         6.44118542,  6.7416522 ,  5.2       ,  3.40630788,  5.00311565,\n",
       "         4.85425995,  9.27198141,  6.65019938,  5.41212708,  8.57667547,\n",
       "         7.6       ,  3.89858633,  4.36049061,  2.2484144 ,  6.01054358,\n",
       "         5.95402391,  4.0768744 ,  7.61955214,  6.95598809,  4.6       ,\n",
       "         7.4763412 ,  2.62483087,  5.2191759 ,  3.79777706,  8.27205193,\n",
       "         4.86340352, 10.85225632,  4.8       ,  2.94040563,  4.45971367,\n",
       "         4.20223262,  6.8       ,  2.94741179,  9.88938448,  1.82773051,\n",
       "         4.        ,  4.67163544,  2.6       ,  4.09035787,  7.16585181,\n",
       "         6.47685661, 11.2       ,  4.        ,  4.08755757,  7.66071643,\n",
       "         8.30386142,  5.54093668,  6.83764223,  2.96918841,  5.57609961,\n",
       "         5.71915864,  9.3480861 ,  7.69128676,  6.56580497,  2.83062788,\n",
       "         1.6       ,  4.6       ,  7.6       ,  4.89958639,  9.90931188,\n",
       "         5.6       ,  7.64483763,  6.42885224,  5.08068844,  3.84440831,\n",
       "         2.66313544,  5.85722936,  7.45589003,  3.54502058,  7.65172323,\n",
       "         4.81489461,  5.        ,  7.75873895,  5.90823521,  6.65071333,\n",
       "         5.4315851 ,  5.99680654,  6.45320197,  8.7783978 ,  7.44236379,\n",
       "         4.4       ,  5.0638907 ,  2.654954  ,  7.85942125,  6.34787161,\n",
       "         5.00449462,  2.8       ,  7.98765874,  4.43812299,  3.74708049,\n",
       "         4.90327142,  3.57929678,  6.67880342,  8.76575141,  6.89852421,\n",
       "         6.89326254,  5.2594998 ,  4.59887087,  5.82718467,  7.38741064,\n",
       "         4.14985933,  6.4098441 ,  7.8       ,  1.8066546 ,  3.27429095,\n",
       "         2.70830738,  3.5328109 ,  3.40055538,  4.67827253,  3.86303681,\n",
       "         5.87547136,  4.97040649,  5.10668653,  3.8       ,  4.48703658,\n",
       "         5.23372416,  8.17277123,  4.15582894,  9.09925863,  7.6       ,\n",
       "         6.31358505,  2.52388986,  2.77114315,  6.51795769,  2.18413436,\n",
       "         7.25481114,  7.35020814,  5.        ,  7.35083915,  6.2       ,\n",
       "         5.08698605,  4.04635526,  5.2498432 ,  5.43971382,  4.7875037 ,\n",
       "         7.4       ,  4.37492469,  7.63047304,  5.80221755,  4.78514052,\n",
       "         4.11181909,  7.16241248,  2.52955346,  4.10914632,  5.59024978,\n",
       "         8.40249076,  6.77286668,  4.22609397,  6.69186799,  9.51572065,\n",
       "         7.86130008,  4.7235785 ,  5.31694519,  3.75746282,  9.96826002,\n",
       "         6.60480593,  5.24284168, 12.77517035,  8.55802232,  3.88806411,\n",
       "         2.32511634,  6.02378199,  3.76086921,  9.65341333,  7.45659899,\n",
       "         5.1351372 ,  5.15498843,  5.0288676 ,  6.36994594,  6.00508   ,\n",
       "         9.34543518,  3.03026986,  4.8370512 ,  4.44026545,  6.46615992,\n",
       "         8.40854658,  7.00970381,  6.61408885,  7.4       ,  3.45930864,\n",
       "         5.51612536, 10.        , 10.30299548,  7.51730918,  3.87531442,\n",
       "         1.7727019 ,  1.51882426,  8.90477846,  5.66700987,  5.92647   ,\n",
       "         3.18354154,  5.22533861,  3.86611893,  6.4       ,  2.39860666,\n",
       "         7.42791382,  7.64876246,  3.6       ,  4.50946172,  9.        ,\n",
       "         2.94590632,  5.4       ,  2.85334504,  3.52094128, 12.14288226,\n",
       "         2.89895394,  4.22060127,  7.71535443,  5.3566822 ,  6.46841554,\n",
       "         5.49968253,  6.77671343,  3.2046071 ,  4.14034327,  4.74041847,\n",
       "         3.98095979,  3.25255833,  3.54128487,  5.6       ,  5.95122693,\n",
       "         6.26481299,  4.7917764 ,  5.48421428,  8.2       ,  6.4       ,\n",
       "         4.2       ,  6.97975866,  5.29395129,  2.27416448, 10.19104774,\n",
       "         5.6       ,  5.32208586,  4.4       ,  4.08858123,  5.1890566 ,\n",
       "         7.33670432,  4.01117787,  5.83118279,  1.70652002,  3.44991488,\n",
       "         3.96755113,  2.878808  ,  6.        ,  4.31282163,  8.8       ,\n",
       "         7.97715553,  6.12621319,  3.29410282,  4.45879004,  6.00750096])]"
      ]
     },
     "execution_count": 50,
     "metadata": {},
     "output_type": "execute_result"
    }
   ],
   "source": [
    "poiexp_samples_5 = [np.mean(i, axis = 1) for i in poiexp_samples_5]\n",
    "poiexp_samples_5"
   ]
  },
  {
   "cell_type": "markdown",
   "metadata": {},
   "source": [
    "l) Plot `poiexp_samples_5` **with** a kernel density estimate using `seaborn.distplot`."
   ]
  },
  {
   "cell_type": "code",
   "execution_count": 51,
   "metadata": {},
   "outputs": [
    {
     "data": {
      "text/plain": [
       "<matplotlib.axes._subplots.AxesSubplot at 0x1a1c214400>"
      ]
     },
     "execution_count": 51,
     "metadata": {},
     "output_type": "execute_result"
    },
    {
     "data": {
      "image/png": "[encoded data removed]",
      "text/plain": [
       "<Figure size 432x288 with 1 Axes>"
      ]
     },
     "metadata": {},
     "output_type": "display_data"
    }
   ],
   "source": [
    "sns.distplot(poiexp_samples_5, kde=True)"
   ]
  },
  {
   "cell_type": "code",
   "execution_count": 52,
   "metadata": {},
   "outputs": [
    {
     "data": {
      "text/plain": [
       "5.671836698693242"
      ]
     },
     "execution_count": 52,
     "metadata": {},
     "output_type": "execute_result"
    }
   ],
   "source": [
    "np.mean(poiexp_samples_5)\n"
   ]
  },
  {
   "cell_type": "code",
   "execution_count": 53,
   "metadata": {},
   "outputs": [
    {
     "data": {
      "text/plain": [
       "2.1949833609073495"
      ]
     },
     "execution_count": 53,
     "metadata": {},
     "output_type": "execute_result"
    }
   ],
   "source": [
    "np.std(poiexp_samples_5)"
   ]
  },
  {
   "cell_type": "code",
   "execution_count": null,
   "metadata": {},
   "outputs": [],
   "source": []
  },
  {
   "cell_type": "markdown",
   "metadata": {},
   "source": [
    "m) How would you describe the shape of the distribution from l)?"
   ]
  },
  {
   "cell_type": "markdown",
   "metadata": {},
   "source": [
    "normally distributed"
   ]
  },
  {
   "cell_type": "markdown",
   "metadata": {},
   "source": [
    "n) Generate 1,000 random samples of size 50 from `population_2`. Calculate the mean of each of these samples (so you should have 1,000 means) and put them in a list `poiexp_samples_50`."
   ]
  },
  {
   "cell_type": "code",
   "execution_count": 55,
   "metadata": {},
   "outputs": [
    {
     "data": {
      "text/plain": [
       "[array([5.1111011 , 4.40167967, 5.85211508, 4.83005827, 6.43879131,\n",
       "        5.96502688, 6.02651984, 6.1367305 , 5.97085329, 5.62890157,\n",
       "        5.80082644, 6.52130168, 6.18885646, 6.26545528, 5.2711802 ,\n",
       "        5.66443877, 5.80423184, 4.70854484, 6.60483427, 6.32260055,\n",
       "        5.99461156, 3.88938625, 4.85745221, 6.31713112, 6.51416906,\n",
       "        4.8936795 , 5.79197899, 7.05953499, 6.65221682, 5.63956528,\n",
       "        5.81051841, 5.63005614, 4.94705753, 4.51602367, 5.73219517,\n",
       "        5.10567568, 6.4334627 , 4.5796399 , 7.03138398, 5.37493366,\n",
       "        6.04146793, 6.18455468, 6.15532329, 5.89382863, 6.43355425,\n",
       "        5.27236043, 5.99113393, 6.26070442, 6.68761438, 5.63698552,\n",
       "        5.7950535 , 7.1375359 , 5.21340812, 6.30163388, 5.49599342,\n",
       "        5.9421255 , 5.68430791, 5.52591432, 6.30660597, 5.03156096,\n",
       "        6.16954634, 6.14150572, 5.93762678, 5.85328022, 6.12601538,\n",
       "        5.80939109, 4.48931398, 5.82884633, 4.8657874 , 5.94146642,\n",
       "        4.88415982, 6.47025745, 6.71482035, 4.92355422, 6.31496609,\n",
       "        5.9782296 , 5.67427083, 5.27578299, 5.10012815, 6.4903704 ,\n",
       "        5.86606219, 6.8234544 , 6.318344  , 5.56319596, 6.88083225,\n",
       "        6.26192816, 6.26454147, 6.0408151 , 5.15141208, 5.62287538,\n",
       "        5.27507021, 5.80834473, 4.77150324, 6.66897633, 6.03670983,\n",
       "        5.61997943, 6.13050388, 5.15227937, 5.90749933, 5.28740151,\n",
       "        4.90775703, 5.90272163, 5.25906588, 6.24467048, 6.44564881,\n",
       "        5.99834563, 6.03156273, 6.16943021, 7.14393148, 6.72787373,\n",
       "        5.09271074, 6.36827093, 5.50411881, 5.61378677, 5.44804608,\n",
       "        6.35794851, 5.50542496, 6.01029241, 5.67686893, 7.39262687,\n",
       "        6.35005326, 5.9019967 , 4.72033214, 5.73433481, 4.66729088,\n",
       "        5.32750623, 6.10138732, 5.0979239 , 6.03509635, 5.31000904,\n",
       "        7.97397171, 5.96098432, 4.98418739, 6.15102628, 6.41068301,\n",
       "        6.33953714, 7.55063407, 4.91204636, 6.0032005 , 5.26647605,\n",
       "        5.95492956, 5.11940452, 6.62321391, 5.67228084, 5.23305205,\n",
       "        6.17062778, 5.37877358, 5.73943584, 6.62213391, 4.9958212 ,\n",
       "        5.62640722, 5.82686883, 5.58145471, 6.34233441, 5.32473441,\n",
       "        6.55381367, 5.59695336, 5.91508629, 4.46556907, 6.53285731,\n",
       "        6.21493327, 5.067043  , 5.82198692, 5.61000579, 6.77467   ,\n",
       "        6.15448409, 5.47083503, 5.7684828 , 4.85255855, 6.30756868,\n",
       "        5.66482953, 5.43655802, 4.84162252, 6.12915684, 5.66752904,\n",
       "        5.12202301, 6.06700673, 5.03507785, 6.39388142, 6.27614042,\n",
       "        5.64186172, 5.33205043, 6.085763  , 5.57761426, 5.509921  ,\n",
       "        5.39092872, 5.24509066, 6.07250288, 6.0095652 , 5.34946893,\n",
       "        7.07433988, 4.92008429, 6.10208256, 5.39078614, 4.96597184,\n",
       "        6.4645368 , 6.21333155, 6.03532523, 5.62066466, 5.56835321,\n",
       "        7.34263151, 5.48755637, 7.10263668, 6.76021594, 4.72569144,\n",
       "        6.41674736, 5.31048403, 5.17919679, 5.68171984, 5.71088999,\n",
       "        5.43986606, 5.9007967 , 6.55915374, 5.19308222, 5.14682477,\n",
       "        5.26144988, 5.90921446, 6.37753604, 5.19477061, 5.57122609,\n",
       "        5.54035135, 5.56293595, 7.04358527, 6.26583741, 5.73883514,\n",
       "        5.9712158 , 4.31076328, 4.43184657, 6.00352256, 4.74241424,\n",
       "        5.53784969, 6.55876428, 6.0457322 , 4.90847337, 6.39703371,\n",
       "        6.38844061, 6.21825197, 5.46153355, 5.72128086, 6.02381482,\n",
       "        6.25048424, 6.02059953, 6.72534654, 6.08496687, 6.01274326,\n",
       "        7.22471021, 5.59064947, 4.67168128, 5.78659258, 5.83247489,\n",
       "        5.911073  , 5.38323951, 6.0580731 , 6.20889347, 6.05167207,\n",
       "        5.94874987, 5.88969013, 4.55854253, 6.07270314, 6.50081543,\n",
       "        6.78732517, 4.68260036, 5.06757654, 5.00094177, 6.03944013,\n",
       "        6.43689187, 5.85831755, 6.53093803, 4.87811991, 5.66146015,\n",
       "        6.20368394, 5.83208531, 6.41891188, 5.20111723, 5.82104448,\n",
       "        6.0497383 , 5.58030218, 5.22731425, 5.95268978, 5.35822167,\n",
       "        4.77250424, 5.75281332, 6.68824429, 5.82986424, 5.8476865 ,\n",
       "        6.14447608, 5.7180017 , 5.88556098, 5.48229205, 4.98734626,\n",
       "        6.4567649 , 6.03797231, 5.62431592, 7.67053523, 5.58392887,\n",
       "        5.18984983, 6.72024284, 6.31824296, 6.01817746, 5.24481858,\n",
       "        5.37212188, 5.40911915, 6.56708224, 6.71680788, 6.42876394,\n",
       "        6.88954103, 5.01723262, 5.53754036, 5.83900692, 5.41724565,\n",
       "        5.23370406, 6.21313904, 4.63588303, 6.44499189, 5.06989447,\n",
       "        6.17283888, 6.10663421, 5.71227962, 4.65927824, 5.25343898,\n",
       "        6.61038688, 5.72483282, 7.01236213, 5.92358446, 5.15283262,\n",
       "        7.10322792, 6.1121873 , 7.45751875, 5.58139162, 6.43721207,\n",
       "        4.99325606, 5.40655799, 6.01625211, 6.4464729 , 6.25421261,\n",
       "        5.16462558, 6.57382509, 4.39948255, 7.17547066, 5.94511972,\n",
       "        5.25628424, 5.34507534, 5.38243896, 4.88896727, 4.52963278,\n",
       "        5.93753751, 4.80710937, 5.78562351, 6.89660698, 6.59069965,\n",
       "        5.77385368, 6.83311495, 5.8318927 , 4.97219954, 5.88192337,\n",
       "        5.48243181, 5.1828687 , 5.40293163, 5.93999959, 5.16947795,\n",
       "        6.26045218, 5.47782619, 5.19525196, 5.13604751, 7.05222486,\n",
       "        6.77334168, 7.12982541, 6.52449354, 5.14743005, 6.77094009,\n",
       "        5.39924263, 6.19369572, 4.836064  , 5.01046061, 5.60240744,\n",
       "        4.59818432, 5.24001391, 4.80727236, 6.51148323, 5.79954411,\n",
       "        5.232102  , 4.73400524, 6.8225712 , 6.08648335, 4.96174267,\n",
       "        6.53544383, 4.96326332, 6.4720376 , 5.01748253, 5.44634048,\n",
       "        6.7708323 , 5.11050046, 4.97231728, 5.3813582 , 6.5743283 ,\n",
       "        6.26325773, 4.54964329, 6.15924059, 7.57811551, 5.22728691,\n",
       "        6.436474  , 6.35924562, 4.47549107, 7.03955636, 5.3614704 ,\n",
       "        5.87121391, 3.92447024, 5.97227029, 6.10118218, 5.9824319 ,\n",
       "        5.95420849, 6.71801737, 5.90055683, 6.20608141, 5.40687812,\n",
       "        6.42604352, 5.23822949, 5.69616156, 5.76698724, 6.39171051,\n",
       "        6.48875494, 5.60506003, 5.57711137, 7.09046116, 6.30461114,\n",
       "        4.43485208, 6.53558291, 5.43422102, 5.56818613, 7.27585114,\n",
       "        5.0368151 , 5.15326939, 6.62478216, 6.31651817, 5.34599137,\n",
       "        5.15209749, 6.16123366, 7.65948972, 5.3501311 , 5.8997229 ,\n",
       "        4.41782034, 5.60785577, 6.16045233, 4.95594967, 5.99365146,\n",
       "        5.47297939, 5.98054381, 5.95938444, 6.45102923, 6.26337405,\n",
       "        5.04432746, 5.50918009, 6.45970607, 5.98293543, 4.49601759,\n",
       "        5.78430642, 6.32927617, 7.0918004 , 5.78156784, 3.99304761,\n",
       "        6.42751896, 4.85061172, 5.6381159 , 6.86856767, 6.80519278,\n",
       "        5.16920732, 5.86946273, 5.88443968, 4.88456168, 6.66673128,\n",
       "        5.7393964 , 5.7167039 , 6.69369803, 5.38036266, 5.23366125,\n",
       "        5.65505033, 7.43454749, 4.64370581, 6.48048001, 5.07360428,\n",
       "        4.77584474, 6.1744177 , 5.51734139, 6.00763645, 6.53086507,\n",
       "        5.82489651, 5.15992825, 6.5794232 , 5.36270611, 5.88257276,\n",
       "        5.82972189, 6.82781616, 5.94923168, 7.02529669, 5.86412498,\n",
       "        5.727602  , 5.19090278, 6.32105685, 5.60060428, 5.17249803,\n",
       "        4.36788168, 5.42958344, 4.81675175, 5.81962945, 5.70166786,\n",
       "        5.02703955, 5.56587491, 5.5225589 , 4.86577712, 5.26222454,\n",
       "        5.07133194, 6.11978566, 5.55754683, 5.16806522, 4.91387467,\n",
       "        5.71603325, 6.19175328, 5.49095083, 5.86503423, 6.53228973,\n",
       "        5.4381114 , 6.08873978, 4.7274912 , 6.90529045, 5.91088151,\n",
       "        4.38291653, 6.55753434, 5.95583231, 5.25890656, 6.29751103,\n",
       "        6.66116104, 5.78345445, 5.47443326, 5.56240284, 5.6753363 ,\n",
       "        6.0057644 , 5.415549  , 5.26605074, 5.3179966 , 5.79655024,\n",
       "        6.19161119, 5.35437118, 5.76113376, 6.4122133 , 5.25795952,\n",
       "        5.59560303, 6.17068687, 4.86552957, 6.6364143 , 4.82801223,\n",
       "        6.51599561, 7.62882499, 5.44684008, 6.56175985, 6.85794149,\n",
       "        5.93102156, 5.99306993, 6.39657267, 5.36209912, 6.32543091,\n",
       "        4.71228006, 5.63217925, 5.72678015, 5.86993353, 5.72253197,\n",
       "        6.72264879, 4.56409458, 6.71741224, 4.52844688, 6.53264413,\n",
       "        5.97719564, 5.93115235, 7.09139866, 6.55510959, 5.36135447,\n",
       "        5.81150477, 6.36042719, 6.67396606, 5.29073013, 5.49540921,\n",
       "        6.14871306, 6.38223926, 5.93271612, 5.77359437, 6.3802337 ,\n",
       "        5.96765145, 5.49990048, 6.30191109, 5.94876315, 6.6581879 ,\n",
       "        5.60109913, 5.93582655, 6.70323722, 5.01129964, 6.22969615,\n",
       "        5.40286376, 4.68344877, 6.78517469, 5.89074968, 5.69229194,\n",
       "        6.09085451, 6.3864352 , 4.8263878 , 6.40454429, 4.30835699,\n",
       "        4.92703995, 4.71450673, 6.16712067, 7.83070893, 6.12667131,\n",
       "        5.03782747, 6.47801775, 5.92653856, 6.47811608, 5.56483764,\n",
       "        5.14124289, 5.92830487, 6.98243984, 6.28380386, 6.65762924,\n",
       "        5.59925415, 5.92209377, 6.17916405, 5.47793096, 6.04466855,\n",
       "        5.58320951, 5.03062158, 6.05203062, 4.95973941, 6.07697941,\n",
       "        6.03234364, 5.58545498, 4.59306527, 4.48862194, 6.34460033,\n",
       "        5.38052145, 5.98670467, 4.90227996, 5.1492746 , 5.70736722,\n",
       "        6.03246809, 4.83054598, 6.03687977, 5.44684945, 5.20112849,\n",
       "        5.4260924 , 6.20314621, 6.78906805, 6.82643124, 7.10596807,\n",
       "        5.215493  , 5.78156776, 7.10385672, 5.66804433, 4.64939919,\n",
       "        4.86429508, 5.589621  , 4.57297362, 5.38161809, 6.18816041,\n",
       "        5.69952147, 5.50171788, 5.33170677, 5.63111091, 5.97872942,\n",
       "        5.92190253, 5.15293521, 5.27012624, 5.34592212, 5.6005669 ,\n",
       "        6.36644741, 4.82561039, 6.54320459, 6.8299694 , 5.84655895,\n",
       "        5.64093596, 5.86588292, 4.95230075, 7.93254114, 7.35490846,\n",
       "        6.75426612, 4.6556069 , 6.20208653, 6.14800688, 5.26176023,\n",
       "        5.74531188, 6.02728079, 7.77851471, 5.47943628, 6.22867292,\n",
       "        5.75785795, 5.44758683, 5.39501024, 5.81959366, 5.76189573,\n",
       "        5.95146415, 5.74837742, 6.14869711, 4.61449299, 5.91219556,\n",
       "        5.68280142, 6.71153043, 6.25038339, 6.12315566, 7.35278462,\n",
       "        6.54557651, 5.34671391, 5.43975775, 4.13843267, 6.29109447,\n",
       "        6.94163201, 6.20784676, 4.75109229, 5.42445231, 5.49170029,\n",
       "        4.15777113, 5.38398183, 6.45733052, 5.42756238, 5.56716017,\n",
       "        4.83776881, 5.55550815, 7.67361897, 5.82270848, 5.31202418,\n",
       "        6.00879371, 5.62870903, 6.77066024, 5.39744365, 5.61191774,\n",
       "        5.39778898, 7.09166416, 7.01555461, 5.02690875, 5.7062623 ,\n",
       "        5.57149152, 5.80712019, 5.77724814, 5.50026477, 5.20537863,\n",
       "        6.81402116, 5.60484996, 6.57303569, 5.91352158, 6.21432679,\n",
       "        5.1949078 , 5.84453338, 6.15306006, 5.38477757, 5.32006672,\n",
       "        5.30672228, 5.79535228, 6.26687743, 5.4159225 , 6.46594724,\n",
       "        6.70792577, 3.97736882, 6.83019737, 6.19412091, 6.0217821 ,\n",
       "        5.59120715, 5.01288254, 5.79302051, 5.2360381 , 5.84636024,\n",
       "        7.60139322, 6.20244453, 6.26678943, 7.00074122, 5.49150307,\n",
       "        5.15409318, 5.42558693, 5.39360766, 5.49362881, 6.91030724,\n",
       "        6.00470283, 5.50290274, 6.02390029, 4.14248696, 5.62317127,\n",
       "        6.01934036, 5.87204728, 6.43167252, 5.10616064, 6.43050795,\n",
       "        4.63823242, 6.85796595, 6.40755054, 6.43458638, 6.20489743,\n",
       "        5.92443772, 4.98759973, 5.90805524, 4.84848942, 5.71420422,\n",
       "        4.3112023 , 5.30869027, 5.60178758, 6.21553464, 5.55081444,\n",
       "        5.77570323, 6.41602156, 5.47463015, 5.91159656, 4.93914869,\n",
       "        6.74125981, 5.92609672, 7.07272507, 4.98787061, 4.42698047,\n",
       "        4.71895948, 6.36381372, 6.14650202, 5.47044509, 4.73109531,\n",
       "        6.45110684, 5.64832825, 5.95558408, 5.93017848, 6.65591062,\n",
       "        5.47336627, 7.67440623, 6.98707707, 6.39063264, 4.64266008,\n",
       "        6.28067333, 5.77990946, 4.78021579, 4.54957493, 5.07836453,\n",
       "        5.47042537, 6.20922632, 5.79464601, 6.12880588, 5.39101897,\n",
       "        6.23814061, 6.64021708, 5.56734592, 6.41360957, 6.69208344,\n",
       "        6.1534505 , 4.59868044, 5.66302383, 5.23316617, 4.78980943,\n",
       "        6.05611131, 7.09721574, 4.78005862, 6.55643444, 5.90438463,\n",
       "        5.54717123, 4.76884773, 6.16257054, 5.51085071, 5.91958645,\n",
       "        5.25366925, 5.45159915, 4.68073673, 6.23636919, 5.384419  ,\n",
       "        5.33689055, 6.2032149 , 4.71869051, 5.78774683, 5.78933144,\n",
       "        4.84850604, 5.43335274, 6.34756178, 5.13684556, 5.9046021 ,\n",
       "        6.3372506 , 5.50030101, 6.21863303, 6.05329208, 6.86376234,\n",
       "        6.90773117, 5.72754285, 5.86159479, 6.81716737, 6.37341479,\n",
       "        6.82994559, 6.03878223, 6.06619781, 4.68170477, 5.69995249,\n",
       "        6.98625483, 4.94191552, 5.64819451, 5.75745397, 5.17084547,\n",
       "        6.85105832, 3.19885899, 4.95820347, 7.15995197, 5.84055877,\n",
       "        5.06795502, 6.15113216, 5.39910343, 4.68703709, 5.5998077 ,\n",
       "        5.95400259, 5.84942816, 5.46851856, 4.91987572, 5.77924044,\n",
       "        5.99974284, 5.52416654, 5.9435053 , 4.73004452, 6.28656569,\n",
       "        6.86938157, 5.91806632, 6.14960396, 5.38631733, 5.0258779 ,\n",
       "        5.66491026, 5.47618539, 6.9579615 , 5.34666656, 4.63983376,\n",
       "        6.09932205, 5.51744638, 6.81882168, 5.0802424 , 7.08964995,\n",
       "        3.89861839, 5.6056127 , 5.27775411, 6.03565658, 5.9213371 ,\n",
       "        6.41144144, 6.16753799, 5.72702312, 5.93478591, 4.84637103,\n",
       "        6.14340692, 5.99778932, 4.99126524, 6.41528863, 4.89704211,\n",
       "        5.53560081, 5.23917219, 5.4885896 , 5.39701572, 4.8669878 ,\n",
       "        5.52649114, 6.75288865, 5.13756027, 5.96722026, 5.44427671,\n",
       "        5.30846211, 5.12962726, 4.83185853, 5.36138679, 6.50855925,\n",
       "        4.76787419, 5.7901402 , 5.7353606 , 5.19695558, 5.61073473,\n",
       "        5.71267715, 5.85498448, 5.7972498 , 6.30587192, 4.24875254,\n",
       "        7.28186887, 5.96507516, 4.15961336, 5.07809366, 5.49250357,\n",
       "        5.99091403, 6.47720953, 5.59989642, 5.78350472, 5.83850328,\n",
       "        5.59644885, 7.23188233, 5.36689071, 6.73017611, 5.25040763,\n",
       "        5.76629878, 6.12880443, 5.27797044, 4.95641367, 5.30126913,\n",
       "        6.14018498, 6.34439774, 5.799425  , 6.10575696, 5.27625743,\n",
       "        6.10957475, 5.66091205, 6.44753553, 5.95620671, 6.91703767,\n",
       "        6.82376338, 6.89507038, 6.26833167, 6.90932809, 5.54768829])]"
      ]
     },
     "execution_count": 55,
     "metadata": {},
     "output_type": "execute_result"
    }
   ],
   "source": [
    "poiexp_samples_50 = []\n",
    "poiexp_samples_50.append(np.random.choice(population_2, (1000, 50)))\n",
    "poiexp_samples_50 = [np.mean(i, axis = 1) for i in poiexp_samples_50]\n",
    "poiexp_samples_50"
   ]
  },
  {
   "cell_type": "markdown",
   "metadata": {},
   "source": [
    "o) Plot `poiexp_samples_50` with a kernel density estimate using seaborn.distplot."
   ]
  },
  {
   "cell_type": "code",
   "execution_count": 56,
   "metadata": {},
   "outputs": [
    {
     "data": {
      "text/plain": [
       "<matplotlib.axes._subplots.AxesSubplot at 0x1a1d4d6cc0>"
      ]
     },
     "execution_count": 56,
     "metadata": {},
     "output_type": "execute_result"
    },
    {
     "data": {
      "image/png": "[encoded data removed]",
      "text/plain": [
       "<Figure size 432x288 with 1 Axes>"
      ]
     },
     "metadata": {},
     "output_type": "display_data"
    }
   ],
   "source": [
    "sns.distplot(poiexp_samples_50, kde=True)\n"
   ]
  },
  {
   "cell_type": "markdown",
   "metadata": {},
   "source": [
    "p) How would you describe the shape of the distribution from o)?"
   ]
  },
  {
   "cell_type": "markdown",
   "metadata": {},
   "source": [
    "normally dist."
   ]
  },
  {
   "cell_type": "markdown",
   "metadata": {},
   "source": [
    "**You just observed the Central Limit Theorem. Let's make this a bit more explicit.**\n",
    "\n",
    "q) When our original data came from a Normal distribution (`population`) and we looked at the sampling distribution of $\\bar{X}$ for $n=5$ (`norm_samples_5`), what was the shape of the sampling distribution of $\\bar{X}$?"
   ]
  },
  {
   "cell_type": "markdown",
   "metadata": {},
   "source": [
    "approx. normal"
   ]
  },
  {
   "cell_type": "markdown",
   "metadata": {},
   "source": [
    "r) When our original data came from a Normal distribution (`population`) and we looked at the sampling distribution of $\\bar{X}$ for $n=50$ (`norm_samples_50`), what was the shape of the sampling distribution of $\\bar{X}$?"
   ]
  },
  {
   "cell_type": "markdown",
   "metadata": {},
   "source": [
    "more normal"
   ]
  },
  {
   "cell_type": "markdown",
   "metadata": {},
   "source": [
    "s) So, if our original population is a Normal distribution, what will the sampling distribution be shaped like - regardless of sample size?"
   ]
  },
  {
   "cell_type": "markdown",
   "metadata": {},
   "source": [
    "normal"
   ]
  },
  {
   "cell_type": "markdown",
   "metadata": {},
   "source": [
    "t) When our original data came from a non-Normal distribution (`population_2`) and we looked at the sampling distribution of $\\bar{X}$ for $n=5$ (`poiexp_samples_5`), what was the shape of the sampling distribution of $\\bar{X}$?"
   ]
  },
  {
   "cell_type": "markdown",
   "metadata": {},
   "source": [
    "non-normal"
   ]
  },
  {
   "cell_type": "markdown",
   "metadata": {},
   "source": [
    "u) When our original data came from a non-Normal distribution (`population_2`) and we looked at the sampling distribution of $\\bar{X}$ for $n=50$ (`poiexp_samples_50`), what was the shape of the sampling distribution of $\\bar{X}$?"
   ]
  },
  {
   "cell_type": "markdown",
   "metadata": {},
   "source": [
    "normal"
   ]
  },
  {
   "cell_type": "markdown",
   "metadata": {},
   "source": [
    "v) So, if our original population is not a Normal distribution, what will the sampling distribution be shaped like when $n$ is small (like 5)?"
   ]
  },
  {
   "cell_type": "markdown",
   "metadata": {},
   "source": [
    "normal"
   ]
  },
  {
   "cell_type": "markdown",
   "metadata": {},
   "source": [
    "w) So, if our original population is not a Normal distribution, what will the sampling distribution be shaped like when $n$ is large (like 50)?"
   ]
  },
  {
   "cell_type": "markdown",
   "metadata": {},
   "source": [
    "normal"
   ]
  },
  {
   "cell_type": "markdown",
   "metadata": {},
   "source": [
    "x) When you sample from a non-Normal distribution, what happens to our sampling distribution of $\\bar{X}$ as we increase $n$?"
   ]
  },
  {
   "cell_type": "markdown",
   "metadata": {},
   "source": [
    "becomes more normal"
   ]
  },
  {
   "cell_type": "markdown",
   "metadata": {},
   "source": [
    "BONUS: If you're so inclined, repeat steps k and l for sample size $n=10, 20, 30, 50, 100$ to look at this phenomenon more closely! You could write a loop to do this."
   ]
  },
  {
   "cell_type": "code",
   "execution_count": 42,
   "metadata": {},
   "outputs": [
    {
     "data": {
      "text/plain": [
       "<Figure size 1080x720 with 0 Axes>"
      ]
     },
     "execution_count": 42,
     "metadata": {},
     "output_type": "execute_result"
    },
    {
     "data": {
      "text/plain": [
       "<Figure size 1080x720 with 0 Axes>"
      ]
     },
     "metadata": {},
     "output_type": "display_data"
    }
   ],
   "source": [
    "plt.figure(figsize = (15, 10))"
   ]
  },
  {
   "cell_type": "code",
   "execution_count": 19,
   "metadata": {},
   "outputs": [
    {
     "data": {
      "image/png": "[encoded data removed]",
      "text/plain": [
       "<Figure size 432x288 with 1 Axes>"
      ]
     },
     "metadata": {
      "needs_background": "light"
     },
     "output_type": "display_data"
    }
   ],
   "source": [
    "poiexp_samples = [[np.mean(np.random.choice(population_2,n))\\\n",
    "                      for x in range(1000)] for n in [10,20,30,50,100]]\n",
    "colors = ['blue','green','red','grey','yellow']\n",
    "labels = ['10','20','30','50','100']\n",
    "for i in range(5):\n",
    "    sns.distplot(poiexp_samples[i],hist=False,color=colors[i],label=labels[i])\n",
    "plt.show()"
   ]
  },
  {
   "cell_type": "code",
   "execution_count": 18,
   "metadata": {},
   "outputs": [
    {
     "data": {
      "text/plain": [
       "<matplotlib.legend.Legend at 0x1a1eb29d68>"
      ]
     },
     "execution_count": 18,
     "metadata": {},
     "output_type": "execute_result"
    },
    {
     "data": {
      "image/png": "[encoded data removed]",
      "text/plain": [
       "<Figure size 1080x720 with 1 Axes>"
      ]
     },
     "metadata": {
      "needs_background": "light"
     },
     "output_type": "display_data"
    }
   ],
   "source": [
    "plt.figure(figsize = (15, 10))\n",
    "count = 0\n",
    "n = 10\n",
    "poiexp_samples_n =[]\n",
    "for i in range(5):\n",
    "    if count ==0:\n",
    "        n = 10\n",
    "        \n",
    "        poiexp_samples_n.append(np.random.choice(population_2, (1000, n)))\n",
    "        poiexp_samples_n = [np.mean(i, axis =1) for i in poiexp_samples_n]\n",
    "        sns.distplot(poiexp_samples_n, kde = True, label = 'n = 10')\n",
    "        \n",
    "        \n",
    "    \n",
    "    elif count == 1:\n",
    "        n = 20\n",
    "        poiexp_samples_n =[]\n",
    "        poiexp_samples_n.append(np.random.choice(population_2, (1000, n)))\n",
    "        poiexp_samples_n = [np.mean(i, axis =1) for i in poiexp_samples_n]\n",
    "        \n",
    "        sns.distplot(poiexp_samples_n, kde = True, label = 'n = 20')\n",
    "    \n",
    "    elif count == 2:\n",
    "        n = 30\n",
    "        poiexp_samples_n =[]\n",
    "        poiexp_samples_n.append(np.random.choice(population_2, (1000, n)))\n",
    "        poiexp_samples_n = [np.mean(i, axis =1) for i in poiexp_samples_n]\n",
    "        \n",
    "        sns.distplot(poiexp_samples_n, kde = True, label = 'n = 30')\n",
    "    \n",
    "    elif count == 3:\n",
    "        n = 50\n",
    "        poiexp_samples_n =[]\n",
    "        poiexp_samples_n.append(np.random.choice(population_2, (1000, n)))\n",
    "        poiexp_samples_n = [np.mean(i, axis =1) for i in poiexp_samples_n]\n",
    "        \n",
    "        sns.distplot(poiexp_samples_n, kde = True, label = 'n = 50')\n",
    "    \n",
    "    elif count == 4:\n",
    "        n = 100\n",
    "        poiexp_samples_n =[]\n",
    "        poiexp_samples_n.append(np.random.choice(population_2, (1000, n)))\n",
    "        poiexp_samples_n = [np.mean(i, axis =1) for i in poiexp_samples_n]\n",
    "        \n",
    "        sns.distplot(poiexp_samples_n, kde = True, label = 'n = 100')\n",
    "        \n",
    "        \n",
    "    \n",
    "    count +=1\n",
    "\n",
    "plt.legend()"
   ]
  },
  {
   "cell_type": "code",
   "execution_count": null,
   "metadata": {},
   "outputs": [],
   "source": []
  },
  {
   "cell_type": "code",
   "execution_count": null,
   "metadata": {},
   "outputs": [],
   "source": []
  }
 ],
 "metadata": {
  "kernelspec": {
   "display_name": "Python 3",
   "language": "python",
   "name": "python3"
  },
  "language_info": {
   "codemirror_mode": {
    "name": "ipython",
    "version": 3
   },
   "file_extension": ".py",
   "mimetype": "text/x-python",
   "name": "python",
   "nbconvert_exporter": "python",
   "pygments_lexer": "ipython3",
   "version": "3.7.0"
  }
 },
 "nbformat": 4,
 "nbformat_minor": 2
}
