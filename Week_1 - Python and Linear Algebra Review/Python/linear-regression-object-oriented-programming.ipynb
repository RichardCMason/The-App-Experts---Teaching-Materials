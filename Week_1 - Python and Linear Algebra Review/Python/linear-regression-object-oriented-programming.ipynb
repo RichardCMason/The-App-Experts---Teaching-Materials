{
 "cells": [
  {
   "cell_type": "markdown",
   "metadata": {},
   "source": [
    "\n",
    "# Object-Oriented Programming: Coding a Linear Regression Class\n",
    "\n",
    "\n",
    "---\n",
    "\n",
    "### Learning Objectives\n",
    "\n",
    "- Describe the fundamentals of object-oriented programming in Python\n",
    "- Implement classes in Python 3.\n",
    "- Apply object-oriented programming concepts to build a linear regression class by hand"
   ]
  },
  {
   "cell_type": "markdown",
   "metadata": {},
   "source": [
    "### Lesson Guide\n",
    "\n",
    "- [Review the Linear Algebra Derivation of Coefficients for MLR](#review-mlr)\n",
    "- [Load the Simple Housing Data](#load-data)\n",
    "- [Classes and Objects](#classes-objects)\n",
    "- [Coding our Own `LinearRegression` Class](#coding-lr)\n",
    "    - [Starting a Basic Python Class](#starting-class)\n",
    "    - [Adding a Class Function](#class-function)\n",
    "    - [Assigning Attributes During Instantiation](#init-args)\n",
    "    - [Add Another Function to Add an Intercept](#intercept-adder)\n",
    "    - [Instantiate the Class](#instantiate)\n",
    "    - [Add a Predict Function](#predict)\n",
    "    - [Add a Score Function](#score)\n",
    "- [Verify Your Class Against the Scikit-Learn Implementation](#verify)\n",
    "- [Inspecting a Class](#inspection)\n",
    "- [Some Special Class Methods](#special)"
   ]
  },
  {
   "cell_type": "markdown",
   "metadata": {},
   "source": [
    "<a id='review-mlr'></a>\n",
    "\n",
    "> For a more in-depth review of the matrix form of OLS, see the [detailed review notebook](./ols_linear_algebra_review.ipynb) in this repo.\n",
    "\n",
    "---\n",
    "\n",
    "### The \"Least Squares\" Solution to Linear Regression\n",
    "\n",
    "With target vector $y$ and prediction matrix $X$, we can formulate a regression as:\n",
    "\n",
    "### $$ y = \\beta X + \\epsilon $$\n",
    "\n",
    "We can calculate our parameter $\\beta$ for each feature of $X$, using the following form.\n",
    "\n",
    "### $$ \\beta = (X'X)^{-1}X'y$$\n",
    "\n",
    "> **Linear Algebra Reference**\n",
    ">\n",
    "> The operations we will be performing to solve for $\\beta$ include:\n",
    "> - Dot Product\n",
    "$$\n",
    "A = (a_1, a_2, a_3) \\\\\n",
    "B = (a_1, a_2, a_3) \\\\\n",
    "A \\cdot B = a_1 b_1 + a_2 b_2 + a_3 b_3\n",
    "$$\n",
    "> - Matrix Transpose\n",
    "> <img src=\"https://upload.wikimedia.org/wikipedia/commons/thumb/e/e4/Matrix_transpose.gif/200px-Matrix_transpose.gif\">\n",
    "> - Inverse matrix: [Inverse Matrices (MIT)](https://math.mit.edu/~gs/linearalgebra/ila0205.pdf)\n"
   ]
  },
  {
   "cell_type": "code",
   "execution_count": 1,
   "metadata": {},
   "outputs": [
    {
     "name": "stderr",
     "output_type": "stream",
     "text": [
      "/Users/richardmason/anaconda3/lib/python3.6/site-packages/matplotlib/__init__.py:886: MatplotlibDeprecationWarning: \n",
      "examples.directory is deprecated; in the future, examples will be found relative to the 'datapath' directory.\n",
      "  \"found relative to the 'datapath' directory.\".format(key))\n"
     ]
    }
   ],
   "source": [
    "import pandas as pd\n",
    "import numpy as np\n",
    "import matplotlib\n",
    "import matplotlib.pyplot as plt\n",
    "import seaborn as sns\n",
    "\n",
    "sns.set_style('darkgrid')\n",
    "%config InlineBackend.figure_format = 'retina'\n",
    "%matplotlib inline"
   ]
  },
  {
   "cell_type": "code",
   "execution_count": 2,
   "metadata": {},
   "outputs": [
    {
     "data": {
      "text/html": [
       "<div>\n",
       "<style scoped>\n",
       "    .dataframe tbody tr th:only-of-type {\n",
       "        vertical-align: middle;\n",
       "    }\n",
       "\n",
       "    .dataframe tbody tr th {\n",
       "        vertical-align: top;\n",
       "    }\n",
       "\n",
       "    .dataframe thead th {\n",
       "        text-align: right;\n",
       "    }\n",
       "</style>\n",
       "<table border=\"1\" class=\"dataframe\">\n",
       "  <thead>\n",
       "    <tr style=\"text-align: right;\">\n",
       "      <th></th>\n",
       "      <th>count</th>\n",
       "      <th>mean</th>\n",
       "      <th>std</th>\n",
       "      <th>min</th>\n",
       "      <th>25%</th>\n",
       "      <th>50%</th>\n",
       "      <th>75%</th>\n",
       "      <th>max</th>\n",
       "    </tr>\n",
       "  </thead>\n",
       "  <tbody>\n",
       "    <tr>\n",
       "      <th>sqft</th>\n",
       "      <td>47.0</td>\n",
       "      <td>2000.680851</td>\n",
       "      <td>794.702354</td>\n",
       "      <td>852.0</td>\n",
       "      <td>1432.0</td>\n",
       "      <td>1888.0</td>\n",
       "      <td>2269.0</td>\n",
       "      <td>4478.0</td>\n",
       "    </tr>\n",
       "    <tr>\n",
       "      <th>bdrms</th>\n",
       "      <td>47.0</td>\n",
       "      <td>3.170213</td>\n",
       "      <td>0.760982</td>\n",
       "      <td>1.0</td>\n",
       "      <td>3.0</td>\n",
       "      <td>3.0</td>\n",
       "      <td>4.0</td>\n",
       "      <td>5.0</td>\n",
       "    </tr>\n",
       "    <tr>\n",
       "      <th>age</th>\n",
       "      <td>47.0</td>\n",
       "      <td>42.744681</td>\n",
       "      <td>22.873440</td>\n",
       "      <td>5.0</td>\n",
       "      <td>24.5</td>\n",
       "      <td>44.0</td>\n",
       "      <td>61.5</td>\n",
       "      <td>79.0</td>\n",
       "    </tr>\n",
       "    <tr>\n",
       "      <th>price</th>\n",
       "      <td>47.0</td>\n",
       "      <td>340412.659574</td>\n",
       "      <td>125039.899586</td>\n",
       "      <td>169900.0</td>\n",
       "      <td>249900.0</td>\n",
       "      <td>299900.0</td>\n",
       "      <td>384450.0</td>\n",
       "      <td>699900.0</td>\n",
       "    </tr>\n",
       "  </tbody>\n",
       "</table>\n",
       "</div>"
      ],
      "text/plain": [
       "       count           mean            std       min       25%       50%  \\\n",
       "sqft    47.0    2000.680851     794.702354     852.0    1432.0    1888.0   \n",
       "bdrms   47.0       3.170213       0.760982       1.0       3.0       3.0   \n",
       "age     47.0      42.744681      22.873440       5.0      24.5      44.0   \n",
       "price   47.0  340412.659574  125039.899586  169900.0  249900.0  299900.0   \n",
       "\n",
       "            75%       max  \n",
       "sqft     2269.0    4478.0  \n",
       "bdrms       4.0       5.0  \n",
       "age        61.5      79.0  \n",
       "price  384450.0  699900.0  "
      ]
     },
     "execution_count": 2,
     "metadata": {},
     "output_type": "execute_result"
    }
   ],
   "source": [
    "house = './datasets/housing-data.csv'\n",
    "house = pd.read_csv(house)\n",
    "\n",
    "X = house[['sqft', 'bdrms', 'age']]\n",
    "y = house['price']\n",
    "\n",
    "house.describe().T\n",
    "\n",
    "# np.ones((47, 1))\n",
    "\n",
    "# np.ones((X.shape[0], 1))"
   ]
  },
  {
   "cell_type": "code",
   "execution_count": 8,
   "metadata": {},
   "outputs": [],
   "source": [
    "from sklearn.linear_model import LinearRegression"
   ]
  },
  {
   "cell_type": "code",
   "execution_count": 9,
   "metadata": {},
   "outputs": [],
   "source": [
    "lr = LinearRegression()"
   ]
  },
  {
   "cell_type": "code",
   "execution_count": null,
   "metadata": {},
   "outputs": [],
   "source": []
  },
  {
   "cell_type": "code",
   "execution_count": 30,
   "metadata": {},
   "outputs": [],
   "source": [
    "class SimpleLinearRegression:\n",
    "    \n",
    "    coef_          = None\n",
    "    intercept_     = None\n",
    "    fit_intercept  = False\n",
    "    \n",
    "    if fit_intercept:\n",
    "            self.fit_intercept = fit_intercept\n",
    "    \n",
    "    def __init__(self, fit_intercept = True):\n",
    "        print(\"AHoy there matey..\")\n",
    "        \n",
    "    def add_intercept(X):\n",
    "        intercept = np.ones((X.shape[0], 1))\n",
    "        return np.concatenate([intercept, X], axis = 1)\n",
    "    \n",
    "    \n",
    "    def fit(self, X, y):\n",
    "        # print(\"X shape:\", X.shape, \"y shape: \", y.shape)\n",
    "        \n",
    "        if self.fit_intercept:\n",
    "            X = self.add_intercept(X)\n",
    "        \n",
    "        # Beta formula\n",
    "        # (X'X)^-1X'y\n",
    "        xt_x        = np.dot(X.T, X)         # (X'X)\n",
    "        xt_x_inv    = np.linalg.inv(xt_x)    # (X'X)^-1\n",
    "        xt_x_inv_xt = np.dot(xt_x_inv, X.T)  # (X'X)^-1X'\n",
    "        \n",
    "        self.coef_  = np.dot(xt_x_inv_xt, y) # (X'X)^-1X'y\n",
    "        \n",
    "    def predict(self, X):\n",
    "        \n",
    "        if self.fit_intercept:\n",
    "            X = self.add_intercept(X)\n",
    "        \n",
    "        return np.dot(X, self.coef_)"
   ]
  },
  {
   "cell_type": "code",
   "execution_count": 25,
   "metadata": {},
   "outputs": [
    {
     "name": "stdout",
     "output_type": "stream",
     "text": [
      "AHoy there matey..\n"
     ]
    }
   ],
   "source": [
    "slr = SimpleLinearRegression()"
   ]
  },
  {
   "cell_type": "code",
   "execution_count": 26,
   "metadata": {},
   "outputs": [
    {
     "ename": "TypeError",
     "evalue": "fit() takes 2 positional arguments but 3 were given",
     "output_type": "error",
     "traceback": [
      "\u001b[0;31m---------------------------------------------------------------------------\u001b[0m",
      "\u001b[0;31mTypeError\u001b[0m                                 Traceback (most recent call last)",
      "\u001b[0;32m<ipython-input-26-b4f40a1a62b1>\u001b[0m in \u001b[0;36m<module>\u001b[0;34m\u001b[0m\n\u001b[0;32m----> 1\u001b[0;31m \u001b[0mslr\u001b[0m\u001b[0;34m.\u001b[0m\u001b[0mfit\u001b[0m\u001b[0;34m(\u001b[0m\u001b[0mX\u001b[0m\u001b[0;34m,\u001b[0m \u001b[0my\u001b[0m\u001b[0;34m)\u001b[0m\u001b[0;34m\u001b[0m\u001b[0;34m\u001b[0m\u001b[0m\n\u001b[0m",
      "\u001b[0;31mTypeError\u001b[0m: fit() takes 2 positional arguments but 3 were given"
     ]
    }
   ],
   "source": [
    "slr.fit(X, y)"
   ]
  },
  {
   "cell_type": "code",
   "execution_count": null,
   "metadata": {},
   "outputs": [],
   "source": [
    "        \n",
    "        \n",
    "        if fit_intercept:\n",
    "            self.fit_intercept = fit_intercept"
   ]
  },
  {
   "cell_type": "code",
   "execution_count": 28,
   "metadata": {},
   "outputs": [],
   "source": [
    "\n",
    "    def add_intercept(self, X):\n",
    "        intercept = np.ones((X.shape[0], 1))\n",
    "        return np.concatenate([intercept, X], axis = 1)\n",
    "        \n",
    "    def fit(self, X, y):\n",
    "        # print(\"X shape:\", X.shape, \"y shape: \", y.shape)\n",
    "        \n",
    "        if self.fit_intercept:\n",
    "            X = self.add_intercept(X)\n",
    "        \n",
    "        # Beta formula\n",
    "        # (X'X)^-1X'y\n",
    "        xt_x        = np.dot(X.T, X)         # (X'X)\n",
    "        xt_x_inv    = np.linalg.inv(xt_x)    # (X'X)^-1\n",
    "        xt_x_inv_xt = np.dot(xt_x_inv, X.T)  # (X'X)^-1X'\n",
    "        \n",
    "        self.coef_  = np.dot(xt_x_inv_xt, y) # (X'X)^-1X'y\n",
    "    \n",
    "    def predict(self, X):\n",
    "        \n",
    "        if self.fit_intercept:\n",
    "            X = self.add_intercept(X)\n",
    "        \n",
    "        return np.dot(X, self.coef_)"
   ]
  },
  {
   "cell_type": "code",
   "execution_count": null,
   "metadata": {},
   "outputs": [],
   "source": []
  },
  {
   "cell_type": "code",
   "execution_count": 31,
   "metadata": {},
   "outputs": [
    {
     "name": "stdout",
     "output_type": "stream",
     "text": [
      "AHoy there matey..\n"
     ]
    }
   ],
   "source": [
    "slr = SimpleLinearRegression(fit_intercept = True)\n",
    "slr.fit(X, y)"
   ]
  },
  {
   "cell_type": "code",
   "execution_count": 32,
   "metadata": {},
   "outputs": [
    {
     "data": {
      "text/plain": [
       "Index(['sqft', 'bdrms', 'age'], dtype='object')"
      ]
     },
     "execution_count": 32,
     "metadata": {},
     "output_type": "execute_result"
    }
   ],
   "source": [
    "house['slr_yhat'] = slr.predict(X)\n",
    "house.head()\n",
    "\n",
    "X.columns"
   ]
  },
  {
   "cell_type": "code",
   "execution_count": 33,
   "metadata": {},
   "outputs": [
    {
     "data": {
      "text/html": [
       "<div>\n",
       "<style scoped>\n",
       "    .dataframe tbody tr th:only-of-type {\n",
       "        vertical-align: middle;\n",
       "    }\n",
       "\n",
       "    .dataframe tbody tr th {\n",
       "        vertical-align: top;\n",
       "    }\n",
       "\n",
       "    .dataframe thead th {\n",
       "        text-align: right;\n",
       "    }\n",
       "</style>\n",
       "<table border=\"1\" class=\"dataframe\">\n",
       "  <thead>\n",
       "    <tr style=\"text-align: right;\">\n",
       "      <th></th>\n",
       "      <th>sqft</th>\n",
       "      <th>bdrms</th>\n",
       "      <th>age</th>\n",
       "      <th>price</th>\n",
       "      <th>slr_yhat</th>\n",
       "      <th>sklearn_yhat</th>\n",
       "    </tr>\n",
       "  </thead>\n",
       "  <tbody>\n",
       "    <tr>\n",
       "      <th>0</th>\n",
       "      <td>2104</td>\n",
       "      <td>3</td>\n",
       "      <td>70</td>\n",
       "      <td>399900</td>\n",
       "      <td>354102.784233</td>\n",
       "      <td>354062.482512</td>\n",
       "    </tr>\n",
       "    <tr>\n",
       "      <th>1</th>\n",
       "      <td>1600</td>\n",
       "      <td>3</td>\n",
       "      <td>28</td>\n",
       "      <td>329900</td>\n",
       "      <td>274100.994856</td>\n",
       "      <td>287248.870630</td>\n",
       "    </tr>\n",
       "    <tr>\n",
       "      <th>2</th>\n",
       "      <td>2400</td>\n",
       "      <td>3</td>\n",
       "      <td>44</td>\n",
       "      <td>369000</td>\n",
       "      <td>389930.037375</td>\n",
       "      <td>397417.261957</td>\n",
       "    </tr>\n",
       "    <tr>\n",
       "      <th>3</th>\n",
       "      <td>1416</td>\n",
       "      <td>2</td>\n",
       "      <td>49</td>\n",
       "      <td>232000</td>\n",
       "      <td>238454.132742</td>\n",
       "      <td>268527.153863</td>\n",
       "    </tr>\n",
       "    <tr>\n",
       "      <th>4</th>\n",
       "      <td>3000</td>\n",
       "      <td>4</td>\n",
       "      <td>75</td>\n",
       "      <td>539900</td>\n",
       "      <td>495427.307249</td>\n",
       "      <td>469878.945319</td>\n",
       "    </tr>\n",
       "  </tbody>\n",
       "</table>\n",
       "</div>"
      ],
      "text/plain": [
       "   sqft  bdrms  age   price       slr_yhat   sklearn_yhat\n",
       "0  2104      3   70  399900  354102.784233  354062.482512\n",
       "1  1600      3   28  329900  274100.994856  287248.870630\n",
       "2  2400      3   44  369000  389930.037375  397417.261957\n",
       "3  1416      2   49  232000  238454.132742  268527.153863\n",
       "4  3000      4   75  539900  495427.307249  469878.945319"
      ]
     },
     "execution_count": 33,
     "metadata": {},
     "output_type": "execute_result"
    }
   ],
   "source": [
    "house.head()"
   ]
  },
  {
   "cell_type": "code",
   "execution_count": 7,
   "metadata": {},
   "outputs": [
    {
     "data": {
      "text/html": [
       "<div>\n",
       "<style scoped>\n",
       "    .dataframe tbody tr th:only-of-type {\n",
       "        vertical-align: middle;\n",
       "    }\n",
       "\n",
       "    .dataframe tbody tr th {\n",
       "        vertical-align: top;\n",
       "    }\n",
       "\n",
       "    .dataframe thead th {\n",
       "        text-align: right;\n",
       "    }\n",
       "</style>\n",
       "<table border=\"1\" class=\"dataframe\">\n",
       "  <thead>\n",
       "    <tr style=\"text-align: right;\">\n",
       "      <th></th>\n",
       "      <th>sqft</th>\n",
       "      <th>bdrms</th>\n",
       "      <th>age</th>\n",
       "      <th>price</th>\n",
       "      <th>slr_yhat</th>\n",
       "      <th>sklearn_yhat</th>\n",
       "    </tr>\n",
       "  </thead>\n",
       "  <tbody>\n",
       "    <tr>\n",
       "      <th>0</th>\n",
       "      <td>2104</td>\n",
       "      <td>3</td>\n",
       "      <td>70</td>\n",
       "      <td>399900</td>\n",
       "      <td>354062.482512</td>\n",
       "      <td>354062.482512</td>\n",
       "    </tr>\n",
       "    <tr>\n",
       "      <th>1</th>\n",
       "      <td>1600</td>\n",
       "      <td>3</td>\n",
       "      <td>28</td>\n",
       "      <td>329900</td>\n",
       "      <td>287248.870630</td>\n",
       "      <td>287248.870630</td>\n",
       "    </tr>\n",
       "    <tr>\n",
       "      <th>2</th>\n",
       "      <td>2400</td>\n",
       "      <td>3</td>\n",
       "      <td>44</td>\n",
       "      <td>369000</td>\n",
       "      <td>397417.261957</td>\n",
       "      <td>397417.261957</td>\n",
       "    </tr>\n",
       "    <tr>\n",
       "      <th>3</th>\n",
       "      <td>1416</td>\n",
       "      <td>2</td>\n",
       "      <td>49</td>\n",
       "      <td>232000</td>\n",
       "      <td>268527.153863</td>\n",
       "      <td>268527.153863</td>\n",
       "    </tr>\n",
       "    <tr>\n",
       "      <th>4</th>\n",
       "      <td>3000</td>\n",
       "      <td>4</td>\n",
       "      <td>75</td>\n",
       "      <td>539900</td>\n",
       "      <td>469878.945319</td>\n",
       "      <td>469878.945319</td>\n",
       "    </tr>\n",
       "  </tbody>\n",
       "</table>\n",
       "</div>"
      ],
      "text/plain": [
       "   sqft  bdrms  age   price       slr_yhat   sklearn_yhat\n",
       "0  2104      3   70  399900  354062.482512  354062.482512\n",
       "1  1600      3   28  329900  287248.870630  287248.870630\n",
       "2  2400      3   44  369000  397417.261957  397417.261957\n",
       "3  1416      2   49  232000  268527.153863  268527.153863\n",
       "4  3000      4   75  539900  469878.945319  469878.945319"
      ]
     },
     "execution_count": 7,
     "metadata": {},
     "output_type": "execute_result"
    }
   ],
   "source": [
    "from sklearn.linear_model import LinearRegression\n",
    "\n",
    "linear = LinearRegression()\n",
    "model = linear.fit(X, y)\n",
    "model.coef_\n",
    "\n",
    "pd.Series(slr.coef_)\n",
    "\n",
    "house['sklearn_yhat'] = model.predict(X)\n",
    "house.head()"
   ]
  },
  {
   "cell_type": "code",
   "execution_count": 35,
   "metadata": {},
   "outputs": [],
   "source": [
    "??LinearRegression"
   ]
  },
  {
   "cell_type": "markdown",
   "metadata": {},
   "source": [
    "<a id='load-data'></a>\n",
    "\n",
    "## Load the Simple Housing Data\n",
    "\n",
    "---\n",
    "\n",
    "This data set only has four columns. We can formulate simple regression problems with the data set to test our linear regression class down the line."
   ]
  },
  {
   "cell_type": "markdown",
   "metadata": {},
   "source": [
    "<a id='classes-objects'></a>\n",
    "\n",
    "## Classes and Objects\n",
    "\n",
    "---\n",
    "\n",
    "In Python, everything is an \"object\" of some type. This is the basis of what is known as **object-oriented programming (OOP)**.\n",
    "\n",
    "A *class* is a type of object. You can think of a class definition as a sort of blueprint that specifies the construction of a new object when instantiated.\n",
    "\n",
    "> **Note:** Knowing how to define and use classes is essential for programming with Python at an intermediate or advanced level. We will cover the basics here, which will help you understand how concepts like `LinearRegression` in scikit-learn work.\n"
   ]
  },
  {
   "cell_type": "markdown",
   "metadata": {},
   "source": [
    "## Why using OO Python:  Variable Scope\n",
    "We will build a basic class now and simply take a high level look at an \"instance\" of class and examine how class variables work, how they are similar to regular varibles, but how they are different."
   ]
  },
  {
   "cell_type": "code",
   "execution_count": 40,
   "metadata": {},
   "outputs": [],
   "source": [
    "# Create a basic student class and init 2 students!"
   ]
  },
  {
   "cell_type": "markdown",
   "metadata": {},
   "source": [
    "<a id='coding-lr'></a>\n",
    "\n",
    "## Coding our Own Version of the Scikit-Learn `LinearRegression` Class\n",
    "\n",
    "---\n",
    "\n",
    "By now you're familiar with the `LinearRegression` class in scikit-learn. We'll walk through the re-creation of this class (albeit a simplified version).\n",
    "\n",
    "\n",
    "<a id='starting-class'></a>\n",
    "### 1) Starting a basic Python class.\n",
    "\n",
    "Below is the beginning of our class blueprint:"
   ]
  },
  {
   "cell_type": "code",
   "execution_count": 3,
   "metadata": {
    "collapsed": true
   },
   "outputs": [],
   "source": [
    "# A:"
   ]
  },
  {
   "cell_type": "markdown",
   "metadata": {},
   "source": [
    "What are the components of the blueprint?\n",
    "\n",
    "**`class`**\n",
    "\n",
    "- `class` works like `def`, but instead of defining a function, it defines a class.\n",
    "\n",
    "**`def __init__(self)`**\n",
    "\n",
    "- `def __init__(self):` is our class' initialization function. This function is called when you instantiate the class by typing `SimpleLinearRegression()`.\n",
    "\n",
    "**`self`**\n",
    "\n",
    "- `self` is the first argument to class definitions. It's a variable that refers to the **current instantiation of the class**. What does this mean? When you instantiate a class and assign it to a variable with `slr = SimpleLinearRegression()`, the `self` argument becomes a reference to the current instantiation of the class `slr`. Now, when you use a function that is part of the class, it knows to use that specific object's function. This allows you to have multiple instantiations of a class with the same function name.\n",
    "\n",
    "**class attributes**\n",
    "\n",
    "- `self.coef_` and `self.intercept_` are both \"attributes\" (variables) that are connected to the instantiation of the class. When `self` becomes `slr`, for example, the `self` becomes `slr` and `self.coef_` becomes `slr.coef`."
   ]
  },
  {
   "cell_type": "markdown",
   "metadata": {},
   "source": [
    "---\n",
    "\n",
    "<a id='class-function'></a>\n",
    "### 2) Adding a class function.\n",
    "\n",
    "Just like with `__init__`, we can add functions to a class.\n",
    "\n",
    "**Let's add a `fit()` method that will calculate the coefficients for a linear regression.**\n",
    "- The function should have arguments `self`, `X`, and `y`.\n",
    "- Use the linear algebra equations above to calculate the coefficients and intercept.\n",
    "- Assign the coefficients to `self.coef_` and the intercept to `self.intercept_`."
   ]
  },
  {
   "cell_type": "code",
   "execution_count": 39,
   "metadata": {},
   "outputs": [],
   "source": [
    "# A:"
   ]
  },
  {
   "cell_type": "markdown",
   "metadata": {},
   "source": [
    "Notice how we assigned `self.coef_` inside of the `fit()` function.\n",
    "\n",
    "This will set the class attribute `self.coef_`, which can be accessed by _any other function in the class without passing it as an argument._\n",
    "\n",
    "You can also access it after instantiating the class."
   ]
  },
  {
   "cell_type": "markdown",
   "metadata": {},
   "source": [
    "---\n",
    "\n",
    "<a id='init-args'></a>\n",
    "### 3) Assigning attributes during instantiation.\n",
    "\n",
    "There's an issue here — we may pass an `X` matrix in without an intercept. \n",
    "\n",
    "**Add a keyword argument to the `__init__` function, which will specify whether or not the `X` matrix should have an  added intercept.**"
   ]
  },
  {
   "cell_type": "code",
   "execution_count": 6,
   "metadata": {
    "collapsed": true
   },
   "outputs": [],
   "source": [
    "# A:"
   ]
  },
  {
   "cell_type": "markdown",
   "metadata": {},
   "source": [
    "**Now, if we instantiate the class, it will assign `fit_intercept` to the class attribute `fit_intercept`. Try it out:**"
   ]
  },
  {
   "cell_type": "code",
   "execution_count": 7,
   "metadata": {
    "collapsed": true
   },
   "outputs": [],
   "source": [
    "# A:"
   ]
  },
  {
   "cell_type": "markdown",
   "metadata": {},
   "source": [
    "---\n",
    "\n",
    "<a id='intercept-adder'></a>\n",
    "### 4) Include a function to add an intercept to the `X` matrix if necessary.\n",
    "\n",
    "This function will be called from inside the `fit` function and run conditionally on the value of `self.fit_intercept`."
   ]
  },
  {
   "cell_type": "code",
   "execution_count": 8,
   "metadata": {
    "collapsed": true
   },
   "outputs": [],
   "source": [
    "# A:"
   ]
  },
  {
   "cell_type": "markdown",
   "metadata": {},
   "source": [
    "---\n",
    "\n",
    "<a id='instantiate'></a>\n",
    "### 5) Instantiate the class.\n",
    "\n",
    "At this point, we can try out our class. \n",
    "\n",
    "**Instantiate the class and try out the coefficient-fitting function on the housing data.**"
   ]
  },
  {
   "cell_type": "code",
   "execution_count": 9,
   "metadata": {
    "collapsed": true
   },
   "outputs": [],
   "source": [
    "# A:"
   ]
  },
  {
   "cell_type": "markdown",
   "metadata": {},
   "source": [
    "As with scikit-learn's `LinearRegression` class, after fitting the model, we now have access to the assigned `coef_` and `intercept_` attributes."
   ]
  },
  {
   "cell_type": "markdown",
   "metadata": {},
   "source": [
    "---\n",
    "\n",
    "<a id='predict'></a>\n",
    "### 6) Add the `predict` function.\n",
    "\n",
    "Let's add some more of the class methods that are in the real `LinearRegression` class.\n",
    "\n",
    "**First, add the `predict` function. It will take a design matrix `X` and return predictions for those rows.**"
   ]
  },
  {
   "cell_type": "code",
   "execution_count": 10,
   "metadata": {
    "collapsed": true
   },
   "outputs": [],
   "source": [
    "# A:"
   ]
  },
  {
   "cell_type": "markdown",
   "metadata": {},
   "source": [
    "**Test out the `predict` function.**"
   ]
  },
  {
   "cell_type": "code",
   "execution_count": 11,
   "metadata": {
    "collapsed": true
   },
   "outputs": [],
   "source": [
    "# A:"
   ]
  },
  {
   "cell_type": "markdown",
   "metadata": {},
   "source": [
    "---\n",
    "\n",
    "<a id='score'></a>\n",
    "### 7) Add a `score` function.\n",
    "\n",
    "This will calculate the $R^2$ of your model on a provided `X` and `y`.\n",
    "\n",
    "> **Note:** You'll probably want to write a helper function to calculate the sum of the squared errors, as this will be run for both the baseline model and the regression model in order to calculate the $R^2$."
   ]
  },
  {
   "cell_type": "code",
   "execution_count": 12,
   "metadata": {
    "collapsed": true
   },
   "outputs": [],
   "source": [
    "# A:"
   ]
  },
  {
   "cell_type": "markdown",
   "metadata": {},
   "source": [
    "<a id='verify'></a>\n",
    "\n",
    "## Verify Your Class Against the Scikit-Learn `LinearRegression` Implementation\n",
    "\n",
    "---\n",
    "\n",
    "Our class should return the same results for the $R^2$."
   ]
  },
  {
   "cell_type": "code",
   "execution_count": 13,
   "metadata": {
    "collapsed": true
   },
   "outputs": [],
   "source": [
    "# A:\n",
    "\n",
    "# Our comparison model from SKlearn\n",
    "from sklearn.linear_model import LinearRegression\n",
    "\n",
    "linear = LinearRegression()\n",
    "model = linear.fit(X, y)\n",
    "model.coef_"
   ]
  },
  {
   "cell_type": "markdown",
   "metadata": {},
   "source": [
    "<a id='inspection'></a>\n",
    "\n",
    "## Inspecting a Class\n",
    "\n",
    "---\n",
    "\n",
    "When we want to know more about a class object, we can use the \"inspect\" module. Specifically, the `inspect.getmembers()` function takes an instantiated class as an argument and returns it as an information dictionary.\n",
    "\n",
    "This help us know which attributes and methods are available and, basically, the blueprint of a class object in memory. Depending on the way the class was implemented, you can usually find useful information hiding inside of `slr.__class__.__dict__` (which can be easier to interpret). However, the \"right way\" is to use the \"inspect\" module."
   ]
  },
  {
   "cell_type": "code",
   "execution_count": 14,
   "metadata": {
    "collapsed": true
   },
   "outputs": [],
   "source": [
    "import inspect"
   ]
  },
  {
   "cell_type": "code",
   "execution_count": 15,
   "metadata": {
    "collapsed": true
   },
   "outputs": [],
   "source": [
    "# A:"
   ]
  },
  {
   "cell_type": "markdown",
   "metadata": {},
   "source": [
    "<a id='special'></a>\n",
    "\n",
    "## Some Special Class Methods\n",
    "\n",
    "---\n",
    "\n",
    "|Method| Description|\n",
    "|--|--|\n",
    "|\\_\\_init\\_\\_ ( self [,args...] )| Constructor (with any optional arguments). Sample call: `obj = className(args)`.\n",
    "|\\_\\_del\\_\\_( self ) | Destructor; deletes an object. Sample call: `del obj`.\n",
    "|\\_\\_repr\\_\\_( self ) | Evaluable string representation. Sample call: `repr(obj)`.\n",
    "|\\_\\_str\\_\\_( self ) | Printable string representation. Sample call: `str(obj)`.\n",
    "|\\_\\_cmp\\_\\_ ( self, x ) | Object comparison. Sample call: `cmp(obj, x)`.\n",
    "\n",
    "The `__repr__` function reports back a description of what the class represents. You can basically do whatever you want with it, but its purpose is to convey something descriptive about your class.\n",
    "\n",
    "The `__del__` method is the bookend function of `__init__`. You can use it to run code once your class has executed. Generally it works well, but in practice there are a few considerations to keep in mind. Read more about safely using Python destructors [here](http://eli.thegreenplace.net/2009/06/12/safely-using-destructors-in-python)."
   ]
  },
  {
   "cell_type": "code",
   "execution_count": null,
   "metadata": {
    "collapsed": true
   },
   "outputs": [],
   "source": []
  }
 ],
 "metadata": {
  "kernelspec": {
   "display_name": "Python 3",
   "language": "python",
   "name": "python3"
  },
  "language_info": {
   "codemirror_mode": {
    "name": "ipython",
    "version": 3
   },
   "file_extension": ".py",
   "mimetype": "text/x-python",
   "name": "python",
   "nbconvert_exporter": "python",
   "pygments_lexer": "ipython3",
   "version": "3.6.8"
  }
 },
 "nbformat": 4,
 "nbformat_minor": 1
}
