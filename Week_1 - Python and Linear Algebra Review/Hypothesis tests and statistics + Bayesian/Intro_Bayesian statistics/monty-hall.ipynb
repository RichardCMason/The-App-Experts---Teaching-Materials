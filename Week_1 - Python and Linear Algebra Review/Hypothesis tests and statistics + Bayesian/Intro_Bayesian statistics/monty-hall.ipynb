{
 "cells": [
  {
   "cell_type": "markdown",
   "metadata": {},
   "source": [
    "<img src=\"http://imgur.com/1ZcRyrc.png\" style=\"float: left; margin: 20px; height: 55px\">\n",
    "\n",
    "# Monty Hall\n",
    "\n",
    "_Authors: Matt Brems (DC)_\n",
    "\n",
    "---\n",
    "\n",
    "The \"Monty Hall Problem” is a famous statistical problem based on the game show \"Let's Make a Deal.\" (Monty Hall was the show’s original host.) \n",
    "\n",
    "If you haven't heard of this game show, no worries. We’ll break down the basics below.\n",
    "\n",
    "\"Let's Make a Deal\" features three doors labeled \"A,\" \"B,\" and \"C.\" As the contestant, you are told that, behind exactly one door, there’s a new car. Behind the other two doors are goats. Your goal is to select the door with the car behind it.\n",
    "\n",
    "The game goes as follows:\n",
    "\n",
    "1) You select a door.\n",
    "2) The game show host, knowing which door hides the car, opens one of the doors you didn’t select to reveal a goat. (Important: If you selected a door with a goat, the host picks the other door with a goat. If you started by selecting the door with the car, the host picks from the remaining two doors at random.)\n",
    "3) The host then asks you if you would like to stick with the door you originally picked or switch to the other remaining door."
   ]
  },
  {
   "cell_type": "markdown",
   "metadata": {},
   "source": [
    "### Question 1\n",
    "Suppose you pick a door. The host opens one of the remaining doors. You are then asked to either stick with your original choice or switch to the other remaining door. Based on your intuition, is it more advantageous to stick with your original choice, to switch to the remaining door, or does your probability of success not change?"
   ]
  },
  {
   "cell_type": "code",
   "execution_count": null,
   "metadata": {
    "collapsed": true
   },
   "outputs": [],
   "source": [
    "# A:"
   ]
  },
  {
   "cell_type": "markdown",
   "metadata": {},
   "source": [
    "Now, let's apply some Bayesian reasoning to this problem. Recall that the formula for Bayes' theorem — as applied to some data, $y$, and an unknown parameter, $\\theta$ — is:\n",
    "\n",
    "$$P(\\theta|y) = \\frac{P(y|\\theta)P(\\theta)}{P(y)} = \\frac{P(y|\\theta)P(\\theta)}{\\sum_{i=1}^nP(y|\\theta_i)P(\\theta_i)}$$\n",
    "\n",
    "Further recall that:\n",
    "\n",
    "- $P(\\theta)$ is the **prior probability** of $\\theta$.\n",
    "- $P(y|\\theta)$ is the **likelihood** of our data, $y$, given $\\theta$.\n",
    "- $P(y)$ is the **marginal likelihood** of our data, $y$.\n",
    "\n",
    "Our strategy here will be to find $P(\\theta|y)$ for $\\theta=A,B,C$ and decide which probability is highest."
   ]
  },
  {
   "cell_type": "markdown",
   "metadata": {},
   "source": [
    "For these scenarios, the data, $y$, represents that the host selects door B *and* that door B does not contain the car."
   ]
  },
  {
   "cell_type": "markdown",
   "metadata": {},
   "source": [
    "### Question 2\n",
    "\n",
    "Suppose you pick door A. The host opens door B to reveal a goat.\n",
    "\n",
    "For $P(\\theta=A|y=B)$, identify the prior, $P(\\theta=A)$, the likelihood, $P(y=B|\\theta=A)$, and the marginal likelihood, $P(y=B)$. Then, calculate the posterior, $P(\\theta=A|y=B)$."
   ]
  },
  {
   "cell_type": "code",
   "execution_count": null,
   "metadata": {
    "collapsed": true
   },
   "outputs": [],
   "source": [
    "## A:"
   ]
  },
  {
   "cell_type": "markdown",
   "metadata": {},
   "source": [
    "### Question 3\n",
    "Is this surprising? Why or why not?"
   ]
  },
  {
   "cell_type": "code",
   "execution_count": null,
   "metadata": {
    "collapsed": true
   },
   "outputs": [],
   "source": [
    "## A:"
   ]
  },
  {
   "cell_type": "markdown",
   "metadata": {},
   "source": [
    "### Question 4\n",
    "Suppose you pick door A. The host opens door B to reveal a goat.\n",
    "\n",
    "For $P(\\theta=B|y=B)$, identify the prior, $P(\\theta=B)$, the likelihood, $P(y=B|\\theta=B)$, and the marginal likelihood, $P(y=B)$. Then, calculate the posterior, $P(\\theta=B|y=B)$."
   ]
  },
  {
   "cell_type": "code",
   "execution_count": null,
   "metadata": {
    "collapsed": true
   },
   "outputs": [],
   "source": [
    "## A:"
   ]
  },
  {
   "cell_type": "markdown",
   "metadata": {},
   "source": [
    "### Question 5\n",
    "Is this surprising? Why or why not?"
   ]
  },
  {
   "cell_type": "code",
   "execution_count": null,
   "metadata": {
    "collapsed": true
   },
   "outputs": [],
   "source": [
    "## A:"
   ]
  },
  {
   "cell_type": "markdown",
   "metadata": {},
   "source": [
    "### Question 6\n",
    "Suppose you pick door A. The host opens door B to reveal a goat.\n",
    "\n",
    "For $P(\\theta=C|y)$, identify the prior, $P(\\theta=C)$, the likelihood, $P(y|\\theta=C)$, and the marginal likelihood, $P(y)$. Then, calculate the posterior, $P(\\theta=C|y)$."
   ]
  },
  {
   "cell_type": "code",
   "execution_count": null,
   "metadata": {
    "collapsed": true
   },
   "outputs": [],
   "source": [
    "## A:"
   ]
  },
  {
   "cell_type": "markdown",
   "metadata": {},
   "source": [
    "### Question 7\n",
    "Is this surprising? Why or why not?"
   ]
  },
  {
   "cell_type": "code",
   "execution_count": null,
   "metadata": {
    "collapsed": true
   },
   "outputs": [],
   "source": [
    "## A:"
   ]
  },
  {
   "cell_type": "markdown",
   "metadata": {},
   "source": [
    "### Question 8\n",
    "Build a function called `lets_make_a_deal()` that runs the \"Let's Make a Deal\" game by taking:\n",
    "- `'A'`, `'B'`, or `'C'` as the input for the door.\n",
    "- `'K'` or `'S'` as the input indicating \"keep\" or \"switch\" when asked.\n",
    "\n",
    "The function should return:\n",
    "- `'win'` if the contestant won.\n",
    "- `'lose'` if the contestant lost.\n",
    "\n",
    "Note: You'll need to make sure that, before anything else, the computer selects a random entry."
   ]
  },
  {
   "cell_type": "code",
   "execution_count": null,
   "metadata": {
    "collapsed": true
   },
   "outputs": [],
   "source": [
    "## A:"
   ]
  },
  {
   "cell_type": "markdown",
   "metadata": {},
   "source": [
    "### Question 9\n",
    "Simulate 10,000 games where the contestant always switches. Report your results."
   ]
  },
  {
   "cell_type": "code",
   "execution_count": null,
   "metadata": {
    "collapsed": true
   },
   "outputs": [],
   "source": [
    "## A:"
   ]
  }
 ],
 "metadata": {
  "anaconda-cloud": {},
  "kernelspec": {
   "display_name": "Python 3",
   "language": "python",
   "name": "python3"
  },
  "language_info": {
   "codemirror_mode": {
    "name": "ipython",
    "version": 3
   },
   "file_extension": ".py",
   "mimetype": "text/x-python",
   "name": "python",
   "nbconvert_exporter": "python",
   "pygments_lexer": "ipython3",
   "version": "3.6.5"
  }
 },
 "nbformat": 4,
 "nbformat_minor": 1
}
