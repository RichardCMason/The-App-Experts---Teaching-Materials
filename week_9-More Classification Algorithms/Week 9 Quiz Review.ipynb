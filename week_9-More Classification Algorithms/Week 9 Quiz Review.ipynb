{
 "cells": [
  {
   "cell_type": "markdown",
   "metadata": {},
   "source": [
    "1.) Understand the basic concept behind K-nearest neighbors.  Understand how the k parameter affects bias/variance.  "
   ]
  },
  {
   "cell_type": "markdown",
   "metadata": {},
   "source": [
    "2.) Understand the basic concepts behind Support Vector Machines.  Understand the proof we went over in class about why the SVM is a \"Maximum Margin Classifier.\" "
   ]
  },
  {
   "cell_type": "markdown",
   "metadata": {},
   "source": [
    "3.) Understand the main types of \"kernels\" used in svms"
   ]
  },
  {
   "cell_type": "markdown",
   "metadata": {},
   "source": [
    "4.) Be able to tell the ideal amount of observations and features to use a support vector machine over other models"
   ]
  },
  {
   "cell_type": "markdown",
   "metadata": {},
   "source": [
    "5.) Be able to tell which of the classification models we have discussed so far are parametric or non-parametric and what that means"
   ]
  },
  {
   "cell_type": "markdown",
   "metadata": {},
   "source": [
    "6.) Understand the theory behind the Naive Bayes algorithm.  Why is it called \"Naive\""
   ]
  },
  {
   "cell_type": "markdown",
   "metadata": {},
   "source": [
    "7.) Understand the basic concepts behind webscrapping.  In particular know the basic structure of HTML and the relevant libraries involved in webscraping"
   ]
  },
  {
   "cell_type": "markdown",
   "metadata": {},
   "source": [
    "8.) Understand the terms tokenization, stemming, lemmatization, NER, POS-tagging"
   ]
  },
  {
   "cell_type": "markdown",
   "metadata": {},
   "source": [
    "9.) Understand the tf-idf model"
   ]
  }
 ],
 "metadata": {
  "kernelspec": {
   "display_name": "Python 3",
   "language": "python",
   "name": "python3"
  },
  "language_info": {
   "codemirror_mode": {
    "name": "ipython",
    "version": 3
   },
   "file_extension": ".py",
   "mimetype": "text/x-python",
   "name": "python",
   "nbconvert_exporter": "python",
   "pygments_lexer": "ipython3",
   "version": "3.6.8"
  }
 },
 "nbformat": 4,
 "nbformat_minor": 2
}
