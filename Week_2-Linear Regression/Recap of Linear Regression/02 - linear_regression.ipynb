{
 "cells": [
  {
   "cell_type": "markdown",
   "metadata": {},
   "source": [
    "# Linear Regression\n",
    "\n",
    "This notebook tests two linear regression models without regularization. A model including all numerical features performs more strongly than a model limited to the five most correlated features\n"
   ]
  },
  {
   "cell_type": "code",
   "execution_count": 1,
   "metadata": {},
   "outputs": [],
   "source": [
    "import pandas as pd\n",
    "import numpy as np\n",
    "import seaborn as sns\n",
    "import matplotlib.pyplot as plt\n",
    "from sklearn.linear_model import LinearRegression\n",
    "import scipy.stats as stats\n",
    "from sklearn.metrics import  r2_score\n",
    "from sklearn.model_selection import  train_test_split, KFold, cross_val_score\n",
    "\n",
    "%matplotlib inline\n",
    "\n",
    "from scipy.stats import skew\n",
    "from scipy.stats.stats import pearsonr\n",
    "\n",
    "from sklearn.linear_model import Ridge, RidgeCV, ElasticNet, LassoCV, LassoLarsCV\n",
    "from sklearn.model_selection import cross_val_score\n",
    "\n",
    "# def rmse_cv(model):\n",
    "#     rmse= np.sqrt(-cross_val_score(model, X_train, y, scoring=\"neg_mean_squared_error\", cv = 5))\n",
    "#     return(rmse)\n",
    "import warnings\n",
    "warnings.filterwarnings('ignore')\n",
    "# def rmse_cv_train(model, X_train = X_train, y_train = y_train):\n",
    "#     rmse= np.sqrt(-cross_val_score(model, X_train, y_train, scoring = scorer, cv = kf))\n",
    "#     return(rmse)\n",
    "\n",
    "\n",
    "# def scores(combs, model):\n",
    "\n",
    "#     scores_rmse = []\n",
    "#     scores_r2 = []\n",
    "#     iterations = []\n",
    "\n",
    "#     for iteration in combs:\n",
    "    \n",
    "#         X_score = X_train.loc[:, iteration]\n",
    "#         model.fit(X_score, y_train)\n",
    "#         score_rmse = rmse_cv_train(model, X_train=X_score)\n",
    "#         score_r2 = cross_val_score(model, X_score, y_train, cv=kf)\n",
    "#         scores_rmse.append(score_rmse.mean())\n",
    "#         scores_r2.append(score_r2.mean())\n",
    "#         iterations.append(iteration)\n",
    "    \n",
    "#     max_score_rmse = min(scores_rmse)\n",
    "#     max_score_r2 = max(scores_r2)\n",
    "        \n",
    "    \n",
    "#     print('rmse score = ', max_score_rmse);\n",
    "#     print('from the combination of: ', iterations[scores_rmse.index(max_score_rmse)]);\n",
    "#     print('r2 score = ', max_score_r2);\n",
    "#     print('from the combination of: ', iterations[scores_r2.index(max_score_r2)])\n",
    "#     print('number of cross-folds: ', kf)\n",
    "\n",
    "# def scores_test(combs, model):\n",
    "#     scores_rmse_test = []\n",
    "#     scores_r2_test = []\n",
    "#     iterations_test = []\n",
    "\n",
    "#     for iteration in combs:\n",
    "    \n",
    "#         X_score = X_test.loc[:, iteration]\n",
    "#         model.fit(X_score, y_train)\n",
    "#         score_rmse = rmse_cv_test(model, X_train=X_score)\n",
    "#         score_r2 = cross_val_score(model, X_score, y_train, cv=kf)\n",
    "#         scores_rmse_test.append(score_rmse.mean())\n",
    "#         scores_r2_test.append(score_r2.mean())\n",
    "#         iterations_test.append(iteration)\n",
    "    \n",
    "#     max_score_rmse = min(scores_rmse_test)\n",
    "#     max_score_r2 = max(scores_r2_test)\n",
    "        \n",
    "    \n",
    "#     print('rmse score = ', max_score_rmse);\n",
    "#     print('from the combination of: ', iterations[scores_rmse_test.index(max_score_rmse)]);\n",
    "#     print('r2 score = ', max_score_r2);\n",
    "#     print('from the combination of: ', iterations[scores_r2_test.index(max_score_r2)])\n",
    "#     print('number of cross-folds: ', kf)\n",
    "\n",
    "\n",
    "def get_alphas(alphas):\n",
    "    cv_ridge = [rmse_cv_train(Ridge(alpha = alpha)).mean() \n",
    "            for alpha in alphas]\n",
    "    cv_ridge = pd.Series(cv_ridge, index = alphas)\n",
    "    cv_lasso = [rmse_cv_train(Lasso(alpha=alpha)).mean() for alpha in alphas]\n",
    "    cv_lasso = pd.series(cv_lasso, index=alphas)\n",
    "    \n",
    "\n",
    "    \n",
    "    \n",
    "    ridge_alpha = cv_ridge.idxmin()\n",
    "    lasso_alpha = cv_lasso.idxmin()\n",
    "    \n",
    "    print('best ridge alpha: ', ridge_alpha)\n",
    "    print('best lasso alpha: ', lasso_alpha)\n",
    "\n",
    "\n",
    "# def standardize_split(X, y):\n",
    "#     X_train, X_test, y_train, y_test = train_test_split(X, y, test_size=0.2, random_state=0)\n",
    "#     X_train, y_train = ss.fit_transform(X_train,y=y_train)\n",
    "#     X_test, y_test = ss.transform(X_test, y_test)\n",
    "#     X_train = pd.DataFrame(X_train, columns = X.columns)\n",
    "#     X_test = pd.DataFrame(X_test, columns = X.columns)\n",
    "\n"
   ]
  },
  {
   "cell_type": "code",
   "execution_count": 2,
   "metadata": {},
   "outputs": [],
   "source": [
    "df = pd.read_csv('/Users/richardmason/Downloads/Datasets/train_numbers_clean.csv')"
   ]
  },
  {
   "cell_type": "code",
   "execution_count": 3,
   "metadata": {},
   "outputs": [
    {
     "data": {
      "text/plain": [
       "0"
      ]
     },
     "execution_count": 3,
     "metadata": {},
     "output_type": "execute_result"
    }
   ],
   "source": [
    "\n",
    "df.isnull().sum().sum()\n"
   ]
  },
  {
   "cell_type": "code",
   "execution_count": 4,
   "metadata": {},
   "outputs": [],
   "source": [
    "df = df.drop(['Id', 'PID'], axis=1)"
   ]
  },
  {
   "cell_type": "code",
   "execution_count": 5,
   "metadata": {},
   "outputs": [],
   "source": [
    "X = df.drop('SalePrice', axis=1)\n",
    "y = df['SalePrice']"
   ]
  },
  {
   "cell_type": "code",
   "execution_count": 6,
   "metadata": {},
   "outputs": [],
   "source": [
    "X_train, X_test, y_train, y_test = train_test_split(X, y, random_state= 42)"
   ]
  },
  {
   "cell_type": "code",
   "execution_count": 7,
   "metadata": {},
   "outputs": [
    {
     "data": {
      "text/plain": [
       "(2051,)"
      ]
     },
     "execution_count": 7,
     "metadata": {},
     "output_type": "execute_result"
    }
   ],
   "source": [
    "y.shape"
   ]
  },
  {
   "cell_type": "code",
   "execution_count": 8,
   "metadata": {},
   "outputs": [
    {
     "data": {
      "text/plain": [
       "(2051, 37)"
      ]
     },
     "execution_count": 8,
     "metadata": {},
     "output_type": "execute_result"
    }
   ],
   "source": [
    "X.shape"
   ]
  },
  {
   "cell_type": "markdown",
   "metadata": {},
   "source": [
    "# Linear Regression ,all variables\n",
    "\n",
    "I don't think this will score very well, but it's the simplest place to start.\n",
    "\n",
    "Oh, huh, not bad."
   ]
  },
  {
   "cell_type": "code",
   "execution_count": 9,
   "metadata": {},
   "outputs": [],
   "source": [
    "lr = LinearRegression()"
   ]
  },
  {
   "cell_type": "code",
   "execution_count": 10,
   "metadata": {},
   "outputs": [
    {
     "data": {
      "text/plain": [
       "LinearRegression(copy_X=True, fit_intercept=True, n_jobs=1, normalize=False)"
      ]
     },
     "execution_count": 10,
     "metadata": {},
     "output_type": "execute_result"
    }
   ],
   "source": [
    "lr.fit(X_train, y_train)"
   ]
  },
  {
   "cell_type": "code",
   "execution_count": 11,
   "metadata": {},
   "outputs": [
    {
     "data": {
      "text/plain": [
       "0.8304876114008458"
      ]
     },
     "execution_count": 11,
     "metadata": {},
     "output_type": "execute_result"
    }
   ],
   "source": [
    "lr.score(X_train, y_train)"
   ]
  },
  {
   "cell_type": "code",
   "execution_count": 12,
   "metadata": {},
   "outputs": [
    {
     "data": {
      "text/plain": [
       "0.8639255829794248"
      ]
     },
     "execution_count": 12,
     "metadata": {},
     "output_type": "execute_result"
    }
   ],
   "source": [
    "lr.score(X_test, y_test)"
   ]
  },
  {
   "cell_type": "markdown",
   "metadata": {},
   "source": [
    "# Linear Regression, top correlated variables"
   ]
  },
  {
   "cell_type": "code",
   "execution_count": 13,
   "metadata": {
    "scrolled": true
   },
   "outputs": [],
   "source": [
    "\n",
    "five_lowest = list(pd.concat([X_train, y_train], axis = 1).corr()['SalePrice'].sort_values().index[:5])\n",
    "five_biggest = list(pd.concat([X_train, y_train], axis = 1).corr()['SalePrice'].sort_values(ascending=False).index[1:6])"
   ]
  },
  {
   "cell_type": "code",
   "execution_count": 14,
   "metadata": {},
   "outputs": [],
   "source": [
    "features = five_lowest +five_biggest"
   ]
  },
  {
   "cell_type": "code",
   "execution_count": 15,
   "metadata": {},
   "outputs": [
    {
     "data": {
      "text/plain": [
       "['Enclosed Porch',\n",
       " 'Kitchen AbvGr',\n",
       " 'Overall Cond',\n",
       " 'MS SubClass',\n",
       " 'Bsmt Half Bath',\n",
       " 'Overall Qual',\n",
       " 'Gr Liv Area',\n",
       " 'Garage Cars',\n",
       " 'Garage Area',\n",
       " 'Total Bsmt SF']"
      ]
     },
     "execution_count": 15,
     "metadata": {},
     "output_type": "execute_result"
    }
   ],
   "source": [
    "features"
   ]
  },
  {
   "cell_type": "markdown",
   "metadata": {},
   "source": [
    "# note to self -- kaggle uses RMSE, I should import that to test these!"
   ]
  },
  {
   "cell_type": "code",
   "execution_count": 16,
   "metadata": {},
   "outputs": [
    {
     "data": {
      "text/plain": [
       "LinearRegression(copy_X=True, fit_intercept=True, n_jobs=1, normalize=False)"
      ]
     },
     "execution_count": 16,
     "metadata": {},
     "output_type": "execute_result"
    }
   ],
   "source": [
    "lr = LinearRegression()\n",
    "\n",
    "lr.fit(X_train[features], y_train)"
   ]
  },
  {
   "cell_type": "code",
   "execution_count": 17,
   "metadata": {},
   "outputs": [
    {
     "name": "stdout",
     "output_type": "stream",
     "text": [
      "ElasticNet\t KFold\t LassoCV\t LassoLarsCV\t LinearRegression\t Ridge\t RidgeCV\t X\t X_test\t \n",
      "X_train\t cross_val_score\t df\t features\t five_biggest\t five_lowest\t get_alphas\t lr\t np\t \n",
      "pd\t pearsonr\t plt\t r2_score\t skew\t sns\t stats\t train_test_split\t warnings\t \n",
      "y\t y_test\t y_train\t \n"
     ]
    }
   ],
   "source": [
    "%who"
   ]
  },
  {
   "cell_type": "code",
   "execution_count": null,
   "metadata": {},
   "outputs": [],
   "source": []
  }
 ],
 "metadata": {
  "kernelspec": {
   "display_name": "Python 3",
   "language": "python",
   "name": "python3"
  },
  "language_info": {
   "codemirror_mode": {
    "name": "ipython",
    "version": 3
   },
   "file_extension": ".py",
   "mimetype": "text/x-python",
   "name": "python",
   "nbconvert_exporter": "python",
   "pygments_lexer": "ipython3",
   "version": "3.6.5"
  }
 },
 "nbformat": 4,
 "nbformat_minor": 2
}
