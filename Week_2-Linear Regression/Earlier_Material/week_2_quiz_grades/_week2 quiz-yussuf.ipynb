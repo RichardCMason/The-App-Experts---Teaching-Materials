{
 "cells": [
  {
   "cell_type": "code",
   "execution_count": 7,
   "metadata": {},
   "outputs": [
    {
     "ename": "SyntaxError",
     "evalue": "invalid syntax (<ipython-input-7-8d3b9d34b176>, line 1)",
     "output_type": "error",
     "traceback": [
      "\u001b[1;36m  File \u001b[1;32m\"<ipython-input-7-8d3b9d34b176>\"\u001b[1;36m, line \u001b[1;32m1\u001b[0m\n\u001b[1;33m    1.) Give a brief explanation of what each of the three most important python libraries does - a.) pandas are non-array data analysis method b.) numpy matrices and array data analysis method c.) matplotlib are a form of ploting data in a graohical representation.\u001b[0m\n\u001b[1;37m      ^\u001b[0m\n\u001b[1;31mSyntaxError\u001b[0m\u001b[1;31m:\u001b[0m invalid syntax\n"
     ]
    }
   ],
   "source": [
    "1.) Give a brief explanation of what each of the three most important python libraries does - a.) pandas are non-array data analysis method b.) numpy matrices and array data analysis method c.) matplotlib are a form of ploting data in a graohical representation.\n",
    "\n",
    "Double-click (or enter) to edit\n",
    "\n",
    "2.) Write a python list comprehension that will return every element in a list, L, cubed\n",
    "\n",
    "[ ]\n",
    "\n",
    "print(2**3)\n",
    "print(l**3)\n",
    "​\n",
    "3.) Write a function in python that will return the  R2  value for a given  y  and  y^ \n",
    "[ ]\n",
    "\n",
    "r2= (sum().(x-x_hat)(y-y_hat))/(sum().(x-x_hat)^2(y-y_hat)^2)\n",
    "4.) Write the code that will give total number of NaN values in each column in a pandas dataframe, df.\n",
    "\n",
    "[ ]\n",
    "\n",
    "​\n",
    "df.isna().sum()\n",
    "5.) If a model has high variance, then: a.) is it likely underfit or overfit? b.) is it likely to have high bias or low bias? c.) have a higher test RMSE or a lower test RMSE, compared to the training set RMSE d.) have a higher test  R2  or a lower test  R2 , compared to the training set  R2 \n",
    "a.) its like to be underfited\n",
    "\n",
    "b.)low bais\n",
    "\n",
    "c.)lower RMSE\n",
    "\n",
    "d.) lower test R^2\n",
    "\n",
    "6.) What is the two step process for \"importing\" packages in R(the two commands)? Write the code below\n",
    "\n",
    "[ ]\n",
    "\n",
    "kage\n",
    "install.packages(wanted package)\n",
    "library(wanted package)\n",
    "7.) In the equation  y^=w0+w1x1+w2x2  how do we interpret the coefficient  w1 ?\n",
    "\n",
    "The coefficient w1 can be interpreted by the formula w1=r(changes in y/ changes in x)\n",
    "\n",
    "Double-click (or enter) to edit\n",
    "\n",
    "8.) What is the \"cost\" or \"loss\" function associated with linear regression?\n",
    "\n",
    "Double-click (or enter) to edit\n",
    "\n",
    "9.) Explain why we would want to split our data into a training and test set the reason is to be able to make a model system that will be able to predict furture events/trends related to the data collected. i.e likely sales in the next month. Thus we need to spilt the data into training and test to first train our model to perform how we want and to test it later to see if the model is able make the predictions that we want.\n",
    "\n",
    "Double-click (or enter) to edit\n",
    "\n",
    "10.) In R, what is the function we use to make a linear regression?\n",
    "\n",
    "lm.fit<-lm(y ~x, data=())\n",
    "\n",
    "where \"y\" is what your are seeking, \"x\" the vairables that is used to determine \"y \" and the data is the data you are working with.\n",
    "\n",
    "Double-click (or enter) to edit\n",
    "\n",
    "11.) Name and briefly describe one cross-validation technique The cross-validation technique the method of making sure that during the train of the model does not use too much of one specific data that will sque to one direction and instead use a cross section of data to make sure that the model is all incompusing . One such technique is the KFolded technique which separates the training data into differernt cross sections and then performs the mechane learning multiple times\n",
    "\n",
    "Double-click (or enter) to edit\n",
    "\n",
    "[ ]\n",
    "\n",
    "​\n",
    "Bonus: Give the formula of the normal equation\n",
    "\n",
    "from sklearn.model_selection import cross_val_score\n",
    "\n",
    "cross_val_score(lm, x_train, y_train, cv=5)\n",
    "\n",
    "Double-click (or enter) to edit"
   ]
  },
  {
   "cell_type": "code",
   "execution_count": null,
   "metadata": {},
   "outputs": [],
   "source": []
  }
 ],
 "metadata": {
  "kernelspec": {
   "display_name": "Python 3",
   "language": "python",
   "name": "python3"
  },
  "language_info": {
   "codemirror_mode": {
    "name": "ipython",
    "version": 3
   },
   "file_extension": ".py",
   "mimetype": "text/x-python",
   "name": "python",
   "nbconvert_exporter": "python",
   "pygments_lexer": "ipython3",
   "version": "3.6.5"
  }
 },
 "nbformat": 4,
 "nbformat_minor": 2
}
