{
 "cells": [
  {
   "cell_type": "markdown",
   "metadata": {},
   "source": [
    "1.) Give a brief explanation of what each of the three most important python libraries does - a.) pandas b.) numpy c.) matplotlib"
   ]
  },
  {
   "cell_type": "markdown",
   "metadata": {},
   "source": []
  },
  {
   "cell_type": "code",
   "execution_count": null,
   "metadata": {},
   "outputs": [],
   "source": [
    "pandas: is a library based on numpy, c and other languages. With pandas we can work with the data frames. \n",
    "pe, when downloaded the csv of titanic and carried on an analysis of the file.\n",
    "Numpy: is allow us to work with list, array, etc. We can create random sample from an already created sample or a distribution \n",
    "like a normal distribution, binomial, poisson...\n",
    "matplot.lib: we use this library to plot data on a graph. For expamle, an histogram or point. "
   ]
  },
  {
   "cell_type": "code",
   "execution_count": 1,
   "metadata": {},
   "outputs": [],
   "source": [
    "import matplotlib as plt"
   ]
  },
  {
   "cell_type": "markdown",
   "metadata": {},
   "source": [
    "2.) Write a python list comprehension that will return every element in a list, L, cubed"
   ]
  },
  {
   "cell_type": "code",
   "execution_count": 2,
   "metadata": {},
   "outputs": [],
   "source": [
    "import numpy as np\n",
    "import pandas as pd"
   ]
  },
  {
   "cell_type": "code",
   "execution_count": 22,
   "metadata": {
    "scrolled": true
   },
   "outputs": [
    {
     "name": "stderr",
     "output_type": "stream",
     "text": [
      "C:\\Users\\Thinkpad-07\\Anaconda3\\lib\\site-packages\\ipykernel_launcher.py:1: DeprecationWarning: This function is deprecated. Please call randint(0, 10 + 1) instead\n",
      "  \"\"\"Entry point for launching an IPython kernel.\n"
     ]
    },
    {
     "data": {
      "text/plain": [
       "array([7, 5, 6, 1, 8, 3, 5, 3, 6, 0])"
      ]
     },
     "execution_count": 22,
     "metadata": {},
     "output_type": "execute_result"
    }
   ],
   "source": [
    "l=np.random.random_integers(0,10,10)\n",
    "l"
   ]
  },
  {
   "cell_type": "code",
   "execution_count": 23,
   "metadata": {},
   "outputs": [
    {
     "name": "stdout",
     "output_type": "stream",
     "text": [
      "[343   5   6   1   8   3   5   3   6   0]\n",
      "[343 125   6   1   8   3   5   3   6   0]\n",
      "[343 125 216   1   8   3   5   3   6   0]\n",
      "[343 125 216   1   8   3   5   3   6   0]\n",
      "[343 125 216   1 512   3   5   3   6   0]\n",
      "[343 125 216   1 512  27   5   3   6   0]\n",
      "[343 125 216   1 512  27 125   3   6   0]\n",
      "[343 125 216   1 512  27 125  27   6   0]\n",
      "[343 125 216   1 512  27 125  27 216   0]\n",
      "[343 125 216   1 512  27 125  27 216   0]\n"
     ]
    }
   ],
   "source": [
    "for i in range(0,10):\n",
    "    l[i]=l[i]**3\n",
    "    print(l)\n"
   ]
  },
  {
   "cell_type": "markdown",
   "metadata": {},
   "source": [
    "3.) Write a function in python that will return the $R^2$ value for a given $y$ and $\\hat{y}$"
   ]
  },
  {
   "cell_type": "markdown",
   "metadata": {},
   "source": [
    "from sklearn.linear_model import LinearRegression\n",
    "lm=LinearRegression()\n",
    "lm.fit(X, y)\n",
    "y_hat=lm.predict(X)\n",
    "lm.score(X,y)"
   ]
  },
  {
   "cell_type": "code",
   "execution_count": null,
   "metadata": {},
   "outputs": [],
   "source": []
  },
  {
   "cell_type": "markdown",
   "metadata": {},
   "source": [
    "4.) Write the code that will give total number of NaN values in each column in a pandas dataframe, df."
   ]
  },
  {
   "cell_type": "code",
   "execution_count": null,
   "metadata": {},
   "outputs": [],
   "source": [
    "# import pandas library\n",
    "\n",
    "df.isna().sum()"
   ]
  },
  {
   "cell_type": "markdown",
   "metadata": {},
   "source": [
    "5.) If a model has high variance, then:\n",
    "a.) is it likely underfit or overfit?\n",
    "b.) is it likely to have high bias or low bias?\n",
    "c.) have a higher test RMSE or a lower test RMSE, compared to the training set RMSE\n",
    "d.) have a higher test $R^2$ or a lower test $R^2$, compared to the training set $R^2$"
   ]
  },
  {
   "cell_type": "markdown",
   "metadata": {},
   "source": [
    "a.) underfit.The model may not represent good the distribution of the values\n",
    "\n",
    "b.) hight vias. The difference between y and y_hat values is big\n",
    "\n",
    "c.) this depends on the split selected. But as it has a hight variance, it's more likely to have worse test RMSE\n",
    "\n",
    "d.) i model with high variance is not a good model. Thus, is not a good representation of future data. \n",
    " so we may ave wose R2_test values"
   ]
  },
  {
   "cell_type": "markdown",
   "metadata": {},
   "source": [
    "6.) What is the two step process for \"importing\" packages in R(the two commands)?  Write the code below"
   ]
  },
  {
   "cell_type": "code",
   "execution_count": null,
   "metadata": {},
   "outputs": [],
   "source": [
    "# 1. install.pakages('name of package'): istall.packages('dplyr')\n",
    "# 2.import library: library(dplyr)"
   ]
  },
  {
   "cell_type": "markdown",
   "metadata": {},
   "source": [
    "7.) In the equation $\\hat{y} = w_0 + w_1x_1 + w_2x_2$ how do we interpret the coefficient $w_1$?"
   ]
  },
  {
   "cell_type": "markdown",
   "metadata": {},
   "source": []
  },
  {
   "cell_type": "markdown",
   "metadata": {},
   "source": [
    "8.) What is the \"cost\" or \"loss\" function associated with linear regression?"
   ]
  },
  {
   "cell_type": "markdown",
   "metadata": {},
   "source": []
  },
  {
   "cell_type": "markdown",
   "metadata": {},
   "source": [
    "9.) Explain why we would want to split our data into a training and test set"
   ]
  },
  {
   "cell_type": "code",
   "execution_count": 24,
   "metadata": {},
   "outputs": [],
   "source": [
    "# this way  we can evaluate the model created with the train data with the test value data. Considering this last\n",
    "# as future data which our model could face in the future"
   ]
  },
  {
   "cell_type": "markdown",
   "metadata": {},
   "source": []
  },
  {
   "cell_type": "markdown",
   "metadata": {},
   "source": [
    "10.) In R, what is the function we use to make a linear regression?"
   ]
  },
  {
   "cell_type": "code",
   "execution_count": null,
   "metadata": {},
   "outputs": [],
   "source": [
    "# lm(x,y)"
   ]
  },
  {
   "cell_type": "markdown",
   "metadata": {},
   "source": []
  },
  {
   "cell_type": "markdown",
   "metadata": {},
   "source": [
    "11.) Name and briefly describe one cross-validation technique"
   ]
  },
  {
   "cell_type": "code",
   "execution_count": null,
   "metadata": {},
   "outputs": [],
   "source": [
    "from teain_test_split, carry on different split based on k-fold of the same sample and give different\n",
    "values of R2 with the method cross_val_score. \n",
    "we normally get the mean of thore r2 values"
   ]
  },
  {
   "cell_type": "markdown",
   "metadata": {},
   "source": []
  },
  {
   "cell_type": "markdown",
   "metadata": {},
   "source": [
    "Bonus: Give the formula of the normal equation"
   ]
  },
  {
   "cell_type": "markdown",
   "metadata": {},
   "source": []
  }
 ],
 "metadata": {
  "kernelspec": {
   "display_name": "Python 3",
   "language": "python",
   "name": "python3"
  },
  "language_info": {
   "codemirror_mode": {
    "name": "ipython",
    "version": 3
   },
   "file_extension": ".py",
   "mimetype": "text/x-python",
   "name": "python",
   "nbconvert_exporter": "python",
   "pygments_lexer": "ipython3",
   "version": "3.6.5"
  }
 },
 "nbformat": 4,
 "nbformat_minor": 2
}
