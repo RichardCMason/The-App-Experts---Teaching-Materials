{
 "cells": [
  {
   "cell_type": "markdown",
   "metadata": {},
   "source": [
    "1.) Give a brief explanation of what each of the three most important python libraries does - a.) pandas b.) numpy c.) matplotlib"
   ]
  },
  {
   "cell_type": "markdown",
   "metadata": {},
   "source": [
    "*a) Pandas is developed for data frame, improving the presentation and visualization\n",
    "\n",
    "*b) Numpy is regarded to most of the maths operations\n",
    "\n",
    "*c) Matplotlib is designed for graphical presentation which support seaborn (advanced plotting package)"
   ]
  },
  {
   "cell_type": "markdown",
   "metadata": {},
   "source": [
    "2.) Write a python list comprehension that will return every element in a list, L, cubed"
   ]
  },
  {
   "cell_type": "code",
   "execution_count": 1,
   "metadata": {},
   "outputs": [
    {
     "data": {
      "text/plain": [
       "[1, 8, 27, 64]"
      ]
     },
     "execution_count": 1,
     "metadata": {},
     "output_type": "execute_result"
    }
   ],
   "source": [
    "L = [1,2,3,4]\n",
    "[i**3 for i in L]"
   ]
  },
  {
   "cell_type": "code",
   "execution_count": 8,
   "metadata": {},
   "outputs": [
    {
     "name": "stdout",
     "output_type": "stream",
     "text": [
      "[1.00000000e+00 2.67643347e+02 1.68044307e+03 5.20770370e+03\n",
      " 1.18177298e+04 2.24788258e+04 3.81592963e+04 5.98274458e+04\n",
      " 8.84515789e+04 1.25000000e+05]\n"
     ]
    }
   ],
   "source": [
    "import numpy as np\n",
    "#L = list(range(1,50,10))**3\n",
    "L = np.linspace(1,50,10)**3\n",
    "print(L)"
   ]
  },
  {
   "cell_type": "markdown",
   "metadata": {},
   "source": [
    "3.) Write a function in python that will return the $R^2$ value for a given $y$ and $\\hat{y}$"
   ]
  },
  {
   "cell_type": "code",
   "execution_count": null,
   "metadata": {},
   "outputs": [],
   "source": [
    "def r_2(y,y_hat):\n",
    "    return np.sum"
   ]
  },
  {
   "cell_type": "code",
   "execution_count": 10,
   "metadata": {},
   "outputs": [],
   "source": [
    "\n",
    "from sklearn.linear_model import LinearRegression\n",
    "lr =  LinearRegression\n",
    "\n",
    "lr.score(y, y_hat)"
   ]
  },
  {
   "cell_type": "markdown",
   "metadata": {},
   "source": [
    "4.) Write the code that will give total number of NaN values in each column in a pandas dataframe, df."
   ]
  },
  {
   "cell_type": "code",
   "execution_count": null,
   "metadata": {},
   "outputs": [],
   "source": [
    "df.isna().sum()"
   ]
  },
  {
   "cell_type": "markdown",
   "metadata": {},
   "source": [
    "5.) If a model has high variance, then:\n",
    "a.) is it likely underfit or overfit?\n",
    "b.) is it likely to have high bias or low bias?\n",
    "c.) have a higher test RMSE or a lower test RMSE, compared to the training set RMSE\n",
    "d.) have a higher test $R^2$ or a lower test $R^2$, compared to the training set $R^2$"
   ]
  },
  {
   "cell_type": "markdown",
   "metadata": {},
   "source": [
    "a.) No, it is underfit\n",
    "\n",
    "b.) High\n",
    "\n",
    "c.) ?\n",
    "\n",
    "d.) Lower, because if -> $1- \\sum{\\frac{(y - \\hat{y})}{(y - \\bar{y})}}$"
   ]
  },
  {
   "cell_type": "markdown",
   "metadata": {},
   "source": [
    "6.) What is the two step process for \"importing\" packages in R(the two commands)?  Write the code below"
   ]
  },
  {
   "cell_type": "code",
   "execution_count": 9,
   "metadata": {},
   "outputs": [
    {
     "ename": "ImportError",
     "evalue": "cannot import name 'score' from 'sklearn' (C:\\Users\\lmanu\\Anaconda3\\lib\\site-packages\\sklearn\\__init__.py)",
     "output_type": "error",
     "traceback": [
      "\u001b[1;31m---------------------------------------------------------------------------\u001b[0m",
      "\u001b[1;31mImportError\u001b[0m                               Traceback (most recent call last)",
      "\u001b[1;32m<ipython-input-9-30c59e288988>\u001b[0m in \u001b[0;36m<module>\u001b[1;34m\u001b[0m\n\u001b[1;32m----> 1\u001b[1;33m \u001b[1;32mfrom\u001b[0m \u001b[0msklearn\u001b[0m \u001b[1;32mimport\u001b[0m \u001b[0mscore\u001b[0m\u001b[1;33m\u001b[0m\u001b[1;33m\u001b[0m\u001b[0m\n\u001b[0m",
      "\u001b[1;31mImportError\u001b[0m: cannot import name 'score' from 'sklearn' (C:\\Users\\lmanu\\Anaconda3\\lib\\site-packages\\sklearn\\__init__.py)"
     ]
    }
   ],
   "source": [
    "from sklearn.linear_model import LinearRegression\n",
    "lr =  LinearRegression\n",
    "\n",
    "R = lr.score(Y(variable1), Y(variable2))"
   ]
  },
  {
   "cell_type": "markdown",
   "metadata": {},
   "source": [
    "7.) In the equation $\\hat{y} = w_0 + w_1x_1 + w_2x_2$ how do we interpret the coefficient $w_1$?"
   ]
  },
  {
   "cell_type": "markdown",
   "metadata": {},
   "source": [
    "Declive of the function $y_{1}$"
   ]
  },
  {
   "cell_type": "markdown",
   "metadata": {},
   "source": [
    "8.) What is the \"cost\" or \"loss\" function associated with linear regression?"
   ]
  },
  {
   "cell_type": "markdown",
   "metadata": {},
   "source": [
    "The \"cost\" associated with linear regression is it simplicity which can lead to increasing the bias in into model. Many data relationship presents non-linear relationship which in turn might not be  well aproximated by Linear Regression."
   ]
  },
  {
   "cell_type": "markdown",
   "metadata": {},
   "source": [
    "9.) Explain why we would want to split our data into a training and test set"
   ]
  },
  {
   "cell_type": "markdown",
   "metadata": {},
   "source": [
    "SPlitting allows to guarantee that the model can be replicate very. Splitting, is a strategy to verify the acuracy of the model, analysisng it with different data sets."
   ]
  },
  {
   "cell_type": "markdown",
   "metadata": {},
   "source": [
    "10.) In R, what is the function we use to make a linear regression?"
   ]
  },
  {
   "cell_type": "markdown",
   "metadata": {},
   "source": [
    "summary(lm.fit)"
   ]
  },
  {
   "cell_type": "markdown",
   "metadata": {},
   "source": [
    "11.) Name and briefly describe one cross-validation technique"
   ]
  },
  {
   "cell_type": "markdown",
   "metadata": {},
   "source": [
    "RFold()"
   ]
  },
  {
   "cell_type": "markdown",
   "metadata": {},
   "source": [
    "Bonus: Give the formula of the normal equation"
   ]
  },
  {
   "cell_type": "markdown",
   "metadata": {},
   "source": [
    "np.random.normal(20,8, 200) #20 (median), 4 (standard deviation), 200 (number of points)"
   ]
  }
 ],
 "metadata": {
  "kernelspec": {
   "display_name": "Python 3",
   "language": "python",
   "name": "python3"
  },
  "language_info": {
   "codemirror_mode": {
    "name": "ipython",
    "version": 3
   },
   "file_extension": ".py",
   "mimetype": "text/x-python",
   "name": "python",
   "nbconvert_exporter": "python",
   "pygments_lexer": "ipython3",
   "version": "3.6.5"
  }
 },
 "nbformat": 4,
 "nbformat_minor": 2
}
