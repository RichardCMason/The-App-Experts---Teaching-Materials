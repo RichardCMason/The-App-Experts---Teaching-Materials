{
 "cells": [
  {
   "cell_type": "markdown",
   "metadata": {},
   "source": [
    "1.) Give a brief explanation of what each of the three most important python libraries does - a.) pandas b.) numpy c.) matplotlib"
   ]
  },
  {
   "cell_type": "markdown",
   "metadata": {},
   "source": []
  },
  {
   "cell_type": "markdown",
   "metadata": {},
   "source": [
    "pandas: is a software library for data manipulation and analysis.  it offers data structures and operations for manipulating numerical tables and time series.\n",
    "numby: adding support for large, multi-dimensional arrays and matrices, along with a large collection of high-level mathematical functions to operate on these arrays.\n",
    "Matplotlib: is a plotting library."
   ]
  },
  {
   "cell_type": "markdown",
   "metadata": {},
   "source": [
    "2.) Write a python list comprehension that will return every element in a list, L, cubed"
   ]
  },
  {
   "cell_type": "code",
   "execution_count": 9,
   "metadata": {},
   "outputs": [
    {
     "name": "stdout",
     "output_type": "stream",
     "text": [
      "[1, 8, 27, 64, 125]\n"
     ]
    }
   ],
   "source": [
    "q = [1,2,3,4,5]\n",
    "\n",
    "for i in q:\n",
    "    q[i - 1] = i**3\n",
    "    \n",
    "print (q)"
   ]
  },
  {
   "cell_type": "markdown",
   "metadata": {},
   "source": [
    "3.) Write a function in python that will return the $R^2$ value for a given $y$ and $\\hat{y}$"
   ]
  },
  {
   "cell_type": "code",
   "execution_count": null,
   "metadata": {},
   "outputs": [],
   "source": []
  },
  {
   "cell_type": "markdown",
   "metadata": {},
   "source": [
    "4.) Write the code that will give total number of NaN values in each column in a pandas dataframe, df."
   ]
  },
  {
   "cell_type": "code",
   "execution_count": null,
   "metadata": {},
   "outputs": [],
   "source": [
    "df.isna().sum().sort_values(ascending = False)"
   ]
  },
  {
   "cell_type": "markdown",
   "metadata": {},
   "source": [
    "5.) If a model has high variance, then:\n",
    "a.) is it likely underfit or overfit?\n",
    "b.) is it likely to have high bias or low bias?\n",
    "c.) have a higher test RMSE or a lower test RMSE, compared to the training set RMSE\n",
    "d.) have a higher test $R^2$ or a lower test $R^2$, compared to the training set $R^2$"
   ]
  },
  {
   "cell_type": "markdown",
   "metadata": {},
   "source": [
    "a.) Overfit \n",
    "\n",
    "b.) low bias\n",
    "\n",
    "c.)\n",
    "\n",
    "d.) lower R*2"
   ]
  },
  {
   "cell_type": "markdown",
   "metadata": {},
   "source": [
    "6.) What is the two step process for \"importing\" packages in R(the two commands)?  Write the code below"
   ]
  },
  {
   "cell_type": "markdown",
   "metadata": {},
   "source": [
    "install.packages('pandas')\n",
    "library(pandas)\n",
    "\n",
    "pandas"
   ]
  },
  {
   "cell_type": "markdown",
   "metadata": {},
   "source": [
    "7.) In the equation $\\hat{y} = w_0 + w_1x_1 + w_2x_2$ how do we interpret the coefficient $w_1$?"
   ]
  },
  {
   "cell_type": "markdown",
   "metadata": {},
   "source": [
    "in evry "
   ]
  },
  {
   "cell_type": "markdown",
   "metadata": {},
   "source": [
    "8.) What is the \"cost\" or \"loss\" function associated with linear regression?"
   ]
  },
  {
   "cell_type": "markdown",
   "metadata": {},
   "source": []
  },
  {
   "cell_type": "markdown",
   "metadata": {},
   "source": [
    "9.) Explain why we would want to split our data into a training and test set"
   ]
  },
  {
   "cell_type": "markdown",
   "metadata": {},
   "source": [
    "becasue we dont want our data to be over fited "
   ]
  },
  {
   "cell_type": "markdown",
   "metadata": {},
   "source": [
    "10.) In R, what is the function we use to make a linear regression?"
   ]
  },
  {
   "cell_type": "markdown",
   "metadata": {},
   "source": [
    "lm.fit<-lm(x~y , data = )"
   ]
  },
  {
   "cell_type": "markdown",
   "metadata": {},
   "source": [
    "11.) Name and briefly describe one cross-validation technique"
   ]
  },
  {
   "cell_type": "markdown",
   "metadata": {},
   "source": [
    "k-fold Cross-Validation\n"
   ]
  },
  {
   "cell_type": "markdown",
   "metadata": {},
   "source": [
    "Bonus: Give the formula of the normal equation"
   ]
  },
  {
   "cell_type": "markdown",
   "metadata": {},
   "source": []
  }
 ],
 "metadata": {
  "kernelspec": {
   "display_name": "Python 3",
   "language": "python",
   "name": "python3"
  },
  "language_info": {
   "codemirror_mode": {
    "name": "ipython",
    "version": 3
   },
   "file_extension": ".py",
   "mimetype": "text/x-python",
   "name": "python",
   "nbconvert_exporter": "python",
   "pygments_lexer": "ipython3",
   "version": "3.6.5"
  }
 },
 "nbformat": 4,
 "nbformat_minor": 2
}
