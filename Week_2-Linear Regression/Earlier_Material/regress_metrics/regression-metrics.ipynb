{
 "cells": [
  {
   "cell_type": "markdown",
   "metadata": {},
   "source": [
    "\n",
    "\n",
    "**Discussion:** What makes a good model versus a bad model? How can we measure that?\n",
    "\n",
    "Metrics, or measurements, will allow us to directly compare models that attempt to achieve the same goal.\n",
    "- Note: Depending on the metric, we might need to be wary of the scale of our $Y$ values!\n",
    "\n",
    "**The Process of Data Science**\n",
    "1. Problem Statement\n",
    "1. Key Metrics\n",
    "1. Data Gathering\n",
    "1. Data Cleaning/Munging\n",
    "1. EDA\n",
    "1. Modeling\n",
    "1. Reporting\n",
    "    - Model evaluation will mostly be used in steps 4 and 5.\n"
   ]
  },
  {
   "cell_type": "markdown",
   "metadata": {},
   "source": [
    "### Regression Metrics\n",
    "We're going to go through six different regression metrics.  However, we will talk most about **MSE** and **$R^2$**.\n",
    "1. Mean Squared Error\n",
    "2. Root Mean Squared Error\n",
    "3. Mean Squared Log Error (briefly)\n",
    "4. Median Absolute Error\n",
    "5. $R^2$\n",
    "6. Adjusted $R^2$ (briefly)"
   ]
  },
  {
   "cell_type": "code",
   "execution_count": 8,
   "metadata": {},
   "outputs": [],
   "source": [
    "from sklearn.metrics import mean_squared_error\n",
    "import sklearn.linear_model as linear_model\n",
    "import pandas as pd\n",
    "\n",
    "from matplotlib.pyplot import *\n",
    "\n",
    "# our custom plotting function!\n",
    "from plot_scores import plot_scores\n",
    "\n",
    "%matplotlib inline"
   ]
  },
  {
   "cell_type": "code",
   "execution_count": 5,
   "metadata": {},
   "outputs": [],
   "source": [
    "## Load some data\n",
    "fires = pd.read_csv(\"forestfires.csv\")"
   ]
  },
  {
   "cell_type": "code",
   "execution_count": 6,
   "metadata": {},
   "outputs": [
    {
     "data": {
      "text/html": [
       "<div>\n",
       "<style scoped>\n",
       "    .dataframe tbody tr th:only-of-type {\n",
       "        vertical-align: middle;\n",
       "    }\n",
       "\n",
       "    .dataframe tbody tr th {\n",
       "        vertical-align: top;\n",
       "    }\n",
       "\n",
       "    .dataframe thead th {\n",
       "        text-align: right;\n",
       "    }\n",
       "</style>\n",
       "<table border=\"1\" class=\"dataframe\">\n",
       "  <thead>\n",
       "    <tr style=\"text-align: right;\">\n",
       "      <th></th>\n",
       "      <th>X</th>\n",
       "      <th>Y</th>\n",
       "      <th>month</th>\n",
       "      <th>day</th>\n",
       "      <th>FFMC</th>\n",
       "      <th>DMC</th>\n",
       "      <th>DC</th>\n",
       "      <th>ISI</th>\n",
       "      <th>temp</th>\n",
       "      <th>RH</th>\n",
       "      <th>wind</th>\n",
       "      <th>rain</th>\n",
       "      <th>area</th>\n",
       "    </tr>\n",
       "  </thead>\n",
       "  <tbody>\n",
       "    <tr>\n",
       "      <th>0</th>\n",
       "      <td>7</td>\n",
       "      <td>5</td>\n",
       "      <td>mar</td>\n",
       "      <td>fri</td>\n",
       "      <td>86.2</td>\n",
       "      <td>26.2</td>\n",
       "      <td>94.3</td>\n",
       "      <td>5.1</td>\n",
       "      <td>8.2</td>\n",
       "      <td>51</td>\n",
       "      <td>6.7</td>\n",
       "      <td>0.0</td>\n",
       "      <td>0.0</td>\n",
       "    </tr>\n",
       "    <tr>\n",
       "      <th>1</th>\n",
       "      <td>7</td>\n",
       "      <td>4</td>\n",
       "      <td>oct</td>\n",
       "      <td>tue</td>\n",
       "      <td>90.6</td>\n",
       "      <td>35.4</td>\n",
       "      <td>669.1</td>\n",
       "      <td>6.7</td>\n",
       "      <td>18.0</td>\n",
       "      <td>33</td>\n",
       "      <td>0.9</td>\n",
       "      <td>0.0</td>\n",
       "      <td>0.0</td>\n",
       "    </tr>\n",
       "    <tr>\n",
       "      <th>2</th>\n",
       "      <td>7</td>\n",
       "      <td>4</td>\n",
       "      <td>oct</td>\n",
       "      <td>sat</td>\n",
       "      <td>90.6</td>\n",
       "      <td>43.7</td>\n",
       "      <td>686.9</td>\n",
       "      <td>6.7</td>\n",
       "      <td>14.6</td>\n",
       "      <td>33</td>\n",
       "      <td>1.3</td>\n",
       "      <td>0.0</td>\n",
       "      <td>0.0</td>\n",
       "    </tr>\n",
       "    <tr>\n",
       "      <th>3</th>\n",
       "      <td>8</td>\n",
       "      <td>6</td>\n",
       "      <td>mar</td>\n",
       "      <td>fri</td>\n",
       "      <td>91.7</td>\n",
       "      <td>33.3</td>\n",
       "      <td>77.5</td>\n",
       "      <td>9.0</td>\n",
       "      <td>8.3</td>\n",
       "      <td>97</td>\n",
       "      <td>4.0</td>\n",
       "      <td>0.2</td>\n",
       "      <td>0.0</td>\n",
       "    </tr>\n",
       "    <tr>\n",
       "      <th>4</th>\n",
       "      <td>8</td>\n",
       "      <td>6</td>\n",
       "      <td>mar</td>\n",
       "      <td>sun</td>\n",
       "      <td>89.3</td>\n",
       "      <td>51.3</td>\n",
       "      <td>102.2</td>\n",
       "      <td>9.6</td>\n",
       "      <td>11.4</td>\n",
       "      <td>99</td>\n",
       "      <td>1.8</td>\n",
       "      <td>0.0</td>\n",
       "      <td>0.0</td>\n",
       "    </tr>\n",
       "  </tbody>\n",
       "</table>\n",
       "</div>"
      ],
      "text/plain": [
       "   X  Y month  day  FFMC   DMC     DC  ISI  temp  RH  wind  rain  area\n",
       "0  7  5   mar  fri  86.2  26.2   94.3  5.1   8.2  51   6.7   0.0   0.0\n",
       "1  7  4   oct  tue  90.6  35.4  669.1  6.7  18.0  33   0.9   0.0   0.0\n",
       "2  7  4   oct  sat  90.6  43.7  686.9  6.7  14.6  33   1.3   0.0   0.0\n",
       "3  8  6   mar  fri  91.7  33.3   77.5  9.0   8.3  97   4.0   0.2   0.0\n",
       "4  8  6   mar  sun  89.3  51.3  102.2  9.6  11.4  99   1.8   0.0   0.0"
      ]
     },
     "execution_count": 6,
     "metadata": {},
     "output_type": "execute_result"
    }
   ],
   "source": [
    "fires.head()"
   ]
  },
  {
   "cell_type": "code",
   "execution_count": 9,
   "metadata": {},
   "outputs": [],
   "source": [
    "## Build a really AWFUL model here\n",
    "linear = linear_model.LinearRegression()\n",
    "X = fires[[\"FFMC\",\"DMC\", \"DC\", \"ISI\", \"temp\", \"RH\", \"wind\", \"rain\"]]\n",
    "y = fires[\"area\"]\n"
   ]
  },
  {
   "cell_type": "code",
   "execution_count": 10,
   "metadata": {},
   "outputs": [
    {
     "data": {
      "text/plain": [
       "LinearRegression(copy_X=True, fit_intercept=True, n_jobs=1, normalize=False)"
      ]
     },
     "execution_count": 10,
     "metadata": {},
     "output_type": "execute_result"
    }
   ],
   "source": [
    "linear.fit(X, y)"
   ]
  },
  {
   "cell_type": "code",
   "execution_count": 11,
   "metadata": {},
   "outputs": [],
   "source": [
    "y_hat = linear.predict(X)"
   ]
  },
  {
   "cell_type": "code",
   "execution_count": 12,
   "metadata": {},
   "outputs": [
    {
     "data": {
      "text/plain": [
       "3979.4660161937195"
      ]
     },
     "execution_count": 12,
     "metadata": {},
     "output_type": "execute_result"
    }
   ],
   "source": [
    "mean_squared_error(y, y_hat)\n",
    "## Score the model"
   ]
  },
  {
   "cell_type": "markdown",
   "metadata": {},
   "source": [
    "#### Mean Squared Error\n",
    "\n",
    "$$MSE(\\mathbf{y},\\hat{\\mathbf{y}}) = \\frac{1}{n}\\sum_{i=1}^n(y_i-\\hat{y}_i)^2$$\n",
    "> - $n$ = number of observations\n",
    "> - $y$ = true values\n",
    "> - $\\hat{y}$ = predicted values (from model)\n",
    "> - $i$ = The $i_{th}$ observation\n",
    "\n",
    "##### ![](https://upload.wikimedia.org/wikipedia/commons/e/ed/Residuals_for_Linear_Regression_Fit.png)"
   ]
  },
  {
   "cell_type": "markdown",
   "metadata": {},
   "source": [
    "Goal: Get $MSE$ as close to 0 as possible.\n",
    "\n",
    "Pros: \n",
    "- Very common; part of other calculations.\n",
    "- Represents average distance squared from the predicted value.\n",
    "\n",
    "Cons: \n",
    "- Can be heavily affected by outliers.\n",
    "- Not in the original units of $Y$.\n",
    "- Depends on scale of $Y$. (i.e. housing prices vs. GPA)\n",
    "\n",
    "[Documentation](http://scikit-learn.org/stable/modules/generated/sklearn.metrics.mean_squared_error.html#sklearn.metrics.mean_squared_error)"
   ]
  },
  {
   "cell_type": "code",
   "execution_count": null,
   "metadata": {},
   "outputs": [],
   "source": [
    "# Reference scale of target and predicted\n",
    "fires.describe().T"
   ]
  },
  {
   "cell_type": "code",
   "execution_count": null,
   "metadata": {},
   "outputs": [],
   "source": []
  },
  {
   "cell_type": "markdown",
   "metadata": {},
   "source": [
    "#### Root Mean Squared Error\n",
    "\n",
    "$$RMSE(\\mathbf{y},\\hat{\\mathbf{y}}) = \\sqrt{\\frac{1}{n}\\sum_{i=1}^n(y_i-\\hat{y}_i)^2}$$\n",
    "\n",
    "> - $n$ = number of observations\n",
    "> - $y$ = true values\n",
    "> - $\\hat{y}$ = predicted values (from model)\n",
    "> - $i$ = The $i_{th}$ observation\n",
    "\n",
    "Goal: Get $RMSE$ as close to 0 as possible.\n",
    "\n",
    "Pros: \n",
    "- Pretty common; part of other calculations.\n",
    "- Represents (approximately) average distance from the predicted value.\n",
    "- In the original units of $Y$.\n",
    "\n",
    "Cons: \n",
    "- Can be heavily affected by outliers.\n",
    "- Depends on scale of $Y$. (i.e. housing prices vs. GPA)\n",
    "\n",
    "There's no documentation, but it should be quite easy to generate the value."
   ]
  },
  {
   "cell_type": "code",
   "execution_count": 16,
   "metadata": {
    "scrolled": true
   },
   "outputs": [
    {
     "data": {
      "text/plain": [
       "238    1090.84\n",
       "415     746.28\n",
       "479     278.53\n",
       "237     212.88\n",
       "236     200.94\n",
       "235     196.48\n",
       "420     185.76\n",
       "377     174.63\n",
       "234     154.88\n",
       "233     105.66\n",
       "232     103.39\n",
       "231      95.18\n",
       "230      88.49\n",
       "293      86.45\n",
       "457      82.75\n",
       "229      71.30\n",
       "392      70.76\n",
       "473      70.32\n",
       "228      64.10\n",
       "469      61.13\n",
       "227      58.30\n",
       "337      56.04\n",
       "513      54.29\n",
       "395      51.78\n",
       "504      49.59\n",
       "226      49.37\n",
       "225      48.55\n",
       "488      46.70\n",
       "493      43.32\n",
       "383      42.87\n",
       "        ...   \n",
       "358       0.00\n",
       "297       0.00\n",
       "357       0.00\n",
       "348       0.00\n",
       "347       0.00\n",
       "342       0.00\n",
       "341       0.00\n",
       "336       0.00\n",
       "335       0.00\n",
       "334       0.00\n",
       "328       0.00\n",
       "327       0.00\n",
       "326       0.00\n",
       "325       0.00\n",
       "318       0.00\n",
       "316       0.00\n",
       "315       0.00\n",
       "313       0.00\n",
       "312       0.00\n",
       "310       0.00\n",
       "309       0.00\n",
       "308       0.00\n",
       "305       0.00\n",
       "304       0.00\n",
       "303       0.00\n",
       "302       0.00\n",
       "300       0.00\n",
       "299       0.00\n",
       "298       0.00\n",
       "0         0.00\n",
       "Name: area, Length: 517, dtype: float64"
      ]
     },
     "execution_count": 16,
     "metadata": {},
     "output_type": "execute_result"
    }
   ],
   "source": [
    "y.sort_values(ascending = False)"
   ]
  },
  {
   "cell_type": "code",
   "execution_count": 13,
   "metadata": {},
   "outputs": [
    {
     "data": {
      "text/plain": [
       "63.0830089342108"
      ]
     },
     "execution_count": 13,
     "metadata": {},
     "output_type": "execute_result"
    }
   ],
   "source": [
    "np.sqrt(mean_squared_error(y, y_hat))"
   ]
  },
  {
   "cell_type": "markdown",
   "metadata": {},
   "source": [
    "#### Mean Squared Log Error\n",
    "$$MSLE = \\frac{1}{n}\\sum_{i=1}^n\\left(\\log(\\hat{y_i} + 1) - log(y_i + 1)\\right) ^ 2$$\n",
    "\n",
    "> Note: $\\log(\\cdot)$ in this case refers to the natural logarithm or the logarithm with base $e \\approx 2.71828$. \n",
    "> - $n$ = number of observations\n",
    "> - $y$ = true values\n",
    "> - $\\hat{y}$ = predicted values (from model)\n",
    "> - $i$ = The $i_{th}$ observation\n",
    "\n",
    "Goal: Get $MSLE$ as close to 0 as possible.\n",
    "\n",
    "Pros: \n",
    "- If predicted and observed values are both large, their difference is likely going to be large as well. The logarithm helps to account for that scale.\n",
    "\n",
    "Cons: \n",
    "- Not in the original values of $Y$.\n",
    "- Depends on scale of $Y$. (i.e. housing prices vs. GPA)\n",
    "- $\\log(0)$ is not defined.\n",
    "\n",
    "> **From scikit-learn docs**\n",
    ">\n",
    "> \"This metric is best to use when targets having exponential growth, such as population counts, average sales of a commodity over a span of years etc. Note that this metric penalizes an under-predicted estimate greater than an over-predicted estimate.\"\n",
    "> [Documentation](http://scikit-learn.org/stable/modules/generated/sklearn.metrics.mean_squared_log_error.html#sklearn.metrics.mean_squared_log_error)"
   ]
  },
  {
   "cell_type": "markdown",
   "metadata": {},
   "source": [
    "#### Median (and Mean) Absolute Error\n",
    "\n",
    "$$MedAE(\\mathbf{y},\\hat{\\mathbf{y}}) = \\text{median}\\left(\\left|y_1-\\hat{y}_1\\right|,\\ldots ,\\left|y_n-\\hat{y}_n\\right|\\right)$$\n",
    "\n",
    "\n",
    "Goal: Get $MedAE$ as close to 0 as possible.\n",
    "\n",
    "Pros: \n",
    "- Represents median distance from the predicted value.\n",
    "- In the original units of $Y$. \n",
    "- Is not heavily affected by outliers.\n",
    "\n",
    "Cons: \n",
    "- Depends on scale of $Y$. (i.e. housing prices vs. GPA)\n",
    "\n",
    "[Documentation](http://scikit-learn.org/stable/modules/generated/sklearn.metrics.mean_absolute_error.html#sklearn.metrics.mean_absolute_error)"
   ]
  },
  {
   "cell_type": "code",
   "execution_count": 17,
   "metadata": {
    "scrolled": true
   },
   "outputs": [
    {
     "data": {
      "text/plain": [
       "12.422110663999948"
      ]
     },
     "execution_count": 17,
     "metadata": {},
     "output_type": "execute_result"
    }
   ],
   "source": [
    "# Median absolute error\n",
    "from sklearn.metrics import median_absolute_error\n",
    "median_absolute_error(y, y_hat)"
   ]
  },
  {
   "cell_type": "code",
   "execution_count": null,
   "metadata": {},
   "outputs": [],
   "source": [
    "# mean absolute error"
   ]
  },
  {
   "cell_type": "markdown",
   "metadata": {},
   "source": [
    "#### Coefficient of Determination, $R^2$\n",
    "\n",
    "$$R^2 = \\frac{\\text{Explained variance}}{\\text{Total variance}} = 1 - \\frac{\\sum_{i=1}^n(y_i - \\hat{y}_i)^2}{\\sum_{i=1}^n(y_i - \\bar{y})^2}$$\n",
    "\n",
    "Goal: Get $R^2$ as close to 1 as possible.\n",
    "\n",
    "> - score = 0: Model explains none of the variability of the response data around its mean.\n",
    "> - score = 1: Model explains all the variability of the response data around its mean.\n",
    "\n",
    "Pros:\n",
    "- Easy interpretation. \"An $R^2$ value of 0.8 means that 80% of the variability in the data are explained by our model, relative to a model with no predictors.\"\n",
    "- Common metric.\n",
    "- Does not depend on the scale of $Y$.\n",
    "- Works with more than just _linear_ regression.\n",
    "\n",
    "Cons:\n",
    "- As you add more variables, $R^2$ will never decrease (with linear regression). Adjusted R2 can handle this assumption better.\n",
    "\n",
    "> Are low $R^2$ scores bad?\n",
    ">\n",
    "> I'm glad you asked!  Not everything in regression is about getting the best predictions.  In some fields, such as human behavior, you would expect to achieve scores much lower then %50!  For inference, perhaps .3 is enough to measure an effect then reported reliably!  Yes, there is more to machine learning than prediction.  Inference can be the goal as well!\n",
    "\n",
    "[Documentation](http://scikit-learn.org/stable/modules/generated/sklearn.metrics.r2_score.html#sklearn.metrics.r2_score)"
   ]
  },
  {
   "cell_type": "markdown",
   "metadata": {},
   "source": [
    "#### Adjusted $R^2$\n",
    "\n",
    "$$R^2_{adj} = 1 - \\frac{\\frac{1}{n-p-1}\\sum_{i=1}^n(y_i - \\hat{y}_i)^2}{\\frac{1}{n-1}\\sum_{i=1}^n(y_i - \\bar{y})^2}$$\n",
    "\n",
    "Goal: Get $R^2_{adj}$ as close to 1 as possible.\n",
    "\n",
    "$R^2_{adj}$ is a modified version of $R^2$ than can account for the number of predictors in the model. $R^2_{adj}$ increases only if the new term improves the model more than would be expected by chance.\n",
    "\n",
    "Pros:\n",
    "- Does not depend on the scale of $Y$.\n",
    "- Penalizes for \"bad\" variables.\n",
    "\n",
    "Cons:\n",
    "- Interpretation isn't exactly the same, although we often treat it as such.\n",
    "\n",
    ">  - n = sample size\n",
    ">  - p = number of predictors / features / variables\n",
    ">  - Always lower than R2!"
   ]
  },
  {
   "cell_type": "markdown",
   "metadata": {},
   "source": [
    "### Feature Selection - Briefly\n",
    "\n",
    "Slightly different from feature engineering is **feature selection**. Feature selection is (unsurprisingly) the process by which we select which features to include in our model.\n",
    "\n",
    "- Suppose we have five features. How might we select which ones to include when modeling?\n",
    "- Suppose we have five hundred features. How might we select which ones to include when modeling?\n",
    "\n",
    "It is to our benefit to have an [automated means](http://scikit-learn.org/stable/modules/feature_selection.html) of identifying features to include/exclude.\n",
    "\n",
    "#### Forward Selection\n",
    "1. Start with null model (just $\\hat{y} = \\beta_0$).\n",
    "2. Add one feature by testing all possible features $X_i$ and picking the **best** based on some metric.\n",
    "3. Repeat until a stopping condition is met.\n",
    "\n",
    "#### Backward Selection\n",
    "1. Start with full model ($\\hat{y} = \\beta_0 + \\beta_1X_1 + \\cdots \\beta_pX_p$).\n",
    "2. Remove one feature by testing all possible features $X_i$ and picking the **worst** based on some metric.\n",
    "3. Repeat step 2 until a stopping condition is met."
   ]
  },
  {
   "cell_type": "code",
   "execution_count": 18,
   "metadata": {},
   "outputs": [
    {
     "data": {
      "image/png": "[encoded data removed]",
      "text/plain": [
       "<Figure size 1080x360 with 2 Axes>"
      ]
     },
     "metadata": {
      "needs_background": "light"
     },
     "output_type": "display_data"
    }
   ],
   "source": [
    "low_high = pd.DataFrame(\n",
    "   [[55, 68], [55, 43.2], [45, 32.5], [30, 35], [35, 25], [50, 45],  [40, 50], [60, 63]],\n",
    "   columns = (\"y\", \"y_hat\")\n",
    ")\n",
    "\n",
    "\n",
    "plot_scores(low_high, kind=\"line\", residuals=True)"
   ]
  },
  {
   "cell_type": "markdown",
   "metadata": {},
   "source": [
    "#### Case B: Model having high accurancy, but a one large residual between prediction $\\hat{y}$ and observation $y$"
   ]
  },
  {
   "cell_type": "code",
   "execution_count": 9,
   "metadata": {},
   "outputs": [
    {
     "data": {
      "image/png": "[encoded data removed]",
      "text/plain": [
       "<Figure size 1080x360 with 2 Axes>"
      ]
     },
     "metadata": {
      "needs_background": "light"
     },
     "output_type": "display_data"
    }
   ],
   "source": [
    "# Decent model, however with one large outlier\n",
    "single_outlier = pd.DataFrame(\n",
    "   [[55, 56], [55, 55.6], [45, 45.5], [30, 31.3], [35, 35], [50, 49.89],  [25, 23.2], [70, 100.1]],\n",
    "   columns = (\"y\", \"y_hat\")\n",
    ")\n",
    "plot_scores(single_outlier, kind = \"line\", residuals = True)"
   ]
  },
  {
   "cell_type": "markdown",
   "metadata": {},
   "source": [
    "#### Case C: Model having medicore accurancy"
   ]
  },
  {
   "cell_type": "code",
   "execution_count": 19,
   "metadata": {},
   "outputs": [
    {
     "data": {
      "image/png": "[encoded data removed]",
      "text/plain": [
       "<Figure size 1080x360 with 2 Axes>"
      ]
     },
     "metadata": {
      "needs_background": "light"
     },
     "output_type": "display_data"
    }
   ],
   "source": [
    "medium = pd.DataFrame(\n",
    "   [[22, 28], [35, 29], [45, 32.5], [30, 35], [25, 35], [45, 49],[50, 55], [60, 63]],\n",
    "   columns = (\"y\", \"y_hat\")\n",
    ")\n",
    "plot_scores(medium, kind = \"line\", residuals = True)"
   ]
  },
  {
   "cell_type": "markdown",
   "metadata": {},
   "source": [
    "#### Case D: Model having mostly over-predicted values from observation\n",
    "\n",
    "Why the negative $R^2$?\n",
    "\n",
    "$$R^2 = 1 - \\frac{\\sum_{i=1}^n(y_i - \\hat{y}_i)^2}{\\sum_{i=1}^n(y_i - \\bar{y})^2}$$"
   ]
  },
  {
   "cell_type": "code",
   "execution_count": null,
   "metadata": {},
   "outputs": [],
   "source": []
  },
  {
   "cell_type": "code",
   "execution_count": 20,
   "metadata": {
    "scrolled": true
   },
   "outputs": [
    {
     "data": {
      "image/png": "[encoded data removed]",
      "text/plain": [
       "<Figure size 1080x360 with 2 Axes>"
      ]
     },
     "metadata": {
      "needs_background": "light"
     },
     "output_type": "display_data"
    }
   ],
   "source": [
    "over_predicted = pd.DataFrame(\n",
    "   [[55, 70], [55, 75], [45, 65], [30, 10], [35, 15], [50, 70],  [40, 60], [60, 80]],\n",
    "   columns = (\"y\", \"y_hat\")\n",
    ")\n",
    "plot_scores(over_predicted, kind = \"line\", residuals = True)"
   ]
  },
  {
   "cell_type": "code",
   "execution_count": null,
   "metadata": {},
   "outputs": [],
   "source": []
  }
 ],
 "metadata": {
  "anaconda-cloud": {},
  "kernelspec": {
   "display_name": "Python 3",
   "language": "python",
   "name": "python3"
  },
  "language_info": {
   "codemirror_mode": {
    "name": "ipython",
    "version": 3
   },
   "file_extension": ".py",
   "mimetype": "text/x-python",
   "name": "python",
   "nbconvert_exporter": "python",
   "pygments_lexer": "ipython3",
   "version": "3.7.0"
  }
 },
 "nbformat": 4,
 "nbformat_minor": 1
}
