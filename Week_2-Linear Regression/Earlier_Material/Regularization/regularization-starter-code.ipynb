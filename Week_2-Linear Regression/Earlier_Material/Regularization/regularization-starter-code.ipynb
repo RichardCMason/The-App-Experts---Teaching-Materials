{
 "cells": [
  {
   "cell_type": "code",
   "execution_count": 1,
   "metadata": {},
   "outputs": [],
   "source": [
    "import pandas as pd\n",
    "import numpy as np\n",
    "import matplotlib\n",
    "import matplotlib.pyplot as plt\n",
    "import seaborn as sns\n",
    "\n",
    "sns.set_style('darkgrid')\n",
    "\n",
    "%matplotlib inline"
   ]
  },
  {
   "cell_type": "markdown",
   "metadata": {},
   "source": [
    "## Review\n",
    "\n",
    "<details><summary>1. What is the bias-variance tradeoff?</summary>\n",
    "```\n",
    "- Mean squared error can be decomposed into a bias component plus a variance component (plus a systematic error, but we don't have control over this part, so we often ignore it).\n",
    "- The bias-variance tradeoff refers to the fact that taking steps to minimize bias usually comes at the expense of an increase in variance. Similarly, taking steps to minimize variance usually comes at the expense of an increase in bias.\n",
    "```\n",
    "</details>\n",
    "\n",
    "\n",
    "<details><summary>2. What evidence/information would lead me to believe that my model suffers from high variance?</summary>\n",
    "```\n",
    "- After splitting my data into training and testing sets, if I see that my model performs way better on my training set than my testing set, this means that my model is not generalizing very well to \"new\" data.\n",
    "- An example might be where our training MSE is substantially lower than our testing MSE, or where our training R-squared is substantially higher than our testing R-squared.\n",
    "```\n",
    "</details>\n",
    "\n",
    "\n",
    "<details><summary>3. What term do we use to describe a model that suffers from high variance?</summary>\n",
    "```\n",
    "- Overfit.\n",
    "```\n",
    "</details>\n",
    "\n",
    "\n",
    "<details><summary>4. How might we try to fix a model that suffers from high variance?</summary>\n",
    "```\n",
    "- Drop features.\n",
    "- Make our existing features less complex. (i.e. get rid of interaction terms or higher order terms.)\n",
    "- Choose a simpler model.\n",
    "- Gather more data. (Although this is usually expensive and time-consuming.)\n",
    "- Regularization!\n",
    "```\n",
    "</details>"
   ]
  },
  {
   "cell_type": "markdown",
   "metadata": {},
   "source": [
    "<a id='intro'></a>\n",
    "\n",
    "## Overview of regularization\n",
    "\n",
    "---\n",
    "\n",
    "**The goal of \"regularizing\" regression models is to structurally prevent overfitting by imposing a penalty on the coefficients of the model.**\n",
    "\n",
    "Regularization methods like the Ridge and Lasso add this additional \"penalty\" on the size of coefficients to the loss function. When the loss function is minimized, this additional component is added to the residual sum of squares.\n",
    "\n",
    "In other words, the minimization becomes a balance between the error between predictions and true values and the size of the coefficients. \n",
    "\n",
    "The two most common types of regularization are the **Lasso**, **Ridge**. There is a mixture of them called the **Elastic Net**. We will take a look at the mathematics of regularization and the effect these penalties have on model fits.\n"
   ]
  },
  {
   "cell_type": "markdown",
   "metadata": {},
   "source": [
    "<a id='lsq-loss'></a>\n",
    "\n",
    "## Review: Least Squares Loss Function\n",
    "\n",
    "---\n",
    "\n",
    "Ordinary least squares regression minimizes the residual sum of squares (RSS) to fit the data:\n",
    "\n",
    "### $$ \\text{minimize:}\\; RSS = \\sum_{i=1}^n (y_i - \\hat{y}_i)^2$$\n",
    "\n",
    "Where our model predictions $\\hat{y}$ are based on the sum of the $\\beta_0$ intercept and the products of $\\beta_i$ with $x_i$.\n",
    "\n",
    "What should I take away from this?\n",
    "\n",
    "- Machine learning usually boils down to _optimization_.\n",
    "- Training/fitting means _minimizing_ a \"loss function\" (a.k.a. cost or objective function).\n",
    "- In linear regression, the loss function is RSS (or equivalently) MSE, and the optimization is performed with respect to the $\\beta$ coefficients.\n",
    "\n",
    "> Minimizing the loss function gives you the optimal $\\beta$ values for your regression model!!\n",
    "\n",
    "**Aside:**\n",
    "\n",
    "Alternatively, in matrix notation using predictor matrix $\\mathbf{X}$, residual errors $\\pmb\\varepsilon$, and vector of beta coefficients $\\pmb\\beta$:\n",
    "\n",
    "### $$ \\text{minimize:}\\; RSS = \\pmb\\varepsilon^T \\pmb\\varepsilon = (\\mathbf{y} - \\mathbf{X}\\pmb\\beta)^T (\\mathbf{y} - \\mathbf{X}\\pmb\\beta) $$"
   ]
  },
  {
   "cell_type": "markdown",
   "metadata": {},
   "source": [
    "<a id='effect'></a>\n",
    "\n",
    "## What is the effect of regularization?\n",
    "\n",
    "---\n",
    "\n",
    "**To demonstrate the effects we will be using a dataset on wine quality.**\n",
    "\n",
    "An important aspect of this data, which is a reason why we might choose to use regularization, is that there is **multicollinearity** in the data. The term multicollinearity means that there are _high correlations between predictor variables in your model_. \n",
    "\n",
    "**This can lead to a variety of problems including:**\n",
    "1. The effect of predictor variables estimated by your regression will depend on what other variables are included in your model.\n",
    "2. Predictors can have wildly different effects depending on the observations in your sample, and small changes in samples can result in very different estimated effects.\n",
    "3. With very high multicollinearity, the inverse matrix the computer calculates may not be accurate.\n",
    "    - $\\hat{\\pmb\\beta} = (\\mathbf{X}^T\\mathbf{X})^{-1}(\\mathbf{X}^T\\mathbf{y})$\n",
    "4. We can no longer interpret a coefficient on a variable as the effect on the target of a one unit increase in that variable holding the other variables constant. This is because when predictors are strongly correlated, there is not a scenario in which one variable can change without a conditional change in another variable.\n",
    "\n",
    "> **For example:** Say I want to predict income using age and years of professional experience as predictors. Attempting to interpret a one-unit increase in age might not make sense, because age and years of professional experience are probably pretty highly correlated with one another.\n",
    "\n",
    "The Ridge is best suited to deal with multicollinearity. Lasso also deals with multicollinearity between variables, but in a more brutal way (it \"zeroes out\" the less effective variable).\n",
    "\n",
    "The Lasso is particularly useful when you have redundant or unimportant variables. If you have 1,000 variables in a dataset the Lasso can perform \"feature selection\" automatically for you by forcing coefficients to be zero."
   ]
  },
  {
   "cell_type": "markdown",
   "metadata": {},
   "source": [
    "### Load the wine csv\n",
    "\n",
    "This version has red and white wines concatenated together and tagged with a binary 1,0 indicator (1 is red wine). There are many other variables purportedly related to the rated quality of the wine."
   ]
  },
  {
   "cell_type": "code",
   "execution_count": null,
   "metadata": {
    "collapsed": true
   },
   "outputs": [],
   "source": [
    "\n",
    "\n",
    "# replace spaces in column names and convert all columns to lowercase:"
   ]
  },
  {
   "cell_type": "markdown",
   "metadata": {},
   "source": [
    "**Look at the correlation between variables.**"
   ]
  },
  {
   "cell_type": "markdown",
   "metadata": {},
   "source": [
    "<a id='standardization'></a>\n",
    "\n",
    "## Standardizing predictors is required\n",
    "\n",
    "---\n",
    "\n",
    "When regularizing, **it is neccessary to standardize the predictor columns before constructing the models, even the dummy coded categorical variables**.\n",
    "\n",
    "Below we define our target variable, then normalize the columns that are not the target.\n",
    "\n",
    "We are going to change our loss function to add a penalty. The equations for the Ridge and Lasso penalties:\n",
    "\n",
    "### $$ \\text{Ridge penalty}\\; = \\alpha \\sum_{j=1}^p \\beta_j^2$$\n",
    "\n",
    "### $$ \\text{Lasso penalty}\\; = \\alpha \\sum_{j=1}^p |\\beta_j|$$\n",
    "\n"
   ]
  },
  {
   "cell_type": "code",
   "execution_count": null,
   "metadata": {
    "collapsed": true
   },
   "outputs": [],
   "source": [
    "# Choose a target/dependent variable that we will predict\n"
   ]
  },
  {
   "cell_type": "code",
   "execution_count": null,
   "metadata": {
    "collapsed": true
   },
   "outputs": [],
   "source": [
    "# select all the columns that are not the target\n",
    "\n",
    "\n",
    "# By subtracting the mean and dividing by the standard devation, the normalization procedure is putting \n",
    "# all of the predictor variables on the same scale (distributions with mean == 0 and standard deviation == 1)\n",
    "# (Yes, we could have also used sklearn's StandardScaler.  Try it and see if you get the same answer! )\n"
   ]
  },
  {
   "cell_type": "markdown",
   "metadata": {},
   "source": [
    "## Coding Ridge regularization"
   ]
  },
  {
   "cell_type": "code",
   "execution_count": 5,
   "metadata": {},
   "outputs": [
    {
     "data": {
      "text/plain": [
       "<matplotlib.collections.PathCollection at 0x1a1eec8390>"
      ]
     },
     "execution_count": 5,
     "metadata": {},
     "output_type": "execute_result"
    },
    {
     "data": {
      "image/png": "[encoded data removed]",
      "text/plain": [
       "<Figure size 864x648 with 1 Axes>"
      ]
     },
     "metadata": {
      "needs_background": "light"
     },
     "output_type": "display_data"
    }
   ],
   "source": [
    "# Simulate data\n",
    "\n",
    "N = 100\n",
    "\n",
    "x = np.linspace(0, 10, N)\n",
    "PHI = np.vstack((np.array([1]*N), x)).T\n",
    "w_true = np.array([2.7, 5.4])\n",
    "\n",
    "y = PHI.dot(w_true) + np.random.randn(N)\n",
    "y[-1] += 100\n",
    "y[-2] += 100\n",
    "\n",
    "plt.figure(figsize = (12, 9))\n",
    "plt.scatter(x, y)"
   ]
  },
  {
   "cell_type": "code",
   "execution_count": 6,
   "metadata": {},
   "outputs": [],
   "source": [
    "# Fit the model\n",
    "\n",
    "lmbda = 321.24\n",
    "I_reg = np.identity(2)\n",
    "I_reg[0, 0] = 0\n",
    "\n",
    "w = np.linalg.solve(PHI.T.dot(PHI), PHI.T.dot(y))\n",
    "w_l2 = np.linalg.solve(PHI.T.dot(PHI) + lmbda*np.identity(2), PHI.T.dot(y))\n",
    "\n",
    "y_hat = PHI.dot(w)\n",
    "y_hat_l2 = PHI.dot(w_l2)"
   ]
  },
  {
   "cell_type": "code",
   "execution_count": 7,
   "metadata": {},
   "outputs": [
    {
     "data": {
      "text/plain": [
       "<matplotlib.legend.Legend at 0x1a1f2df6d8>"
      ]
     },
     "execution_count": 7,
     "metadata": {},
     "output_type": "execute_result"
    },
    {
     "data": {
      "image/png": "[encoded data removed]",
      "text/plain": [
       "<Figure size 864x648 with 1 Axes>"
      ]
     },
     "metadata": {
      "needs_background": "light"
     },
     "output_type": "display_data"
    }
   ],
   "source": [
    "# Visualise the different fits\n",
    "\n",
    "plt.figure(figsize = (12, 9))\n",
    "plt.scatter(x, y)\n",
    "plt.plot(x, y_hat, label = \"OLS\", linewidth = 2.5)\n",
    "plt.plot(x, y_hat_l2, label = \"Ridge\", linewidth = 2.5)\n",
    "plt.legend()"
   ]
  },
  {
   "cell_type": "code",
   "execution_count": null,
   "metadata": {},
   "outputs": [],
   "source": [
    "# Report the R-squared value\n",
    "\n",
    "R2 = 1 - np.sum((y - y_hat)**2) / np.sum((y - y.mean())**2)\n",
    "R2_l2 = 1 - np.sum((y - y_hat_l2)**2) / np.sum((y - y.mean())**2)\n",
    "\n",
    "print(\"OLS R-squared: {}\".format(R2))\n",
    "print(\"Ridge R-squared: {}\".format(R2_l2))"
   ]
  },
  {
   "cell_type": "markdown",
   "metadata": {},
   "source": [
    "<a id='viz-lasso'></a>\n",
    "\n",
    "## Defining and Visualizing the Lasso\n",
    "\n",
    "---\n",
    "\n",
    "Now we do the same thing as above but for the Lasso. You will be able to see how the coefficients change differently for both!  But first, let's define lasso.\n",
    "\n",
    "Lasso regression takes a different approach. Instead of adding the sum of squared $\\beta$ coefficients to the RSS, it adds the sum of the absolute values of the $\\beta$ coefficients:\n",
    "\n",
    "### $$ \\text{minimize:}\\; RSS + Lasso = \\sum_{i=1}^n \\left(y_i - \\left(\\beta_0 + \\sum_{j=1}^p\\beta_j x_j\\right)\\right)^2 + \\alpha\\sum_{j=1}^p |\\beta_j|$$\n",
    "\n",
    "**Where:**\n",
    "\n",
    "$|\\beta_j|$ is the absolute value of the $\\beta$ coefficient for variable $x_j$.\n",
    "\n",
    "$\\alpha$ is again the strength of the regularization penalty component in the loss function. "
   ]
  },
  {
   "cell_type": "markdown",
   "metadata": {},
   "source": [
    "## Coding Lasso regularization"
   ]
  },
  {
   "cell_type": "code",
   "execution_count": null,
   "metadata": {},
   "outputs": [],
   "source": [
    "# Simulate data\n",
    "\n",
    "N = 100\n",
    "D = 100\n",
    "\n",
    "X = np.random.randn(N, D)\n",
    "PHI = np.column_stack((np.array([[1]*N]).T, X))\n",
    "\n",
    "w_true = np.array([3.8, 5.3, 3.9] + [0]*(D - 2))\n",
    "\n",
    "y = PHI.dot(w_true) + np.random.randn(N)"
   ]
  },
  {
   "cell_type": "code",
   "execution_count": null,
   "metadata": {},
   "outputs": [],
   "source": [
    "# Functions\n",
    "\n",
    "def objective(N, y, y_hat, lmda, w):\n",
    "    return (1/(2*N))*np.sum((y - y_hat)**2) + (lmda/N)*np.sum(np.abs(w))"
   ]
  },
  {
   "cell_type": "code",
   "execution_count": null,
   "metadata": {},
   "outputs": [],
   "source": [
    "w = np.random.randn(D + 1)\n",
    "\n",
    "J = []\n",
    "lmda = 25\n",
    "eta = 1e-2\n",
    "epochs = 1000\n",
    "\n",
    "for t in xrange(epochs):\n",
    "    w_reg = w\n",
    "    w_reg[0] = 0\n",
    "    y_hat = PHI.dot(w)\n",
    "    J.append(objective(N, y, y_hat, lmda, w))\n",
    "    w -= eta * (1/N) * (PHI.T.dot(y_hat - y) + lmda*np.sign(w_reg))\n",
    "    \n",
    "plt.figure(figsize = (12, 9))\n",
    "plt.plot(J)"
   ]
  },
  {
   "cell_type": "code",
   "execution_count": null,
   "metadata": {},
   "outputs": [],
   "source": [
    "# Report R-squared\n",
    "\n",
    "R2 = 1 - np.sum((y - y_hat)**2) / np.sum((y - y.mean())**2)\n",
    "\n",
    "print(\"R-squared: {}\".format(R2))"
   ]
  },
  {
   "cell_type": "code",
   "execution_count": null,
   "metadata": {},
   "outputs": [],
   "source": [
    "plt.figure(figsize = (12, 9))\n",
    "plt.plot(w_true, linewidth = 2.5, label = \"True weights\")\n",
    "plt.plot(w, linewidth = 2.5, label = \"Learned weights\")\n",
    "plt.legend()"
   ]
  },
  {
   "cell_type": "markdown",
   "metadata": {},
   "source": [
    "<a id='viz-elastic-net'></a>\n",
    "\n",
    "## Visualizing the Elastic Net\n",
    "\n",
    "\n",
    "\n",
    "The Elastic Net combines the Ridge and Lasso penalties.  It adds *both* penalties to the loss function:\n",
    "\n",
    "### $$ \\text{minimize:}\\; RSS + Ridge + Lasso = \\sum_{i=1}^n \\left(y_i - \\left(\\beta_0 + \\sum_{j=1}^p\\beta_j x_j\\right)\\right)^2 + \\alpha\\rho\\sum_{j=1}^p |\\beta_j| + \\alpha(1-\\rho)\\sum_{j=1}^p \\beta_j^2$$\n",
    "\n",
    "In the elastic net, the effect of the ridge versus the lasso is balanced by the $\\rho$ parameter.  It is the ratio of Lasso penalty to Ridge penalty and must be between zero and one.\n",
    "\n",
    "`ElasticNet` in sklearn has two parameters:\n",
    "- `alpha`: the regularization strength.\n",
    "- `l1_ratio`: the amount of L1 vs L2 penalty (i.e., $\\rho$). An l1_ratio of 0 is equivalent to the Ridge, whereas an l1_ratio of 1 is equivalent to the Lasso.\n"
   ]
  },
  {
   "cell_type": "markdown",
   "metadata": {},
   "source": [
    "<a id='model-performance'></a>\n",
    "\n",
    "## Model performance of the Ridge, Lasso and Elastic Net on the overfit data\n",
    "\n",
    "\n",
    "---\n",
    "\n",
    "Let's check out how the penalties affect the performance of our models. On the basic wine dataset there won't be much benefit to using regularization. We can switch over to the overfit data instead to see if regularization helps us control overfitting."
   ]
  },
  {
   "cell_type": "markdown",
   "metadata": {},
   "source": [
    "**Let's start with plain vanilla linear regression:**"
   ]
  },
  {
   "cell_type": "code",
   "execution_count": null,
   "metadata": {},
   "outputs": [],
   "source": [
    "lr_model = LinearRegression()"
   ]
  },
  {
   "cell_type": "markdown",
   "metadata": {},
   "source": [
    "### Ridge Regression"
   ]
  },
  {
   "cell_type": "markdown",
   "metadata": {},
   "source": [
    "**Now let's make it into a Ridge regression by adding the penalty term:**"
   ]
  },
  {
   "cell_type": "markdown",
   "metadata": {},
   "source": [
    "Which $\\alpha$ to choose?  Let's search!"
   ]
  },
  {
   "cell_type": "code",
   "execution_count": 8,
   "metadata": {},
   "outputs": [],
   "source": [
    "from sklearn.linear_model import Ridge"
   ]
  },
  {
   "cell_type": "code",
   "execution_count": null,
   "metadata": {},
   "outputs": [],
   "source": [
    "def plot_cv(alphas, cv_means, optimal_alpha, lr_mse, log=False):\n",
    "    # alphas = list of alphas\n",
    "    # cv_means = list of CV mean MSE\n",
    "    # optimal_alpha\n",
    "    # lr_mse\n",
    "    fig = plt.figure(figsize=(12,8))\n",
    "    ax = plt.gca()\n",
    "\n",
    "    if log:\n",
    "        ax.semilogx(alphas, cv_means, lw=2)\n",
    "    else:\n",
    "        ax.plot(alphas, cv_means, lw=2)\n",
    "    ax.axvline(optimal_alpha)\n",
    "    ax.axhline(lr_mse)\n",
    "    ax.set_xlabel('alpha')\n",
    "    ax.set_ylabel('Mean Squared Error')\n",
    "    \n",
    "plot_cv(ridge_model.alphas, ridge_cv_means, ridge_optimal_alpha, lr_cv_mean_mse, log=True)"
   ]
  },
  {
   "cell_type": "markdown",
   "metadata": {},
   "source": [
    "Above we have seen how MSE is minimized at the optimal $\\alpha$.  Let's get the corresponding value of $R^2$."
   ]
  },
  {
   "cell_type": "code",
   "execution_count": null,
   "metadata": {
    "scrolled": true
   },
   "outputs": [],
   "source": []
  },
  {
   "cell_type": "markdown",
   "metadata": {},
   "source": [
    "### Lasso Regression"
   ]
  },
  {
   "cell_type": "code",
   "execution_count": 9,
   "metadata": {},
   "outputs": [],
   "source": [
    "from sklearn.linear_model import Lasso"
   ]
  },
  {
   "cell_type": "markdown",
   "metadata": {},
   "source": [
    "### ElasticNet Regression"
   ]
  },
  {
   "cell_type": "code",
   "execution_count": null,
   "metadata": {
    "collapsed": true
   },
   "outputs": [],
   "source": [
    "from sklearn.linear_model import ElasticNet, ElasticNetCV"
   ]
  }
 ],
 "metadata": {
  "kernelspec": {
   "display_name": "Python 3",
   "language": "python",
   "name": "python3"
  },
  "language_info": {
   "codemirror_mode": {
    "name": "ipython",
    "version": 3
   },
   "file_extension": ".py",
   "mimetype": "text/x-python",
   "name": "python",
   "nbconvert_exporter": "python",
   "pygments_lexer": "ipython3",
   "version": "3.7.0"
  },
  "widgets": {
   "state": {
    "03860d2d80204ca295d01e93e8e99474": {
     "views": [
      {
       "cell_index": 41
      }
     ]
    },
    "b535fb165fa343b297ba42fb4a55c6fa": {
     "views": [
      {
       "cell_index": 34
      }
     ]
    },
    "f5d5ef714eee4c61b085a3bb6b96cd73": {
     "views": [
      {
       "cell_index": 55
      }
     ]
    },
    "fdc5e91596ea49fa84bf4aed6d37b849": {
     "views": [
      {
       "cell_index": 47
      }
     ]
    }
   },
   "version": "1.2.0"
  }
 },
 "nbformat": 4,
 "nbformat_minor": 1
}
