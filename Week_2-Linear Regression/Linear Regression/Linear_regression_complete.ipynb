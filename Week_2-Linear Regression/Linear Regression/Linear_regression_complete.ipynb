{
 "cells": [
  {
   "cell_type": "markdown",
   "metadata": {},
   "source": [
    "A simple linear regression attempts to model the form of: $$\\hat{y}_i = w_0 + w_1x_i + \\epsilon$$ where $x_i$ is the $i$-th observation and $\\hat{y}_i$ is the prediction corresponding to $x_i$ and $\\epsilon$ is the irreducible error\n",
    "\n",
    "A linear regression model must adhere to four assumptions:\n",
    "\n",
    "1.) The relationship between the dependent variable $y$ and the predictor variable $x_1$ must be linear\n",
    "\n",
    "2.) the residuals(or error) between our predicted values and the observations must be homoskedastic(or constant variance)\n",
    "\n",
    "3.) The residuals must be independent, i.e. not autocorrelated.\n",
    "\n",
    "4.) The residuals should be normally distributed(but note that the gauss-markov theorem assures us that as long as the residuals follow the above two assumptions, as long as they have a mean of 0 then OLS(ordinary least-squares) will still be the best linear unbiased estimator)"
   ]
  },
  {
   "cell_type": "markdown",
   "metadata": {},
   "source": [
    "In order to find the best predictions when using linear regression, we must minimize the error of our model.  We define a cost function: $$J = \\sum\\limits_{i=1}^{N} (y_i - \\hat{y}_i)^2$$"
   ]
  },
  {
   "cell_type": "markdown",
   "metadata": {},
   "source": [
    "Substituting $\\hat{y}_i = w_0 + w_1x_i$ for $\\hat{y}_i$, then taking the derivative with respect to $w_0$ and setting it to 0, we can algebraically solve for $w_0$ and $w_1$\n",
    "\n",
    "$w_0 = \\bar{y} - \\beta_1\\bar{x}$\n",
    "\n",
    "$w_1 = \\frac{SS_{xy}}{SS_{xx}}$ \n",
    "\n",
    "Where $SS_{xy}$ and $SS_{xx}$ are the sum of the cross-deviations of x and y and the squared deviations of x, respectively \n",
    "\n",
    "$SS_{xy} = \\sum_{i=1}^{n} (x_i-\\bar{x})(y_i-\\bar{y}) =  \\sum_{i=1}^{n} y_ix_i - n\\bar{x}\\bar{y}$ \n",
    "  \n",
    "$SS_{xx} = \\sum_{i=1}^{n} (x_i-\\bar{x})^2 =  \\sum_{i=1}^{n}x_i^2 - n(\\bar{x})^2$ "
   ]
  },
  {
   "cell_type": "markdown",
   "metadata": {},
   "source": [
    "How can we measure how well our model fits the data?  The $R^2$ score tells us the \"goodness of fit,\" or how well the data is explained by our model $$R^2 = \\frac{TSS-RSS}{TSS}$$"
   ]
  },
  {
   "cell_type": "markdown",
   "metadata": {},
   "source": [
    "Where $TSS = \\sum\\limits_{i=1}^{N} (y_i - \\bar{y})^2$ and $RSS = \\sum\\limits_{i=1}^{N} (y_i - \\hat{y})^2$\n"
   ]
  },
  {
   "cell_type": "markdown",
   "metadata": {},
   "source": [
    "As you can see, TSS is the variance in the data, and RSS is the variance of our predicted values. Alternatively: $$R^2 = 1 - \\frac{\\sum\\limits_{i=1}^{N} (y_i - \\hat{y}_i)^2}{\\sum\\limits_{i=1}^{N} (y_i - \\hat{y}_i)^2}$$"
   ]
  },
  {
   "cell_type": "markdown",
   "metadata": {},
   "source": [
    "$R^2$ score can range from 0 to 1, with 0 indicating that our model does no better than predicting the mean of $y$ and a value of 1 indicating that our model perfectly explains everything in the data except for the irreducible error, $\\epsilon$"
   ]
  },
  {
   "cell_type": "markdown",
   "metadata": {},
   "source": [
    "### Coding a simple linear regression"
   ]
  },
  {
   "cell_type": "code",
   "execution_count": 12,
   "metadata": {},
   "outputs": [
    {
     "data": {
      "image/png": "[encoded data removed]",
      "text/plain": [
       "<Figure size 432x288 with 1 Axes>"
      ]
     },
     "metadata": {
      "needs_background": "light"
     },
     "output_type": "display_data"
    }
   ],
   "source": [
    "import numpy as np\n",
    "import matplotlib.pyplot as plt\n",
    "\n",
    "\n",
    "X = np.linspace(0, 100, 200)\n",
    "y = 0.5 * X + 3 + np.random.normal(scale = 4, size = 200)\n",
    "\n",
    "d = np.mean(X **2) - np.mean(X)**2\n",
    "\n",
    "w0 = (np.mean(y)*np.mean(X**2)-np.mean(X)*np.mean(X*y))/d\n",
    "w1 = (np.mean(X*y) - np.mean(X) * np.mean(y))/d\n",
    "\n",
    "y_hat = w0 + w1*X\n",
    "\n",
    "plt.scatter(X, y)\n",
    "plt.plot(X, y_hat, color = 'r', linewidth = 2)\n",
    "plt.show()\n",
    "\n",
    "def r2(y, y_hat):\n",
    "    return 1 - np.sum((y-y_hat) ** 2) / np.sum((y - np.mean(y)) ** 2)\n",
    "\n",
    "\n",
    "plt.show()"
   ]
  },
  {
   "cell_type": "code",
   "execution_count": 13,
   "metadata": {},
   "outputs": [
    {
     "name": "stdout",
     "output_type": "stream",
     "text": [
      "The R2 score is <function r2 at 0x11e019ae8>\n"
     ]
    }
   ],
   "source": [
    "r2(y, y_hat)\n",
    "print('The R2 score is {}'.format(r2))"
   ]
  },
  {
   "cell_type": "markdown",
   "metadata": {},
   "source": [
    "### 2.) Multiple linear regression"
   ]
  },
  {
   "cell_type": "markdown",
   "metadata": {},
   "source": [
    "A multiple linear regression is modeled as: $\\hat{y}_i = w_0 + w_1x_i +\\ldots w_jx_D$ or $$\\hat{y}_i = w_0 + \\sum\\limits_{i=1}^{D} w_jx_{i,j} + \\epsilon$$ where $\\hat{y}_i$ is the $i$-th prediction corresponding to the $i$-th observation of all of the $D$ explanatory variables, and $x_{i,j}$ is the $i$-th observation of the $j$-th explanatory variable or feature"
   ]
  },
  {
   "cell_type": "markdown",
   "metadata": {},
   "source": [
    "If we recall the definition of the dot product: $u\\cdot v = \\sum\\limits_{i=1}^{D} u_iv_i$ which if we assume the convention that $u$ and $v$ are column vectors is equivalent to: $u\\cdot v = u^T v$"
   ]
  },
  {
   "cell_type": "markdown",
   "metadata": {},
   "source": [
    "if we introduce an explanitory variable, $x_0$ which always have the value 1- we can express the model as: $\\hat{y}_i = w^Tx_i$ now we can collect our features into a matrix, $X$, with each row corresponding to an observation and each column corresponding to a feature.  Since the dot product is commutative, we can write $$\\hat{y} = Xw$$"
   ]
  },
  {
   "cell_type": "markdown",
   "metadata": {},
   "source": [
    "Where $\\hat{y}$ is a $Nx1$ column vector containing all of our predictions, $X$ is an $NxD+1$ matrix containing all the observations for all $D+1$ features, and $w$ is a $D+1x1$ vector containing the model weights, or coefficients"
   ]
  },
  {
   "cell_type": "markdown",
   "metadata": {},
   "source": [
    "Our goal is still to minimize our cost(or loss, or error) function $J(w_0, ... ,w_D) = \\sum\\limits_{i=1}^{N}(y_i - \\hat{y}_i)^2$ remembering that $y$ and $\\hat{y}$ are now column vectors, our loss function is equivalent to the dot product: $J(w) = (y-\\hat{y})^T(y-\\hat{y})$ Setting the derivative equal to $0$ and solving for $w$, we get: $$w = (X^TX)^{-1}X^Ty$$ also known as the Normal equation"
   ]
  },
  {
   "cell_type": "markdown",
   "metadata": {},
   "source": [
    "### Coding a multiple linear regression"
   ]
  },
  {
   "cell_type": "code",
   "execution_count": 3,
   "metadata": {},
   "outputs": [],
   "source": [
    "from mpl_toolkits.mplot3d.axes3d import Axes3D\n",
    "\n",
    "x_0 = np.ones(300)\n",
    "x_1 = np.linspace(-100, 100, 300)\n",
    "x_2 = np.linspace(-50, 100, 300)\n",
    "\n",
    "y = 0.4 *x_1 + 0.5 *x_2 + 4 * x_0+ np.random.normal(scale = 20, size = 300)\n",
    "X = []\n",
    "for count in range(300):\n",
    "    X.append([x_0[count], x_1[count], x_2[count]])\n",
    "X = np.array(X)\n",
    " \n",
    "\n",
    "w = np.linalg.solve(np.dot(X.T, X),\n",
    "                    np.dot(X.T, y))\n",
    "y_hat = np.dot(X, w)\n",
    "\n",
    "fig = plt.figure()\n",
    "ax = fig.add_subplot(111, projection = '3d')\n",
    "ax.scatter(X[:,1], X[:,2], y)\n",
    "ax.plot(X[:,1], X[:,2], y_hat, color='r')\n",
    "\n",
    "\n",
    "plt.show()\n",
    "\n",
    "r2 = r2(y, y_hat)\n",
    "\n",
    "print(\"The R-squared value is: {}\".format(r2))"
   ]
  },
  {
   "cell_type": "markdown",
   "metadata": {},
   "source": [
    "### 3.) General Linear Models- GLMS and basis functions"
   ]
  },
  {
   "cell_type": "markdown",
   "metadata": {},
   "source": [
    "So far we have assumed that our features have been linear in $X$ however, even we can also model non-linear functions as a linear combination of functions $\\rho_0, \\rho_1, ..., \\rho_p$ that form a basis, or span, the non-linear relationships $x_1,...,x_D$ we can express these non-linear relationships as a linear function of the functions $\\rho_0, \\rho_1, ..., \\rho_p$ as $$\\hat{y} = f(x) = \\sum\\limits_{i=0}^{P} w_i\\rho_i(x)$$"
   ]
  },
  {
   "cell_type": "markdown",
   "metadata": {},
   "source": [
    "the linear regressions we have fitted so far have simply been a specific case where the basis functions are the identity $\\rho(x) = x$"
   ]
  },
  {
   "cell_type": "markdown",
   "metadata": {},
   "source": [
    "consider the one-dimensional case where we can set $\\rho_i(x) = x^i$ for $i\\in[0,P]$, and so $f$ is chosen from the set of polynomials of degree $P$ or less.. $\\hat{y} = \\sum\\limits_{i=0}^{P} w_ix^i$ \n",
    "of course, this will expand the feature space, because one variable, $x$ is being replaced with many variables $\\rho_i(x)$"
   ]
  },
  {
   "cell_type": "markdown",
   "metadata": {},
   "source": [
    "The number of basis functions for each observed covariate is the degress of freedom"
   ]
  },
  {
   "cell_type": "markdown",
   "metadata": {},
   "source": [
    "The general solution for many basis functions $\\rho_0, \\rho_1, ..., \\rho_p$ will be the same form as the Normal equation"
   ]
  },
  {
   "cell_type": "markdown",
   "metadata": {},
   "source": [
    "If we have the matrix $$\\Phi = \\begin{bmatrix} \\rho_0(x_1) &\\rho_1(x_1) &... &\\rho_p(x_1)\\\\ \n",
    "                                               \\rho_0(x_2) &\\rho_1(x_2) &... &\\rho_p(x_2)\\\\\n",
    "                                               \\vdots &\\vdots &\\ddots &\\vdots\\\\\n",
    "                                               \\rho_0(x_N) &\\rho_1(x_N) &... &\\rho_p(x_N)\\\\\n",
    "                               \\end{bmatrix}$$\n",
    "                                               "
   ]
  },
  {
   "cell_type": "markdown",
   "metadata": {},
   "source": [
    "Then, just like before, we can write our model as $\\hat{y} = \\Phi w$ and we can follow the same procedure to arrive at the solution for the generalized normal equation $$w = (\\Phi^T\\Phi)^{-1}\\Phi^Ty$$"
   ]
  },
  {
   "cell_type": "markdown",
   "metadata": {},
   "source": [
    "### Coding a simple polynomial regression "
   ]
  },
  {
   "cell_type": "code",
   "execution_count": 10,
   "metadata": {},
   "outputs": [
    {
     "name": "stdout",
     "output_type": "stream",
     "text": [
      "R-squared: 0.9985455361027551\n"
     ]
    },
    {
     "data": {
      "image/png": "[encoded data removed]",
      "text/plain": [
       "<Figure size 864x648 with 1 Axes>"
      ]
     },
     "metadata": {
      "needs_background": "light"
     },
     "output_type": "display_data"
    },
    {
     "data": {
      "image/png": "[encoded data removed]",
      "text/plain": [
       "<Figure size 864x648 with 1 Axes>"
      ]
     },
     "metadata": {
      "needs_background": "light"
     },
     "output_type": "display_data"
    }
   ],
   "source": [
    "import numpy as np\n",
    "import matplotlib.pyplot as plt\n",
    "%matplotlib inline\n",
    "\n",
    "x = np.linspace(0, 10, 100)\n",
    "y = 4.9 + 1.2*x + 3.11456*x**2 + np.random.randn(100)*4\n",
    "\n",
    "plt.figure(figsize = (12,9))\n",
    "plt.scatter(x, y)\n",
    "\n",
    "PHI = np.vstack((np.array([1]*100), x, x**2)).T\n",
    "\n",
    "PHI[:10,:]\n",
    "\n",
    "w = np.linalg.solve(PHI.T.dot(PHI), PHI.T.dot(y))\n",
    "\n",
    "y_hat = PHI.dot(w)\n",
    "\n",
    "plt.figure(figsize = (12,9))\n",
    "plt.scatter(x, y)\n",
    "plt.plot(x, y_hat, color = \"black\", linewidth = 2)\n",
    "\n",
    "R2 = 1 - (y - y_hat).dot(y - y_hat) / (y - y.mean()).dot(y - y.mean())\n",
    "\n",
    "print(\"R-squared: {}\".format(R2))"
   ]
  },
  {
   "cell_type": "code",
   "execution_count": 11,
   "metadata": {},
   "outputs": [
    {
     "data": {
      "text/plain": [
       "[<matplotlib.lines.Line2D at 0x11ed50438>]"
      ]
     },
     "execution_count": 11,
     "metadata": {},
     "output_type": "execute_result"
    },
    {
     "data": {
      "image/png": "[encoded data removed]",
      "text/plain": [
       "<Figure size 432x288 with 1 Axes>"
      ]
     },
     "metadata": {
      "needs_background": "light"
     },
     "output_type": "display_data"
    }
   ],
   "source": [
    "x_0 = np.ones(100)\n",
    "x_1 = np.linspace(0, 200, 100)\n",
    "x_sq = x_1**2\n",
    "y = 0.9 * x_0  + 0.4 * x_1 + 1.5 * x_sq + np.random.normal(loc = 0, scale = 1, size = 100)\n",
    "\n",
    "X = []\n",
    "for count in range(100):\n",
    "    X.append([x_0[count], x_1[count], x_sq[count]])\n",
    "X = np.array(X)\n",
    "\n",
    "w = np.linalg.solve(np.dot(X.T, X), \n",
    "                    np.dot(X.T, y))\n",
    "y_hat = np.dot(X, w)\n",
    "\n",
    "plt.scatter(X[:,1],y)\n",
    "plt.plot(X[:,1], y_hat, color = 'r')\n",
    "\n",
    "           \n",
    "\n",
    "#r2 = r2(y, y_hat)\n",
    "\n",
    "#print('The R-Squared value is: {}'.format(#r2)"
   ]
  },
  {
   "cell_type": "markdown",
   "metadata": {},
   "source": [
    "### 4.) Interpretation of linear regression"
   ]
  },
  {
   "cell_type": "markdown",
   "metadata": {},
   "source": [
    "recall our formula: $\\hat{y}_i = w_0 + w_1x_i +\\ldots w_jx_D$ \n",
    "$w_0$ is the bias term, which is the value of y when all the coefficients are 0, i.e. when $\\rho(x) = 0$\n",
    "any other weight($w_1, \\ldots, w_j$) gives the rate of change in $y$ for a unit change in the corresponding function $\\rho(x)$"
   ]
  },
  {
   "cell_type": "markdown",
   "metadata": {},
   "source": [
    "In machine learning we want our model to be able to generalize to new data, data it hasn't seen before.  Recall from mathematics that any function can be approximated with a Taylor series if we keep adding terms to it.  Why then, is this a bad approach when trying to optimize our machine learning models' generalization abilities? \n",
    "\n",
    "In supervised machine learning, in order to test how well our model generalizes, we split the data into a training and test set\n",
    "\n",
    "Improving our model's performance on the training data will improve how well our model generalizes, up to a certain point.  But eventually if we fit our model TOO strongly to the training data, we will start to notice a decrease in performace on new, unseen data.  "
   ]
  },
  {
   "cell_type": "markdown",
   "metadata": {},
   "source": [
    "## Bias and Variance\n",
    "\n",
    "Whenever we're fitting models, we're going to run into problems.  Usually we run into problems related to **high bias**, or **high variance**.  In other words, we're talking about an **underfitting** or **overfitting** problem.  It's likely that you have a problem that entails something along the spectrum of **bias** and **variance** that could inform some strategy to improve our model(s) performance.\n",
    "\n",
    "Common stragies for dealing with **bias** and **variance**.\n",
    "\n",
    "- Get more data\n",
    "- Get a better sample of data\n",
    "- Increase complexity of model\n",
    "- Decrease complexity of model\n",
    "- Regularize\n",
    "\n",
    "The goal we typically have in mind with modeling is to **generalize** our estimations well.  Understanding the **bias** and **variance** tradeoff helps us understand **underfitting** and **overfitting**."
   ]
  },
  {
   "cell_type": "markdown",
   "metadata": {},
   "source": [
    "\n",
    "The expected values of SSE, decomposes into 3 components:\n",
    "\n",
    "1. **Bias** (aka $bias^2$)\n",
    "> $(E[\\hat{y}] - y)^2$\n",
    ">\n",
    "> How much predicted values differ from true values.\n",
    "1. **Variance** \n",
    "> $E[\\hat{y} - E[\\hat{y}]]^2$\n",
    ">\n",
    "> How much do predictions differ. \n",
    "1. **$\\sigma^2$** - Irreducible Error\n",
    "\n",
    "<center><h2> $E[SSE] = \\text{bias}^2 + variance + \\sigma^2$</h2></center>\n",
    "\n",
    "\n",
    "> **Irreducible error(s):**\n",
    ">\n",
    "> - Error that cannot be reduced by model improvement.\n",
    "> - Error due to randomness or natural variability in an existing system.\n",
    "\n",
    "![bias_variance](biasvariance.png \"Bias and variance\")"
   ]
  },
  {
   "cell_type": "markdown",
   "metadata": {},
   "source": [
    "### Suppose we want to build a model to best predict \"price\" using \"size\".\n",
    "\n",
    "#### Bias\n",
    "\n",
    "- No bias: On average, our predictions are correct.\n",
    "- As bias increases, our predictions, on average, get more and more incorrect.\n",
    "\n",
    "#### Variance\n",
    "\n",
    "- No variance: Our predictions consistently hit the same value.\n",
    "- As variance increases, our predictions get more and more spread out.\n",
    "\n",
    "![](partitions-underfitting-vs-overfitting-regression-via-polynomial-degree.png)"
   ]
  },
  {
   "cell_type": "markdown",
   "metadata": {},
   "source": [
    "## Bias-Variance Terminology\n",
    "\n",
    "- **Bias**: The average difference between our model $\\hat{y}$ and the truth $y$.\n",
    "- **Variance**: The amount of variation in our model.\n",
    "\n",
    "\n",
    "### High Bias Model\n",
    "- Low accuracy\n",
    "\n",
    "Diagnosis:  _Underfit_\n",
    "\n",
    "### High Variance Model\n",
    "- High accuracy\n",
    "\n",
    "Diagnosis: _Overfit_"
   ]
  },
  {
   "cell_type": "markdown",
   "metadata": {},
   "source": [
    "## Bias-Variance Terminology\n",
    "\n",
    "- **Bias**: The average difference between our model $\\hat{y}$ and the truth $y$.\n",
    "- **Variance**: The amount of variation in our model.\n",
    "\n",
    "\n",
    "### High Bias Model\n",
    "- Low accuracy\n",
    "\n",
    "Diagnosis:  _Underfit_\n",
    "\n",
    "### High Variance Model\n",
    "- High accuracy\n",
    "\n",
    "Diagnosis: _Overfit_"
   ]
  },
  {
   "cell_type": "markdown",
   "metadata": {},
   "source": [
    "## Why Does Bias Occur?\n",
    "<img src=\"highbias.png\" width=\"300\">\n",
    "\n",
    "\n",
    "- Our model is too simple for our data.\n",
    "- On average, our model $\\hat{y}$ is going to be far from the truth $y$.\n",
    "- For example, I tried to model a curved relationship with a straight line.\n",
    "- When we rely on simplifying assumptions that aren’t valid (i.e.linearity), we can run into high bias.\n",
    " - Linear regression is an method where we might suffer from high bias."
   ]
  },
  {
   "cell_type": "markdown",
   "metadata": {},
   "source": [
    "## Why Does Variance Occur?\n",
    "\n",
    "<img src=\"highvariance.png\" width = '300'>\n",
    "\n",
    "Basically, more variance points us to believe our model is too complex.\n",
    "\n",
    "- Our model $\\hat{y}$ matches our data too closely.\n",
    "- May not perform well on data it hasn't seen yet.\n",
    "- We may not have enough data.\n",
    "- Our model may \"fit\" very well to data it's seen, but not generalize well to data it hasn't.\n",
    "\n"
   ]
  },
  {
   "cell_type": "markdown",
   "metadata": {},
   "source": [
    "## The Tradeoff\n",
    "\n",
    "One goal of predictive modeling is to find the optimal \"sweet spot\" in which we minimize our error.  One common strategy that we'll learn deals with **cross-validation**, which entails testing the accuracy of our model on unseen data, then evaluating if it's overfit or not.  Ideally, we're trying to find the ideal balance of bias and variance that allows us to generalize well.\n",
    "\n",
    "### Increasing Model Complexity\n",
    "- Bias decreases\n",
    "- Variance increases (the model is more squigly)\n",
    "\n",
    "<img src = \"biasvariancetradeoff.png\" width = '600'>\n",
    "\n"
   ]
  }
 ],
 "metadata": {
  "kernelspec": {
   "display_name": "Python 3",
   "language": "python",
   "name": "python3"
  },
  "language_info": {
   "codemirror_mode": {
    "name": "ipython",
    "version": 3
   },
   "file_extension": ".py",
   "mimetype": "text/x-python",
   "name": "python",
   "nbconvert_exporter": "python",
   "pygments_lexer": "ipython3",
   "version": "3.6.8"
  }
 },
 "nbformat": 4,
 "nbformat_minor": 2
}
