{
 "cells": [
  {
   "cell_type": "code",
   "execution_count": 42,
   "metadata": {},
   "outputs": [],
   "source": [
    "import pandas as pd\n",
    "import numpy as np\n",
    "import matplotlib.pyplot as plt\n",
    "import seaborn as sns"
   ]
  },
  {
   "cell_type": "code",
   "execution_count": 135,
   "metadata": {},
   "outputs": [],
   "source": [
    "train = pd.read_csv('./train.csv', index_col= 0)\n",
    "kaggle = pd.read_csv('./test.csv', index_col= 0)"
   ]
  },
  {
   "cell_type": "code",
   "execution_count": 136,
   "metadata": {},
   "outputs": [
    {
     "name": "stdout",
     "output_type": "stream",
     "text": [
      "<class 'pandas.core.frame.DataFrame'>\n",
      "Int64Index: 1033 entries, 0 to 1032\n",
      "Columns: 121 entries, year to hf_score\n",
      "dtypes: float64(117), int64(1), object(3)\n",
      "memory usage: 984.6+ KB\n"
     ]
    }
   ],
   "source": [
    "train.info()"
   ]
  },
  {
   "cell_type": "code",
   "execution_count": 137,
   "metadata": {},
   "outputs": [
    {
     "data": {
      "text/html": [
       "<div>\n",
       "<style scoped>\n",
       "    .dataframe tbody tr th:only-of-type {\n",
       "        vertical-align: middle;\n",
       "    }\n",
       "\n",
       "    .dataframe tbody tr th {\n",
       "        vertical-align: top;\n",
       "    }\n",
       "\n",
       "    .dataframe thead th {\n",
       "        text-align: right;\n",
       "    }\n",
       "</style>\n",
       "<table border=\"1\" class=\"dataframe\">\n",
       "  <thead>\n",
       "    <tr style=\"text-align: right;\">\n",
       "      <th></th>\n",
       "      <th>year</th>\n",
       "      <th>ISO_code</th>\n",
       "      <th>countries</th>\n",
       "      <th>region</th>\n",
       "      <th>pf_rol_procedural</th>\n",
       "      <th>pf_rol_civil</th>\n",
       "      <th>pf_rol_criminal</th>\n",
       "      <th>pf_rol</th>\n",
       "      <th>pf_ss_homicide</th>\n",
       "      <th>pf_ss_disappearances_disap</th>\n",
       "      <th>...</th>\n",
       "      <th>ef_regulation_business_bureaucracy</th>\n",
       "      <th>ef_regulation_business_start</th>\n",
       "      <th>ef_regulation_business_bribes</th>\n",
       "      <th>ef_regulation_business_licensing</th>\n",
       "      <th>ef_regulation_business_compliance</th>\n",
       "      <th>ef_regulation_business</th>\n",
       "      <th>ef_regulation</th>\n",
       "      <th>ef_score</th>\n",
       "      <th>ef_rank</th>\n",
       "      <th>hf_score</th>\n",
       "    </tr>\n",
       "  </thead>\n",
       "  <tbody>\n",
       "    <tr>\n",
       "      <th>0</th>\n",
       "      <td>2013</td>\n",
       "      <td>GRC</td>\n",
       "      <td>Greece</td>\n",
       "      <td>Eastern Europe</td>\n",
       "      <td>6.700000</td>\n",
       "      <td>6.100000</td>\n",
       "      <td>4.600000</td>\n",
       "      <td>5.793651</td>\n",
       "      <td>9.459426</td>\n",
       "      <td>10.0</td>\n",
       "      <td>...</td>\n",
       "      <td>6.000000</td>\n",
       "      <td>9.560675</td>\n",
       "      <td>4.368423</td>\n",
       "      <td>8.895988</td>\n",
       "      <td>7.836600</td>\n",
       "      <td>6.511455</td>\n",
       "      <td>6.615249</td>\n",
       "      <td>6.88</td>\n",
       "      <td>82.0</td>\n",
       "      <td>7.486946</td>\n",
       "    </tr>\n",
       "    <tr>\n",
       "      <th>1</th>\n",
       "      <td>2012</td>\n",
       "      <td>COG</td>\n",
       "      <td>Congo, Rep. Of</td>\n",
       "      <td>Sub-Saharan Africa</td>\n",
       "      <td>NaN</td>\n",
       "      <td>NaN</td>\n",
       "      <td>NaN</td>\n",
       "      <td>3.554800</td>\n",
       "      <td>6.053027</td>\n",
       "      <td>10.0</td>\n",
       "      <td>...</td>\n",
       "      <td>0.000000</td>\n",
       "      <td>5.961685</td>\n",
       "      <td>NaN</td>\n",
       "      <td>6.703546</td>\n",
       "      <td>3.251985</td>\n",
       "      <td>3.979304</td>\n",
       "      <td>5.521279</td>\n",
       "      <td>4.39</td>\n",
       "      <td>152.0</td>\n",
       "      <td>5.334761</td>\n",
       "    </tr>\n",
       "    <tr>\n",
       "      <th>2</th>\n",
       "      <td>2009</td>\n",
       "      <td>FJI</td>\n",
       "      <td>Fiji</td>\n",
       "      <td>Oceania</td>\n",
       "      <td>NaN</td>\n",
       "      <td>NaN</td>\n",
       "      <td>NaN</td>\n",
       "      <td>4.343008</td>\n",
       "      <td>8.638445</td>\n",
       "      <td>10.0</td>\n",
       "      <td>...</td>\n",
       "      <td>NaN</td>\n",
       "      <td>8.277233</td>\n",
       "      <td>NaN</td>\n",
       "      <td>8.631834</td>\n",
       "      <td>8.172880</td>\n",
       "      <td>8.360649</td>\n",
       "      <td>8.979383</td>\n",
       "      <td>7.08</td>\n",
       "      <td>59.0</td>\n",
       "      <td>7.318471</td>\n",
       "    </tr>\n",
       "    <tr>\n",
       "      <th>3</th>\n",
       "      <td>2009</td>\n",
       "      <td>IRL</td>\n",
       "      <td>Ireland</td>\n",
       "      <td>Western Europe</td>\n",
       "      <td>NaN</td>\n",
       "      <td>NaN</td>\n",
       "      <td>NaN</td>\n",
       "      <td>7.893729</td>\n",
       "      <td>9.509639</td>\n",
       "      <td>10.0</td>\n",
       "      <td>...</td>\n",
       "      <td>3.952381</td>\n",
       "      <td>9.579583</td>\n",
       "      <td>8.260776</td>\n",
       "      <td>7.683106</td>\n",
       "      <td>9.148091</td>\n",
       "      <td>7.010010</td>\n",
       "      <td>7.858009</td>\n",
       "      <td>7.76</td>\n",
       "      <td>12.0</td>\n",
       "      <td>8.402759</td>\n",
       "    </tr>\n",
       "    <tr>\n",
       "      <th>4</th>\n",
       "      <td>2011</td>\n",
       "      <td>ARE</td>\n",
       "      <td>United Arab Emirates</td>\n",
       "      <td>Middle East &amp; North Africa</td>\n",
       "      <td>6.066667</td>\n",
       "      <td>6.037091</td>\n",
       "      <td>7.486491</td>\n",
       "      <td>6.500000</td>\n",
       "      <td>9.764773</td>\n",
       "      <td>10.0</td>\n",
       "      <td>...</td>\n",
       "      <td>8.787879</td>\n",
       "      <td>9.680841</td>\n",
       "      <td>8.618148</td>\n",
       "      <td>9.983350</td>\n",
       "      <td>9.865488</td>\n",
       "      <td>8.884073</td>\n",
       "      <td>8.576617</td>\n",
       "      <td>7.69</td>\n",
       "      <td>17.0</td>\n",
       "      <td>6.264678</td>\n",
       "    </tr>\n",
       "  </tbody>\n",
       "</table>\n",
       "<p>5 rows × 121 columns</p>\n",
       "</div>"
      ],
      "text/plain": [
       "   year ISO_code             countries                      region  \\\n",
       "0  2013      GRC                Greece              Eastern Europe   \n",
       "1  2012      COG        Congo, Rep. Of          Sub-Saharan Africa   \n",
       "2  2009      FJI                  Fiji                     Oceania   \n",
       "3  2009      IRL               Ireland              Western Europe   \n",
       "4  2011      ARE  United Arab Emirates  Middle East & North Africa   \n",
       "\n",
       "   pf_rol_procedural  pf_rol_civil  pf_rol_criminal    pf_rol  pf_ss_homicide  \\\n",
       "0           6.700000      6.100000         4.600000  5.793651        9.459426   \n",
       "1                NaN           NaN              NaN  3.554800        6.053027   \n",
       "2                NaN           NaN              NaN  4.343008        8.638445   \n",
       "3                NaN           NaN              NaN  7.893729        9.509639   \n",
       "4           6.066667      6.037091         7.486491  6.500000        9.764773   \n",
       "\n",
       "   pf_ss_disappearances_disap    ...     ef_regulation_business_bureaucracy  \\\n",
       "0                        10.0    ...                               6.000000   \n",
       "1                        10.0    ...                               0.000000   \n",
       "2                        10.0    ...                                    NaN   \n",
       "3                        10.0    ...                               3.952381   \n",
       "4                        10.0    ...                               8.787879   \n",
       "\n",
       "   ef_regulation_business_start  ef_regulation_business_bribes  \\\n",
       "0                      9.560675                       4.368423   \n",
       "1                      5.961685                            NaN   \n",
       "2                      8.277233                            NaN   \n",
       "3                      9.579583                       8.260776   \n",
       "4                      9.680841                       8.618148   \n",
       "\n",
       "   ef_regulation_business_licensing  ef_regulation_business_compliance  \\\n",
       "0                          8.895988                           7.836600   \n",
       "1                          6.703546                           3.251985   \n",
       "2                          8.631834                           8.172880   \n",
       "3                          7.683106                           9.148091   \n",
       "4                          9.983350                           9.865488   \n",
       "\n",
       "   ef_regulation_business  ef_regulation  ef_score  ef_rank  hf_score  \n",
       "0                6.511455       6.615249      6.88     82.0  7.486946  \n",
       "1                3.979304       5.521279      4.39    152.0  5.334761  \n",
       "2                8.360649       8.979383      7.08     59.0  7.318471  \n",
       "3                7.010010       7.858009      7.76     12.0  8.402759  \n",
       "4                8.884073       8.576617      7.69     17.0  6.264678  \n",
       "\n",
       "[5 rows x 121 columns]"
      ]
     },
     "execution_count": 137,
     "metadata": {},
     "output_type": "execute_result"
    }
   ],
   "source": [
    "train.head()"
   ]
  },
  {
   "cell_type": "code",
   "execution_count": 138,
   "metadata": {},
   "outputs": [
    {
     "name": "stdout",
     "output_type": "stream",
     "text": [
      "<class 'pandas.core.frame.DataFrame'>\n",
      "Int64Index: 345 entries, 0 to 344\n",
      "Columns: 120 entries, year to ef_rank\n",
      "dtypes: float64(116), int64(1), object(3)\n",
      "memory usage: 326.1+ KB\n"
     ]
    }
   ],
   "source": [
    "kaggle.info()"
   ]
  },
  {
   "cell_type": "code",
   "execution_count": 139,
   "metadata": {},
   "outputs": [
    {
     "data": {
      "text/html": [
       "<div>\n",
       "<style scoped>\n",
       "    .dataframe tbody tr th:only-of-type {\n",
       "        vertical-align: middle;\n",
       "    }\n",
       "\n",
       "    .dataframe tbody tr th {\n",
       "        vertical-align: top;\n",
       "    }\n",
       "\n",
       "    .dataframe thead th {\n",
       "        text-align: right;\n",
       "    }\n",
       "</style>\n",
       "<table border=\"1\" class=\"dataframe\">\n",
       "  <thead>\n",
       "    <tr style=\"text-align: right;\">\n",
       "      <th></th>\n",
       "      <th>year</th>\n",
       "      <th>ISO_code</th>\n",
       "      <th>countries</th>\n",
       "      <th>region</th>\n",
       "      <th>pf_rol_procedural</th>\n",
       "      <th>pf_rol_civil</th>\n",
       "      <th>pf_rol_criminal</th>\n",
       "      <th>pf_rol</th>\n",
       "      <th>pf_ss_homicide</th>\n",
       "      <th>pf_ss_disappearances_disap</th>\n",
       "      <th>...</th>\n",
       "      <th>ef_regulation_business_adm</th>\n",
       "      <th>ef_regulation_business_bureaucracy</th>\n",
       "      <th>ef_regulation_business_start</th>\n",
       "      <th>ef_regulation_business_bribes</th>\n",
       "      <th>ef_regulation_business_licensing</th>\n",
       "      <th>ef_regulation_business_compliance</th>\n",
       "      <th>ef_regulation_business</th>\n",
       "      <th>ef_regulation</th>\n",
       "      <th>ef_score</th>\n",
       "      <th>ef_rank</th>\n",
       "    </tr>\n",
       "  </thead>\n",
       "  <tbody>\n",
       "    <tr>\n",
       "      <th>0</th>\n",
       "      <td>2010</td>\n",
       "      <td>MDG</td>\n",
       "      <td>Madagascar</td>\n",
       "      <td>Sub-Saharan Africa</td>\n",
       "      <td>4.300000</td>\n",
       "      <td>5.349745</td>\n",
       "      <td>4.949092</td>\n",
       "      <td>4.900000</td>\n",
       "      <td>6.329103</td>\n",
       "      <td>5.0</td>\n",
       "      <td>...</td>\n",
       "      <td>3.209803</td>\n",
       "      <td>4.090909</td>\n",
       "      <td>9.616764</td>\n",
       "      <td>3.035905</td>\n",
       "      <td>7.349900</td>\n",
       "      <td>7.746925</td>\n",
       "      <td>5.841701</td>\n",
       "      <td>6.258045</td>\n",
       "      <td>6.41</td>\n",
       "      <td>104.0</td>\n",
       "    </tr>\n",
       "    <tr>\n",
       "      <th>1</th>\n",
       "      <td>2012</td>\n",
       "      <td>BEL</td>\n",
       "      <td>Belgium</td>\n",
       "      <td>Western Europe</td>\n",
       "      <td>8.500000</td>\n",
       "      <td>6.900000</td>\n",
       "      <td>6.700000</td>\n",
       "      <td>7.360317</td>\n",
       "      <td>9.260165</td>\n",
       "      <td>10.0</td>\n",
       "      <td>...</td>\n",
       "      <td>2.748521</td>\n",
       "      <td>8.666667</td>\n",
       "      <td>9.757642</td>\n",
       "      <td>7.306827</td>\n",
       "      <td>7.330529</td>\n",
       "      <td>8.206508</td>\n",
       "      <td>7.336116</td>\n",
       "      <td>8.090983</td>\n",
       "      <td>7.35</td>\n",
       "      <td>42.0</td>\n",
       "    </tr>\n",
       "    <tr>\n",
       "      <th>2</th>\n",
       "      <td>2013</td>\n",
       "      <td>MMR</td>\n",
       "      <td>Myanmar</td>\n",
       "      <td>South Asia</td>\n",
       "      <td>2.100000</td>\n",
       "      <td>3.900000</td>\n",
       "      <td>3.200000</td>\n",
       "      <td>3.087302</td>\n",
       "      <td>9.037478</td>\n",
       "      <td>5.0</td>\n",
       "      <td>...</td>\n",
       "      <td>3.176697</td>\n",
       "      <td>1.333333</td>\n",
       "      <td>2.723830</td>\n",
       "      <td>2.163515</td>\n",
       "      <td>8.815891</td>\n",
       "      <td>8.268159</td>\n",
       "      <td>4.413571</td>\n",
       "      <td>5.563482</td>\n",
       "      <td>5.35</td>\n",
       "      <td>146.0</td>\n",
       "    </tr>\n",
       "    <tr>\n",
       "      <th>3</th>\n",
       "      <td>2016</td>\n",
       "      <td>CHL</td>\n",
       "      <td>Chile</td>\n",
       "      <td>Latin America &amp; the Caribbean</td>\n",
       "      <td>7.706122</td>\n",
       "      <td>6.291439</td>\n",
       "      <td>5.550751</td>\n",
       "      <td>6.516104</td>\n",
       "      <td>8.614887</td>\n",
       "      <td>10.0</td>\n",
       "      <td>...</td>\n",
       "      <td>4.039881</td>\n",
       "      <td>7.777778</td>\n",
       "      <td>9.792396</td>\n",
       "      <td>5.964517</td>\n",
       "      <td>8.747894</td>\n",
       "      <td>6.738086</td>\n",
       "      <td>7.176759</td>\n",
       "      <td>7.098290</td>\n",
       "      <td>7.80</td>\n",
       "      <td>15.0</td>\n",
       "    </tr>\n",
       "    <tr>\n",
       "      <th>4</th>\n",
       "      <td>2015</td>\n",
       "      <td>MLT</td>\n",
       "      <td>Malta</td>\n",
       "      <td>Western Europe</td>\n",
       "      <td>NaN</td>\n",
       "      <td>NaN</td>\n",
       "      <td>NaN</td>\n",
       "      <td>7.086754</td>\n",
       "      <td>9.625833</td>\n",
       "      <td>10.0</td>\n",
       "      <td>...</td>\n",
       "      <td>4.101592</td>\n",
       "      <td>4.888889</td>\n",
       "      <td>9.034103</td>\n",
       "      <td>4.659129</td>\n",
       "      <td>8.191041</td>\n",
       "      <td>8.441904</td>\n",
       "      <td>6.552776</td>\n",
       "      <td>8.097235</td>\n",
       "      <td>7.72</td>\n",
       "      <td>18.0</td>\n",
       "    </tr>\n",
       "  </tbody>\n",
       "</table>\n",
       "<p>5 rows × 120 columns</p>\n",
       "</div>"
      ],
      "text/plain": [
       "   year ISO_code   countries                         region  \\\n",
       "0  2010      MDG  Madagascar             Sub-Saharan Africa   \n",
       "1  2012      BEL     Belgium                 Western Europe   \n",
       "2  2013      MMR     Myanmar                     South Asia   \n",
       "3  2016      CHL       Chile  Latin America & the Caribbean   \n",
       "4  2015      MLT       Malta                 Western Europe   \n",
       "\n",
       "   pf_rol_procedural  pf_rol_civil  pf_rol_criminal    pf_rol  pf_ss_homicide  \\\n",
       "0           4.300000      5.349745         4.949092  4.900000        6.329103   \n",
       "1           8.500000      6.900000         6.700000  7.360317        9.260165   \n",
       "2           2.100000      3.900000         3.200000  3.087302        9.037478   \n",
       "3           7.706122      6.291439         5.550751  6.516104        8.614887   \n",
       "4                NaN           NaN              NaN  7.086754        9.625833   \n",
       "\n",
       "   pf_ss_disappearances_disap   ...     ef_regulation_business_adm  \\\n",
       "0                         5.0   ...                       3.209803   \n",
       "1                        10.0   ...                       2.748521   \n",
       "2                         5.0   ...                       3.176697   \n",
       "3                        10.0   ...                       4.039881   \n",
       "4                        10.0   ...                       4.101592   \n",
       "\n",
       "   ef_regulation_business_bureaucracy  ef_regulation_business_start  \\\n",
       "0                            4.090909                      9.616764   \n",
       "1                            8.666667                      9.757642   \n",
       "2                            1.333333                      2.723830   \n",
       "3                            7.777778                      9.792396   \n",
       "4                            4.888889                      9.034103   \n",
       "\n",
       "   ef_regulation_business_bribes  ef_regulation_business_licensing  \\\n",
       "0                       3.035905                          7.349900   \n",
       "1                       7.306827                          7.330529   \n",
       "2                       2.163515                          8.815891   \n",
       "3                       5.964517                          8.747894   \n",
       "4                       4.659129                          8.191041   \n",
       "\n",
       "   ef_regulation_business_compliance  ef_regulation_business  ef_regulation  \\\n",
       "0                           7.746925                5.841701       6.258045   \n",
       "1                           8.206508                7.336116       8.090983   \n",
       "2                           8.268159                4.413571       5.563482   \n",
       "3                           6.738086                7.176759       7.098290   \n",
       "4                           8.441904                6.552776       8.097235   \n",
       "\n",
       "   ef_score  ef_rank  \n",
       "0      6.41    104.0  \n",
       "1      7.35     42.0  \n",
       "2      5.35    146.0  \n",
       "3      7.80     15.0  \n",
       "4      7.72     18.0  \n",
       "\n",
       "[5 rows x 120 columns]"
      ]
     },
     "execution_count": 139,
     "metadata": {},
     "output_type": "execute_result"
    }
   ],
   "source": [
    "kaggle.head()"
   ]
  },
  {
   "cell_type": "code",
   "execution_count": 140,
   "metadata": {},
   "outputs": [
    {
     "data": {
      "text/plain": [
       "1033"
      ]
     },
     "execution_count": 140,
     "metadata": {},
     "output_type": "execute_result"
    }
   ],
   "source": [
    "len(train)"
   ]
  },
  {
   "cell_type": "code",
   "execution_count": 141,
   "metadata": {
    "scrolled": true
   },
   "outputs": [
    {
     "name": "stderr",
     "output_type": "stream",
     "text": [
      "/Users/richardmason/anaconda3/lib/python3.6/site-packages/ipykernel_launcher.py:1: FutureWarning: 'argmax' is deprecated, use 'idxmax' instead. The behavior of 'argmax'\n",
      "will be corrected to return the positional maximum in the future.\n",
      "Use 'series.values.argmax' to get the position of the maximum now.\n",
      "  \"\"\"Entry point for launching an IPython kernel.\n"
     ]
    },
    {
     "data": {
      "text/plain": [
       "'pf_identity_legal'"
      ]
     },
     "execution_count": 141,
     "metadata": {},
     "output_type": "execute_result"
    }
   ],
   "source": [
    "train.isna().sum().argmax()"
   ]
  },
  {
   "cell_type": "code",
   "execution_count": 142,
   "metadata": {},
   "outputs": [
    {
     "data": {
      "text/plain": [
       "879"
      ]
     },
     "execution_count": 142,
     "metadata": {},
     "output_type": "execute_result"
    }
   ],
   "source": [
    "train['pf_identity_legal'].isna().sum()"
   ]
  },
  {
   "cell_type": "code",
   "execution_count": 143,
   "metadata": {},
   "outputs": [],
   "source": [
    "na = train.isna().sum()"
   ]
  },
  {
   "cell_type": "code",
   "execution_count": 144,
   "metadata": {
    "scrolled": true
   },
   "outputs": [
    {
     "data": {
      "text/plain": [
       "pf_rol_procedural                     375\n",
       "pf_rol_civil                          375\n",
       "pf_rol_criminal                       375\n",
       "pf_ss_disappearances_disap              6\n",
       "pf_ss_disappearances_organized         81\n",
       "pf_ss_women_fgm                        71\n",
       "pf_ss_women_missing                    33\n",
       "pf_ss_women_inheritance_widows        348\n",
       "pf_ss_women_inheritance_daughters     348\n",
       "pf_ss_women_inheritance                35\n",
       "pf_ss_women                            17\n",
       "pf_movement_domestic                   12\n",
       "pf_movement_foreign                    12\n",
       "pf_movement_women                      50\n",
       "pf_religion_estop_establish           481\n",
       "pf_religion_estop_operate             481\n",
       "pf_religion_estop                     183\n",
       "pf_religion_harassment                 10\n",
       "pf_religion_restrictions               10\n",
       "pf_religion                             6\n",
       "pf_association_association            183\n",
       "pf_association_assembly               183\n",
       "pf_association_political_establish    481\n",
       "pf_association_political_operate      481\n",
       "pf_association_political              183\n",
       "pf_association_prof_establish         481\n",
       "pf_association_prof_operate           481\n",
       "pf_association_prof                   183\n",
       "pf_association_sport_establish        481\n",
       "pf_association_sport_operate          481\n",
       "                                     ... \n",
       "ef_money_inflation                      2\n",
       "ef_money                                2\n",
       "ef_trade_tariffs_revenue               68\n",
       "ef_trade_tariffs_mean                  12\n",
       "ef_trade_tariffs_sd                    11\n",
       "ef_trade_tariffs                        5\n",
       "ef_trade_regulatory_nontariff          70\n",
       "ef_trade_regulatory_compliance          9\n",
       "ef_trade_regulatory                     4\n",
       "ef_trade_black                          6\n",
       "ef_trade_movement_foreign              65\n",
       "ef_trade_movement_capital               7\n",
       "ef_trade_movement_visit                 6\n",
       "ef_trade                                1\n",
       "ef_regulation_credit_ownership         71\n",
       "ef_regulation_credit_interest          18\n",
       "ef_regulation_labor_minwage            10\n",
       "ef_regulation_labor_firing             71\n",
       "ef_regulation_labor_bargain            70\n",
       "ef_regulation_labor_hours               7\n",
       "ef_regulation_labor_dismissal          25\n",
       "ef_regulation_labor_conscription        4\n",
       "ef_regulation_labor                     4\n",
       "ef_regulation_business_adm             69\n",
       "ef_regulation_business_bureaucracy     29\n",
       "ef_regulation_business_start            9\n",
       "ef_regulation_business_bribes          75\n",
       "ef_regulation_business_licensing       16\n",
       "ef_regulation_business_compliance       9\n",
       "ef_regulation_business                  4\n",
       "Length: 85, dtype: int64"
      ]
     },
     "execution_count": 144,
     "metadata": {},
     "output_type": "execute_result"
    }
   ],
   "source": [
    "na[na > 0]"
   ]
  },
  {
   "cell_type": "code",
   "execution_count": 145,
   "metadata": {},
   "outputs": [
    {
     "data": {
      "text/plain": [
       "pf_identity_legal      879\n",
       "pf_identity_divorce    606\n",
       "dtype: int64"
      ]
     },
     "execution_count": 145,
     "metadata": {},
     "output_type": "execute_result"
    }
   ],
   "source": [
    "na[na > 500]"
   ]
  },
  {
   "cell_type": "code",
   "execution_count": 146,
   "metadata": {},
   "outputs": [],
   "source": [
    "# Doing some EDA\n",
    "corr = train.corr()[['hf_score']].sort_values('hf_score', ascending = False)"
   ]
  },
  {
   "cell_type": "code",
   "execution_count": 147,
   "metadata": {
    "scrolled": true
   },
   "outputs": [],
   "source": [
    "top_corr = corr[abs(corr.hf_score) > 0.6]"
   ]
  },
  {
   "cell_type": "code",
   "execution_count": 148,
   "metadata": {},
   "outputs": [
    {
     "data": {
      "text/plain": [
       "<matplotlib.axes._subplots.AxesSubplot at 0x1a356f32e8>"
      ]
     },
     "execution_count": 148,
     "metadata": {},
     "output_type": "execute_result"
    },
    {
     "data": {
      "image/png": "[encoded data removed]",
      "text/plain": [
       "<Figure size 432x288 with 1 Axes>"
      ]
     },
     "metadata": {},
     "output_type": "display_data"
    }
   ],
   "source": [
    "sns.distplot(train['pf_rol'])"
   ]
  },
  {
   "cell_type": "code",
   "execution_count": 56,
   "metadata": {},
   "outputs": [
    {
     "name": "stderr",
     "output_type": "stream",
     "text": [
      "/Users/richardmason/anaconda3/lib/python3.6/site-packages/ipykernel_launcher.py:2: FutureWarning: Sorting because non-concatenation axis is not aligned. A future version\n",
      "of pandas will change to not sort by default.\n",
      "\n",
      "To accept the future behavior, pass 'sort=False'.\n",
      "\n",
      "To retain the current behavior and silence the warning, pass 'sort=True'.\n",
      "\n",
      "  \n"
     ]
    }
   ],
   "source": [
    "# Combining train and 'kaggle'\n",
    "All = pd.concat([train, kaggle])"
   ]
  },
  {
   "cell_type": "code",
   "execution_count": 57,
   "metadata": {},
   "outputs": [
    {
     "name": "stdout",
     "output_type": "stream",
     "text": [
      "<class 'pandas.core.frame.DataFrame'>\n",
      "Int64Index: 1378 entries, 0 to 344\n",
      "Data columns (total 121 columns):\n",
      "ISO_code                              object\n",
      "countries                             object\n",
      "ef_government                         float64\n",
      "ef_government_consumption             float64\n",
      "ef_government_enterprises             float64\n",
      "ef_government_tax                     float64\n",
      "ef_government_tax_income              float64\n",
      "ef_government_tax_payroll             float64\n",
      "ef_government_transfers               float64\n",
      "ef_legal                              float64\n",
      "ef_legal_courts                       float64\n",
      "ef_legal_crime                        float64\n",
      "ef_legal_enforcement                  float64\n",
      "ef_legal_gender                       float64\n",
      "ef_legal_integrity                    float64\n",
      "ef_legal_judicial                     float64\n",
      "ef_legal_military                     float64\n",
      "ef_legal_police                       float64\n",
      "ef_legal_protection                   float64\n",
      "ef_legal_restrictions                 float64\n",
      "ef_money                              float64\n",
      "ef_money_currency                     float64\n",
      "ef_money_growth                       float64\n",
      "ef_money_inflation                    float64\n",
      "ef_money_sd                           float64\n",
      "ef_rank                               float64\n",
      "ef_regulation                         float64\n",
      "ef_regulation_business                float64\n",
      "ef_regulation_business_adm            float64\n",
      "ef_regulation_business_bribes         float64\n",
      "ef_regulation_business_bureaucracy    float64\n",
      "ef_regulation_business_compliance     float64\n",
      "ef_regulation_business_licensing      float64\n",
      "ef_regulation_business_start          float64\n",
      "ef_regulation_credit                  float64\n",
      "ef_regulation_credit_interest         float64\n",
      "ef_regulation_credit_ownership        float64\n",
      "ef_regulation_credit_private          float64\n",
      "ef_regulation_labor                   float64\n",
      "ef_regulation_labor_bargain           float64\n",
      "ef_regulation_labor_conscription      float64\n",
      "ef_regulation_labor_dismissal         float64\n",
      "ef_regulation_labor_firing            float64\n",
      "ef_regulation_labor_hours             float64\n",
      "ef_regulation_labor_minwage           float64\n",
      "ef_score                              float64\n",
      "ef_trade                              float64\n",
      "ef_trade_black                        float64\n",
      "ef_trade_movement                     float64\n",
      "ef_trade_movement_capital             float64\n",
      "ef_trade_movement_foreign             float64\n",
      "ef_trade_movement_visit               float64\n",
      "ef_trade_regulatory                   float64\n",
      "ef_trade_regulatory_compliance        float64\n",
      "ef_trade_regulatory_nontariff         float64\n",
      "ef_trade_tariffs                      float64\n",
      "ef_trade_tariffs_mean                 float64\n",
      "ef_trade_tariffs_revenue              float64\n",
      "ef_trade_tariffs_sd                   float64\n",
      "hf_score                              float64\n",
      "pf_association                        float64\n",
      "pf_association_assembly               float64\n",
      "pf_association_association            float64\n",
      "pf_association_political              float64\n",
      "pf_association_political_establish    float64\n",
      "pf_association_political_operate      float64\n",
      "pf_association_prof                   float64\n",
      "pf_association_prof_establish         float64\n",
      "pf_association_prof_operate           float64\n",
      "pf_association_sport                  float64\n",
      "pf_association_sport_establish        float64\n",
      "pf_association_sport_operate          float64\n",
      "pf_expression                         float64\n",
      "pf_expression_cable                   float64\n",
      "pf_expression_control                 float64\n",
      "pf_expression_influence               float64\n",
      "pf_expression_internet                float64\n",
      "pf_expression_jailed                  float64\n",
      "pf_expression_killed                  float64\n",
      "pf_expression_newspapers              float64\n",
      "pf_identity                           float64\n",
      "pf_identity_divorce                   float64\n",
      "pf_identity_legal                     float64\n",
      "pf_identity_parental                  float64\n",
      "pf_identity_parental_divorce          float64\n",
      "pf_identity_parental_marriage         float64\n",
      "pf_identity_sex                       float64\n",
      "pf_identity_sex_female                float64\n",
      "pf_identity_sex_male                  float64\n",
      "pf_movement                           float64\n",
      "pf_movement_domestic                  float64\n",
      "pf_movement_foreign                   float64\n",
      "pf_movement_women                     float64\n",
      "pf_rank                               float64\n",
      "pf_religion                           float64\n",
      "pf_religion_estop                     float64\n",
      "pf_religion_estop_establish           float64\n",
      "pf_religion_estop_operate             float64\n",
      "pf_religion_harassment                float64\n",
      "pf_religion_restrictions              float64\n",
      "pf_rol                                float64\n",
      "pf_rol_civil                          float64\n",
      "pf_rol_criminal                       float64\n",
      "pf_rol_procedural                     float64\n",
      "pf_score                              float64\n",
      "pf_ss                                 float64\n",
      "pf_ss_disappearances                  float64\n",
      "pf_ss_disappearances_disap            float64\n",
      "pf_ss_disappearances_fatalities       float64\n",
      "pf_ss_disappearances_injuries         float64\n",
      "pf_ss_disappearances_organized        float64\n",
      "pf_ss_disappearances_violent          float64\n",
      "pf_ss_homicide                        float64\n",
      "pf_ss_women                           float64\n",
      "pf_ss_women_fgm                       float64\n",
      "pf_ss_women_inheritance               float64\n",
      "pf_ss_women_inheritance_daughters     float64\n",
      "pf_ss_women_inheritance_widows        float64\n",
      "pf_ss_women_missing                   float64\n",
      "region                                object\n",
      "year                                  int64\n",
      "dtypes: float64(117), int64(1), object(3)\n",
      "memory usage: 1.3+ MB\n"
     ]
    }
   ],
   "source": [
    "All.info(verbose = 1)"
   ]
  },
  {
   "cell_type": "code",
   "execution_count": 58,
   "metadata": {},
   "outputs": [],
   "source": [
    "# How should we fill NA's?\n"
   ]
  },
  {
   "cell_type": "code",
   "execution_count": 59,
   "metadata": {
    "collapsed": true
   },
   "outputs": [
    {
     "data": {
      "text/plain": [
       "0                    Greece\n",
       "1            Congo, Rep. Of\n",
       "2                      Fiji\n",
       "3                   Ireland\n",
       "4      United Arab Emirates\n",
       "5                     Malta\n",
       "6               New Zealand\n",
       "7                  Barbados\n",
       "8                      Oman\n",
       "9                   Armenia\n",
       "10          Pap. New Guinea\n",
       "11                    Haiti\n",
       "12                 Cameroon\n",
       "13                  Jamaica\n",
       "14                   France\n",
       "15                  Ecuador\n",
       "16                   Turkey\n",
       "17                  Bahamas\n",
       "18                 Zimbabwe\n",
       "19                  Belgium\n",
       "20              Slovak Rep.\n",
       "21                    Benin\n",
       "22                   Panama\n",
       "23              New Zealand\n",
       "24                 Pakistan\n",
       "25               Azerbaijan\n",
       "26                    Qatar\n",
       "27                   Cyprus\n",
       "28                Guatemala\n",
       "29                 Cameroon\n",
       "               ...         \n",
       "315                Tanzania\n",
       "316                 Estonia\n",
       "317                  Russia\n",
       "318                Cameroon\n",
       "319                  Belize\n",
       "320                 Vietnam\n",
       "321          United Kingdom\n",
       "322                  Guyana\n",
       "323                Zimbabwe\n",
       "324          Congo, Dem. R.\n",
       "325                 Ukraine\n",
       "326             Yemen, Rep.\n",
       "327                 Ireland\n",
       "328             Timor-Leste\n",
       "329              Bangladesh\n",
       "330            Sierra Leone\n",
       "331                    Mali\n",
       "332                Malaysia\n",
       "333                    Togo\n",
       "334                 Moldova\n",
       "335                  Serbia\n",
       "336               Argentina\n",
       "337                 Hungary\n",
       "338                  Kuwait\n",
       "339               Hong Kong\n",
       "340                    Oman\n",
       "341                  Panama\n",
       "342                   Egypt\n",
       "343         Kyrgyz Republic\n",
       "344              Azerbaijan\n",
       "Name: countries, Length: 1378, dtype: object"
      ]
     },
     "execution_count": 59,
     "metadata": {},
     "output_type": "execute_result"
    }
   ],
   "source": [
    "All['countries']"
   ]
  },
  {
   "cell_type": "code",
   "execution_count": 60,
   "metadata": {
    "collapsed": true
   },
   "outputs": [
    {
     "data": {
      "text/plain": [
       "0      GRC\n",
       "1      COG\n",
       "2      FJI\n",
       "3      IRL\n",
       "4      ARE\n",
       "5      MLT\n",
       "6      NZL\n",
       "7      BRD\n",
       "8      OMN\n",
       "9      ARM\n",
       "10     PNG\n",
       "11     HTI\n",
       "12     CMR\n",
       "13     JAM\n",
       "14     FRA\n",
       "15     ECU\n",
       "16     TUR\n",
       "17     BHS\n",
       "18     ZWE\n",
       "19     BEL\n",
       "20     SVK\n",
       "21     BEN\n",
       "22     PAN\n",
       "23     NZL\n",
       "24     PAK\n",
       "25     AZE\n",
       "26     QAT\n",
       "27     CYP\n",
       "28     GTM\n",
       "29     CMR\n",
       "      ... \n",
       "315    TZA\n",
       "316    EST\n",
       "317    RUS\n",
       "318    CMR\n",
       "319    BLZ\n",
       "320    VNM\n",
       "321    GBR\n",
       "322    GUY\n",
       "323    ZWE\n",
       "324    COD\n",
       "325    UKR\n",
       "326    YEM\n",
       "327    IRL\n",
       "328    TLS\n",
       "329    BGD\n",
       "330    SLE\n",
       "331    MLI\n",
       "332    MYS\n",
       "333    TGO\n",
       "334    MDA\n",
       "335    SRB\n",
       "336    ARG\n",
       "337    HUN\n",
       "338    KWT\n",
       "339    HKG\n",
       "340    OMN\n",
       "341    PAN\n",
       "342    EGY\n",
       "343    KGZ\n",
       "344    AZE\n",
       "Name: ISO_code, Length: 1378, dtype: object"
      ]
     },
     "execution_count": 60,
     "metadata": {},
     "output_type": "execute_result"
    }
   ],
   "source": [
    "All['ISO_code']"
   ]
  },
  {
   "cell_type": "code",
   "execution_count": 65,
   "metadata": {},
   "outputs": [
    {
     "data": {
      "text/plain": [
       "array(['Eastern Europe', 'Sub-Saharan Africa', 'Oceania',\n",
       "       'Western Europe', 'Middle East & North Africa',\n",
       "       'Latin America & the Caribbean', 'Caucasus & Central Asia',\n",
       "       'South Asia', 'East Asia', 'North America'], dtype=object)"
      ]
     },
     "execution_count": 65,
     "metadata": {},
     "output_type": "execute_result"
    }
   ],
   "source": [
    "All['region'].unique()"
   ]
  },
  {
   "cell_type": "code",
   "execution_count": 64,
   "metadata": {},
   "outputs": [
    {
     "data": {
      "text/plain": [
       "array([2013, 2012, 2009, 2011, 2008, 2014, 2010, 2016, 2015])"
      ]
     },
     "execution_count": 64,
     "metadata": {},
     "output_type": "execute_result"
    }
   ],
   "source": [
    "All['year'].unique()"
   ]
  },
  {
   "cell_type": "code",
   "execution_count": 75,
   "metadata": {},
   "outputs": [],
   "source": [
    "# Dropping clearly useless columns\n",
    "All.drop(columns = ['ISO_code', 'countries'], axis = 1, inplace = True)"
   ]
  },
  {
   "cell_type": "code",
   "execution_count": 76,
   "metadata": {},
   "outputs": [],
   "source": [
    "All['year'] = All['year'].astype('str')"
   ]
  },
  {
   "cell_type": "code",
   "execution_count": 80,
   "metadata": {},
   "outputs": [],
   "source": [
    "# Converting some columns to categories\n",
    "All = pd.get_dummies(All)"
   ]
  },
  {
   "cell_type": "code",
   "execution_count": 93,
   "metadata": {
    "scrolled": true
   },
   "outputs": [],
   "source": [
    "# We'll just do this for now ;:\n",
    "All.fillna(-999, inplace = True)"
   ]
  },
  {
   "cell_type": "code",
   "execution_count": 94,
   "metadata": {},
   "outputs": [],
   "source": [
    "# separating the data back out\n",
    "train = All[:1033]\n",
    "kaggle = All[1033:]"
   ]
  },
  {
   "cell_type": "code",
   "execution_count": 95,
   "metadata": {},
   "outputs": [
    {
     "name": "stdout",
     "output_type": "stream",
     "text": [
      "<class 'pandas.core.frame.DataFrame'>\n",
      "Int64Index: 1033 entries, 0 to 1032\n",
      "Columns: 136 entries, ef_government to year_2016\n",
      "dtypes: float64(117), uint8(19)\n",
      "memory usage: 971.5 KB\n"
     ]
    }
   ],
   "source": [
    "train.info()"
   ]
  },
  {
   "cell_type": "code",
   "execution_count": 97,
   "metadata": {},
   "outputs": [
    {
     "name": "stdout",
     "output_type": "stream",
     "text": [
      "<class 'pandas.core.frame.DataFrame'>\n",
      "Int64Index: 345 entries, 0 to 344\n",
      "Columns: 136 entries, ef_government to year_2016\n",
      "dtypes: float64(117), uint8(19)\n",
      "memory usage: 324.4 KB\n"
     ]
    }
   ],
   "source": [
    "kaggle.info()"
   ]
  },
  {
   "cell_type": "code",
   "execution_count": 117,
   "metadata": {
    "scrolled": true
   },
   "outputs": [
    {
     "data": {
      "text/plain": [
       "0     -999.0\n",
       "1     -999.0\n",
       "2     -999.0\n",
       "3     -999.0\n",
       "4     -999.0\n",
       "5     -999.0\n",
       "6     -999.0\n",
       "7     -999.0\n",
       "8     -999.0\n",
       "9     -999.0\n",
       "10    -999.0\n",
       "11    -999.0\n",
       "12    -999.0\n",
       "13    -999.0\n",
       "14    -999.0\n",
       "15    -999.0\n",
       "16    -999.0\n",
       "17    -999.0\n",
       "18    -999.0\n",
       "19    -999.0\n",
       "20    -999.0\n",
       "21    -999.0\n",
       "22    -999.0\n",
       "23    -999.0\n",
       "24    -999.0\n",
       "25    -999.0\n",
       "26    -999.0\n",
       "27    -999.0\n",
       "28    -999.0\n",
       "29    -999.0\n",
       "       ...  \n",
       "315   -999.0\n",
       "316   -999.0\n",
       "317   -999.0\n",
       "318   -999.0\n",
       "319   -999.0\n",
       "320   -999.0\n",
       "321   -999.0\n",
       "322   -999.0\n",
       "323   -999.0\n",
       "324   -999.0\n",
       "325   -999.0\n",
       "326   -999.0\n",
       "327   -999.0\n",
       "328   -999.0\n",
       "329   -999.0\n",
       "330   -999.0\n",
       "331   -999.0\n",
       "332   -999.0\n",
       "333   -999.0\n",
       "334   -999.0\n",
       "335   -999.0\n",
       "336   -999.0\n",
       "337   -999.0\n",
       "338   -999.0\n",
       "339   -999.0\n",
       "340   -999.0\n",
       "341   -999.0\n",
       "342   -999.0\n",
       "343   -999.0\n",
       "344   -999.0\n",
       "Name: hf_score, Length: 345, dtype: float64"
      ]
     },
     "execution_count": 117,
     "metadata": {},
     "output_type": "execute_result"
    }
   ],
   "source": [
    "kaggle['hf_score']"
   ]
  },
  {
   "cell_type": "code",
   "execution_count": 100,
   "metadata": {},
   "outputs": [],
   "source": [
    "y = train['hf_score']\n",
    "X = train.drop(columns = 'hf_score', axis = 1)"
   ]
  },
  {
   "cell_type": "code",
   "execution_count": 101,
   "metadata": {},
   "outputs": [],
   "source": [
    "from sklearn.model_selection import train_test_split, GridSearchCV\n",
    "X_train, X_test, y_train, y_test = train_test_split(X, y, random_state = 1)"
   ]
  },
  {
   "cell_type": "code",
   "execution_count": 106,
   "metadata": {},
   "outputs": [],
   "source": [
    "from sklearn.linear_model import LinearRegression, Ridge, Lasso, ElasticNet\n",
    "ridge = Ridge()\n",
    "elastic = ElasticNet()\n",
    "lasso = Lasso()"
   ]
  },
  {
   "cell_type": "code",
   "execution_count": 107,
   "metadata": {},
   "outputs": [],
   "source": [
    "from sklearn.preprocessing import MinMaxScaler\n",
    "min_max = MinMaxScaler()"
   ]
  },
  {
   "cell_type": "code",
   "execution_count": 108,
   "metadata": {},
   "outputs": [],
   "source": [
    "from sklearn.pipeline import Pipeline\n",
    "pipe = Pipeline([('scale', min_max),\n",
    "                ('ridge', ridge)])\n",
    "\n",
    "param_grid = {'scale__feature_range': [(0,1), (-1,1)],\n",
    "             'ridge__alpha': np.logspace(-3, 2, 5)}"
   ]
  },
  {
   "cell_type": "code",
   "execution_count": 109,
   "metadata": {},
   "outputs": [],
   "source": [
    "gridsearch = GridSearchCV(pipe, param_grid)"
   ]
  },
  {
   "cell_type": "code",
   "execution_count": 110,
   "metadata": {},
   "outputs": [
    {
     "data": {
      "text/plain": [
       "GridSearchCV(cv=None, error_score='raise',\n",
       "       estimator=Pipeline(memory=None,\n",
       "     steps=[('scale', MinMaxScaler(copy=True, feature_range=(0, 1))), ('ridge', Ridge(alpha=1.0, copy_X=True, fit_intercept=True, max_iter=None,\n",
       "   normalize=False, random_state=None, solver='auto', tol=0.001))]),\n",
       "       fit_params=None, iid=True, n_jobs=1,\n",
       "       param_grid={'scale__feature_range': [(0, 1), (-1, 1)], 'ridge__alpha': array([1.00000e-03, 1.77828e-02, 3.16228e-01, 5.62341e+00, 1.00000e+02])},\n",
       "       pre_dispatch='2*n_jobs', refit=True, return_train_score='warn',\n",
       "       scoring=None, verbose=0)"
      ]
     },
     "execution_count": 110,
     "metadata": {},
     "output_type": "execute_result"
    }
   ],
   "source": [
    "gridsearch.fit(X_train, y_train)"
   ]
  },
  {
   "cell_type": "code",
   "execution_count": 111,
   "metadata": {},
   "outputs": [
    {
     "data": {
      "text/plain": [
       "Pipeline(memory=None,\n",
       "     steps=[('scale', MinMaxScaler(copy=True, feature_range=(-1, 1))), ('ridge', Ridge(alpha=0.001, copy_X=True, fit_intercept=True, max_iter=None,\n",
       "   normalize=False, random_state=None, solver='auto', tol=0.001))])"
      ]
     },
     "execution_count": 111,
     "metadata": {},
     "output_type": "execute_result"
    }
   ],
   "source": [
    "gridsearch.best_estimator_"
   ]
  },
  {
   "cell_type": "code",
   "execution_count": 112,
   "metadata": {},
   "outputs": [
    {
     "data": {
      "text/plain": [
       "0.999755287289298"
      ]
     },
     "execution_count": 112,
     "metadata": {},
     "output_type": "execute_result"
    }
   ],
   "source": [
    "gridsearch.best_score_"
   ]
  },
  {
   "cell_type": "code",
   "execution_count": 113,
   "metadata": {},
   "outputs": [
    {
     "data": {
      "text/plain": [
       "0.9999999721576841"
      ]
     },
     "execution_count": 113,
     "metadata": {},
     "output_type": "execute_result"
    }
   ],
   "source": [
    "gridsearch.score(X_test, y_test)"
   ]
  },
  {
   "cell_type": "code",
   "execution_count": 115,
   "metadata": {},
   "outputs": [
    {
     "data": {
      "text/plain": [
       "(345, 136)"
      ]
     },
     "execution_count": 115,
     "metadata": {},
     "output_type": "execute_result"
    }
   ],
   "source": [
    "kaggle.shape"
   ]
  },
  {
   "cell_type": "code",
   "execution_count": 116,
   "metadata": {},
   "outputs": [
    {
     "data": {
      "text/plain": [
       "(1033, 136)"
      ]
     },
     "execution_count": 116,
     "metadata": {},
     "output_type": "execute_result"
    }
   ],
   "source": [
    "train.shape"
   ]
  },
  {
   "cell_type": "code",
   "execution_count": 118,
   "metadata": {},
   "outputs": [
    {
     "name": "stderr",
     "output_type": "stream",
     "text": [
      "/Users/richardmason/anaconda3/lib/python3.6/site-packages/pandas/core/frame.py:3697: SettingWithCopyWarning: \n",
      "A value is trying to be set on a copy of a slice from a DataFrame\n",
      "\n",
      "See the caveats in the documentation: http://pandas.pydata.org/pandas-docs/stable/indexing.html#indexing-view-versus-copy\n",
      "  errors=errors)\n"
     ]
    }
   ],
   "source": [
    "kaggle.drop(columns = 'hf_score', axis = 1, inplace= True)"
   ]
  },
  {
   "cell_type": "code",
   "execution_count": 1,
   "metadata": {},
   "outputs": [
    {
     "ename": "NameError",
     "evalue": "name 'gridsearch' is not defined",
     "output_type": "error",
     "traceback": [
      "\u001b[0;31m---------------------------------------------------------------------------\u001b[0m",
      "\u001b[0;31mNameError\u001b[0m                                 Traceback (most recent call last)",
      "\u001b[0;32m<ipython-input-1-dd69ea7e032b>\u001b[0m in \u001b[0;36m<module>\u001b[0;34m\u001b[0m\n\u001b[0;32m----> 1\u001b[0;31m \u001b[0mpreds\u001b[0m \u001b[0;34m=\u001b[0m \u001b[0mgridsearch\u001b[0m\u001b[0;34m.\u001b[0m\u001b[0mpredict\u001b[0m\u001b[0;34m(\u001b[0m\u001b[0mkaggle\u001b[0m\u001b[0;34m)\u001b[0m\u001b[0;34m\u001b[0m\u001b[0m\n\u001b[0m\u001b[1;32m      2\u001b[0m \u001b[0;34m\u001b[0m\u001b[0m\n\u001b[1;32m      3\u001b[0m \u001b[0mpreds\u001b[0m \u001b[0;34m=\u001b[0m \u001b[0mpd\u001b[0m\u001b[0;34m.\u001b[0m\u001b[0mDataFrame\u001b[0m\u001b[0;34m(\u001b[0m\u001b[0mpreds\u001b[0m\u001b[0;34m,\u001b[0m \u001b[0mcolumns\u001b[0m \u001b[0;34m=\u001b[0m \u001b[0;34m[\u001b[0m\u001b[0;34m'hf_score'\u001b[0m\u001b[0;34m]\u001b[0m\u001b[0;34m)\u001b[0m\u001b[0;34m\u001b[0m\u001b[0m\n\u001b[1;32m      4\u001b[0m \u001b[0;34m\u001b[0m\u001b[0m\n\u001b[1;32m      5\u001b[0m preds = pd.DataFrame({'Id':preds.index,\n",
      "\u001b[0;31mNameError\u001b[0m: name 'gridsearch' is not defined"
     ]
    }
   ],
   "source": [
    "preds = ridge.predict(kaggle)\n",
    "\n",
    "preds = pd.DataFrame(preds, columns = ['hf_score'])\n",
    "\n",
    "preds = pd.DataFrame({'Id':preds.index,\n",
    "                     'hf_score':preds.hf_score})\n",
    "\n",
    "prediction_1 = preds.to_csv('./Prediction_1.csv', index=False)"
   ]
  },
  {
   "cell_type": "code",
   "execution_count": null,
   "metadata": {},
   "outputs": [],
   "source": []
  }
 ],
 "metadata": {
  "kernelspec": {
   "display_name": "Python 3",
   "language": "python",
   "name": "python3"
  },
  "language_info": {
   "codemirror_mode": {
    "name": "ipython",
    "version": 3
   },
   "file_extension": ".py",
   "mimetype": "text/x-python",
   "name": "python",
   "nbconvert_exporter": "python",
   "pygments_lexer": "ipython3",
   "version": "3.6.5"
  }
 },
 "nbformat": 4,
 "nbformat_minor": 2
}
