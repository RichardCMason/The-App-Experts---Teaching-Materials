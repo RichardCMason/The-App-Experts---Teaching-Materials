{
 "cells": [
  {
   "cell_type": "markdown",
   "metadata": {},
   "source": [
    "1.) If I have a pandas dataframe, df, and run df.info(), what piece of information will NOT be given:\n",
    "\n",
    "a.) The number of rows of the dataframe\n",
    "b.) The number of columns of the dataframe\n",
    "c.) The number of missing values in each column\n",
    "d.) The mean value of each column"
   ]
  },
  {
   "cell_type": "markdown",
   "metadata": {},
   "source": [
    "2.) Which of the following plots is **ideal** for comparing the relationship between 2 continuous numerical variables?\n",
    "\n",
    "a.) A barplot\n",
    "b.) A swarmplot\n",
    "c.) A scatter plot\n",
    "d.) A line graph\n",
    "e.) A boxplot"
   ]
  },
  {
   "cell_type": "markdown",
   "metadata": {},
   "source": [
    "3.) Say we want to compare the mean salary made by men and women.  We run a t-test and obtain a t-statistic of 3.75.  We also obtain a p-value of 0.003.  What can we conclude from this? What is the null hypothesis, $H_0$?"
   ]
  },
  {
   "cell_type": "markdown",
   "metadata": {},
   "source": [
    "4.) In Bayes theorem, $P(A|B) = \\frac{P(B|A) P(A)}{P(B)}$, \n",
    "Which term is the prior probability? \n",
    "\n",
    "Which term is the likelihood?  \n",
    "\n",
    "Which term is the marginal probability?  \n",
    "\n",
    "Which term is the posterior probability? "
   ]
  },
  {
   "cell_type": "markdown",
   "metadata": {},
   "source": [
    "5.) Gradient Descent is an iterative process to find optimal model weights by minimizing the objective(or cost) function.  What is a likely consequence of having too small of a learning rate, $\\alpha$?  $w_{i+1} = w_i - \\alpha\\frac{\\partial J}{\\partial w_i}$"
   ]
  },
  {
   "cell_type": "markdown",
   "metadata": {},
   "source": [
    "6.) I have a dataset of 50 observations, and discover that 20 of the observations contain some missing values.  I ask about the possible cause of these missing values, and learn that the data was corrupted by a file transfer.  \n",
    "\n",
    "What type of missing data is this?"
   ]
  },
  {
   "cell_type": "markdown",
   "metadata": {},
   "source": [
    "7.) What are the two types of regularization in linear regression we have discussed?"
   ]
  },
  {
   "cell_type": "markdown",
   "metadata": {},
   "source": [
    "8.) If our machine learning model is overfit, is it suffering from high bias or high variance?"
   ]
  },
  {
   "cell_type": "markdown",
   "metadata": {},
   "source": [
    "9.) Explain in words what the $R^2$ score tells us about a model"
   ]
  },
  {
   "cell_type": "markdown",
   "metadata": {},
   "source": [
    "10.) What probability distribution is modeled by flipping a fair coin 7 times?  "
   ]
  }
 ],
 "metadata": {
  "kernelspec": {
   "display_name": "Python 3",
   "language": "python",
   "name": "python3"
  },
  "language_info": {
   "codemirror_mode": {
    "name": "ipython",
    "version": 3
   },
   "file_extension": ".py",
   "mimetype": "text/x-python",
   "name": "python",
   "nbconvert_exporter": "python",
   "pygments_lexer": "ipython3",
   "version": "3.6.5"
  }
 },
 "nbformat": 4,
 "nbformat_minor": 2
}
