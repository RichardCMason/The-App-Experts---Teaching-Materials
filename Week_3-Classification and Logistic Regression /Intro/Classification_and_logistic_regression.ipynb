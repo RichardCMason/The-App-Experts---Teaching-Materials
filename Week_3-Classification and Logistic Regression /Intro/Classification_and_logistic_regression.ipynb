{
 "cells": [
  {
   "cell_type": "code",
   "execution_count": 1,
   "metadata": {},
   "outputs": [],
   "source": [
    "import numpy as np\n",
    "import matplotlib.pyplot as plt"
   ]
  },
  {
   "cell_type": "markdown",
   "metadata": {},
   "source": [
    "### Linear classification"
   ]
  },
  {
   "cell_type": "markdown",
   "metadata": {},
   "source": [
    "Recall the general formula of a line in $\\mathbb{R}^2$: $y = mx + b$, or $$0 = mx + ny + b$$"
   ]
  },
  {
   "cell_type": "markdown",
   "metadata": {},
   "source": [
    "In machine learning we like to use the more general $x_1$ and $x_2$ for variables rather than x and y"
   ]
  },
  {
   "cell_type": "markdown",
   "metadata": {},
   "source": [
    "We can express our hypothesis function, in this case a line, as $$h(x) = w_0 + w_1x_1 + w_2x_2$$"
   ]
  },
  {
   "cell_type": "markdown",
   "metadata": {},
   "source": [
    "By introducing a dummy variable $x_0 = 1$, we can write $$h(x) = w^Tx$$"
   ]
  },
  {
   "cell_type": "markdown",
   "metadata": {},
   "source": [
    "Logistic regression is one of the most commonly used and interpretable classification methods, here we will introduce it's mathematical form and show how it is equivalent to a neural network architecture called a perceptron"
   ]
  },
  {
   "cell_type": "markdown",
   "metadata": {},
   "source": [
    "Each 'node' in a neural 'feeds-forward' its output to another node, where the input is transformed by an **activation function**.  One such function is the **sigmoid function** $$\\sigma(z) = \\frac{1}{1 + e^{-z}}$$"
   ]
  },
  {
   "cell_type": "code",
   "execution_count": 2,
   "metadata": {},
   "outputs": [
    {
     "data": {
      "text/plain": [
       "Text(0.5,1,'Sigmoid curve')"
      ]
     },
     "execution_count": 2,
     "metadata": {},
     "output_type": "execute_result"
    },
    {
     "data": {
      "image/png": "[encoded data removed]",
      "text/plain": [
       "<Figure size 432x288 with 1 Axes>"
      ]
     },
     "metadata": {
      "needs_background": "light"
     },
     "output_type": "display_data"
    }
   ],
   "source": [
    "z = np.linspace(-10, 10, 50)\n",
    "def sigmoid(z):\n",
    "    return 1/(1 + np.exp(-z))\n",
    "\n",
    "plt.plot(z, sigmoid(z));\n",
    "plt.title('Sigmoid curve')"
   ]
  },
  {
   "cell_type": "markdown",
   "metadata": {},
   "source": [
    "And so our model becomes $$\\hat{p} = \\sigma(h(x))$$ $$\\hat{p} = \\sigma(w^Tx)$$ $$\\hat{p} = \\frac{1}{1 + e^{-w^{T}x}}$$\n",
    "\n",
    "It is easy to show that a simple single-layer perceptron is equivalent to logistic regression"
   ]
  },
  {
   "cell_type": "code",
   "execution_count": 3,
   "metadata": {},
   "outputs": [],
   "source": [
    "# Neuron/logistic regression classifier code\n",
    "N = 100\n",
    "D = 2\n",
    "\n",
    "X = np.random.randn(N,D)\n",
    "dummy = np.array([[1] * N]).T\n",
    "PHI = np.concatenate((dummy, X), axis = 1)\n",
    "\n",
    "w = np.random.randn(D + 1)\n",
    "\n",
    "z = PHI.dot(w)\n",
    "\n",
    "p_hat = sigmoid(z)"
   ]
  },
  {
   "cell_type": "markdown",
   "metadata": {},
   "source": [
    "If we check the contents of p_hat, we see the model outputs a real number between 0 and 1, hence why it is called a regression.  But how should these numbers be interpreted if our target variable is binary- 0 or 1?  Where 0 indicates the absence and 1 the presence of something of interest in whatever our classification problem is.  This means that our target follows a Bernoulli distribution, where the parameter p(probability of success) is unknown $$y \\sim B(p)$$"
   ]
  },
  {
   "cell_type": "markdown",
   "metadata": {},
   "source": [
    "Let's review the relationship between odds and probability to better understand the output of our logistic regression model - We can write the probability of a particular event, E, as $$P(E) = \\frac{\\mid E\\mid}{\\mid S\\mid}$$ where S is the set of all possible outcomes.  Now let p = P(E) for ease of notation and we see that the odds of E are related to p as follows: $$odds(E) = \\frac{p}{1 - p}$$"
   ]
  },
  {
   "cell_type": "markdown",
   "metadata": {},
   "source": [
    "The Bernoulli perameter p is related to the odds by the **logit** function, sometimes just called the log-odds.  $$logit(p) = ln \\frac{p}{1 - p}$$"
   ]
  },
  {
   "cell_type": "code",
   "execution_count": 4,
   "metadata": {},
   "outputs": [
    {
     "name": "stderr",
     "output_type": "stream",
     "text": [
      "/Users/richardmason/anaconda3/lib/python3.7/site-packages/ipykernel_launcher.py:4: RuntimeWarning: divide by zero encountered in true_divide\n",
      "  after removing the cwd from sys.path.\n",
      "/Users/richardmason/anaconda3/lib/python3.7/site-packages/ipykernel_launcher.py:4: RuntimeWarning: divide by zero encountered in log\n",
      "  after removing the cwd from sys.path.\n"
     ]
    },
    {
     "data": {
      "image/png": "[encoded data removed]",
      "text/plain": [
       "<Figure size 432x288 with 1 Axes>"
      ]
     },
     "metadata": {
      "needs_background": "light"
     },
     "output_type": "display_data"
    }
   ],
   "source": [
    "# the logit function\n",
    "p = np.linspace(0, 1, 300)\n",
    "def logit(p):\n",
    "    return np.log(p/(1-p))\n",
    "\n",
    "plt.plot(p, logit(p))\n",
    "plt.title('Logit curve');"
   ]
  },
  {
   "cell_type": "markdown",
   "metadata": {},
   "source": [
    "Recall that in logistic regression, p is unknown, so rather than a function which takes p as an input, we need a function that returns p as an output.  We can find such a function by taking the inverse of the logit.  letting $$h = ln\\frac{p}{1 - p}$$ and solving for p, we obtain: $$p = \\frac{1}{1 + e^{-h}}$$"
   ]
  },
  {
   "cell_type": "markdown",
   "metadata": {},
   "source": [
    "and since $h = logit(p)$ the hypothesis hyperplane $h(x) = w^Tx$ aproximates the logit function as a linear combination of the features x, and so we arrive at our model: $$\\hat{p} = \\frac{1}{1 + e^{-w^Tx}}$$"
   ]
  },
  {
   "cell_type": "markdown",
   "metadata": {},
   "source": [
    "### Section about logit being in the form of a hyperplane, and how therefore our hypothesis is actually a good estimator for the logit"
   ]
  },
  {
   "cell_type": "markdown",
   "metadata": {},
   "source": [
    "As with any machine learning model, we need a cost function to optimize.  This function should return a total error of 0 when all of our predictions are perfectly correct, it should get larger as our predictions get further away from the true values, and it should be relatively easy to optimize.  Such a function is the **Categorical Cross-Entropy** : $$J(w_0,\\ldots,w_D) = -\\sum\\limits_{i=1}^{N} y_iln\\hat{p}_i + (1-y_i)ln(1-\\hat{p}_i)$$"
   ]
  },
  {
   "cell_type": "markdown",
   "metadata": {},
   "source": [
    "The likelihood function for a logistic regression on a data set with $N$ training samples, $(x_1, y_1),\\ldots,(x_N,y_N)$ where for each sample $y_i \\sim B(p_i)$ with unknown parameter $p_i$ is given by: $$\\mathcal{L}(y|p) =\\prod\\limits_{i=1}^{N} p_i^{y_i}(1-p_i)^{1-y_i}$$"
   ]
  },
  {
   "cell_type": "markdown",
   "metadata": {},
   "source": [
    "after a derivation we find that the log-likelihood, $ln\\mathcal{L} = -J$ and therefore see that minimizing the cross-entropy error yields the **Maximum Likelihood Estimate** for the model parameters"
   ]
  },
  {
   "cell_type": "markdown",
   "metadata": {},
   "source": [
    "Since itt's not possible to set the cross-entropy derivative equal to zero and solve for the roots, we will employ **Gradient Descent** to optimize the model weights.  Recall our logistic regression model $$\\hat{p} = \\frac{1}{1 + e^{-h}}$$ where our hypothesis $$h = -w^Tx$$"
   ]
  },
  {
   "cell_type": "markdown",
   "metadata": {},
   "source": [
    "we find that $$\\frac{\\partial{J}}{\\partial{w}} = X^T(\\hat{p} - y)$$ where $X$ is the $N x (D+1)$ matrix containing each of the $N$ training examples across the $D+1$ features, $\\hat{p}$ is the $Nx1$ vector containing the predicted $p$ parameter value for each training example, and $y$ is the $Nx1$ vector containing the label in each training example.  The equation for updating the weights via Gradient Descent is as follows: $$w' = w - r_L\\frac{\\partial{}}{\\partial{w}}J(w)$$ or $$w' = w - r_LX^T(\\hat{p} - y)$$"
   ]
  },
  {
   "cell_type": "markdown",
   "metadata": {},
   "source": [
    "### optimizing cross-entropy objective function via gradient descent(code)"
   ]
  },
  {
   "cell_type": "code",
   "execution_count": 5,
   "metadata": {},
   "outputs": [],
   "source": [
    "N = 100\n",
    "D = 2"
   ]
  },
  {
   "cell_type": "code",
   "execution_count": 6,
   "metadata": {},
   "outputs": [],
   "source": [
    "X = np.random.randn(N,D)"
   ]
  },
  {
   "cell_type": "code",
   "execution_count": 7,
   "metadata": {},
   "outputs": [],
   "source": [
    "X[:(N//2), 0] += 2\n",
    "X[:(N//2), 1] += 1\n",
    "X[(N//2):, 0] -= 2\n",
    "X[(N//2):, 1] -= 1\n",
    "X = np.column_stack((np.array([[1] * N]).T, X))\n",
    "\n",
    "y = np.array([0] * (N//2) + [1] * (N//2))"
   ]
  },
  {
   "cell_type": "code",
   "execution_count": 8,
   "metadata": {
    "scrolled": true
   },
   "outputs": [
    {
     "data": {
      "text/plain": [
       "array([[ 1.00000000e+00,  1.54639775e+00, -3.93128329e-01],\n",
       "       [ 1.00000000e+00,  2.10648420e+00, -3.03496973e-01],\n",
       "       [ 1.00000000e+00,  3.48233081e+00,  4.33631349e-01],\n",
       "       [ 1.00000000e+00,  3.08879701e+00,  9.45071451e-01],\n",
       "       [ 1.00000000e+00,  2.35533219e+00,  2.51302110e+00],\n",
       "       [ 1.00000000e+00,  2.52563114e+00,  1.16888794e+00],\n",
       "       [ 1.00000000e+00,  1.26306825e+00,  1.68416096e+00],\n",
       "       [ 1.00000000e+00,  1.50269061e+00,  5.53634399e-02],\n",
       "       [ 1.00000000e+00,  1.41659382e+00,  1.71811431e+00],\n",
       "       [ 1.00000000e+00,  1.62170814e+00,  1.50433565e+00],\n",
       "       [ 1.00000000e+00,  2.57405819e+00,  1.05205828e+00],\n",
       "       [ 1.00000000e+00,  1.53365003e+00,  1.41330027e+00],\n",
       "       [ 1.00000000e+00,  1.95104837e+00,  2.71227399e-01],\n",
       "       [ 1.00000000e+00,  2.06163284e+00,  2.06987307e+00],\n",
       "       [ 1.00000000e+00,  1.23393672e+00, -2.03363758e-01],\n",
       "       [ 1.00000000e+00,  1.25482724e+00,  9.89800564e-01],\n",
       "       [ 1.00000000e+00,  2.38343202e+00,  1.20202634e+00],\n",
       "       [ 1.00000000e+00,  2.73356056e+00,  2.54193054e+00],\n",
       "       [ 1.00000000e+00,  1.02459918e+00,  1.34030458e+00],\n",
       "       [ 1.00000000e+00, -5.40919782e-01,  3.50632487e-02],\n",
       "       [ 1.00000000e+00,  8.43765430e-01,  2.24021297e+00],\n",
       "       [ 1.00000000e+00,  2.64126850e+00, -4.22445393e-01],\n",
       "       [ 1.00000000e+00,  2.44130611e+00,  1.96695946e+00],\n",
       "       [ 1.00000000e+00,  2.21703709e+00,  3.88834197e-01],\n",
       "       [ 1.00000000e+00,  1.90331865e+00, -1.60246106e-01],\n",
       "       [ 1.00000000e+00,  3.27126521e+00,  1.42414918e+00],\n",
       "       [ 1.00000000e+00,  2.72829927e+00, -1.62237674e-01],\n",
       "       [ 1.00000000e+00,  1.38821430e+00,  1.21507903e+00],\n",
       "       [ 1.00000000e+00,  2.41976794e+00,  9.09632845e-01],\n",
       "       [ 1.00000000e+00,  1.38619629e+00,  2.11117527e-01],\n",
       "       [ 1.00000000e+00,  3.03323148e+00,  9.13361510e-01],\n",
       "       [ 1.00000000e+00,  3.51453064e+00,  3.07337785e-02],\n",
       "       [ 1.00000000e+00, -3.59176335e-01, -4.01523419e-01],\n",
       "       [ 1.00000000e+00,  2.12431706e+00,  2.32909986e-01],\n",
       "       [ 1.00000000e+00,  1.49210528e+00, -3.28717135e-01],\n",
       "       [ 1.00000000e+00,  3.72551981e+00, -3.54994746e-01],\n",
       "       [ 1.00000000e+00,  9.92700349e-01,  1.26383634e+00],\n",
       "       [ 1.00000000e+00,  1.75258918e+00,  3.44469562e-01],\n",
       "       [ 1.00000000e+00,  1.47588734e+00,  2.72472594e+00],\n",
       "       [ 1.00000000e+00,  9.49981435e-01,  4.49127791e-04],\n",
       "       [ 1.00000000e+00,  1.58083443e+00, -6.57793767e-01],\n",
       "       [ 1.00000000e+00,  3.03664562e+00,  2.17164028e+00],\n",
       "       [ 1.00000000e+00,  2.74992234e+00,  1.16739985e-01],\n",
       "       [ 1.00000000e+00,  1.20408464e+00,  7.56495854e-01],\n",
       "       [ 1.00000000e+00,  1.75182602e+00,  3.05886761e-01],\n",
       "       [ 1.00000000e+00,  3.99678833e+00,  1.00040598e+00],\n",
       "       [ 1.00000000e+00,  2.71377214e+00,  1.63334884e+00],\n",
       "       [ 1.00000000e+00,  2.01687361e+00,  1.18077571e-01],\n",
       "       [ 1.00000000e+00,  1.60996003e+00,  1.46563906e+00],\n",
       "       [ 1.00000000e+00,  3.25317711e+00,  2.33955238e+00],\n",
       "       [ 1.00000000e+00, -8.15311318e-01, -2.21717703e+00],\n",
       "       [ 1.00000000e+00,  4.67840024e-01, -8.02645176e-01],\n",
       "       [ 1.00000000e+00, -3.28445534e+00, -6.23914500e-01],\n",
       "       [ 1.00000000e+00,  3.09723051e-01,  3.37283657e-01],\n",
       "       [ 1.00000000e+00, -1.56237267e-01, -6.80139132e-01],\n",
       "       [ 1.00000000e+00, -2.64562411e+00, -1.26155965e+00],\n",
       "       [ 1.00000000e+00, -2.37834889e+00, -2.59309280e-01],\n",
       "       [ 1.00000000e+00, -1.65569170e+00, -9.85448361e-01],\n",
       "       [ 1.00000000e+00, -2.04385543e+00, -4.06001140e-01],\n",
       "       [ 1.00000000e+00, -2.93973026e+00, -8.60623847e-01],\n",
       "       [ 1.00000000e+00, -2.86982157e+00, -2.48232031e+00],\n",
       "       [ 1.00000000e+00, -2.35239266e-01,  1.69074393e-01],\n",
       "       [ 1.00000000e+00, -4.52173470e+00,  4.66158854e-01],\n",
       "       [ 1.00000000e+00, -1.52611322e+00,  4.14398352e-01],\n",
       "       [ 1.00000000e+00, -7.03766551e-01, -2.85209278e+00],\n",
       "       [ 1.00000000e+00, -3.86914677e+00, -1.34911100e-01],\n",
       "       [ 1.00000000e+00, -2.95175415e+00, -1.35804998e+00],\n",
       "       [ 1.00000000e+00, -2.17651268e+00, -9.04794660e-01],\n",
       "       [ 1.00000000e+00, -2.13598703e+00, -1.14194138e+00],\n",
       "       [ 1.00000000e+00, -3.21300543e+00, -1.23357354e+00],\n",
       "       [ 1.00000000e+00, -4.75509585e-01, -2.26470628e+00],\n",
       "       [ 1.00000000e+00, -1.73035536e+00, -1.76054609e+00],\n",
       "       [ 1.00000000e+00, -2.57705220e+00, -1.31756161e+00],\n",
       "       [ 1.00000000e+00, -2.05459889e+00,  3.13139189e-01],\n",
       "       [ 1.00000000e+00, -3.15278660e+00, -5.09859623e-01],\n",
       "       [ 1.00000000e+00, -1.92607446e+00, -1.37901381e+00],\n",
       "       [ 1.00000000e+00, -3.10342715e-01, -7.45549086e-01],\n",
       "       [ 1.00000000e+00, -2.69465457e+00, -1.54091064e+00],\n",
       "       [ 1.00000000e+00, -1.79225348e+00, -5.32020609e-01],\n",
       "       [ 1.00000000e+00, -2.53343848e+00, -4.92166501e-01],\n",
       "       [ 1.00000000e+00, -1.73340528e+00,  1.36701924e+00],\n",
       "       [ 1.00000000e+00, -2.19759429e+00,  4.86707736e-01],\n",
       "       [ 1.00000000e+00, -2.00308222e+00, -1.33785135e+00],\n",
       "       [ 1.00000000e+00, -1.45391782e+00, -8.52703124e-01],\n",
       "       [ 1.00000000e+00, -5.52589601e-01, -1.06156381e+00],\n",
       "       [ 1.00000000e+00, -9.01392415e-01, -1.04334137e+00],\n",
       "       [ 1.00000000e+00, -2.56874106e+00, -1.19954843e+00],\n",
       "       [ 1.00000000e+00, -1.38952708e+00, -1.02527881e+00],\n",
       "       [ 1.00000000e+00, -5.72341181e-01, -6.89172538e-02],\n",
       "       [ 1.00000000e+00, -2.75256222e+00, -3.65342931e-01],\n",
       "       [ 1.00000000e+00, -2.46811147e+00, -1.82247863e+00],\n",
       "       [ 1.00000000e+00, -2.96583299e+00, -2.58985233e+00],\n",
       "       [ 1.00000000e+00, -2.74566312e+00, -3.62519345e-01],\n",
       "       [ 1.00000000e+00, -2.13697986e+00, -1.62749939e+00],\n",
       "       [ 1.00000000e+00, -8.01900103e-01, -9.75445962e-02],\n",
       "       [ 1.00000000e+00, -2.27300128e+00,  3.69627705e-01],\n",
       "       [ 1.00000000e+00, -1.00296616e+00, -8.89533432e-01],\n",
       "       [ 1.00000000e+00, -2.82906118e+00, -9.91325136e-01],\n",
       "       [ 1.00000000e+00,  1.09395389e-01, -1.11566493e+00],\n",
       "       [ 1.00000000e+00, -7.80408548e-01, -1.64885560e+00]])"
      ]
     },
     "execution_count": 8,
     "metadata": {},
     "output_type": "execute_result"
    }
   ],
   "source": [
    "X"
   ]
  },
  {
   "cell_type": "code",
   "execution_count": 9,
   "metadata": {},
   "outputs": [],
   "source": [
    "def cross_entropy(y,p):\n",
    "    return -np.sum(y * np.log(p) +\n",
    "                  (1-y) * np.log(1-p))"
   ]
  },
  {
   "cell_type": "code",
   "execution_count": 10,
   "metadata": {},
   "outputs": [],
   "source": [
    "w = np.random.randn(D+1)/np.sqrt(D+1)\n",
    "r = 0.01 # learning rate"
   ]
  },
  {
   "cell_type": "code",
   "execution_count": 11,
   "metadata": {},
   "outputs": [],
   "source": [
    "J = []"
   ]
  },
  {
   "cell_type": "code",
   "execution_count": 12,
   "metadata": {},
   "outputs": [],
   "source": [
    "for i in range(200):\n",
    "    h = X.dot(w)\n",
    "    p = sigmoid(h)\n",
    "    J.append(cross_entropy(y,p))\n",
    "    w -= r * X.T.dot(p-y)"
   ]
  },
  {
   "cell_type": "code",
   "execution_count": 13,
   "metadata": {},
   "outputs": [],
   "source": [
    "h = X.dot(w)\n",
    "p = sigmoid(h)"
   ]
  },
  {
   "cell_type": "code",
   "execution_count": 14,
   "metadata": {},
   "outputs": [
    {
     "data": {
      "image/png": "[encoded data removed]",
      "text/plain": [
       "<Figure size 432x288 with 1 Axes>"
      ]
     },
     "metadata": {
      "needs_background": "light"
     },
     "output_type": "display_data"
    }
   ],
   "source": [
    "plt.plot(J)\n",
    "plt.title('cross-entropy')\n",
    "plt.show()"
   ]
  },
  {
   "cell_type": "code",
   "execution_count": 15,
   "metadata": {},
   "outputs": [],
   "source": [
    "disc_x1 = np.linspace(-4, 4, 50)\n",
    "disc_x2 = -(w[0]/w[2]) - (w[1]/w[2]) * disc_x1"
   ]
  },
  {
   "cell_type": "code",
   "execution_count": 16,
   "metadata": {},
   "outputs": [
    {
     "data": {
      "image/png": "[encoded data removed]",
      "text/plain": [
       "<Figure size 432x288 with 1 Axes>"
      ]
     },
     "metadata": {
      "needs_background": "light"
     },
     "output_type": "display_data"
    }
   ],
   "source": [
    "plt.scatter(X[:,1], X[:,2], c = y)\n",
    "plt.plot(disc_x1, disc_x2)\n",
    "plt.show()"
   ]
  },
  {
   "cell_type": "markdown",
   "metadata": {},
   "source": [
    "### L2-regularization"
   ]
  },
  {
   "cell_type": "markdown",
   "metadata": {},
   "source": [
    "Now consider the case where we have data points $(x_1, y_1),\\ldots,(x_N,y_N)$ and we fit a logistic regression model using two features.  If our decision boundary is given by the line $x_2 = -x_1$ then our hypothesis line is of the form: $$h(x) = 0 + kx_1 + kx_2$$ and since any $k\\in\\mathbb{R}^2$ will give us the same decision boundary, we should wonder if our choice of $k$ matters, or if there is a \"best\" value of $k$.  The following code will consider the impact of $k$ on the objective cross-entropy function"
   ]
  },
  {
   "cell_type": "code",
   "execution_count": 17,
   "metadata": {},
   "outputs": [
    {
     "name": "stderr",
     "output_type": "stream",
     "text": [
      "/Users/richardmason/anaconda3/lib/python3.7/site-packages/ipykernel_launcher.py:3: RuntimeWarning: divide by zero encountered in log\n",
      "  This is separate from the ipykernel package so we can avoid doing imports until\n",
      "/Users/richardmason/anaconda3/lib/python3.7/site-packages/ipykernel_launcher.py:3: RuntimeWarning: invalid value encountered in double_scalars\n",
      "  This is separate from the ipykernel package so we can avoid doing imports until\n"
     ]
    },
    {
     "data": {
      "image/png": "[encoded data removed]",
      "text/plain": [
       "<Figure size 432x288 with 1 Axes>"
      ]
     },
     "metadata": {
      "needs_background": "light"
     },
     "output_type": "display_data"
    }
   ],
   "source": [
    "X = np.array([1,1,1])\n",
    "J = []\n",
    "\n",
    "for k in np.linspace(1, 200, 600):\n",
    "    w = np.array([0, k, k])\n",
    "    p = sigmoid(w.dot(X))\n",
    "    J.append(cross_entropy(1,p))\n",
    "\n",
    "plt.plot(J)\n",
    "plt.show()"
   ]
  },
  {
   "cell_type": "markdown",
   "metadata": {},
   "source": [
    "Just as with linear regression, we can add a term to the cross-entropy objective function that minimizes the influence of large coefficient weights.  $$J = -\\sum\\limits_{i=1}^{N} [y_iln\\hat{p}_i + (1-y_i)ln(1-\\hat{p}_i] + \\frac{\\lambda}{2}\\Vert w\\Vert^2_2$$"
   ]
  },
  {
   "cell_type": "markdown",
   "metadata": {},
   "source": [
    "We already know that $$\\mathcal{L} = e^{-J}$$ and so $$\\mathcal{L} = (\\prod\\limits_{i=1}^{N} \\hat{p}_i^{y_i}(1-\\hat{p}_i)^{1-y_i})(\\prod\\limits_{j=0}^{D}e^{-\\frac{\\lambda}{2}w_j^2}$$"
   ]
  },
  {
   "cell_type": "markdown",
   "metadata": {},
   "source": [
    "We can recognize the left factor of the above equation as the probability $P(y=1|X,w)$ and the factor on the right as a Gaussian distribution centered around $w=0$ with a variance of $\\frac{1}{\\lambda}$ which is the probability distribution of $w$, we can therefore make the following substitutions: $$\\mathcal{L} = P(y|X,w)P(w)$$ and applying Baye's Theorem: $$P(w|X,y) \\propto P(y|X,w)P(w)$$"
   ]
  },
  {
   "cell_type": "markdown",
   "metadata": {},
   "source": [
    "So we can see that by minimizing the objective function, $J$ we are maximizing $P(w|X,y=1)$ or the posterior distribution of $w$"
   ]
  },
  {
   "cell_type": "markdown",
   "metadata": {},
   "source": [
    "The distribution $P(w)$ is the prior distribution of w with mean 0 and variance $\\frac{1}{\\lambda}$ Because this distribution represents our prior beliefs about $w$ we are asserting that the weights are near 0.  Observe the larger the value of $\\lambda$, the smaller the variance$(\\frac{1}{\\lambda})$ of $P(w)$ and the more concentrated the distribution becomes around 0.  Therefore, larger values of $\\lambda$ lead to smaller weights"
   ]
  },
  {
   "cell_type": "markdown",
   "metadata": {},
   "source": [
    "We will need to use gradient descent to minimize the objective function, and because the derivative is a linear operator, the derivative we need will be the sum of the derivative we already calculated for the objective function, and that of $\\frac{\\partial{}}{\\partial{w}}(\\frac{\\lambda}{2}w^Tw) = \\lambda w$ so we have $$\\frac{\\partial{J}}{\\partial{w}} = X^T(\\hat{p} - y) + \\lambda w$$ as our equation for optimizing **cross-entropy with L2 penalty via gradient descent**"
   ]
  },
  {
   "cell_type": "markdown",
   "metadata": {},
   "source": [
    "### L-2 regularization(code)"
   ]
  },
  {
   "cell_type": "code",
   "execution_count": 18,
   "metadata": {},
   "outputs": [],
   "source": [
    "N = 100\n",
    "D = 2"
   ]
  },
  {
   "cell_type": "code",
   "execution_count": 19,
   "metadata": {},
   "outputs": [],
   "source": [
    "X = np.random.randn(N,D)\n",
    "X[:(N//2), 0] += 2\n",
    "X[:(N//2), 1] += 2\n",
    "X[(N//2):, 0] -= 2\n",
    "X[(N//2):, 1] -= 2\n",
    "X[(N-5):, 0] += 6\n",
    "X[(N-5):, 1] += 4\n",
    "X = np.column_stack((np.array([[1] * N]).T, X))"
   ]
  },
  {
   "cell_type": "code",
   "execution_count": 20,
   "metadata": {},
   "outputs": [],
   "source": [
    "y = np.array([0] * (N//2) + [1] * (N//2))"
   ]
  },
  {
   "cell_type": "code",
   "execution_count": 21,
   "metadata": {},
   "outputs": [],
   "source": [
    "def classification_rate(y,p):\n",
    "    return np.mean(y == np.round(p))"
   ]
  },
  {
   "cell_type": "code",
   "execution_count": 22,
   "metadata": {},
   "outputs": [],
   "source": [
    "w = np.random.randn(D+1)/np.sqrt(D+1)\n",
    "r = 0.01\n",
    "l2 = 1000\n",
    "J = []"
   ]
  },
  {
   "cell_type": "code",
   "execution_count": 23,
   "metadata": {},
   "outputs": [
    {
     "name": "stderr",
     "output_type": "stream",
     "text": [
      "/Users/richardmason/anaconda3/lib/python3.7/site-packages/ipykernel_launcher.py:3: RuntimeWarning: divide by zero encountered in log\n",
      "  This is separate from the ipykernel package so we can avoid doing imports until\n",
      "/Users/richardmason/anaconda3/lib/python3.7/site-packages/ipykernel_launcher.py:3: RuntimeWarning: invalid value encountered in multiply\n",
      "  This is separate from the ipykernel package so we can avoid doing imports until\n",
      "/Users/richardmason/anaconda3/lib/python3.7/site-packages/ipykernel_launcher.py:2: RuntimeWarning: divide by zero encountered in log\n",
      "  \n",
      "/Users/richardmason/anaconda3/lib/python3.7/site-packages/ipykernel_launcher.py:2: RuntimeWarning: invalid value encountered in multiply\n",
      "  \n"
     ]
    }
   ],
   "source": [
    "for i in range(200):\n",
    "    h = X.dot(w)\n",
    "    p = sigmoid(h)\n",
    "    J.append(cross_entropy(y,p))\n",
    "    w -= r*(X.T.dot(p-y) + l2 * w)"
   ]
  },
  {
   "cell_type": "code",
   "execution_count": 24,
   "metadata": {},
   "outputs": [],
   "source": [
    "h = X.dot(w)\n",
    "p = sigmoid(h)"
   ]
  },
  {
   "cell_type": "code",
   "execution_count": 25,
   "metadata": {},
   "outputs": [
    {
     "data": {
      "image/png": "[encoded data removed]",
      "text/plain": [
       "<Figure size 432x288 with 1 Axes>"
      ]
     },
     "metadata": {
      "needs_background": "light"
     },
     "output_type": "display_data"
    }
   ],
   "source": [
    "plt.plot(J)\n",
    "plt.show()"
   ]
  },
  {
   "cell_type": "code",
   "execution_count": 26,
   "metadata": {},
   "outputs": [],
   "source": [
    "disc_x1 = np.linspace(-6, 6, 50)\n",
    "disc_x2 = -(w[0]/w[2]) - (w[1]/w[2]) * disc_x1"
   ]
  },
  {
   "cell_type": "code",
   "execution_count": 27,
   "metadata": {},
   "outputs": [
    {
     "data": {
      "image/png": "[encoded data removed]",
      "text/plain": [
       "<Figure size 432x288 with 1 Axes>"
      ]
     },
     "metadata": {
      "needs_background": "light"
     },
     "output_type": "display_data"
    }
   ],
   "source": [
    "plt.scatter(X[:,1], X[:,2], c = y)\n",
    "plt.plot(disc_x1, disc_x2)\n",
    "plt.xlim((-6,6))\n",
    "plt.ylim((-6,6))\n",
    "plt.show()"
   ]
  },
  {
   "cell_type": "code",
   "execution_count": 28,
   "metadata": {},
   "outputs": [
    {
     "name": "stdout",
     "output_type": "stream",
     "text": [
      "Classification Rate: 0.11\n"
     ]
    }
   ],
   "source": [
    "print(\"Classification Rate: {}\".format(classification_rate(y,p)))"
   ]
  },
  {
   "cell_type": "markdown",
   "metadata": {},
   "source": [
    "### L1-regularization theory + code"
   ]
  },
  {
   "cell_type": "markdown",
   "metadata": {},
   "source": [
    "Similarly, we can add the $L^1$ norm of the vector $w$ to the cross-entropy objective function as follows: $$J(w) = -\\sum\\limits_{i=1}^{N} y_iln\\hat{p}_i + (1 - y_i)ln(1 - \\hat{p}_i) + \\lambda \\sum\\limits_{j=0}^{D} \\Vert w_j\\Vert$$"
   ]
  },
  {
   "cell_type": "markdown",
   "metadata": {},
   "source": [
    "As with Ridge regularization, we know that minimizing the error is equivalent to maximimizing the posterior distribution of w, where $$\\mathcal{L} = (\\prod\\limits_{i=1}^{N} \\hat{p}_i^{y_i}(1-\\hat{p}_i)^{1-y_i})(\\prod\\limits_{j=0}^{D}e^{-\\lambda |w_j|}$$, the only difference being the value of the penalty term added.  In the case here of $L^1$ regularization, the prior distribution of $w$ is Laplacian instead of Gaussian, which will even more strongly encourage weights to be zero"
   ]
  },
  {
   "cell_type": "markdown",
   "metadata": {},
   "source": [
    "We come to the formula for L1-regularization with gradient descent: $$\\frac{\\partial{J}}{\\partial{w}} = X^T(\\hat{p} - y) + \\lambda sign(w)$$"
   ]
  },
  {
   "cell_type": "code",
   "execution_count": 29,
   "metadata": {},
   "outputs": [],
   "source": [
    "N = 100\n",
    "D = 100"
   ]
  },
  {
   "cell_type": "code",
   "execution_count": 30,
   "metadata": {},
   "outputs": [],
   "source": [
    "X = np.random.randn(N,D)"
   ]
  },
  {
   "cell_type": "code",
   "execution_count": 31,
   "metadata": {},
   "outputs": [],
   "source": [
    "X = np.column_stack((np.array([[1] * N]).T, X))\n",
    "w_true = np.array([0.5, 2.4, -1.7] + [0] * (D-2))\n",
    "y = sigmoid(X.dot(w_true) + np.random.randn(N))"
   ]
  },
  {
   "cell_type": "code",
   "execution_count": 32,
   "metadata": {},
   "outputs": [],
   "source": [
    "w = np.random.randn(D + 1)/np.sqrt(D + 1)"
   ]
  },
  {
   "cell_type": "code",
   "execution_count": 33,
   "metadata": {},
   "outputs": [],
   "source": [
    "r = 0.0001\n",
    "l_1 = 10\n",
    "J = []"
   ]
  },
  {
   "cell_type": "code",
   "execution_count": 37,
   "metadata": {},
   "outputs": [],
   "source": [
    "def cross_entropy_regular(y, p, w, regularization = l_1):\n",
    "    return -np.sum(y * np.log(p) +\n",
    "                          (1-y) * np.log(1 - p) +\n",
    "                    l_1 * np.sum(np.abs(w)))\n",
    "    "
   ]
  },
  {
   "cell_type": "code",
   "execution_count": 39,
   "metadata": {},
   "outputs": [],
   "source": [
    "for i in range(1000):\n",
    "    h = X.dot(w)\n",
    "    p = sigmoid(h)\n",
    "    J.append(cross_entropy_regular(y, p, w, l_1))\n",
    "    w -= r * (X.T.dot(p-y) + l_1 * np.sign(w))"
   ]
  },
  {
   "cell_type": "code",
   "execution_count": 40,
   "metadata": {},
   "outputs": [],
   "source": [
    "h = X.dot(w)\n",
    "p = sigmoid(h)"
   ]
  },
  {
   "cell_type": "code",
   "execution_count": 41,
   "metadata": {},
   "outputs": [
    {
     "data": {
      "image/png": "[encoded data removed]",
      "text/plain": [
       "<Figure size 432x288 with 1 Axes>"
      ]
     },
     "metadata": {
      "needs_background": "light"
     },
     "output_type": "display_data"
    }
   ],
   "source": [
    "plt.plot(J)\n",
    "plt.show()"
   ]
  },
  {
   "cell_type": "code",
   "execution_count": 42,
   "metadata": {},
   "outputs": [
    {
     "data": {
      "image/png": "[encoded data removed]",
      "text/plain": [
       "<Figure size 432x288 with 1 Axes>"
      ]
     },
     "metadata": {
      "needs_background": "light"
     },
     "output_type": "display_data"
    }
   ],
   "source": [
    "plt.plot(w_true, label = \"True w\")\n",
    "plt.plot(w, label = \"Fitted w\")\n",
    "plt.legend()\n",
    "plt.show()"
   ]
  },
  {
   "cell_type": "markdown",
   "metadata": {},
   "source": [
    "### ElasticNet regression"
   ]
  },
  {
   "cell_type": "markdown",
   "metadata": {},
   "source": [
    "We can also combine the Ridge($L^2$) and LASSO($L^1$), which is called **Elastic Net** regularization, and is just the $L^1$ and $L^2$ penalties added to the objective function: $$J(w) = -\\sum\\limits_{i=1}^{N} y_iln\\hat(p)_i + (1-y_i)ln(1-\\hat{p}_i) + \\frac{\\lambda}{2}\\|w\\|^2 + \\lambda\\lvert w\\rvert$$"
   ]
  },
  {
   "cell_type": "markdown",
   "metadata": {},
   "source": [
    "Just as before, we find the derivatives of the individual components and add them together, again remembering that the derivative is a linear operator, and employ **Gradient Descent**: \n",
    "$$\\frac{\\partial{J}}{\\partial{w}} = X^T(\\hat{p}-y) + \\lambda_{2}w + \\lambda_{1}sign(w)$$"
   ]
  },
  {
   "cell_type": "markdown",
   "metadata": {},
   "source": [
    "#### Multinomial Logistic Regression and the \"One vs. All\" method"
   ]
  },
  {
   "cell_type": "markdown",
   "metadata": {},
   "source": [
    "Up until know our classification problem has only involved 2 classes, 0 or 1.  But in real world problems we will often have more than two classes, which will require several modifications to the binary classification model."
   ]
  },
  {
   "cell_type": "markdown",
   "metadata": {},
   "source": [
    "We know that since the **Logistic Regression** algorithm is a linear classifier, it defines a linear(non-curving) discrimination boundary, and so the feature space is divided into two regions, which leads to binary classification.  How do we adapt this linear method to problems with arbitrarily many classes?\n",
    "Let us first consider the simplest non-binary case, in which there are three classes.  To begin, let us consider the following figure: "
   ]
  },
  {
   "cell_type": "code",
   "execution_count": 22,
   "metadata": {},
   "outputs": [
    {
     "data": {
      "image/png": "[encoded data removed]",
      "text/plain": [
       "<Figure size 432x288 with 1 Axes>"
      ]
     },
     "metadata": {
      "needs_background": "light"
     },
     "output_type": "display_data"
    }
   ],
   "source": [
    "x = np.linspace(0, 5, 30)\n",
    "plt.scatter(x, np.random.choice(x, size = 30), s = 40)\n",
    "x = np.linspace(2.5, 7.5, 30)\n",
    "plt.scatter(x, np.random.choice(x, size = 30), marker = 's', s = 40)\n",
    "x = np.linspace(5, 10, 30)\n",
    "plt.scatter(x, np.random.choice(x, size = 30)-5, s = 40, marker = '^')\n",
    "plt.xlabel('x1')\n",
    "plt.ylabel('x2');\n"
   ]
  },
  {
   "cell_type": "markdown",
   "metadata": {},
   "source": [
    "Regardless of how many classes there are, the problem can be coerced into a binary classification by deciding upon a class of interest, and then using Logistic Regression to determine the probability that an observation belongs to the class of interest.  Using the example above, we can visualize the decision boundary for each case."
   ]
  },
  {
   "cell_type": "code",
   "execution_count": 45,
   "metadata": {},
   "outputs": [
    {
     "data": {
      "text/plain": [
       "Text(0,0.5,'x2')"
      ]
     },
     "execution_count": 45,
     "metadata": {},
     "output_type": "execute_result"
    },
    {
     "data": {
      "image/png": "[encoded data removed]",
      "text/plain": [
       "<Figure size 1080x648 with 3 Axes>"
      ]
     },
     "metadata": {
      "needs_background": "light"
     },
     "output_type": "display_data"
    }
   ],
   "source": [
    "plt.figure(figsize = (15, 9))\n",
    "plt.subplot(1,3,1)\n",
    "x = np.linspace(0, 5, 30)\n",
    "plt.scatter(x, np.random.choice(x, size = 30), s = 40)\n",
    "x = np.linspace(2.5, 7.5, 30)\n",
    "plt.scatter(x, np.random.choice(x, size = 30), marker = 's', s = 40)\n",
    "x = np.linspace(5, 10, 30)\n",
    "plt.scatter(x, np.random.choice(x, size = 30)-5, s = 40, marker = '^')\n",
    "x = np.linspace(0, 10)\n",
    "y_1 = -(7/5)*x + 10\n",
    "plt.plot(x, y_1)\n",
    "plt.xlabel('x1')\n",
    "plt.ylabel('x2')\n",
    "\n",
    "\n",
    "plt.subplot(1,3,2)\n",
    "x = np.linspace(0, 5, 30)\n",
    "plt.scatter(x, np.random.choice(x, size = 30), s = 40)\n",
    "x = np.linspace(2.5, 7.5, 30)\n",
    "plt.scatter(x, np.random.choice(x, size = 30), marker = 's', s = 40)\n",
    "x = np.linspace(5, 10, 30)\n",
    "plt.scatter(x, np.random.choice(x, size = 30)-5, s = 40, marker = '^')\n",
    "x = np.linspace(0, 10)\n",
    "y_1 = -(7/5)*x + 10\n",
    "y_2 = x - 2\n",
    "plt.plot(x, y_2, c = 'g')\n",
    "plt.xlabel('x1')\n",
    "plt.ylabel('x2')\n",
    "\n",
    "plt.subplot(1,3,3)\n",
    "x = np.linspace(0, 5, 30)\n",
    "plt.scatter(x, np.random.choice(x, size = 30), s = 40)\n",
    "x = np.linspace(2.5, 7.5, 30)\n",
    "plt.scatter(x, np.random.choice(x, size = 30), marker = 's', s = 40)\n",
    "x = np.linspace(5, 10, 30)\n",
    "plt.scatter(x, np.random.choice(x, size = 30)-5, s = 40, marker = '^')\n",
    "x = np.linspace(0, 10)\n",
    "y_1 = -(7/5)*x + 10\n",
    "y_2 = x - 2\n",
    "y_3 = 4\n",
    "plt.hlines(4, xmin = min(x), xmax = max(x), color = 'r')\n",
    "plt.xlabel('x1')\n",
    "plt.ylabel('x2')"
   ]
  },
  {
   "cell_type": "markdown",
   "metadata": {},
   "source": [
    "Each of these different models will yield the probability that a given observation is the class of interest, we can then combine the output of all 3 models.  The output of this combined model will be a vector containing the probability for each label.\n",
    "In general, if there are k classes, we will need to fit k **Logistic Regression** models to calculate the probability of an observation being in each class. Rather than actually fitting k separate models, it would be much more efficient to find a way of simultaneously defining these k decision boundaries and calculating these k probabilities and combining them into the output of a single model.  We will explore how this is done in the following sections."
   ]
  },
  {
   "cell_type": "markdown",
   "metadata": {},
   "source": [
    "For"
   ]
  }
 ],
 "metadata": {
  "kernelspec": {
   "display_name": "Python 3",
   "language": "python",
   "name": "python3"
  },
  "language_info": {
   "codemirror_mode": {
    "name": "ipython",
    "version": 3
   },
   "file_extension": ".py",
   "mimetype": "text/x-python",
   "name": "python",
   "nbconvert_exporter": "python",
   "pygments_lexer": "ipython3",
   "version": "3.6.5"
  }
 },
 "nbformat": 4,
 "nbformat_minor": 2
}
