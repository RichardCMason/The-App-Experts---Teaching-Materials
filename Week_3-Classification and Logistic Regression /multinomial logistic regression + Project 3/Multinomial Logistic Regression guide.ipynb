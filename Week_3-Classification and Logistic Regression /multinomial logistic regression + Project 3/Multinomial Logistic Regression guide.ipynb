{
 "cells": [
  {
   "cell_type": "markdown",
   "metadata": {},
   "source": [
    "We saw that for binary classification(when we only have two possible outcomes for our target, or y, variable) we used the **Sigmoid** activation function: $$\\sigma(z) = \\frac{1}{1 + e^{-z}}$$"
   ]
  },
  {
   "cell_type": "markdown",
   "metadata": {},
   "source": [
    "and the **Logit** function: $$logit(p) = ln\\frac{p}{1 - p}$$"
   ]
  },
  {
   "cell_type": "markdown",
   "metadata": {},
   "source": [
    "Note: the sigmoid function is the inverse of the logit"
   ]
  },
  {
   "cell_type": "markdown",
   "metadata": {},
   "source": [
    "The logit is also known as the log-odds, because the **odds** function is: $$odds(p) = \\frac{p}{1-p}$$"
   ]
  },
  {
   "cell_type": "markdown",
   "metadata": {},
   "source": [
    "This was for the binary classification task, which only has two possible classes, or values, of our dependent variable, 0 or 1"
   ]
  },
  {
   "cell_type": "markdown",
   "metadata": {},
   "source": [
    "We can extend classification to multiple classes, 0, 1, 2, 3, 4, 5... etc."
   ]
  },
  {
   "cell_type": "markdown",
   "metadata": {},
   "source": [
    "When we do this, we will use a different activation function, the **Softmax** function: $$f(x) = \\frac{e^x_k}{\\sum\\limits_{k=1}^{K} e^x_k}$$ for k = 1,2,3... K"
   ]
  },
  {
   "cell_type": "markdown",
   "metadata": {},
   "source": [
    "which will still have the range(0,1), and the sum of all class probabilities will be 1, with the most likely class having the highest probability"
   ]
  },
  {
   "cell_type": "code",
   "execution_count": null,
   "metadata": {},
   "outputs": [],
   "source": []
  }
 ],
 "metadata": {
  "kernelspec": {
   "display_name": "Python 3",
   "language": "python",
   "name": "python3"
  },
  "language_info": {
   "codemirror_mode": {
    "name": "ipython",
    "version": 3
   },
   "file_extension": ".py",
   "mimetype": "text/x-python",
   "name": "python",
   "nbconvert_exporter": "python",
   "pygments_lexer": "ipython3",
   "version": "3.6.5"
  }
 },
 "nbformat": 4,
 "nbformat_minor": 2
}
