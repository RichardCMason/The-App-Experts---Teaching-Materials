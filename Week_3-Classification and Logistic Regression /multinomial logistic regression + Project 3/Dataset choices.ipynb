{
 "cells": [
  {
   "cell_type": "markdown",
   "metadata": {},
   "source": [
    "https://www.kaggle.com/mohansacharya/graduate-admissions\n",
    "\n",
    "https://www.kaggle.com/danofer/skillcraft\n",
    "\n",
    "https://www.kaggle.com/iliassekkaf/computerparts\n",
    "\n",
    "https://www.kaggle.com/kumarajarshi/life-expectancy-who\n",
    "\n",
    "https://www.kaggle.com/harlfoxem/housesalesprediction\n",
    "\n",
    "https://www.kaggle.com/vjchoudhary7/hr-analytics-case-study/home\n",
    "\n",
    "https://www.kaggle.com/mirichoi0218/insurance/home\n",
    "\n",
    "https://www.kaggle.com/uciml/red-wine-quality-cortez-et-al-2009\n",
    "\n",
    "https://www.kaggle.com/lumins/settlers-of-catan-games/home\n",
    "\n",
    "https://www.kaggle.com/unsdsn/world-happiness\n"
   ]
  },
  {
   "cell_type": "code",
   "execution_count": null,
   "metadata": {},
   "outputs": [],
   "source": []
  }
 ],
 "metadata": {
  "kernelspec": {
   "display_name": "Python 3",
   "language": "python",
   "name": "python3"
  },
  "language_info": {
   "codemirror_mode": {
    "name": "ipython",
    "version": 3
   },
   "file_extension": ".py",
   "mimetype": "text/x-python",
   "name": "python",
   "nbconvert_exporter": "python",
   "pygments_lexer": "ipython3",
   "version": "3.6.5"
  }
 },
 "nbformat": 4,
 "nbformat_minor": 2
}
