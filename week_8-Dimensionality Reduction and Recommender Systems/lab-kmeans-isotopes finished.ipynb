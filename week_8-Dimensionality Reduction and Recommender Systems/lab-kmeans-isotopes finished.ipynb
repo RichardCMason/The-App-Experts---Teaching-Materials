{
 "cells": [
  {
   "cell_type": "markdown",
   "metadata": {},
   "source": [
    "<img src=\"http://imgur.com/1ZcRyrc.png\" style=\"float: left; margin: 20px; height: 55px\">\n",
    "\n",
    "# Practicing K-Means:  Isotopic Composition Plutonium Batches\n",
    "\n",
    "_Authors: Dave Yerrington (SF)_\n",
    "\n",
    "\n",
    "---\n",
    "\n",
    "We have a nice [data dictionary](https://vincentarelbundock.github.io/Rdatasets/doc/cluster/pluton.html)\n",
    "\n",
    "    Pu238 : the percentages of (238)Pu, always less than 2 percent.\n",
    "\n",
    "    Pu239 : the percentages of (239)Pu, typically between 60 and 80 percent (from neutron capture of Uranium, (238)U).\n",
    "\n",
    "    Pu240 : percentage of the plutonium 240 isotope.\n",
    "\n",
    "    Pu241 : percentage of the plutonium 241 isotope.\n",
    "    \n",
    "This data is fairly odd and you will see that K-Means may not be ideal in a certain respect but the takeaway is that it can do an ok job with whispy, elongated shapes.  A more ideal model would be DBSCAN or a hierachical clustering model."
   ]
  },
  {
   "cell_type": "code",
   "execution_count": 1,
   "metadata": {},
   "outputs": [],
   "source": [
    "import pandas as pd\n",
    "\n",
    "%matplotlib inline"
   ]
  },
  {
   "cell_type": "code",
   "execution_count": 2,
   "metadata": {},
   "outputs": [
    {
     "data": {
      "text/html": [
       "<div>\n",
       "<style scoped>\n",
       "    .dataframe tbody tr th:only-of-type {\n",
       "        vertical-align: middle;\n",
       "    }\n",
       "\n",
       "    .dataframe tbody tr th {\n",
       "        vertical-align: top;\n",
       "    }\n",
       "\n",
       "    .dataframe thead th {\n",
       "        text-align: right;\n",
       "    }\n",
       "</style>\n",
       "<table border=\"1\" class=\"dataframe\">\n",
       "  <thead>\n",
       "    <tr style=\"text-align: right;\">\n",
       "      <th></th>\n",
       "      <th>Pu238</th>\n",
       "      <th>Pu239</th>\n",
       "      <th>Pu240</th>\n",
       "      <th>Pu241</th>\n",
       "    </tr>\n",
       "  </thead>\n",
       "  <tbody>\n",
       "    <tr>\n",
       "      <th>1</th>\n",
       "      <td>0.126</td>\n",
       "      <td>75.804</td>\n",
       "      <td>21.204</td>\n",
       "      <td>2.180</td>\n",
       "    </tr>\n",
       "    <tr>\n",
       "      <th>2</th>\n",
       "      <td>0.133</td>\n",
       "      <td>75.515</td>\n",
       "      <td>21.408</td>\n",
       "      <td>2.240</td>\n",
       "    </tr>\n",
       "    <tr>\n",
       "      <th>3</th>\n",
       "      <td>0.127</td>\n",
       "      <td>75.175</td>\n",
       "      <td>21.668</td>\n",
       "      <td>2.305</td>\n",
       "    </tr>\n",
       "    <tr>\n",
       "      <th>4</th>\n",
       "      <td>0.156</td>\n",
       "      <td>78.872</td>\n",
       "      <td>18.428</td>\n",
       "      <td>1.906</td>\n",
       "    </tr>\n",
       "    <tr>\n",
       "      <th>5</th>\n",
       "      <td>0.503</td>\n",
       "      <td>73.317</td>\n",
       "      <td>20.223</td>\n",
       "      <td>4.128</td>\n",
       "    </tr>\n",
       "  </tbody>\n",
       "</table>\n",
       "</div>"
      ],
      "text/plain": [
       "   Pu238   Pu239   Pu240  Pu241\n",
       "1  0.126  75.804  21.204  2.180\n",
       "2  0.133  75.515  21.408  2.240\n",
       "3  0.127  75.175  21.668  2.305\n",
       "4  0.156  78.872  18.428  1.906\n",
       "5  0.503  73.317  20.223  4.128"
      ]
     },
     "execution_count": 2,
     "metadata": {},
     "output_type": "execute_result"
    }
   ],
   "source": [
    "csv_file = \"https://vincentarelbundock.github.io/Rdatasets/csv/cluster/pluton.csv\"\n",
    "\n",
    "df = pd.read_csv(csv_file, index_col = 0)\n",
    "df.head()"
   ]
  },
  {
   "cell_type": "markdown",
   "metadata": {},
   "source": [
    "###  Use Pu239 and Pu240 as our features.\n",
    "1. Select only columns \"Pu239\" and \"Pu240\" to use for our example.\n",
    "1. Plot \"Pu239\" and \"Pu240\" for visual reference.\n"
   ]
  },
  {
   "cell_type": "code",
   "execution_count": 3,
   "metadata": {},
   "outputs": [],
   "source": [
    "df.drop(columns = ['Pu238', 'Pu241'], inplace = True)"
   ]
  },
  {
   "cell_type": "markdown",
   "metadata": {},
   "source": [
    "### Next, use K-Means to cluster this data using \"Pu239\" and \"Pu240\" features\n",
    "Initialize an instance of `KMeans` from `sklearn`, initialized for K=3 clusters.  Fit our sliced dataframe with the `fit`."
   ]
  },
  {
   "cell_type": "code",
   "execution_count": 4,
   "metadata": {},
   "outputs": [],
   "source": [
    "from sklearn.cluster import KMeans"
   ]
  },
  {
   "cell_type": "code",
   "execution_count": 5,
   "metadata": {},
   "outputs": [],
   "source": [
    "kmeans = KMeans(n_clusters=3)"
   ]
  },
  {
   "cell_type": "code",
   "execution_count": 6,
   "metadata": {},
   "outputs": [],
   "source": [
    "model = kmeans.fit(df)"
   ]
  },
  {
   "cell_type": "code",
   "execution_count": null,
   "metadata": {},
   "outputs": [],
   "source": []
  },
  {
   "cell_type": "markdown",
   "metadata": {},
   "source": [
    "### Assign clusters assignments (predictions) back to the original dataframe"
   ]
  },
  {
   "cell_type": "code",
   "execution_count": 7,
   "metadata": {},
   "outputs": [],
   "source": [
    "df['predicted'] = model.labels_"
   ]
  },
  {
   "cell_type": "code",
   "execution_count": 8,
   "metadata": {},
   "outputs": [
    {
     "data": {
      "text/html": [
       "<div>\n",
       "<style scoped>\n",
       "    .dataframe tbody tr th:only-of-type {\n",
       "        vertical-align: middle;\n",
       "    }\n",
       "\n",
       "    .dataframe tbody tr th {\n",
       "        vertical-align: top;\n",
       "    }\n",
       "\n",
       "    .dataframe thead th {\n",
       "        text-align: right;\n",
       "    }\n",
       "</style>\n",
       "<table border=\"1\" class=\"dataframe\">\n",
       "  <thead>\n",
       "    <tr style=\"text-align: right;\">\n",
       "      <th></th>\n",
       "      <th>Pu239</th>\n",
       "      <th>Pu240</th>\n",
       "      <th>predicted</th>\n",
       "    </tr>\n",
       "  </thead>\n",
       "  <tbody>\n",
       "    <tr>\n",
       "      <th>1</th>\n",
       "      <td>75.804</td>\n",
       "      <td>21.204</td>\n",
       "      <td>2</td>\n",
       "    </tr>\n",
       "    <tr>\n",
       "      <th>2</th>\n",
       "      <td>75.515</td>\n",
       "      <td>21.408</td>\n",
       "      <td>2</td>\n",
       "    </tr>\n",
       "    <tr>\n",
       "      <th>3</th>\n",
       "      <td>75.175</td>\n",
       "      <td>21.668</td>\n",
       "      <td>2</td>\n",
       "    </tr>\n",
       "    <tr>\n",
       "      <th>4</th>\n",
       "      <td>78.872</td>\n",
       "      <td>18.428</td>\n",
       "      <td>2</td>\n",
       "    </tr>\n",
       "    <tr>\n",
       "      <th>5</th>\n",
       "      <td>73.317</td>\n",
       "      <td>20.223</td>\n",
       "      <td>0</td>\n",
       "    </tr>\n",
       "  </tbody>\n",
       "</table>\n",
       "</div>"
      ],
      "text/plain": [
       "    Pu239   Pu240  predicted\n",
       "1  75.804  21.204          2\n",
       "2  75.515  21.408          2\n",
       "3  75.175  21.668          2\n",
       "4  78.872  18.428          2\n",
       "5  73.317  20.223          0"
      ]
     },
     "execution_count": 8,
     "metadata": {},
     "output_type": "execute_result"
    }
   ],
   "source": [
    "df.head()"
   ]
  },
  {
   "cell_type": "markdown",
   "metadata": {},
   "source": [
    "### Reference the coordinates for the centroids, plot with your \"Pu239\" and \"Pu240\" scatter plot\n",
    "Plot the centroids from the model object with the scatter of \"Pu239\" and \"Pu240\"."
   ]
  },
  {
   "cell_type": "code",
   "execution_count": 9,
   "metadata": {},
   "outputs": [],
   "source": [
    "import matplotlib.pyplot as plt"
   ]
  },
  {
   "cell_type": "code",
   "execution_count": 10,
   "metadata": {},
   "outputs": [
    {
     "data": {
      "text/plain": [
       "<matplotlib.axes._subplots.AxesSubplot at 0x1a245fd198>"
      ]
     },
     "execution_count": 10,
     "metadata": {},
     "output_type": "execute_result"
    },
    {
     "data": {
      "text/plain": [
       "<Figure size 1080x720 with 0 Axes>"
      ]
     },
     "metadata": {},
     "output_type": "display_data"
    },
    {
     "data": {
      "image/png": "[encoded data removed]",
      "text/plain": [
       "<Figure size 720x576 with 1 Axes>"
      ]
     },
     "metadata": {},
     "output_type": "display_data"
    }
   ],
   "source": [
    "centroids = pd.DataFrame(model.cluster_centers_, columns = ['Pu239', 'Pu240'])\n",
    "\n",
    "plt.figure(figsize=(15, 10))\n",
    "colors = [\"red\", \"green\", \"blue\"]\n",
    "df['color'] = df['predicted'].map(lambda p: colors[p])\n",
    "\n",
    "\n",
    "ax = df.plot(    \n",
    "    kind=\"scatter\", \n",
    "    x=\"Pu239\", y=\"Pu240\",\n",
    "    figsize=(10,8),\n",
    "    c = df['color']\n",
    ")\n",
    "\n",
    "centroids.plot(\n",
    "    kind=\"scatter\", \n",
    "    x=\"Pu239\", y=\"Pu240\", \n",
    "    marker=\"*\", c=[\"r\", \"g\", \"b\"], s=550,\n",
    "    ax=ax\n",
    ")"
   ]
  },
  {
   "cell_type": "code",
   "execution_count": null,
   "metadata": {},
   "outputs": [],
   "source": []
  },
  {
   "cell_type": "code",
   "execution_count": null,
   "metadata": {},
   "outputs": [],
   "source": []
  },
  {
   "cell_type": "markdown",
   "metadata": {},
   "source": [
    "### Scale your data, rerun your model, then plot.\n",
    "This should help slightly but you should compare before and after."
   ]
  },
  {
   "cell_type": "markdown",
   "metadata": {},
   "source": [
    "## Not quite sure where/how this went wrong"
   ]
  },
  {
   "cell_type": "code",
   "execution_count": 11,
   "metadata": {},
   "outputs": [],
   "source": [
    "from sklearn.preprocessing import StandardScaler"
   ]
  },
  {
   "cell_type": "code",
   "execution_count": 12,
   "metadata": {},
   "outputs": [],
   "source": [
    "ss = StandardScaler()\n",
    "scaled_array = ss.fit_transform(df.select_dtypes(include=float))"
   ]
  },
  {
   "cell_type": "code",
   "execution_count": 13,
   "metadata": {},
   "outputs": [],
   "source": [
    "kmeans_2 = KMeans(n_clusters = 3)\n",
    "model_scaled = kmeans_2.fit(scaled_array)"
   ]
  },
  {
   "cell_type": "code",
   "execution_count": 14,
   "metadata": {
    "scrolled": true
   },
   "outputs": [
    {
     "data": {
      "text/plain": [
       "<matplotlib.axes._subplots.AxesSubplot at 0x1a26c5fef0>"
      ]
     },
     "execution_count": 14,
     "metadata": {},
     "output_type": "execute_result"
    },
    {
     "data": {
      "text/plain": [
       "<Figure size 1080x720 with 0 Axes>"
      ]
     },
     "metadata": {},
     "output_type": "display_data"
    },
    {
     "data": {
      "image/png": "[encoded data removed]",
      "text/plain": [
       "<Figure size 720x576 with 1 Axes>"
      ]
     },
     "metadata": {},
     "output_type": "display_data"
    }
   ],
   "source": [
    "centroids = pd.DataFrame(model_scaled.cluster_centers_, columns = ['Pu239', 'Pu240'])\n",
    "\n",
    "plt.figure(figsize=(15, 10))\n",
    "colors = [\"red\", \"green\", \"blue\"]\n",
    "df['color'] = df['predicted'].map(lambda p: colors[p])\n",
    "\n",
    "\n",
    "ax = df.plot(    \n",
    "    kind=\"scatter\", \n",
    "    x=\"Pu239\", y=\"Pu240\",\n",
    "    figsize=(10,8),\n",
    "    c = df['color']\n",
    ")\n",
    "\n",
    "centroids.plot(\n",
    "    kind=\"scatter\", \n",
    "    x=\"Pu239\", y=\"Pu240\", \n",
    "    marker=\"*\", c=[\"r\", \"g\", \"b\"], s=550,\n",
    "    ax=ax\n",
    ")"
   ]
  },
  {
   "cell_type": "code",
   "execution_count": null,
   "metadata": {},
   "outputs": [],
   "source": []
  },
  {
   "cell_type": "markdown",
   "metadata": {},
   "source": [
    "### Might as well check that silhouette score\n",
    "Just to confirm what your eyes are telling you."
   ]
  },
  {
   "cell_type": "code",
   "execution_count": 16,
   "metadata": {},
   "outputs": [],
   "source": [
    "from sklearn.metrics import silhouette_score"
   ]
  },
  {
   "cell_type": "code",
   "execution_count": 17,
   "metadata": {
    "scrolled": true
   },
   "outputs": [
    {
     "data": {
      "text/plain": [
       "array([[75.804, 21.204, 2, 'blue'],\n",
       "       [75.515, 21.408, 2, 'blue'],\n",
       "       [75.175, 21.668000000000003, 2, 'blue'],\n",
       "       [78.872, 18.428, 2, 'blue'],\n",
       "       [73.317, 20.223, 0, 'red'],\n",
       "       [79.116, 18.548, 2, 'blue'],\n",
       "       [75.751, 21.162, 2, 'blue'],\n",
       "       [75.32600000000001, 21.557, 2, 'blue'],\n",
       "       [63.287, 24.493000000000002, 1, 'green'],\n",
       "       [59.553000000000004, 25.576, 1, 'green'],\n",
       "       [58.688, 25.719, 1, 'green'],\n",
       "       [58.758, 25.691999999999997, 1, 'green'],\n",
       "       [59.728, 25.146, 1, 'green'],\n",
       "       [59.544, 25.125999999999998, 1, 'green'],\n",
       "       [59.876999999999995, 25.128, 1, 'green'],\n",
       "       [61.181999999999995, 25.1, 1, 'green'],\n",
       "       [78.244, 18.488, 2, 'blue'],\n",
       "       [78.166, 18.629, 2, 'blue'],\n",
       "       [74.25399999999999, 21.515, 2, 'blue'],\n",
       "       [79.84, 17.872, 2, 'blue'],\n",
       "       [62.455, 24.656, 1, 'green'],\n",
       "       [73.189, 18.285, 0, 'red'],\n",
       "       [75.968, 20.794, 2, 'blue'],\n",
       "       [75.957, 20.866999999999997, 2, 'blue'],\n",
       "       [72.885, 21.718000000000004, 0, 'red'],\n",
       "       [72.907, 21.721, 0, 'red'],\n",
       "       [72.919, 21.713, 0, 'red'],\n",
       "       [76.089, 20.225, 2, 'blue'],\n",
       "       [70.12899999999999, 18.573, 0, 'red'],\n",
       "       [69.273, 18.633, 0, 'red'],\n",
       "       [69.14699999999999, 18.64, 0, 'red'],\n",
       "       [68.294, 18.869, 0, 'red'],\n",
       "       [71.07600000000001, 18.122, 0, 'red'],\n",
       "       [75.714, 20.75, 2, 'blue'],\n",
       "       [76.15, 20.345, 2, 'blue'],\n",
       "       [77.845, 19.108, 2, 'blue'],\n",
       "       [62.382, 22.754, 1, 'green'],\n",
       "       [60.111999999999995, 23.32, 1, 'green'],\n",
       "       [60.519, 23.128, 1, 'green'],\n",
       "       [61.585, 23.133000000000003, 1, 'green'],\n",
       "       [61.332, 23.239, 1, 'green'],\n",
       "       [72.291, 21.761, 0, 'red'],\n",
       "       [73.45100000000001, 21.429000000000002, 0, 'red'],\n",
       "       [74.888, 20.939, 2, 'blue'],\n",
       "       [60.507, 23.603, 1, 'green']], dtype=object)"
      ]
     },
     "execution_count": 17,
     "metadata": {},
     "output_type": "execute_result"
    }
   ],
   "source": []
  },
  {
   "cell_type": "code",
   "execution_count": 20,
   "metadata": {
    "scrolled": true
   },
   "outputs": [
    {
     "data": {
      "text/plain": [
       "array([[75.804, 21.204],\n",
       "       [75.515, 21.408],\n",
       "       [75.175, 21.668],\n",
       "       [78.872, 18.428],\n",
       "       [73.317, 20.223],\n",
       "       [79.116, 18.548],\n",
       "       [75.751, 21.162],\n",
       "       [75.326, 21.557],\n",
       "       [63.287, 24.493],\n",
       "       [59.553, 25.576],\n",
       "       [58.688, 25.719],\n",
       "       [58.758, 25.692],\n",
       "       [59.728, 25.146],\n",
       "       [59.544, 25.126],\n",
       "       [59.877, 25.128],\n",
       "       [61.182, 25.1  ],\n",
       "       [78.244, 18.488],\n",
       "       [78.166, 18.629],\n",
       "       [74.254, 21.515],\n",
       "       [79.84 , 17.872],\n",
       "       [62.455, 24.656],\n",
       "       [73.189, 18.285],\n",
       "       [75.968, 20.794],\n",
       "       [75.957, 20.867],\n",
       "       [72.885, 21.718],\n",
       "       [72.907, 21.721],\n",
       "       [72.919, 21.713],\n",
       "       [76.089, 20.225],\n",
       "       [70.129, 18.573],\n",
       "       [69.273, 18.633],\n",
       "       [69.147, 18.64 ],\n",
       "       [68.294, 18.869],\n",
       "       [71.076, 18.122],\n",
       "       [75.714, 20.75 ],\n",
       "       [76.15 , 20.345],\n",
       "       [77.845, 19.108],\n",
       "       [62.382, 22.754],\n",
       "       [60.112, 23.32 ],\n",
       "       [60.519, 23.128],\n",
       "       [61.585, 23.133],\n",
       "       [61.332, 23.239],\n",
       "       [72.291, 21.761],\n",
       "       [73.451, 21.429],\n",
       "       [74.888, 20.939],\n",
       "       [60.507, 23.603]])"
      ]
     },
     "execution_count": 20,
     "metadata": {},
     "output_type": "execute_result"
    }
   ],
   "source": [
    "#df[['Pu239', 'Pu240']].values"
   ]
  },
  {
   "cell_type": "code",
   "execution_count": 22,
   "metadata": {},
   "outputs": [
    {
     "data": {
      "text/plain": [
       "0.5950619279181214"
      ]
     },
     "execution_count": 22,
     "metadata": {},
     "output_type": "execute_result"
    }
   ],
   "source": [
    "silhouette_score(df[['Pu239', 'Pu240']].values, df['predicted'])"
   ]
  },
  {
   "cell_type": "code",
   "execution_count": 23,
   "metadata": {},
   "outputs": [],
   "source": [
    "## NOT TOO BAD"
   ]
  },
  {
   "cell_type": "code",
   "execution_count": null,
   "metadata": {},
   "outputs": [],
   "source": []
  }
 ],
 "metadata": {
  "kernelspec": {
   "display_name": "Python 3",
   "language": "python",
   "name": "python3"
  },
  "language_info": {
   "codemirror_mode": {
    "name": "ipython",
    "version": 3
   },
   "file_extension": ".py",
   "mimetype": "text/x-python",
   "name": "python",
   "nbconvert_exporter": "python",
   "pygments_lexer": "ipython3",
   "version": "3.6.5"
  }
 },
 "nbformat": 4,
 "nbformat_minor": 2
}
