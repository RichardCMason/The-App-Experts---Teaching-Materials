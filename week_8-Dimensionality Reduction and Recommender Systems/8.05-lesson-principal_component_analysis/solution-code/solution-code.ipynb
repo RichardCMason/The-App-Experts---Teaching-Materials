{
 "cells": [
  {
   "cell_type": "markdown",
   "metadata": {},
   "source": [
    "# ![](https://ga-dash.s3.amazonaws.com/production/assets/logo-9f88ae6c9c3871690e33280fcf557f33.png) Principal Component Analysis\n",
    "\n",
    "> Creator: Matt Brems (DC)"
   ]
  },
  {
   "cell_type": "markdown",
   "metadata": {},
   "source": [
    "### LEARNING OBJECTIVES\n",
    "By the end of the lesson, students should be able to:\n",
    "1. Differentiate between feature elimination and feature extraction.\n",
    "2. Describe the PCA algorithm.\n",
    "3. Identify use cases for PCA.\n",
    "4. Implement PCA in `scikit-learn`.\n",
    "5. Calculate and interpret proportion of explained variance."
   ]
  },
  {
   "cell_type": "markdown",
   "metadata": {},
   "source": [
    "### Introduction of Problem\n",
    "\n",
    "Today, we're going to be using data from the [American Community Survey](https://factfinder.census.gov/faces/nav/jsf/pages/index.xhtml) (you can think of it as similar to the U.S. Census, but the ACS is administered more frequently than every ten years).\n",
    "\n",
    "Specifically, we are going to look household data (how many households have married couples, how many households have children under 18, how many households have children under 6, etc. etc.) in 2016 and use these factors to predict the population in 2017."
   ]
  },
  {
   "cell_type": "code",
   "execution_count": 1,
   "metadata": {
    "collapsed": true
   },
   "outputs": [],
   "source": [
    "import pandas as pd\n",
    "import numpy as np"
   ]
  },
  {
   "cell_type": "markdown",
   "metadata": {},
   "source": [
    "This next cell is a bit of data munging. I'll briefly summarize this, but you can check it out in more detail later if you'd like!"
   ]
  },
  {
   "cell_type": "code",
   "execution_count": 2,
   "metadata": {},
   "outputs": [],
   "source": [
    "## Read in 2017 CA population data.\n",
    "pop = pd.read_csv('./datasets/2017/ACS_17_1YR_S0101_with_ann.csv', header=1)\n",
    "\n",
    "## Drop all columns except for county and population size.\n",
    "pop = pop[['Geography', 'Total; Estimate; Total population']]\n",
    "\n",
    "## Read in 2016 CA household data.\n",
    "hh_2016 = pd.read_csv('./datasets/2016/ACS_16_1YR_S1101_with_ann.csv', header=1)\n",
    "\n",
    "## Remove columns that contain margins of error, percentages, and IDs.\n",
    "## American Community Survey and Census data usually have many, many columns.\n",
    "hh_drop = [i for i in hh_2016.columns if 'Margin of Error' in i or 'Percent' in i]\n",
    "hh_drop.append('Id')\n",
    "hh_drop.append('Id2')\n",
    "hh_2016.drop(columns=hh_drop, inplace = True)\n",
    "\n",
    "## Merge the 2017 population data with the 2016 household data on county.\n",
    "df = pd.merge(pop, hh_2016, how = 'inner', on = 'Geography')\n",
    "\n",
    "## Rename Y column.\n",
    "df.columns = ['pop_2017' if i == 'Total; Estimate; Total population' else i for i in df.columns]\n",
    "\n",
    "## Set index to be the county.\n",
    "df.set_index('Geography', inplace = True)\n",
    "\n",
    "## Drop **columns** with NaN.\n",
    "df.replace(to_replace = '(X)', value = np.nan, inplace = True)\n",
    "df.dropna(axis = 1, how = 'any', inplace = True)"
   ]
  },
  {
   "cell_type": "markdown",
   "metadata": {},
   "source": [
    "### Fit a multiple linear regression model in `sklearn`.\n",
    "- Import Linear Regression.\n",
    "- Set `y` to be the `pop_2017` column.\n",
    "- Use all other columns as your `X`."
   ]
  },
  {
   "cell_type": "code",
   "execution_count": 3,
   "metadata": {},
   "outputs": [],
   "source": [
    "from sklearn.linear_model import LinearRegression"
   ]
  },
  {
   "cell_type": "code",
   "execution_count": 4,
   "metadata": {},
   "outputs": [],
   "source": [
    "y = df['pop_2017']\n",
    "X = df.drop(columns='pop_2017')"
   ]
  },
  {
   "cell_type": "code",
   "execution_count": 5,
   "metadata": {},
   "outputs": [
    {
     "data": {
      "text/plain": [
       "Geography\n",
       "Alameda County, California         1663190\n",
       "Butte County, California            229294\n",
       "Contra Costa County, California    1147439\n",
       "El Dorado County, California        188987\n",
       "Fresno County, California           989255\n",
       "Name: pop_2017, dtype: int64"
      ]
     },
     "execution_count": 5,
     "metadata": {},
     "output_type": "execute_result"
    }
   ],
   "source": [
    "y.head()"
   ]
  },
  {
   "cell_type": "code",
   "execution_count": 6,
   "metadata": {},
   "outputs": [
    {
     "data": {
      "text/html": [
       "<div>\n",
       "<style scoped>\n",
       "    .dataframe tbody tr th:only-of-type {\n",
       "        vertical-align: middle;\n",
       "    }\n",
       "\n",
       "    .dataframe tbody tr th {\n",
       "        vertical-align: top;\n",
       "    }\n",
       "\n",
       "    .dataframe thead th {\n",
       "        text-align: right;\n",
       "    }\n",
       "</style>\n",
       "<table border=\"1\" class=\"dataframe\">\n",
       "  <thead>\n",
       "    <tr style=\"text-align: right;\">\n",
       "      <th></th>\n",
       "      <th>Total; Estimate; Total households</th>\n",
       "      <th>Married-couple family household; Estimate; Total households</th>\n",
       "      <th>Male householder, no wife present, family household; Estimate; Total households</th>\n",
       "      <th>Female householder, no husband present, family household; Estimate; Total households</th>\n",
       "      <th>Nonfamily household; Estimate; Total households</th>\n",
       "      <th>Total; Estimate; Average household size</th>\n",
       "      <th>Married-couple family household; Estimate; Average household size</th>\n",
       "      <th>Male householder, no wife present, family household; Estimate; Average household size</th>\n",
       "      <th>Female householder, no husband present, family household; Estimate; Average household size</th>\n",
       "      <th>Nonfamily household; Estimate; Average household size</th>\n",
       "      <th>...</th>\n",
       "      <th>Total; Estimate; HOUSING TENURE - Owner-occupied housing units</th>\n",
       "      <th>Married-couple family household; Estimate; HOUSING TENURE - Owner-occupied housing units</th>\n",
       "      <th>Male householder, no wife present, family household; Estimate; HOUSING TENURE - Owner-occupied housing units</th>\n",
       "      <th>Female householder, no husband present, family household; Estimate; HOUSING TENURE - Owner-occupied housing units</th>\n",
       "      <th>Nonfamily household; Estimate; HOUSING TENURE - Owner-occupied housing units</th>\n",
       "      <th>Total; Estimate; HOUSING TENURE - Renter-occupied housing units</th>\n",
       "      <th>Married-couple family household; Estimate; HOUSING TENURE - Renter-occupied housing units</th>\n",
       "      <th>Male householder, no wife present, family household; Estimate; HOUSING TENURE - Renter-occupied housing units</th>\n",
       "      <th>Female householder, no husband present, family household; Estimate; HOUSING TENURE - Renter-occupied housing units</th>\n",
       "      <th>Nonfamily household; Estimate; HOUSING TENURE - Renter-occupied housing units</th>\n",
       "    </tr>\n",
       "    <tr>\n",
       "      <th>Geography</th>\n",
       "      <th></th>\n",
       "      <th></th>\n",
       "      <th></th>\n",
       "      <th></th>\n",
       "      <th></th>\n",
       "      <th></th>\n",
       "      <th></th>\n",
       "      <th></th>\n",
       "      <th></th>\n",
       "      <th></th>\n",
       "      <th></th>\n",
       "      <th></th>\n",
       "      <th></th>\n",
       "      <th></th>\n",
       "      <th></th>\n",
       "      <th></th>\n",
       "      <th></th>\n",
       "      <th></th>\n",
       "      <th></th>\n",
       "      <th></th>\n",
       "      <th></th>\n",
       "    </tr>\n",
       "  </thead>\n",
       "  <tbody>\n",
       "    <tr>\n",
       "      <th>Alameda County, California</th>\n",
       "      <td>572012</td>\n",
       "      <td>291642</td>\n",
       "      <td>27695</td>\n",
       "      <td>64059</td>\n",
       "      <td>188616</td>\n",
       "      <td>2.82</td>\n",
       "      <td>3.48</td>\n",
       "      <td>3.46</td>\n",
       "      <td>3.59</td>\n",
       "      <td>1.45</td>\n",
       "      <td>...</td>\n",
       "      <td>52.3</td>\n",
       "      <td>66.5</td>\n",
       "      <td>42.2</td>\n",
       "      <td>41.5</td>\n",
       "      <td>35.3</td>\n",
       "      <td>47.7</td>\n",
       "      <td>33.5</td>\n",
       "      <td>57.8</td>\n",
       "      <td>58.5</td>\n",
       "      <td>64.7</td>\n",
       "    </tr>\n",
       "    <tr>\n",
       "      <th>Butte County, California</th>\n",
       "      <td>85531</td>\n",
       "      <td>36380</td>\n",
       "      <td>4018</td>\n",
       "      <td>10130</td>\n",
       "      <td>35003</td>\n",
       "      <td>2.57</td>\n",
       "      <td>3.28</td>\n",
       "      <td>3.40</td>\n",
       "      <td>3.32</td>\n",
       "      <td>1.53</td>\n",
       "      <td>...</td>\n",
       "      <td>59.1</td>\n",
       "      <td>79.7</td>\n",
       "      <td>44.4</td>\n",
       "      <td>37.4</td>\n",
       "      <td>45.8</td>\n",
       "      <td>40.9</td>\n",
       "      <td>20.3</td>\n",
       "      <td>55.6</td>\n",
       "      <td>62.6</td>\n",
       "      <td>54.2</td>\n",
       "    </tr>\n",
       "    <tr>\n",
       "      <th>Contra Costa County, California</th>\n",
       "      <td>391288</td>\n",
       "      <td>215875</td>\n",
       "      <td>21354</td>\n",
       "      <td>47582</td>\n",
       "      <td>106477</td>\n",
       "      <td>2.88</td>\n",
       "      <td>3.45</td>\n",
       "      <td>3.46</td>\n",
       "      <td>3.49</td>\n",
       "      <td>1.32</td>\n",
       "      <td>...</td>\n",
       "      <td>64.0</td>\n",
       "      <td>74.6</td>\n",
       "      <td>46.4</td>\n",
       "      <td>47.8</td>\n",
       "      <td>53.4</td>\n",
       "      <td>36.0</td>\n",
       "      <td>25.4</td>\n",
       "      <td>53.6</td>\n",
       "      <td>52.2</td>\n",
       "      <td>46.6</td>\n",
       "    </tr>\n",
       "    <tr>\n",
       "      <th>El Dorado County, California</th>\n",
       "      <td>69653</td>\n",
       "      <td>39436</td>\n",
       "      <td>3162</td>\n",
       "      <td>6242</td>\n",
       "      <td>20813</td>\n",
       "      <td>2.64</td>\n",
       "      <td>3.08</td>\n",
       "      <td>3.40</td>\n",
       "      <td>3.81</td>\n",
       "      <td>1.34</td>\n",
       "      <td>...</td>\n",
       "      <td>75.0</td>\n",
       "      <td>83.3</td>\n",
       "      <td>68.2</td>\n",
       "      <td>51.7</td>\n",
       "      <td>67.2</td>\n",
       "      <td>25.0</td>\n",
       "      <td>16.7</td>\n",
       "      <td>31.8</td>\n",
       "      <td>48.3</td>\n",
       "      <td>32.8</td>\n",
       "    </tr>\n",
       "    <tr>\n",
       "      <th>Fresno County, California</th>\n",
       "      <td>303216</td>\n",
       "      <td>141938</td>\n",
       "      <td>24769</td>\n",
       "      <td>52953</td>\n",
       "      <td>83556</td>\n",
       "      <td>3.18</td>\n",
       "      <td>3.85</td>\n",
       "      <td>3.91</td>\n",
       "      <td>3.89</td>\n",
       "      <td>1.37</td>\n",
       "      <td>...</td>\n",
       "      <td>52.9</td>\n",
       "      <td>67.7</td>\n",
       "      <td>43.1</td>\n",
       "      <td>34.8</td>\n",
       "      <td>42.1</td>\n",
       "      <td>47.1</td>\n",
       "      <td>32.3</td>\n",
       "      <td>56.9</td>\n",
       "      <td>65.2</td>\n",
       "      <td>57.9</td>\n",
       "    </tr>\n",
       "  </tbody>\n",
       "</table>\n",
       "<p>5 rows × 80 columns</p>\n",
       "</div>"
      ],
      "text/plain": [
       "                                 Total; Estimate; Total households  \\\n",
       "Geography                                                            \n",
       "Alameda County, California                                  572012   \n",
       "Butte County, California                                     85531   \n",
       "Contra Costa County, California                             391288   \n",
       "El Dorado County, California                                 69653   \n",
       "Fresno County, California                                   303216   \n",
       "\n",
       "                                 Married-couple family household; Estimate; Total households  \\\n",
       "Geography                                                                                      \n",
       "Alameda County, California                                                  291642             \n",
       "Butte County, California                                                     36380             \n",
       "Contra Costa County, California                                             215875             \n",
       "El Dorado County, California                                                 39436             \n",
       "Fresno County, California                                                   141938             \n",
       "\n",
       "                                 Male householder, no wife present, family household; Estimate; Total households  \\\n",
       "Geography                                                                                                          \n",
       "Alameda County, California                                                   27695                                 \n",
       "Butte County, California                                                      4018                                 \n",
       "Contra Costa County, California                                              21354                                 \n",
       "El Dorado County, California                                                  3162                                 \n",
       "Fresno County, California                                                    24769                                 \n",
       "\n",
       "                                 Female householder, no husband present, family household; Estimate; Total households  \\\n",
       "Geography                                                                                                               \n",
       "Alameda County, California                                                   64059                                      \n",
       "Butte County, California                                                     10130                                      \n",
       "Contra Costa County, California                                              47582                                      \n",
       "El Dorado County, California                                                  6242                                      \n",
       "Fresno County, California                                                    52953                                      \n",
       "\n",
       "                                 Nonfamily household; Estimate; Total households  \\\n",
       "Geography                                                                          \n",
       "Alameda County, California                                                188616   \n",
       "Butte County, California                                                   35003   \n",
       "Contra Costa County, California                                           106477   \n",
       "El Dorado County, California                                               20813   \n",
       "Fresno County, California                                                  83556   \n",
       "\n",
       "                                 Total; Estimate; Average household size  \\\n",
       "Geography                                                                  \n",
       "Alameda County, California                                          2.82   \n",
       "Butte County, California                                            2.57   \n",
       "Contra Costa County, California                                     2.88   \n",
       "El Dorado County, California                                        2.64   \n",
       "Fresno County, California                                           3.18   \n",
       "\n",
       "                                 Married-couple family household; Estimate; Average household size  \\\n",
       "Geography                                                                                            \n",
       "Alameda County, California                                                    3.48                   \n",
       "Butte County, California                                                      3.28                   \n",
       "Contra Costa County, California                                               3.45                   \n",
       "El Dorado County, California                                                  3.08                   \n",
       "Fresno County, California                                                     3.85                   \n",
       "\n",
       "                                 Male householder, no wife present, family household; Estimate; Average household size  \\\n",
       "Geography                                                                                                                \n",
       "Alameda County, California                                                    3.46                                       \n",
       "Butte County, California                                                      3.40                                       \n",
       "Contra Costa County, California                                               3.46                                       \n",
       "El Dorado County, California                                                  3.40                                       \n",
       "Fresno County, California                                                     3.91                                       \n",
       "\n",
       "                                 Female householder, no husband present, family household; Estimate; Average household size  \\\n",
       "Geography                                                                                                                     \n",
       "Alameda County, California                                                    3.59                                            \n",
       "Butte County, California                                                      3.32                                            \n",
       "Contra Costa County, California                                               3.49                                            \n",
       "El Dorado County, California                                                  3.81                                            \n",
       "Fresno County, California                                                     3.89                                            \n",
       "\n",
       "                                 Nonfamily household; Estimate; Average household size  \\\n",
       "Geography                                                                                \n",
       "Alameda County, California                                                    1.45       \n",
       "Butte County, California                                                      1.53       \n",
       "Contra Costa County, California                                               1.32       \n",
       "El Dorado County, California                                                  1.34       \n",
       "Fresno County, California                                                     1.37       \n",
       "\n",
       "                                                                     ...                                        \\\n",
       "Geography                                                            ...                                         \n",
       "Alameda County, California                                           ...                                         \n",
       "Butte County, California                                             ...                                         \n",
       "Contra Costa County, California                                      ...                                         \n",
       "El Dorado County, California                                         ...                                         \n",
       "Fresno County, California                                            ...                                         \n",
       "\n",
       "                                 Total; Estimate; HOUSING TENURE - Owner-occupied housing units  \\\n",
       "Geography                                                                                         \n",
       "Alameda County, California                                                    52.3                \n",
       "Butte County, California                                                      59.1                \n",
       "Contra Costa County, California                                               64.0                \n",
       "El Dorado County, California                                                  75.0                \n",
       "Fresno County, California                                                     52.9                \n",
       "\n",
       "                                 Married-couple family household; Estimate; HOUSING TENURE - Owner-occupied housing units  \\\n",
       "Geography                                                                                                                   \n",
       "Alameda County, California                                                    66.5                                          \n",
       "Butte County, California                                                      79.7                                          \n",
       "Contra Costa County, California                                               74.6                                          \n",
       "El Dorado County, California                                                  83.3                                          \n",
       "Fresno County, California                                                     67.7                                          \n",
       "\n",
       "                                 Male householder, no wife present, family household; Estimate; HOUSING TENURE - Owner-occupied housing units  \\\n",
       "Geography                                                                                                                                       \n",
       "Alameda County, California                                                    42.2                                                              \n",
       "Butte County, California                                                      44.4                                                              \n",
       "Contra Costa County, California                                               46.4                                                              \n",
       "El Dorado County, California                                                  68.2                                                              \n",
       "Fresno County, California                                                     43.1                                                              \n",
       "\n",
       "                                 Female householder, no husband present, family household; Estimate; HOUSING TENURE - Owner-occupied housing units  \\\n",
       "Geography                                                                                                                                            \n",
       "Alameda County, California                                                    41.5                                                                   \n",
       "Butte County, California                                                      37.4                                                                   \n",
       "Contra Costa County, California                                               47.8                                                                   \n",
       "El Dorado County, California                                                  51.7                                                                   \n",
       "Fresno County, California                                                     34.8                                                                   \n",
       "\n",
       "                                 Nonfamily household; Estimate; HOUSING TENURE - Owner-occupied housing units  \\\n",
       "Geography                                                                                                       \n",
       "Alameda County, California                                                    35.3                              \n",
       "Butte County, California                                                      45.8                              \n",
       "Contra Costa County, California                                               53.4                              \n",
       "El Dorado County, California                                                  67.2                              \n",
       "Fresno County, California                                                     42.1                              \n",
       "\n",
       "                                 Total; Estimate; HOUSING TENURE - Renter-occupied housing units  \\\n",
       "Geography                                                                                          \n",
       "Alameda County, California                                                    47.7                 \n",
       "Butte County, California                                                      40.9                 \n",
       "Contra Costa County, California                                               36.0                 \n",
       "El Dorado County, California                                                  25.0                 \n",
       "Fresno County, California                                                     47.1                 \n",
       "\n",
       "                                 Married-couple family household; Estimate; HOUSING TENURE - Renter-occupied housing units  \\\n",
       "Geography                                                                                                                    \n",
       "Alameda County, California                                                    33.5                                           \n",
       "Butte County, California                                                      20.3                                           \n",
       "Contra Costa County, California                                               25.4                                           \n",
       "El Dorado County, California                                                  16.7                                           \n",
       "Fresno County, California                                                     32.3                                           \n",
       "\n",
       "                                 Male householder, no wife present, family household; Estimate; HOUSING TENURE - Renter-occupied housing units  \\\n",
       "Geography                                                                                                                                        \n",
       "Alameda County, California                                                    57.8                                                               \n",
       "Butte County, California                                                      55.6                                                               \n",
       "Contra Costa County, California                                               53.6                                                               \n",
       "El Dorado County, California                                                  31.8                                                               \n",
       "Fresno County, California                                                     56.9                                                               \n",
       "\n",
       "                                 Female householder, no husband present, family household; Estimate; HOUSING TENURE - Renter-occupied housing units  \\\n",
       "Geography                                                                                                                                             \n",
       "Alameda County, California                                                    58.5                                                                    \n",
       "Butte County, California                                                      62.6                                                                    \n",
       "Contra Costa County, California                                               52.2                                                                    \n",
       "El Dorado County, California                                                  48.3                                                                    \n",
       "Fresno County, California                                                     65.2                                                                    \n",
       "\n",
       "                                 Nonfamily household; Estimate; HOUSING TENURE - Renter-occupied housing units  \n",
       "Geography                                                                                                       \n",
       "Alameda County, California                                                    64.7                              \n",
       "Butte County, California                                                      54.2                              \n",
       "Contra Costa County, California                                               46.6                              \n",
       "El Dorado County, California                                                  32.8                              \n",
       "Fresno County, California                                                     57.9                              \n",
       "\n",
       "[5 rows x 80 columns]"
      ]
     },
     "execution_count": 6,
     "metadata": {},
     "output_type": "execute_result"
    }
   ],
   "source": [
    "X.head()"
   ]
  },
  {
   "cell_type": "code",
   "execution_count": 7,
   "metadata": {},
   "outputs": [],
   "source": [
    "lm = LinearRegression()"
   ]
  },
  {
   "cell_type": "code",
   "execution_count": 8,
   "metadata": {},
   "outputs": [
    {
     "name": "stderr",
     "output_type": "stream",
     "text": [
      "/Users/mattbrems/anaconda3/lib/python3.5/site-packages/sklearn/linear_model/base.py:509: RuntimeWarning: internal gelsd driver lwork query error, required iwork dimension not returned. This is likely the result of LAPACK bug 0038, fixed in LAPACK 3.2.2 (released July 21, 2010). Falling back to 'gelss' driver.\n",
      "  linalg.lstsq(X, y)\n"
     ]
    }
   ],
   "source": [
    "model = lm.fit(X,y)"
   ]
  },
  {
   "cell_type": "code",
   "execution_count": 9,
   "metadata": {},
   "outputs": [
    {
     "data": {
      "text/plain": [
       "array([ 1.63049572e+00,  7.35228668e-02,  1.00932739e+01, -6.97644527e+00,\n",
       "       -1.55986031e+00,  3.17697379e+03,  3.26390428e+03,  5.56021573e+03,\n",
       "        4.13558621e+03,  1.35393553e+03,  3.19035162e+00,  7.35229177e-02,\n",
       "        1.00932738e+01, -6.97644526e+00,  3.53868100e+03,  3.29734293e+03,\n",
       "        5.02570843e+03,  4.69442232e+03, -4.07531073e+00, -6.12405209e-01,\n",
       "       -2.95953837e+01,  2.61324782e+01, -8.55777909e+03,  7.14649722e+03,\n",
       "        2.50569157e+03,  2.19293724e+03,  1.33766551e+03,  2.49857568e+02,\n",
       "       -7.65200647e+02, -1.42458385e+03,  8.46479983e+03, -8.59560489e+03,\n",
       "       -1.71761226e+03, -4.16544194e+02,  1.63049118e+00,  7.35229178e-02,\n",
       "        1.00932738e+01, -6.97644526e+00, -1.55986026e+00, -9.67116374e+03,\n",
       "        6.21639372e+03,  3.58120974e+03,  1.52870660e+03, -6.48887689e+03,\n",
       "       -5.75892340e+03, -1.90064737e+03,  3.03108995e+03,  5.56551911e+03,\n",
       "       -3.24055577e+03, -3.95773383e+03, -2.84827931e+03, -3.70090594e+03,\n",
       "        1.04034118e+04,  2.42597633e+03, -5.43355590e+03, -7.03980815e+03,\n",
       "        2.04283882e+03, -2.16130356e+02,  8.38004711e+02,  4.27094241e+03,\n",
       "        4.95933164e+03, -1.00977974e+04,  1.38198809e+03,  4.89616648e+03,\n",
       "       -4.13752770e+03,  1.73574684e+03,  8.95587922e+03, -4.38174433e+02,\n",
       "       -5.41671308e+03,  1.10408072e+03, -6.02069571e+03, -1.57086154e+03,\n",
       "        4.71793135e+02,  2.40630790e+03,  3.26467237e+03,  6.02069571e+03,\n",
       "        1.57086154e+03, -4.71793135e+02, -2.40630790e+03, -3.26467237e+03])"
      ]
     },
     "execution_count": 9,
     "metadata": {},
     "output_type": "execute_result"
    }
   ],
   "source": [
    "model.coef_"
   ]
  },
  {
   "cell_type": "code",
   "execution_count": 10,
   "metadata": {},
   "outputs": [
    {
     "data": {
      "text/plain": [
       "1.0"
      ]
     },
     "execution_count": 10,
     "metadata": {},
     "output_type": "execute_result"
    }
   ],
   "source": [
    "model.score(X,y)"
   ]
  },
  {
   "cell_type": "markdown",
   "metadata": {},
   "source": [
    "<details><summary>**Check:** What is the problem with this?</summary>\n",
    "- We have more columns than we have rows! We will be able to come up with a perfect fit for our model, but our model probably isn't actually perfect!\n",
    "</details>\n",
    "\n",
    "<details><summary>**Check:** How can we overcome this problem?</summary>\n",
    "- We can drop features from our model. (However, this loses any benefit we'd get from dropping those features!)\n",
    "- Maybe we can combine features together so that we can get the benefits of most/all of our features. (This is what PCA will do.)\n",
    "</details>"
   ]
  },
  {
   "cell_type": "markdown",
   "metadata": {},
   "source": [
    "### Dimensionality Reduction\n",
    "\n",
    "Dimensionality reduction refers to **reducing the dimension of our feature space**. Less technically, this is (approximately) the number of features we use in our model.\n",
    "\n",
    "#### Dimensionality reduction has a number of advantages:\n",
    "- Increases computational efficiency when fitting models.\n",
    "- Can help with addressing a multicollinearity problem.\n",
    "- Makes visualization simpler (or feasible).\n",
    "\n",
    "#### Dimensionality reduction can suffer from some drawbacks, though:\n",
    "- We've invested our time and money into collecting information... why do we want to get rid of it?\n",
    "\n",
    "Dimensionality reduction can generally be broken down into one of two categories:\n",
    "- **Feature Elimination**\n",
    "    - In feature elimination, we drop variables from our model.\n",
    "- **Feature Extraction**\n",
    "    - In feature extraction, we take our existing features and combine them together in a particular way. We can then drop some of these \"new\" variables, but the variables we keep are still a combination of the old variables!\n",
    "    - This allows us to still reduce the number of features in our model **but** we can keep all of the most important pieces of the original features!\n",
    "\n",
    "### $$\n",
    "\\begin{eqnarray*}\n",
    "X_1, \\ldots, X_p &\\Rightarrow& Z_1, \\ldots, Z_p \\\\\n",
    "\\\\\n",
    "\\text{most important: }Z_1 &=& w_{0,1} + w_{1,1}X_1 + \\cdots + w_{p,1}X_p \\\\\n",
    "\\text{slightly less important: }Z_2 &=& w_{0,2} + w_{1,2}X_1 + \\cdots + w_{p,2}X_p \\\\\n",
    "\\text{least important: }Z_p &=& w_{0,p} + w_{1,3}X_1 + \\cdots + w_{p,3}X_p\n",
    "\\end{eqnarray*}\n",
    "$$\n",
    "\n",
    "You can think of $Z_1$ as a **high performance predictor** (not a real term), where $Z_1$ has all of the best pieces of $X_1$ through $X_p$. As we move down the list toward $Z_p$, the variables will consist of the more \"redundant\" parts of our $X$ variables.\n",
    "- Remember the \"sweet potato\" analogy, where variables all get in line to take a bite of the variability in our data? And then once that bite is gone, no other variable can take that bite (a.k.a. explain that variability)? $Z_1$ consists of the parts of $X_1$ through $X_p$ that all get their own chunk of the sweet potato. On the other hand, $Z_p$ will consist of the redundant pieces.\n",
    "\n",
    "Dimensionality reduction can be used as an exploratory/unsupervised learning method or as a pre-processing step for supervised learning later.\n",
    "\n",
    "**Principal component analysis** is a method used for feature extraction."
   ]
  },
  {
   "cell_type": "markdown",
   "metadata": {},
   "source": [
    "## Principal Component Analysis\n",
    "\n",
    "### Big picture, what is PCA doing?\n",
    "1. We are going to look at how all of the $X$ variables relate to one another, then summarize these relationships.\n",
    "2. Then, we will take this summary and look at which combinations of our $X$ variables are most important.\n",
    "3. We can also see exactly how important each combination is, then rank these combinations.\n",
    "\n",
    "Once we've taken our original $X$ data and transformed it into $Z$, we can then drop the columns of $Z$ that are \"least important.\""
   ]
  },
  {
   "cell_type": "markdown",
   "metadata": {},
   "source": [
    "---\n",
    "\n",
    "**Essentially...**\n",
    "\n",
    "- PCA finds *linear combinations* of current predictor variables that...\n",
    "- create new \"principal components\". The principal components explain...\n",
    "- the maximum possible amount of variance in your predictors.\n",
    "\n",
    "$$ PC_1 = w_{1,1}X_1 + w_{2,1}X_2 + \\cdots + w_{p,1}X_p $$\n",
    "\n",
    "$$ PC_2 = w_{1,2}X_1 + w_{2,2}X_2 + \\cdots + w_{p,2}X_p $$\n",
    "\n",
    "$$ PC_3 = w_{1,3}X_1 + w_{2,3}X_2 + \\cdots + w_{p,3}X_p $$\n",
    "\n",
    "This is cool because...\n",
    "\n",
    "- $PC1$ is better than $PC2$ is \"better\" than $PC3$  \n",
    "- All of these are *uncorrelated*\n",
    "\n",
    "---\n",
    "\n",
    "**Visually...**\n",
    "\n",
    "> Think of our data floating out in $p$-dimensional space. Each observation is a dot and you can imagine this massive cloud of dots that exists somewhere. PCA is a way to rotate this cloud of dots (formally, a coordinate transformation). The old axes are the original features. The new axes are the principal components from PCA.\n",
    "\n",
    "**The new axes (principal components) become the most concise, informative descriptors of our data as a whole.**\n",
    "\n",
    "Let's head to [this site](http://setosa.io/ev/principal-component-analysis/). Play around with the 2D data. Take 2-3 minutes.\n",
    "1. As you interact with the data, how would you describe the red line?\n",
    "2. As you interact with the data, how would you describe the green line?\n",
    "\n",
    "---\n",
    "\n",
    "### Principal Components\n",
    "\n",
    "- We are looking for new *directions* in feature space\n",
    "- Each consecutive direction tries to maximize *remaining variance*\n",
    "- Each direction is *orthogonal* to all the others\n",
    "\n",
    "**These new *directions* are the \"principal components\", i.e. the new coordinate system for your data.**\n",
    "\n",
    "> Applying PCA to your data *transforms* your original data columns (variables) onto the new principal component axes.\n"
   ]
  },
  {
   "cell_type": "markdown",
   "metadata": {},
   "source": [
    "### One note:\n",
    "You will do your train/test split **before** applying PCA!\n",
    "- Otherwise, your test set would affect the transformation we apply to the training set."
   ]
  },
  {
   "cell_type": "code",
   "execution_count": 11,
   "metadata": {
    "collapsed": true
   },
   "outputs": [],
   "source": [
    "from sklearn.model_selection import train_test_split\n",
    "\n",
    "X_train, X_test, y_train, y_test = train_test_split(X, y, test_size = 0.33, random_state = 42)"
   ]
  },
  {
   "cell_type": "code",
   "execution_count": 12,
   "metadata": {},
   "outputs": [],
   "source": [
    "from sklearn.decomposition import PCA\n",
    "\n",
    "pca = PCA()\n",
    "pca = pca.fit(X_train)"
   ]
  },
  {
   "cell_type": "code",
   "execution_count": 13,
   "metadata": {
    "collapsed": true
   },
   "outputs": [],
   "source": [
    "Z_train = pca.transform(X_train)"
   ]
  },
  {
   "cell_type": "code",
   "execution_count": 14,
   "metadata": {
    "collapsed": true
   },
   "outputs": [],
   "source": [
    "Z_test = pca.transform(X_test)"
   ]
  },
  {
   "cell_type": "markdown",
   "metadata": {},
   "source": [
    "<details><summary>**Check:** Suppose I ran `sns.pairplot(X_train)` and `sns.pairplot(Z_train)`. Given what we know about PCA, how would they be different?</summary>\n",
    "`X_train` is the original data and `Z_train` is the transformed data. Since the columns of `Z_train` are uncorrelated, we should see no linear relationships between any of the images in that plot! (The line of best fit should be flat.)\n",
    "</details>"
   ]
  },
  {
   "cell_type": "markdown",
   "metadata": {},
   "source": [
    "### Warning: Uncomment and run the next cell **if you have time.** This will take a few minutes to render."
   ]
  },
  {
   "cell_type": "code",
   "execution_count": 15,
   "metadata": {},
   "outputs": [],
   "source": [
    "# import seaborn as sns\n",
    "# sns.pairplot(X_train)\n",
    "# sns.pairplot(Z_train)"
   ]
  },
  {
   "cell_type": "markdown",
   "metadata": {},
   "source": [
    "### So, like, big picture, what is PCA doing?\n",
    "Well, we're transforming our data. Specifically, we are:\n",
    "1. We are going to look at how all of the $X$ variables relate to one another, then summarize these relationships. (This is done with the **covariance matrix**.)\n",
    "2. Then, we will take this summary and look at which combinations of our $X$ variables are most important. (We will decompose our covariance matrix into its **eigenvectors**, which is a linear algebra term that allows us to understand the most important \"directions\" in our data, which are our principal components!)\n",
    "3. We can also see exactly how important each combination is, then rank these combinations. (With each eigenvector, we get an **eigenvalue**. This eigenvalue is a number that tells us how important each \"direction\" or principal component is.)\n",
    "\n",
    "Remember that one of our goals with PCA is to do dimensionality reduction (a.k.a. get rid of features).\n",
    "\n",
    "We can measure how important each principal component is using the eigenvalue, rank the columns of `Z_train` by their eigenvalues, and then drop the columns with small eigenvalues (little importance) but keep the columns with big eigenvalues (very important).\n",
    "- In `sklearn`, when transformed by PCA, the columns will already be sorted by their eigenvalues from biggest to smallest! The first column will be the most important, the second column will be the next most important, and so on.\n",
    "\n",
    "#### Capturing variance\n",
    "\n",
    "The total variance of your data gets redistributed among the principal components:\n",
    "\n",
    "$$\\text{var}(PC1) > \\text{var}(PC2) > \\text{var}(PC3) > \\cdots$$\n",
    "\n",
    "#### But how many features do we discard?\n",
    "\n",
    "A useful measure is the **proportion of explained variance**, which is calculated from the **eigenvalues**. \n",
    "\n",
    "The explained variance tells us how much information (variance) is captured by each principal component.\n",
    "\n",
    "### $$ \\text{explained variance of }PC_k = \\bigg(\\frac{\\text{eigenvalue of } PC_k}{\\sum_{i=1}^p\\text{eigenvalue of } PC_i}\\bigg)$$\n",
    "\n",
    "Rather than write out \"$\\text{eigenvalue of } PC_k$\", we usually just write $\\lambda_k$.\n",
    "\n",
    "If I want to calculate the proportion of explained variance by retaining $PC_1$ and $PC_2$, I would calculate this as:\n",
    "\n",
    "### $$ \\text{explained variance of } PC_1 \\text{ and } PC_2 = \\bigg(\\frac{\\lambda_1 + \\lambda_2}{\\sum_{i=1}^p \\lambda_i} \\bigg)$$"
   ]
  },
  {
   "cell_type": "code",
   "execution_count": 16,
   "metadata": {},
   "outputs": [
    {
     "name": "stdout",
     "output_type": "stream",
     "text": [
      "Explained variance:             [9.96814533e-01 2.50124721e-03 6.49183241e-04 2.48367282e-05\n",
      " 7.73076365e-06 2.27107499e-06 1.97213881e-07 3.89159196e-10\n",
      " 2.22553729e-10 1.01191351e-10 8.86514643e-11 6.57650479e-11\n",
      " 5.36700095e-11 4.83962817e-11 2.75344090e-11 2.30238978e-11\n",
      " 1.53447839e-11 1.19297463e-11 8.49394323e-12 6.27069974e-12\n",
      " 5.51127755e-12 3.66657312e-12 2.09540250e-12 1.43371879e-12\n",
      " 3.30890369e-13 1.22587946e-32]\n",
      "Cumulative explained variance:  [0.99681453 0.99931578 0.99996496 0.9999898  0.99999753 0.9999998\n",
      " 1.         1.         1.         1.         1.         1.\n",
      " 1.         1.         1.         1.         1.         1.\n",
      " 1.         1.         1.         1.         1.         1.\n",
      " 1.         1.        ]\n"
     ]
    }
   ],
   "source": [
    "var_exp = pca.explained_variance_ratio_\n",
    "print('Explained variance:            ', var_exp)\n",
    "\n",
    "cum_var_exp = np.cumsum(var_exp)\n",
    "print('Cumulative explained variance: ', cum_var_exp)"
   ]
  },
  {
   "cell_type": "markdown",
   "metadata": {},
   "source": [
    "<details><summary>**Check:** If I wanted to explain at least 99.9% of the variability in my data with principal components, what is the smallest number of principal components that I would need to keep? </summary>\n",
    "Only two!! I could keep $Z_1$ and $Z_2$, and this would explain 99.931578% of the variability in my data.\n",
    "</details>"
   ]
  },
  {
   "cell_type": "code",
   "execution_count": 17,
   "metadata": {
    "collapsed": true
   },
   "outputs": [],
   "source": [
    "import matplotlib.pyplot as plt\n",
    "\n",
    "%matplotlib inline"
   ]
  },
  {
   "cell_type": "code",
   "execution_count": 18,
   "metadata": {},
   "outputs": [
    {
     "data": {
      "image/png": "[encoded data removed]",
      "text/plain": [
       "<Figure size 648x504 with 1 Axes>"
      ]
     },
     "metadata": {},
     "output_type": "display_data"
    }
   ],
   "source": [
    "plt.figure(figsize=(9,7))\n",
    "\n",
    "# HERE IS THE BASIC PLOT\n",
    "\n",
    "# Plot the explained variance\n",
    "component_number = range(len(var_exp))\n",
    "plt.plot(component_number, var_exp, lw=3)\n",
    "\n",
    "# NOW MAKE IT LOOK PRETTY\n",
    "\n",
    "# Add horizontal lines at y=0 and y=100\n",
    "plt.axhline(y=0, linewidth=1, color='grey', ls='dashed')\n",
    "plt.axhline(y=1, linewidth=1, color='grey', ls='dashed')\n",
    "\n",
    "# Set the x and y axis limits\n",
    "ax = plt.gca()\n",
    "ax.set_xlim([-1,26])\n",
    "ax.set_ylim([-0.05,1.05])\n",
    "\n",
    "# Label the axes\n",
    "ax.set_ylabel('variance explained', fontsize=16)\n",
    "ax.set_xlabel('component', fontsize=16)\n",
    "\n",
    "# Make the tick labels bigger\n",
    "for tick in ax.xaxis.get_major_ticks():\n",
    "    tick.label.set_fontsize(12) \n",
    "for tick in ax.yaxis.get_major_ticks():\n",
    "    tick.label.set_fontsize(12) \n",
    "    \n",
    "# Add title\n",
    "ax.set_title('Component vs Variance Explained\\n', fontsize=20)\n",
    "\n",
    "plt.show()"
   ]
  },
  {
   "cell_type": "code",
   "execution_count": 19,
   "metadata": {},
   "outputs": [
    {
     "data": {
      "image/png": "[encoded data removed]",
      "text/plain": [
       "<Figure size 648x504 with 1 Axes>"
      ]
     },
     "metadata": {},
     "output_type": "display_data"
    }
   ],
   "source": [
    "plt.figure(figsize=(9,7))\n",
    "\n",
    "# HERE IS THE BASIC PLOT\n",
    "\n",
    "# Plot the cumulative explained variance\n",
    "component_number = range(len(cum_var_exp))\n",
    "plt.plot(component_number, cum_var_exp, lw=3)\n",
    "\n",
    "# NOW MAKE IT LOOK PRETTY\n",
    "\n",
    "# Add horizontal lines at y=0 and y=100\n",
    "plt.axhline(y=0, linewidth=1, color='grey', ls='dashed')\n",
    "plt.axhline(y=1, linewidth=1, color='grey', ls='dashed')\n",
    "\n",
    "# Set the x and y axis limits\n",
    "ax = plt.gca()\n",
    "ax.set_xlim([-1,26])\n",
    "ax.set_ylim([-0.05,1.05])\n",
    "\n",
    "# Label the axes\n",
    "ax.set_ylabel('cumulative variance explained', fontsize=16)\n",
    "ax.set_xlabel('component', fontsize=16)\n",
    "\n",
    "# Make the tick labels bigger\n",
    "for tick in ax.xaxis.get_major_ticks():\n",
    "    tick.label.set_fontsize(12) \n",
    "for tick in ax.yaxis.get_major_ticks():\n",
    "    tick.label.set_fontsize(12) \n",
    "    \n",
    "# Add title\n",
    "ax.set_title('Component vs Cumulative variance explained\\n', fontsize=20)\n",
    "\n",
    "plt.show()"
   ]
  },
  {
   "cell_type": "markdown",
   "metadata": {},
   "source": [
    "## Let's compare our PCA'ed performance to our original performance!"
   ]
  },
  {
   "cell_type": "code",
   "execution_count": 20,
   "metadata": {},
   "outputs": [
    {
     "data": {
      "text/plain": [
       "0.8984011875373273"
      ]
     },
     "execution_count": 20,
     "metadata": {},
     "output_type": "execute_result"
    }
   ],
   "source": [
    "lm = LinearRegression()\n",
    "lm.fit(X_train, y_train)\n",
    "lm.score(X_test, y_test)"
   ]
  },
  {
   "cell_type": "code",
   "execution_count": 21,
   "metadata": {},
   "outputs": [
    {
     "data": {
      "text/plain": [
       "0.8984011875373265"
      ]
     },
     "execution_count": 21,
     "metadata": {},
     "output_type": "execute_result"
    }
   ],
   "source": [
    "lm = LinearRegression()\n",
    "lm.fit(Z_train, y_train)\n",
    "lm.score(Z_test, y_test)"
   ]
  },
  {
   "cell_type": "code",
   "execution_count": 22,
   "metadata": {
    "collapsed": true
   },
   "outputs": [],
   "source": [
    "from sklearn.decomposition import PCA\n",
    "\n",
    "pca = PCA(n_components = 2)\n",
    "pca = pca.fit(X_train)"
   ]
  },
  {
   "cell_type": "code",
   "execution_count": 23,
   "metadata": {},
   "outputs": [
    {
     "data": {
      "text/plain": [
       "0.9831815381868694"
      ]
     },
     "execution_count": 23,
     "metadata": {},
     "output_type": "execute_result"
    }
   ],
   "source": [
    "Z_train = pca.transform(X_train)\n",
    "Z_test = pca.transform(X_test)\n",
    "lm = LinearRegression()\n",
    "lm.fit(Z_train, y_train)\n",
    "lm.score(Z_test, y_test)"
   ]
  },
  {
   "cell_type": "markdown",
   "metadata": {},
   "source": [
    "**Two assumptions that PCA makes:**\n",
    "1. **Linearity:** PCA detects and controls for linear relationships, so we assume that the data does not hold nonlinear relationships.\n",
    "    - We are using our covariance matrix to determine important \"directions,\" which is a measure of the linear relationship between observations!\n",
    "2. **Large variances define importance:** If data is spread in a direction, that direction is important! If there is little spread in a direction, that direction is not very important.\n",
    "    - That aligns with what we saw [here](http://setosa.io/ev/principal-component-analysis/)."
   ]
  },
  {
   "cell_type": "markdown",
   "metadata": {},
   "source": [
    "### Potential Use Cases for PCA\n",
    "- Image Processing (we'll learn other methods of dealing with these later, too)\n",
    "- 20+ Variables with High Multicollinearity\n",
    "- 100+ Variables\n",
    "- Situations where $n < p$."
   ]
  },
  {
   "cell_type": "markdown",
   "metadata": {},
   "source": [
    "### LEARNING OBJECTIVES\n",
    "By the end of the lesson, students should be able to:\n",
    "1. Differentiate between feature elimination and feature extraction.\n",
    "2. Describe the PCA algorithm.\n",
    "3. Identify use cases for PCA.\n",
    "4. Implement PCA in `scikit-learn`.\n",
    "5. Calculate and interpret proportion of explained variance."
   ]
  }
 ],
 "metadata": {
  "kernelspec": {
   "display_name": "Python 3",
   "language": "python",
   "name": "python3"
  },
  "language_info": {
   "codemirror_mode": {
    "name": "ipython",
    "version": 3
   },
   "file_extension": ".py",
   "mimetype": "text/x-python",
   "name": "python",
   "nbconvert_exporter": "python",
   "pygments_lexer": "ipython3",
   "version": "3.5.4"
  }
 },
 "nbformat": 4,
 "nbformat_minor": 2
}
